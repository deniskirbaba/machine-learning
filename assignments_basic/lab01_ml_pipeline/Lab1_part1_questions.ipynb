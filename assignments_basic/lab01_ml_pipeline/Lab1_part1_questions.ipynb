{
 "cells": [
  {
   "cell_type": "markdown",
   "metadata": {
    "id": "Igl0At4EZNFb"
   },
   "source": [
    "*Credits: materials from this notebook belong to YSDA [Practical DL](https://github.com/yandexdataschool/Practical_DL) course. Special thanks for making them available online.*"
   ]
  },
  {
   "cell_type": "markdown",
   "metadata": {
    "id": "s6h-i57gZNFg"
   },
   "source": [
    "# Lab assignment №1, part 1\n",
    "\n",
    "This lab assignment consists of several parts. You are supposed to make some transformations, train some models, estimate the quality of the models and explain your results.\n",
    "\n",
    "Several comments:\n",
    "* Don't hesitate to ask questions, it's a good practice.\n",
    "* No private/public sharing, please. The copied assignments will be graded with 0 points.\n",
    "* Blocks of this lab will be graded separately."
   ]
  },
  {
   "cell_type": "markdown",
   "metadata": {
    "id": "bCSkW5zuZNFh"
   },
   "source": [
    "## 1. Matrix differentiation"
   ]
  },
  {
   "cell_type": "markdown",
   "metadata": {
    "id": "yP5dpTTnZNFh"
   },
   "source": [
    "Since it easy to google every task please please please try to undestand what's going on. The \"just answer\" thing will be not counted, make sure to present derivation of your solution. It is absolutely OK if you found an answer on web then just exercise in $\\LaTeX$ copying it into here."
   ]
  },
  {
   "cell_type": "markdown",
   "metadata": {
    "id": "Y8hgHZ2kZNFi"
   },
   "source": [
    "Useful links: \n",
    "[1](http://www.machinelearning.ru/wiki/images/2/2a/Matrix-Gauss.pdf)\n",
    "[2](http://www.atmos.washington.edu/~dennis/MatrixCalculus.pdf)"
   ]
  },
  {
   "cell_type": "markdown",
   "metadata": {
    "id": "yn-isNVPZNFi"
   },
   "source": [
    "## ex. 1"
   ]
  },
  {
   "cell_type": "markdown",
   "metadata": {
    "id": "YMz_qXThZNFj"
   },
   "source": [
    "$$  \n",
    "y = x^Tx,  \\quad x \\in \\mathbb{R}^N \n",
    "$$"
   ]
  },
  {
   "cell_type": "markdown",
   "metadata": {
    "id": "ha1pvzhdZNFj"
   },
   "source": [
    "$$\n",
    "\\frac{dy}{dx} = 2x\n",
    "$$\n",
    "\n",
    "*Explanation*: $ x^Tx = \\sum_{i=1}^{n} x_{i}^2 \\Rightarrow \\frac{d(x^tx)}{dx} = \\begin{bmatrix} \\frac{d(x^tx)}{dx_1} & \\frac{d(x^tx)}{dx_2} & ... & \\frac{d(x^tx)}{dx_n} \\end{bmatrix} = \\begin{bmatrix} 2x_1 & 2x_2 & ... & 2x_n \\end{bmatrix} = 2x $"
   ]
  },
  {
   "cell_type": "code",
   "execution_count": null,
   "metadata": {
    "collapsed": true,
    "jupyter": {
     "outputs_hidden": true
    },
    "id": "qQf190LgZNFk",
    "ExecuteTime": {
     "start_time": "2023-04-06T12:35:22.628323Z",
     "end_time": "2023-04-06T12:35:22.628323Z"
    }
   },
   "outputs": [],
   "source": []
  },
  {
   "cell_type": "markdown",
   "metadata": {
    "id": "tCTs3ZWpZNFl"
   },
   "source": [
    "## ex. 2"
   ]
  },
  {
   "cell_type": "markdown",
   "metadata": {
    "id": "bcdG5y8PZNFl"
   },
   "source": [
    "$$ y = tr(AB) \\quad A,B \\in \\mathbb{R}^{N \\times N} $$ "
   ]
  },
  {
   "cell_type": "markdown",
   "metadata": {
    "id": "-JNykjRmZNFm"
   },
   "source": [
    "$$\n",
    "\\frac{dy}{dA} = \\frac{d(\\sum_{i=1}^{n} A_{i,:}\\cdot B_{:,i})}{dA} = B^T\n",
    "$$\n",
    "\n",
    "*Explanation:* $ tr(AB) = \\sum_{i=1}^n A_{i,:} \\cdot B_{:,i} = \\sum_{i=1}^n a_{i,1} \\cdot b_{1,i} + a_{i,2} \\cdot b_{2,i} + ... + a_{i,n} \\cdot b_{n,i} \\Rightarrow \\frac{dy}{dA} = \\frac{d(tr(AB))}{dA} = \\begin{bmatrix}\n",
    "\\frac{a_{1,1} \\cdot b_{1,1}}{da_{1,1}} & \\frac{a_{1,2} \\cdot b_{2,1}}{da_{1,2}} & ... & \\frac{a_{1,n} \\cdot b_{n,1}}{da_{1,n}} \\\\\n",
    "\\frac{a_{2,1} \\cdot b_{1,2}}{da_{2,1}} & \\frac{a_{2,2} \\cdot b_{2,2}}{da_{2,2}} & ... & \\frac{a_{2,n} \\cdot b_{n,2}}{da_{2,n}} \\\\\n",
    " ... \\\\\n",
    "\\frac{a_{n,1} \\cdot b_{1,n}}{da_{n,1}} & \\frac{a_{n,2} \\cdot b_{2,n}}{da_{n,2}} & ... & \\frac{a_{n,n} \\cdot b_{n,n}}{da_{n,n}}  \\end{bmatrix} = \\begin{bmatrix}\n",
    "b_{1,1} & b_{2,1} & ... & b_{n,1} \\\\\n",
    "b_{1,2} & b_{2,2} & ... & b_{n,2} \\\\\n",
    "... \\\\\n",
    "b_{1,n} & b_{2,n} & ... & b_{n,n} \\end{bmatrix} = B^T$"
   ]
  },
  {
   "cell_type": "code",
   "execution_count": null,
   "metadata": {
    "collapsed": true,
    "jupyter": {
     "outputs_hidden": true
    },
    "id": "3EVcVr-CZNFm",
    "ExecuteTime": {
     "start_time": "2023-04-06T12:54:24.860665Z",
     "end_time": "2023-04-06T12:54:24.876698Z"
    }
   },
   "outputs": [],
   "source": []
  },
  {
   "cell_type": "markdown",
   "metadata": {
    "id": "44_krGGHZNFo"
   },
   "source": [
    "## ex. 3"
   ]
  },
  {
   "cell_type": "markdown",
   "metadata": {
    "id": "8uY8mh7fZNFp"
   },
   "source": [
    "$$  \n",
    "y = x^TAc , \\quad A\\in \\mathbb{R}^{N \\times N}, x\\in \\mathbb{R}^{N}, c\\in \\mathbb{R}^{N} \n",
    "$$"
   ]
  },
  {
   "cell_type": "markdown",
   "metadata": {
    "id": "MFlWPM75ZNFp"
   },
   "source": [
    "$$\n",
    "\\frac{dy}{dx} = Ac\n",
    "$$\n",
    "\n",
    "*Explanation:*\n",
    "$$ x^TAc = \\begin{bmatrix} x_1 & x_2 & ... & x_n \\end{bmatrix} \\cdot \\begin{bmatrix} a_{1,1} & a_{1,2} & ... & a_{1,n} \\\\\n",
    "a_{2,1} & a_{2,2} & ... & a_{2,n} \\\\ ... & ... & ... & ... \\\\ a_{n,1} & a_{n,2} & ... & a_{n,n} \\end{bmatrix} \\cdot\n",
    "\\begin{bmatrix} c_1 \\\\ c_2 \\\\ ... \\\\ c_n \\end{bmatrix} =\n",
    "\\sum_{j=1}^n c_j \\sum_{i=1}^n x_i \\cdot a_{i,j} =\n",
    "trace(\\begin{bmatrix}\n",
    "c_1 \\cdot \\sum_{i=1}^n x_i \\cdot a_{i,1} & 0 & ... & 0 \\\\\n",
    "0 & c_2 \\cdot \\sum_{i=1}^n x_i \\cdot a_{i,2} & ... & 0 \\\\\n",
    "... & ... & ... & ... \\\\\n",
    "0 & 0 & ... & c_n \\cdot \\sum_{i=1}^n x_i \\cdot a_{i,n}\n",
    "\\end{bmatrix}) =\n",
    "trace(diag(c) \\cdot \\begin{bmatrix} x^T \\\\ x^T \\\\ ... \\\\ x^T \\end{bmatrix} \\cdot A) = trace(\\begin{bmatrix} x^T \\\\ x^T \\\\ ... \\\\ x^T \\end{bmatrix} \\cdot A \\cdot diag(c))\n",
    "$$\n",
    "$$\n",
    "\\frac{d(x^TAc)}{dx} = \\frac{d(trace(\\begin{bmatrix} x^T \\\\ x^T \\\\ ... \\\\ x^T \\end{bmatrix} \\cdot A \\cdot diag(c)))}{dx}\n",
    "= \\frac{d(trace(\\begin{bmatrix} x^T \\\\ x^T \\\\ ... \\\\ x^T \\end{bmatrix} \\cdot A \\cdot diag(c))^T)}{dx}\n",
    "= \\frac{d(trace(diag(c) \\cdot A^T \\cdot \\begin{bmatrix} x & x & ... & x \\end{bmatrix}))}{dx}\n",
    "= \\frac{d(trace(\\begin{bmatrix} x & x & ... & x \\end{bmatrix} \\cdot diag(c) \\cdot A^T))}{dx}\n",
    "= (diag(c) \\cdot A^T)^T\n",
    "= A \\cdot diag(c)\n",
    "= Ac\n",
    "$$"
   ]
  },
  {
   "cell_type": "markdown",
   "metadata": {
    "id": "b2KK41-OZNFq"
   },
   "source": [
    "$$\n",
    "\\frac{dy}{dA} = xc^T\n",
    "$$\n",
    "*Explanation:*\n",
    "$$\n",
    "\\frac{d(x^TAc)}{dA} = \\frac{d(trace(\\begin{bmatrix} x^T \\\\ x^T \\\\ ... \\\\ x^T \\end{bmatrix} \\cdot A \\cdot diag(c)))}{dA}\n",
    "= \\frac{A \\cdot diag(c) \\cdot \\begin{bmatrix} x^T \\\\ x^T \\\\ ... \\\\ x^T \\end{bmatrix}}{dA}\n",
    "= (diag(c) \\cdot \\begin{bmatrix} x^T \\\\ x^T \\\\ ... \\\\ x^T \\end{bmatrix})^T\n",
    "= \\begin{bmatrix} x & x & ... & x \\end{bmatrix} \\cdot diag(c)\n",
    "= x^Tc\n",
    "$$"
   ]
  },
  {
   "cell_type": "markdown",
   "metadata": {
    "id": "uI21giVIZNFq"
   },
   "source": [
    "Hint for the latter (one of the ways): use *ex. 2* result and the fact \n",
    "$$\n",
    "tr(ABC) = tr (CAB)\n",
    "$$"
   ]
  },
  {
   "cell_type": "code",
   "execution_count": null,
   "metadata": {
    "collapsed": true,
    "jupyter": {
     "outputs_hidden": true
    },
    "id": "0ABc_TNwZNFq"
   },
   "outputs": [],
   "source": []
  },
  {
   "cell_type": "markdown",
   "metadata": {
    "id": "phQGJ9CvZNFq"
   },
   "source": [
    "## ex. 4"
   ]
  },
  {
   "cell_type": "markdown",
   "metadata": {
    "id": "kZXU3mNmZNFr"
   },
   "source": [
    "Classic matrix factorization example. Given matrix $X$ you need to find $A$, $S$ to approximate $X$. This can be done by simple gradient descent iteratively alternating $A$ and $S$ updates.\n",
    "$$\n",
    "J = || X - AS ||_F^2  , \\quad A\\in \\mathbb{R}^{N \\times R} , \\quad S\\in \\mathbb{R}^{R \\times M}\n",
    "$$\n",
    "$$\n",
    "\\frac{dJ}{dS} = ? \n",
    "$$\n",
    "\n",
    "You may use one of the following approaches:"
   ]
  },
  {
   "cell_type": "markdown",
   "metadata": {
    "id": "mLQqYQKqZNFr"
   },
   "source": [
    "#### First approach\n",
    "Using ex.2 and the fact:\n",
    "$$\n",
    "|| X ||_F^2 = tr(XX^T) \n",
    "$$ \n",
    "it is easy to derive gradients (you can find it in one of the refs). "
   ]
  },
  {
   "cell_type": "markdown",
   "metadata": {
    "id": "TV19IBTFZNFr"
   },
   "source": [
    "#### Second approach\n",
    "You can use *slightly different techniques* if they suits you. Take a look at this derivation:\n",
    "<img src=\"https://github.com/girafe-ai/ml-course/blob/22f_basic/homeworks/lab01_ml_pipeline/grad.png?raw=1\">\n",
    "(excerpt from [Handbook of blind source separation, Jutten, page 517](https://books.google.ru/books?id=PTbj03bYH6kC&printsec=frontcover&dq=Handbook+of+Blind+Source+Separation&hl=en&sa=X&ved=0ahUKEwi-q_apiJDLAhULvXIKHVXJDWcQ6AEIHDAA#v=onepage&q=Handbook%20of%20Blind%20Source%20Separation&f=false), open for better picture)."
   ]
  },
  {
   "cell_type": "markdown",
   "metadata": {
    "id": "G_W6ygiuZNFs"
   },
   "source": [
    "#### Third approach\n",
    "And finally we can use chain rule! \n",
    "let $ F = AS $ \n",
    "\n",
    "**Find**\n",
    "$$\n",
    "\\frac{dJ}{dF} =\n",
    "\\frac{d\\|X-F\\|_F^2}{dF} =\n",
    "\\frac{d(tr((X-F)(X-F)^T))}{dF} =\n",
    "\\frac{d(tr(XX^T - FX^T - XF^T + FF^T))}{dF} =\n",
    "\\frac{d(-FX^T)}{dF} + \\frac{d(-XF^T)}{dF} + \\frac{d(FF^T)}{dF} =\n",
    "-X - X + \\frac{\\|F\\|_F^2}{dF} =\n",
    "2(F - X) = 2(AS - X)\n",
    "$$ \n",
    "and \n",
    "$$\n",
    "\\frac{dF}{dS} =\n",
    "\\frac{d(AS)}{dS} =\n",
    "A\n",
    "$$\n",
    "$$\n",
    "\\frac{dF}{dA} =\n",
    "\\frac{d(AS)}{dA} =\n",
    "S\n",
    "$$\n",
    "(the shape should be $ NM \\times RM )$.\n",
    "\n",
    "Now it is easy do get desired gradients:\n",
    "$$\n",
    "\\frac{dJ}{dS} =\n",
    "\\frac{dJ}{dF} \\cdot \\frac{dF}{dS} = 2(AS - X) \\cdot A = 2A^T(AS - X)\n",
    "$$\n",
    "$$\n",
    "\\frac{dJ}{dA} =\n",
    "\\frac{dJ}{dF} \\cdot \\frac{dF}{dA} = 2(AS - X) \\cdot S = 2S(AS - X)\n",
    "$$"
   ]
  },
  {
   "cell_type": "markdown",
   "metadata": {
    "collapsed": true,
    "jupyter": {
     "outputs_hidden": true
    },
    "id": "sr6AvMqVZNFs"
   },
   "source": [
    "## 2. kNN questions\n",
    "Here come the questions from the assignment0_01. Please, refer to the assignment0_01 to get the context of the questions."
   ]
  },
  {
   "cell_type": "markdown",
   "metadata": {
    "id": "E5X6I7oPZNFs"
   },
   "source": [
    "### Question 1\n",
    "\n",
    "Notice the structured patterns in the distance matrix, where some rows or columns are visible brighter. (Note that with the default color scheme black indicates low distances while white indicates high distances.)\n",
    "\n",
    "- What in the data is the cause behind the distinctly bright rows?\n",
    "- What causes the columns?\n",
    "\n",
    "*Your Answer:*\n",
    "- *Bright rows are caused by the test image whose pixel values are the most different from all the training images.*\n",
    "- *Bright columns caused by the train image whose pixel values are the most different from all the testing images.*"
   ]
  },
  {
   "cell_type": "markdown",
   "metadata": {
    "id": "lSYWECNLZNFt"
   },
   "source": [
    "### Question 2\n",
    "\n",
    "We can also use other distance metrics such as L1 distance.\n",
    "For pixel values $p_{ij}^{(k)}$ at location $(i,j)$ of some image $I_k$, \n",
    "\n",
    "the mean $\\mu$ across all pixels over all images is $$\\mu=\\frac{1}{nhw}\\sum_{k=1}^n\\sum_{i=1}^{h}\\sum_{j=1}^{w}p_{ij}^{(k)}$$\n",
    "And the pixel-wise mean $\\mu_{ij}$ across all images is \n",
    "$$\\mu_{ij}=\\frac{1}{n}\\sum_{k=1}^np_{ij}^{(k)}.$$\n",
    "The general standard deviation $\\sigma$ and pixel-wise standard deviation $\\sigma_{ij}$ is defined similarly.\n",
    "\n",
    "Which of the following preprocessing steps will not change the performance of a Nearest Neighbor classifier that uses L1 distance? Select all that apply.\n",
    "1. Subtracting the mean $\\mu$ ($\\tilde{p}_{ij}^{(k)}=p_{ij}^{(k)}-\\mu$.)\n",
    "2. Subtracting the per pixel mean $\\mu_{ij}$  ($\\tilde{p}_{ij}^{(k)}=p_{ij}^{(k)}-\\mu_{ij}$.)\n",
    "3. Subtracting the mean $\\mu$ and dividing by the standard deviation $\\sigma$.\n",
    "4. Subtracting the pixel-wise mean $\\mu_{ij}$ and dividing by the pixel-wise standard deviation $\\sigma_{ij}$.\n",
    "5. Rotating the coordinate axes of the data.\n",
    "\n",
    "Answer: $1^*, 2^*, 3^*, 5^*$.\n",
    "\n",
    "\n",
    "Explanation.\n",
    "\n",
    "1. If we don't care about overflow in pixel intensities (<0 or >255), then we can proof, that subtracting the mean from all pixels and all images don't change the performance of kNN:\n",
    "$$\n",
    "\\rho(k_1, k_2) = \\sum_{i, j}^{n, \\omega} \\|(p_{i, j}^{(k_1)} - \\mu) - (p_{i, j}^{(k_2)} - \\mu)\\|_1 = \\sum_{i, j}^{n, \\omega} \\|p_{i, j}^{(k_1)} - p_{i, j}^{(k_2)}\\|_1\n",
    "$$\n",
    " So, the distance matrix will be the same (because, when calculating distances all $\\mu$ is mutually annihilating), as well as the performance of classificator.\n",
    "2. Similarly to 1. Because we calculate the distance pixel-wise and in each $\\|(... - \\mu_{i, j}) - (... - \\mu_{i, j})\\|$ our meaning by pixel will be annihilating.\n",
    "3. By dividing with standard deviation our distance matrix will have smaller distances, but because we will divide by one fixed value $\\sigma$ performance will be still the same. Also, there is a problem with intensities overflowing from 1.\n",
    "$$\n",
    "\\rho(k_1, k_2) = \\sum_{i, j}^{n, \\omega} \\|\\frac{(p_{i, j}^{(k_1)} - \\mu)}{\\omega} - \\frac{(p_{i, j}^{(k_2)} - \\mu)}{\\omega}\\|_1 = \\sum_{i, j}^{n, \\omega} \\|\\frac{p_{i, j}^{(k_1)}}{\\omega} - \\frac{p_{i, j}^{(k_2)}}{\\omega}\\|_1\n",
    "$$\n",
    "4. In this case all entities in norm-sum will be multiplied by different value $\\sigma_{i, j}$, therefore the distances won't be the same and the performance will change\n",
    "5. If we rotate all images (including train and test), then performance of classificator is not change. In all other cases - it will be changed, because we calculate distances pixel-wise."
   ]
  },
  {
   "cell_type": "markdown",
   "metadata": {
    "id": "8aAMvuKlZNFt"
   },
   "source": [
    "## Question 3\n",
    "\n",
    "Which of the following statements about $k$-Nearest Neighbor ($k$-NN) are true in a classification setting, and for all $k$? Select all that apply.\n",
    "1. The decision boundary (hyperplane between classes in feature space) of the k-NN classifier is linear.\n",
    "2. The training error of a 1-NN will always be lower than that of 5-NN.\n",
    "3. The test error of a 1-NN will always be lower than that of a 5-NN.\n",
    "4. The time needed to classify a test example with the k-NN classifier grows with the size of the training set.\n",
    "5. None of the above.\n",
    "\n",
    "Answer: 2, 4.\n",
    "\n",
    "\n",
    "Explanation:\n",
    "1. The decision boundary depends on the training data and the distance metrics, so this statement is not true. Suppose case, when one class is forming the circle and other is in form of outer ring.\n",
    "2. Yes, because the nearest object to the training entity will be the same object in terms of 1-NN, but if $k>1$, then it will choose a label depending on other objects.\n",
    "3. No, because we need to generalize our model to new objects, but with $k=1$ we encounter with overfitting.\n",
    "4. Yes, because knn just simply remember the training data and need to compare test data to each one of training data. If training data is too large, the performance will be bad soon."
   ]
  },
  {
   "cell_type": "code",
   "execution_count": null,
   "outputs": [],
   "source": [],
   "metadata": {
    "collapsed": false
   }
  }
 ],
 "metadata": {
  "kernelspec": {
   "name": "python3",
   "language": "python",
   "display_name": "Python 3 (ipykernel)"
  },
  "language_info": {
   "codemirror_mode": {
    "name": "ipython",
    "version": 3
   },
   "file_extension": ".py",
   "mimetype": "text/x-python",
   "name": "python",
   "nbconvert_exporter": "python",
   "pygments_lexer": "ipython3",
   "version": "3.9.5"
  },
  "colab": {
   "provenance": []
  }
 },
 "nbformat": 4,
 "nbformat_minor": 0
}
