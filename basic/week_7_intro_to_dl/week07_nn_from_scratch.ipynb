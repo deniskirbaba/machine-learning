{
 "cells": [
  {
   "cell_type": "markdown",
   "metadata": {
    "id": "U8RFpWhuiWzT"
   },
   "source": [
    "# Neural network from scratch\n",
    "\n",
    "Based on YSDA Deep Learning course materials.\n",
    "\n",
    "https://github.com/yandexdataschool/Practical_DL/blob/spring2019/homework01/homework_modules.ipynb"
   ]
  },
  {
   "cell_type": "markdown",
   "metadata": {},
   "source": [
    "We will implement most common layers using `numpy` for matrix operations. \n",
    "\n",
    "The file `modules.py` contains the abstract classes for **module**, **criterion** and **sequential** model class.\n",
    "\n",
    "**Module** is an abstract class which defines the fundamental methods required for training a neural network.\n",
    "\n",
    "**Criterion** class implements a container which can be used to score the models answers. \n",
    "\n",
    "**Sequential** class implements a container which processes `input` data sequentially. \n"
   ]
  },
  {
   "cell_type": "code",
   "execution_count": 333,
   "metadata": {
    "ExecuteTime": {
     "end_time": "2023-04-11T16:45:29.664068Z",
     "start_time": "2023-04-11T16:45:28.207049Z"
    },
    "id": "Ukijz7LCiWzY"
   },
   "outputs": [],
   "source": [
    "%matplotlib inline\n",
    "\n",
    "from time import time, sleep\n",
    "import numpy as np\n",
    "import matplotlib.pyplot as plt\n",
    "from IPython import display\n",
    "\n",
    "import torch\n",
    "from scipy.special import logsumexp"
   ]
  },
  {
   "cell_type": "markdown",
   "metadata": {
    "id": "tllgOssniWza"
   },
   "source": [
    "We will implement most common layers using `numpy` for matrix operations. In file `modules.py` are presented the abstract classes for layer, criterion and sequential model class.\n",
    "\n",
    "The architecture, naming and API are inspired py PyTorch implementation, which will be used in this course further. \n",
    "\n",
    "Please, __do not__ change the classes/functions signatures."
   ]
  },
  {
   "cell_type": "markdown",
   "metadata": {
    "id": "q4Jlmx03iWzb"
   },
   "source": [
    "#### Some comments\n",
    "Original `numpy` operation are more preferable than overloaded ones (`+`, `*`, `-`, etc. vs `np.add`, `np.multiply`, `np.substract`). They show more expectable memory usage and seem unified with tensor frameworks.\n",
    "\n",
    "*Example:*\n",
    "\n",
    "```\n",
    "a = np.zeros_like(arr1)\n",
    "\n",
    "a = arr1 + arr2 #  bad, we reallocate memory for the result of + operation\n",
    "\n",
    "a = np.zeros_like(arr1)\n",
    "\n",
    "np.add(arr1, arr2, out=a) #  good, we use same allocated memory, no need to call gc\n",
    "```"
   ]
  },
  {
   "cell_type": "code",
   "execution_count": 334,
   "metadata": {
    "id": "bo60PaItiWzb"
   },
   "outputs": [],
   "source": [
    "from modules import Module, Sequential, Criterion"
   ]
  },
  {
   "cell_type": "markdown",
   "metadata": {
    "id": "nyHHjMh5iWzc"
   },
   "source": [
    "Before we begin: a [great playground](https://playground.tensorflow.org) to look at."
   ]
  },
  {
   "cell_type": "markdown",
   "metadata": {
    "id": "uNxaNWwsiWzc"
   },
   "source": [
    "Try to implement main layers in numpy. Today we stop only on most common ones."
   ]
  },
  {
   "cell_type": "markdown",
   "metadata": {
    "id": "0SNMxWtziWzd"
   },
   "source": [
    "Good read on [Vector, Matrix and Tensor derivatives](http://cs231n.stanford.edu/vecDerivs.pdf)"
   ]
  },
  {
   "cell_type": "markdown",
   "metadata": {},
   "source": [
    "[Post about einsum](https://habr.com/ru/post/544498/)\n",
    "\n",
    "[Backpropagation for a Linear Layer handout](http://cs231n.stanford.edu/handouts/linear-backprop.pdf)"
   ]
  },
  {
   "cell_type": "markdown",
   "metadata": {},
   "source": [
    "## Layers"
   ]
  },
  {
   "cell_type": "markdown",
   "metadata": {},
   "source": [
    "### Linear transform layer"
   ]
  },
  {
   "cell_type": "code",
   "execution_count": 335,
   "metadata": {
    "id": "_gnuPPE2iWze"
   },
   "outputs": [],
   "source": [
    "class Linear(Module):\n",
    "    \"\"\"\n",
    "    A module which applies a linear transformation \n",
    "    A common name is fully-connected layer, InnerProductLayer in caffe. \n",
    "    \n",
    "    The module should work with 2D _input of shape (n_samples, n_feature).\n",
    "    \"\"\"\n",
    "    def __init__(self, n_in, n_out):\n",
    "        super(Linear, self).__init__()\n",
    "       \n",
    "        # This is a nice initialization\n",
    "        stdv = 1./np.sqrt(n_in)\n",
    "        self.W = np.random.uniform(-stdv, stdv, size = (n_out, n_in))\n",
    "        self.b = np.random.uniform(-stdv, stdv, size = n_out)\n",
    "        \n",
    "        self.gradW = np.zeros_like(self.W)\n",
    "        self.gradb = np.zeros_like(self.b)\n",
    "        \n",
    "    def updateOutput(self, _input):\n",
    "        self.output = np.zeros(shape=(_input.shape[0], self.W.shape[0]))\n",
    "        np.add(np.dot(_input, np.transpose(self.W)), self.b, out=self.output)\n",
    "        \n",
    "        return self.output\n",
    "    \n",
    "    def updateGradInput(self, _input, gradOutput):\n",
    "        self.gradInput = np.zeros_like(_input)\n",
    "        self.gradInput = np.dot(gradOutput, self.W)\n",
    "        \n",
    "        return self.gradInput\n",
    "    \n",
    "    def accGradParameters(self, _input, gradOutput):\n",
    "        self.gradW += np.dot(np.transpose(gradOutput), _input)\n",
    "        self.gradb += np.sum(gradOutput, axis=0).ravel()\n",
    "    \n",
    "    def zeroGradParameters(self):\n",
    "        self.gradW.fill(0)\n",
    "        self.gradb.fill(0)\n",
    "        \n",
    "    def getParameters(self):\n",
    "        return [self.W, self.b]\n",
    "    \n",
    "    def getGradParameters(self):\n",
    "        return [self.gradW, self.gradb]\n",
    "    \n",
    "    def __repr__(self):\n",
    "        s = self.W.shape\n",
    "        q = 'Linear %d -> %d' %(s[1],s[0])\n",
    "        return q"
   ]
  },
  {
   "cell_type": "code",
   "execution_count": 336,
   "metadata": {},
   "outputs": [],
   "source": [
    "# testing\n",
    "def test_linear():\n",
    "    f_in = 2; f_out = 3; n = 2\n",
    "    X = np.random.normal(size=(n, f_in))\n",
    "    X_tensor = torch.tensor(X, requires_grad=True)\n",
    "    weight = np.random.normal(size=(f_out, f_in))\n",
    "    bias = np.random.normal(size=(f_out,))\n",
    "    gradient = np.random.normal(size=(n, f_out))\n",
    "    gradient_tensor = torch.tensor(gradient)\n",
    "    \n",
    "    custom_linear = Linear(n_in=f_in, n_out=f_out)\n",
    "    custom_linear.W = weight\n",
    "    custom_linear.b = bias\n",
    "    torch_linear = torch.nn.Linear(in_features=f_in, \n",
    "                                   out_features=f_out, \n",
    "                                   bias=True, \n",
    "                                   dtype=X_tensor.dtype)\n",
    "    torch_linear.weight.data = torch.tensor(weight)\n",
    "    torch_linear.bias.data = torch.tensor(bias)\n",
    "    \n",
    "    # forward\n",
    "    Y_custom = custom_linear.forward(X)\n",
    "    Y_torch = torch_linear(X_tensor)\n",
    "    assert np.allclose(Y_custom, Y_torch.detach().numpy())\n",
    "    \n",
    "    # backward\n",
    "    gradX_custom = custom_linear.backward(X, gradient)\n",
    "    Y_torch.backward(gradient_tensor)\n",
    "    assert np.allclose(gradX_custom, X_tensor.grad)\n",
    "    assert np.allclose(custom_linear.gradW, torch_linear.weight.grad)\n",
    "    assert np.allclose(custom_linear.gradb, torch_linear.bias.grad)\n",
    "    \n",
    "test_linear()"
   ]
  },
  {
   "cell_type": "markdown",
   "metadata": {},
   "source": [
    "### SoftMax function\n",
    "\n",
    "- input:   **`batch_size x n_feats`**\n",
    "- output: **`batch_size x n_feats`**\n",
    "\n",
    "$\\text{softmax}(x)_i = \\frac{\\exp x_i} {\\sum_j \\exp x_j}$\n",
    "\n",
    "Recall that $\\text{softmax}(x) == \\text{softmax}(x - \\text{const})$. It makes possible to avoid computing exp() from large argument.\n",
    "\n",
    "[Notes on softmax](https://deepnotes.io/softmax-crossentropy)"
   ]
  },
  {
   "cell_type": "code",
   "execution_count": 337,
   "metadata": {
    "id": "IeT4DrEXiWzg"
   },
   "outputs": [],
   "source": [
    "class SoftMax(Module):\n",
    "    def __init__(self):\n",
    "         super(SoftMax, self).__init__()\n",
    "    \n",
    "    def updateOutput(self, _input):\n",
    "        # start with normalization for numerical stability\n",
    "        self.output = np.subtract(_input, _input.max(axis=1, keepdims=True))\n",
    "        \n",
    "        self.output = np.exp(self.output)\n",
    "        np.divide(self.output, np.sum(self.output, axis=1, keepdims=True), out=self.output)\n",
    "        \n",
    "        return self.output\n",
    "    \n",
    "    def updateGradInput(self, _input, gradOutput):\n",
    "        outer_p = np.zeros(shape=(_input.shape[0],\n",
    "                                       _input.shape[1],\n",
    "                                       _input.shape[1]))\n",
    "        np.einsum('ij,ik->ijk', self.output, self.output, out=outer_p)\n",
    "        \n",
    "        diag_p = np.zeros_like(outer_p)\n",
    "        np.einsum('ij,jk->ijk', self.output, np.identity(_input.shape[1]), out=diag_p)\n",
    "        \n",
    "        np.subtract(diag_p, outer_p, out=outer_p)\n",
    "        \n",
    "        self.gradInput = np.zeros_like(gradOutput)\n",
    "        np.einsum('ijk,ik->ij', outer_p, gradOutput, out=self.gradInput)\n",
    "        \n",
    "        return self.gradInput\n",
    "    \n",
    "    def __repr__(self):\n",
    "        return \"SoftMax\""
   ]
  },
  {
   "cell_type": "code",
   "execution_count": 338,
   "metadata": {},
   "outputs": [],
   "source": [
    "# testing\n",
    "def test_softmax():\n",
    "    f_in = 3; f_out = 3; n = 2\n",
    "    X = np.random.normal(size=(n, f_in))\n",
    "    X_tensor = torch.tensor(X, requires_grad=True)\n",
    "    gradient = np.random.normal(size=(n, f_out))\n",
    "    gradient_tensor = torch.tensor(gradient)\n",
    "    \n",
    "    custom_softmax = SoftMax()\n",
    "    torch_softmax = torch.nn.Softmax(dim=1)\n",
    "    \n",
    "    # forward\n",
    "    Y_custom = custom_softmax.forward(X)\n",
    "    Y_torch = torch_softmax(X_tensor)\n",
    "    assert np.allclose(Y_custom, Y_torch.detach().numpy())\n",
    "    \n",
    "    # backward\n",
    "    gradX_custom = custom_softmax.backward(X, gradient)\n",
    "    Y_torch.backward(gradient_tensor)\n",
    "    assert np.allclose(gradX_custom, X_tensor.grad)\n",
    "test_softmax()"
   ]
  },
  {
   "cell_type": "markdown",
   "metadata": {},
   "source": [
    "### LogSoftMax function\n"
   ]
  },
  {
   "cell_type": "markdown",
   "metadata": {},
   "source": [
    "$logsoftmax(x)_i = log  softmax(x)_i = x_i - log \\sum_i exp (x_j) $"
   ]
  },
  {
   "cell_type": "code",
   "execution_count": 339,
   "metadata": {
    "id": "wVcSnCxKiWzh"
   },
   "outputs": [],
   "source": [
    "class LogSoftMax(Module):\n",
    "    def __init__(self):\n",
    "         super(LogSoftMax, self).__init__()\n",
    "    \n",
    "    def updateOutput(self, _input):\n",
    "        # start with normalization for numerical stability\n",
    "        self.output = np.subtract(_input, _input.max(axis=1, keepdims=True))\n",
    "        \n",
    "        np.subtract(self.output, logsumexp(self.output, axis=1, keepdims=True), out=self.output)\n",
    "        return self.output\n",
    "    \n",
    "    def updateGradInput(self, _input, gradOutput):\n",
    "        intermediate = np.zeros(shape=(_input.shape[0],\n",
    "                                       _input.shape[1],\n",
    "                                       _input.shape[1]))\n",
    "        np.einsum('ij,k->ijk', np.exp(self.output), np.ones(_input.shape[1]), out=intermediate)\n",
    "        \n",
    "        diag_p = np.zeros_like(intermediate)\n",
    "        np.einsum('ij,jk->ijk', np.ones(shape=self.output.shape), np.identity(_input.shape[1]), out=diag_p)\n",
    "        \n",
    "        np.subtract(diag_p, intermediate, out=intermediate)\n",
    "        \n",
    "        self.gradInput = np.zeros_like(gradOutput)\n",
    "        np.einsum('ijk,ik->ij', intermediate, gradOutput, out=self.gradInput)\n",
    "    \n",
    "    def __repr__(self):\n",
    "        return \"LogSoftMax\""
   ]
  },
  {
   "cell_type": "code",
   "execution_count": 340,
   "metadata": {},
   "outputs": [],
   "source": [
    "# testing\n",
    "def test_logsoftmax():\n",
    "    f_in = 3; f_out = 3; n = 2\n",
    "    X = np.random.normal(size=(n, f_in))\n",
    "    X_tensor = torch.tensor(X, requires_grad=True)\n",
    "    gradient = np.random.normal(size=(n, f_out))\n",
    "    gradient_tensor = torch.tensor(gradient)\n",
    "    \n",
    "    custom_softmax = LogSoftMax()\n",
    "    torch_softmax = torch.nn.LogSoftmax(dim=1)\n",
    "    \n",
    "    # forward\n",
    "    Y_custom = custom_softmax.forward(X)\n",
    "    Y_torch = torch_softmax(X_tensor)\n",
    "    assert np.allclose(Y_custom, Y_torch.detach().numpy())\n",
    "    \n",
    "    # backward\n",
    "    gradX_custom = custom_softmax.backward(X, gradient)\n",
    "    Y_torch.backward(gradient_tensor)\n",
    "    assert np.allclose(gradX_custom, X_tensor.grad)\n",
    "test_logsoftmax()"
   ]
  },
  {
   "cell_type": "markdown",
   "metadata": {},
   "source": [
    "### ReLU"
   ]
  },
  {
   "cell_type": "code",
   "execution_count": 341,
   "metadata": {
    "id": "ZVHxeCUbiWzh"
   },
   "outputs": [],
   "source": [
    "class ReLU(Module):\n",
    "    def __init__(self):\n",
    "         super(ReLU, self).__init__()\n",
    "    \n",
    "    def updateOutput(self, _input):\n",
    "        self.output = np.maximum(_input, 0)\n",
    "        return self.output\n",
    "    \n",
    "    def updateGradInput(self, _input, gradOutput):\n",
    "        self.gradInput = np.multiply(gradOutput , _input > 0)\n",
    "        return self.gradInput\n",
    "    \n",
    "    def __repr__(self):\n",
    "        return \"ReLU\""
   ]
  },
  {
   "cell_type": "code",
   "execution_count": 342,
   "metadata": {},
   "outputs": [],
   "source": [
    "# testing\n",
    "def test_relu():\n",
    "    f_in = 3; f_out = 3; n = 2\n",
    "    X = np.random.normal(size=(n, f_in))\n",
    "    X_tensor = torch.tensor(X, requires_grad=True)\n",
    "    gradient = np.random.normal(size=(n, f_out))\n",
    "    gradient_tensor = torch.tensor(gradient)\n",
    "    \n",
    "    custom_relu = ReLU()\n",
    "    torch_relu = torch.nn.ReLU()\n",
    "    \n",
    "    # forward\n",
    "    Y_custom = custom_relu.forward(X)\n",
    "    Y_torch = torch_relu(X_tensor)\n",
    "    assert np.allclose(Y_custom, Y_torch.detach().numpy())\n",
    "    \n",
    "    # backward\n",
    "    gradX_custom = custom_relu.backward(X, gradient)\n",
    "    Y_torch.backward(gradient_tensor)\n",
    "    assert np.allclose(gradX_custom, X_tensor.grad)\n",
    "test_relu()"
   ]
  },
  {
   "cell_type": "markdown",
   "metadata": {},
   "source": [
    "### LeakyReLU"
   ]
  },
  {
   "cell_type": "code",
   "execution_count": 343,
   "metadata": {
    "id": "V17O42UYiWzi"
   },
   "outputs": [],
   "source": [
    "class LeakyReLU(Module):\n",
    "    def __init__(self, slope = 0.01):\n",
    "        super(LeakyReLU, self).__init__()\n",
    "            \n",
    "        self.slope = slope\n",
    "        \n",
    "    def updateOutput(self, _input):\n",
    "        self.output = np.copy(_input)\n",
    "        self.output[self.output < 0] *= self.slope\n",
    "        return self.output\n",
    "    \n",
    "    def updateGradInput(self, _input, gradOutput):\n",
    "        self.gradInput = np.ones(shape=_input.shape)\n",
    "        self.gradInput[self.output < 0] = self.slope\n",
    "        np.multiply(self.gradInput, gradOutput, out=self.gradInput)\n",
    "        return self.gradInput\n",
    "    \n",
    "    def __repr__(self):\n",
    "        return \"LeakyReLU\""
   ]
  },
  {
   "cell_type": "code",
   "execution_count": 344,
   "metadata": {},
   "outputs": [],
   "source": [
    "# testing\n",
    "def test_leakyrelu():\n",
    "    f_in = 3; f_out = 3; n = 2\n",
    "    X = np.random.normal(size=(n, f_in))\n",
    "    X_tensor = torch.tensor(X, requires_grad=True)\n",
    "    gradient = np.random.normal(size=(n, f_out))\n",
    "    gradient_tensor = torch.tensor(gradient)\n",
    "    \n",
    "    custom_leakyrelu = LeakyReLU()\n",
    "    torch_leakyrelu = torch.nn.LeakyReLU()\n",
    "    \n",
    "    # forward\n",
    "    Y_custom = custom_leakyrelu.forward(X)\n",
    "    Y_torch = torch_leakyrelu(X_tensor)\n",
    "    assert np.allclose(Y_custom, Y_torch.detach().numpy())\n",
    "    \n",
    "    # backward\n",
    "    gradX_custom = custom_leakyrelu.backward(X, gradient)\n",
    "    Y_torch.backward(gradient_tensor)\n",
    "    assert np.allclose(gradX_custom, X_tensor.grad)\n",
    "test_leakyrelu()"
   ]
  },
  {
   "cell_type": "markdown",
   "metadata": {},
   "source": [
    "### ELU"
   ]
  },
  {
   "cell_type": "code",
   "execution_count": 345,
   "metadata": {},
   "outputs": [],
   "source": [
    "class ELU(Module):\n",
    "    def __init__(self, alpha = 1.0):\n",
    "        super(ELU, self).__init__()\n",
    "        \n",
    "        self.alpha = alpha\n",
    "        \n",
    "    def updateOutput(self, input):\n",
    "        self.output = np.minimum(0, (np.exp(input) - 1) * self.alpha) + np.maximum(0, input) \n",
    "        return  self.output\n",
    "    \n",
    "    def updateGradInput(self, input, gradOutput):\n",
    "        self.gradInput = self.alpha * np.exp(input) * np.multiply(gradOutput, input < 0) +\\\n",
    "                         np.multiply(gradOutput, input > 0)\n",
    "        return self.gradInput\n",
    "    \n",
    "    def __repr__(self):\n",
    "        return \"ELU\""
   ]
  },
  {
   "cell_type": "code",
   "execution_count": 346,
   "metadata": {},
   "outputs": [],
   "source": [
    "# testing\n",
    "def test_elu():\n",
    "    f_in = 3; f_out = 3; n = 2\n",
    "    X = np.random.normal(size=(n, f_in))\n",
    "    X_tensor = torch.tensor(X, requires_grad=True)\n",
    "    gradient = np.random.normal(size=(n, f_out))\n",
    "    gradient_tensor = torch.tensor(gradient)\n",
    "    \n",
    "    custom_elu = ELU()\n",
    "    torch_elu = torch.nn.ELU()\n",
    "    \n",
    "    # forward\n",
    "    Y_custom = custom_elu.forward(X)\n",
    "    Y_torch = torch_elu(X_tensor)\n",
    "    assert np.allclose(Y_custom, Y_torch.detach().numpy())\n",
    "    \n",
    "    # backward\n",
    "    gradX_custom = custom_elu.backward(X, gradient)\n",
    "    Y_torch.backward(gradient_tensor)\n",
    "    assert np.allclose(gradX_custom, X_tensor.grad)\n",
    "test_elu()"
   ]
  },
  {
   "cell_type": "markdown",
   "metadata": {},
   "source": [
    "### SoftPlus"
   ]
  },
  {
   "cell_type": "code",
   "execution_count": 347,
   "metadata": {},
   "outputs": [],
   "source": [
    "class SoftPlus(Module):\n",
    "    def __init__(self):\n",
    "        super(SoftPlus, self).__init__()\n",
    "    \n",
    "    def updateOutput(self, input):\n",
    "        self.output = np.log(np.exp(input) + 1)\n",
    "        return  self.output\n",
    "    \n",
    "    def updateGradInput(self, input, gradOutput):\n",
    "        self.gradInput = np.multiply(gradOutput, 1 / (np.exp(-input) + 1))\n",
    "        return self.gradInput\n",
    "    \n",
    "    def __repr__(self):\n",
    "        return \"SoftPlus\""
   ]
  },
  {
   "cell_type": "code",
   "execution_count": 348,
   "metadata": {},
   "outputs": [],
   "source": [
    "# testing\n",
    "def test_softplus():\n",
    "    f_in = 3; f_out = 3; n = 2\n",
    "    X = np.random.normal(size=(n, f_in))\n",
    "    X_tensor = torch.tensor(X, requires_grad=True)\n",
    "    gradient = np.random.normal(size=(n, f_out))\n",
    "    gradient_tensor = torch.tensor(gradient)\n",
    "    \n",
    "    custom_softplus = SoftPlus()\n",
    "    torch_softplus = torch.nn.Softplus(beta=1.0, threshold=20.0)\n",
    "    \n",
    "    # forward\n",
    "    Y_custom = custom_softplus.forward(X)\n",
    "    Y_torch = torch_softplus(X_tensor)\n",
    "    assert np.allclose(Y_custom, Y_torch.detach().numpy())\n",
    "    \n",
    "    # backward\n",
    "    gradX_custom = custom_softplus.backward(X, gradient)\n",
    "    Y_torch.backward(gradient_tensor)\n",
    "    assert np.allclose(gradX_custom, X_tensor.grad)\n",
    "test_softplus()"
   ]
  },
  {
   "cell_type": "markdown",
   "metadata": {},
   "source": [
    "## Normalization layers"
   ]
  },
  {
   "cell_type": "markdown",
   "metadata": {},
   "source": [
    "### Batch Normalization"
   ]
  },
  {
   "cell_type": "markdown",
   "metadata": {},
   "source": [
    "### Channel-wise scaling"
   ]
  },
  {
   "cell_type": "markdown",
   "metadata": {},
   "source": [
    "### Dropout"
   ]
  },
  {
   "cell_type": "markdown",
   "metadata": {},
   "source": [
    "## Criterions"
   ]
  },
  {
   "cell_type": "markdown",
   "metadata": {},
   "source": [
    "### Negative LogLikelihood criterion (numerically unstable)\n",
    "[multiclass log loss](http://scikit-learn.org/stable/modules/model_evaluation.html#log-loss). Remember that targets are one-hot encoded. Note, that criterions are the only places, where you divide by batch size. Also there is a small hack with adding small number to probabilities to avoid computing log(0).\n",
    "- input:   **`batch_size x n_feats`** - probabilities\n",
    "- target: **`batch_size x n_feats`** - one-hot representation of ground truth\n",
    "- output: **scalar**\n",
    "\n",
    "https://towardsdatascience.com/cross-entropy-negative-log-likelihood-and-all-that-jazz-47a95bd2e81"
   ]
  },
  {
   "cell_type": "code",
   "execution_count": 349,
   "metadata": {
    "id": "Mh9uWdOfiWzi"
   },
   "outputs": [],
   "source": [
    "class ClassNLLCriterionUnstable(Criterion):\n",
    "    def __init__(self):\n",
    "        self.EPS = 1e-15\n",
    "        a = super(ClassNLLCriterionUnstable, self)\n",
    "        super(ClassNLLCriterionUnstable, self).__init__()\n",
    "        \n",
    "    def updateOutput(self, _input, target): \n",
    "        # Use this trick to avoid numerical errors\n",
    "        _input_clamp = np.clip(_input, self.EPS, 1 - self.EPS)\n",
    "        \n",
    "        self.output = 0\n",
    "        self.output = -np.divide(np.sum(np.multiply(np.log(_input_clamp), target)), target.shape[0])\n",
    "        return self.output\n",
    "\n",
    "    def updateGradInput(self, _input, target):\n",
    "        # Use this trick to avoid numerical errors\n",
    "        _input_clamp = np.clip(_input, self.EPS, 1 - self.EPS)\n",
    "                \n",
    "        self.gradInput = np.zeros(shape=_input.shape, dtype='float64')\n",
    "        np.divide(target, _input_clamp, out=self.gradInput)\n",
    "        np.divide(-self.gradInput, target.shape[0], out=self.gradInput)\n",
    "        return self.gradInput\n",
    "    \n",
    "    def __repr__(self):\n",
    "        return \"ClassNLLCriterionUnstable\""
   ]
  },
  {
   "cell_type": "code",
   "execution_count": 350,
   "metadata": {},
   "outputs": [
    {
     "name": "stdout",
     "output_type": "stream",
     "text": [
      "34.538776394910684 0.7739580953274978\n",
      "[[-5.e+14 -0.e+00 -0.e+00]\n",
      " [-0.e+00 -5.e+14 -0.e+00]] tensor([[-0.5000,  0.0000,  0.0000],\n",
      "        [ 0.0000, -0.5000,  0.0000]], dtype=torch.float64)\n"
     ]
    }
   ],
   "source": [
    "# testing\n",
    "def test_nll():\n",
    "    f_in = 3; f_out = 3; n = 2\n",
    "    X = np.random.normal(size=(n, f_in))\n",
    "    X_tensor = torch.tensor(X, requires_grad=True)\n",
    "    target = np.eye(N=n, M=f_in)\n",
    "    target_tensor = torch.tensor(np.argmax(target, axis=1))\n",
    "    \n",
    "    custom_nll = ClassNLLCriterionUnstable()\n",
    "    torch_nll = torch.nn.NLLLoss()\n",
    "    \n",
    "    # forward\n",
    "    Y_custom = custom_nll.forward(X, target)\n",
    "    Y_torch = torch_nll(X_tensor, target_tensor)\n",
    "    print(Y_custom, Y_torch.detach().numpy())\n",
    "    # assert np.allclose(Y_custom, Y_torch.detach().numpy())\n",
    "    \n",
    "    # backward\n",
    "    gradX_custom = custom_nll.backward(X, target)\n",
    "    Y_torch.backward()\n",
    "    print(gradX_custom, X_tensor.grad)\n",
    "    # assert np.allclose(gradX_custom, X_tensor.grad)\n",
    "test_nll()"
   ]
  },
  {
   "cell_type": "markdown",
   "metadata": {},
   "source": [
    "### NLL Criterion stable"
   ]
  },
  {
   "cell_type": "markdown",
   "metadata": {},
   "source": [
    "Task is similar to the previous one, but now the criterion input is the output of log-softmax layer. This decomposition allows us to avoid problems with computation of forward and backward of log().\n",
    "\n"
   ]
  },
  {
   "cell_type": "code",
   "execution_count": 351,
   "metadata": {
    "id": "b_Pdta8IiWzi"
   },
   "outputs": [],
   "source": [
    "class ClassNLLCriterion(Criterion):\n",
    "    def __init__(self):\n",
    "        a = super(ClassNLLCriterion, self)\n",
    "        super(ClassNLLCriterion, self).__init__()\n",
    "        \n",
    "    def updateOutput(self, _input, target): \n",
    "        self.output = 0\n",
    "        self.output = -np.sum(np.multiply(_input, target)) / target.shape[0]\n",
    "        return self.output\n",
    "\n",
    "    def updateGradInput(self, _input, target):\n",
    "        self.gradInput = np.zeros(shape=_input.shape, dtype='float64')\n",
    "        np.divide(-target, _input.shape[0], out=self.gradInput)\n",
    "            \n",
    "        return self.gradInput\n",
    "    \n",
    "    def __repr__(self):\n",
    "        return \"ClassNLLCriterion\""
   ]
  },
  {
   "cell_type": "code",
   "execution_count": 352,
   "metadata": {},
   "outputs": [],
   "source": [
    "# testing\n",
    "def test_nll_stable():\n",
    "    f_in = 3; f_out = 3; n = 2\n",
    "    X = np.random.normal(size=(n, f_in))\n",
    "    X_tensor = torch.tensor(X, requires_grad=True)\n",
    "    target = np.eye(N=n, M=f_in)\n",
    "    target_tensor = torch.tensor(np.argmax(target, axis=1))\n",
    "    \n",
    "    custom_log_soft_max = LogSoftMax()\n",
    "    custom_nll = ClassNLLCriterion()\n",
    "    \n",
    "    torch_cross_entropy = torch.nn.CrossEntropyLoss()\n",
    "        \n",
    "    # forward\n",
    "    X_logits = custom_log_soft_max.forward(X)\n",
    "    nll_custom = custom_nll.forward(X_logits, target)\n",
    "    nll_torch = torch_cross_entropy(X_tensor, target_tensor)\n",
    "    assert np.allclose(nll_custom, nll_torch.detach().numpy())\n",
    "\n",
    "    # backward\n",
    "    grad_input_custom_1 = custom_nll.backward(X_logits, target).astype('float64')\n",
    "    grad_input_custom_2 = custom_log_soft_max.backward(X, grad_input_custom_1)\n",
    "    nll_torch.backward()\n",
    "    assert np.allclose(grad_input_custom_2, X_tensor.grad)\n",
    "test_nll_stable()"
   ]
  },
  {
   "cell_type": "markdown",
   "metadata": {},
   "source": [
    "### MSE"
   ]
  },
  {
   "cell_type": "markdown",
   "metadata": {},
   "source": [
    "The MSECriterion, which is basic L2 norm usually used for regression"
   ]
  },
  {
   "cell_type": "code",
   "execution_count": 353,
   "metadata": {},
   "outputs": [],
   "source": [
    "class MSECriterion(Criterion):\n",
    "    def __init__(self):\n",
    "        super(MSECriterion, self).__init__()\n",
    "        \n",
    "    def updateOutput(self, _input, target):\n",
    "        self.output = 0\n",
    "        self.output = np.sum(np.power(np.subtract(_input, target), 2)) / _input.shape[0]\n",
    "        return self.output \n",
    " \n",
    "    def updateGradInput(self, _input, target):\n",
    "        self.gradInput = np.zeros_like(_input)\n",
    "        self.gradInput  = (_input - target) * 2 / _input.shape[0]\n",
    "        return self.gradInput\n",
    "\n",
    "    def __repr__(self):\n",
    "        return \"MSECriterion\""
   ]
  },
  {
   "cell_type": "code",
   "execution_count": 354,
   "metadata": {},
   "outputs": [],
   "source": [
    "# testing\n",
    "def test_mse():\n",
    "    f_in = 3; f_out = 3; n = 2\n",
    "    X = np.random.normal(size=(n, f_in))\n",
    "    X_tensor = torch.tensor(X, requires_grad=True)\n",
    "    target = np.random.normal(size=(n, f_in)) * 5\n",
    "    target_tensor = torch.tensor(target)\n",
    "    \n",
    "    custom_mse = MSECriterion()\n",
    "    torch_mse = torch.nn.MSELoss()\n",
    "    \n",
    "    # forward\n",
    "    Y_custom = custom_mse.forward(X, target)\n",
    "    Y_torch = torch_mse(X_tensor, target_tensor)\n",
    "    assert np.allclose(Y_custom, Y_torch.detach().numpy() * f_in)\n",
    "    \n",
    "    # backward\n",
    "    gradX_custom = custom_mse.backward(X, target)\n",
    "    Y_torch.backward()\n",
    "    assert np.allclose(gradX_custom, X_tensor.grad * f_in)\n",
    "test_mse()"
   ]
  },
  {
   "cell_type": "markdown",
   "metadata": {},
   "source": [
    "## Optimizers"
   ]
  },
  {
   "cell_type": "markdown",
   "metadata": {},
   "source": [
    "### Simple SGD"
   ]
  },
  {
   "cell_type": "code",
   "execution_count": 355,
   "metadata": {
    "id": "y5uGvrKYiWzj"
   },
   "outputs": [],
   "source": [
    "def simple_sgd(variables, gradients, config, state):  \n",
    "    # 'variables' and 'gradients' have complex structure, accumulated_grads will be stored in a simpler one\n",
    "    state.setdefault('accumulated_grads', {})\n",
    "    \n",
    "    var_index = 0 \n",
    "    for current_layer_vars, current_layer_grads in zip(variables, gradients): \n",
    "        for current_var, current_grad in zip(current_layer_vars, current_layer_grads):\n",
    "            \n",
    "            current_var -= config['learning_rate'] * current_grad\n",
    "            var_index += 1     "
   ]
  },
  {
   "cell_type": "markdown",
   "metadata": {},
   "source": [
    "### SGD with momentum\n",
    "\n",
    "- `variables` - list of lists of variables (one list per layer)\n",
    "- `gradients` - list of lists of current gradients (same structure as for `variables`, one array for each var)\n",
    "- `config` - dict with optimization parameters (`learning_rate` and `momentum`)\n",
    "- `state` - dict with optimizator state (used to save accumulated gradients)"
   ]
  },
  {
   "cell_type": "code",
   "execution_count": 356,
   "metadata": {},
   "outputs": [],
   "source": [
    "def sgd_momentum(variables, gradients, config, state):  \n",
    "    # 'variables' and 'gradients' have complex structure, accumulated_grads will be stored in a simpler one\n",
    "    state.setdefault('accumulated_grads', {})\n",
    "    \n",
    "    var_index = 0 \n",
    "    for current_layer_vars, current_layer_grads in zip(variables, gradients): \n",
    "        for current_var, current_grad in zip(current_layer_vars, current_layer_grads):\n",
    "            \n",
    "            old_grad = state['accumulated_grads'].setdefault(var_index, np.zeros_like(current_grad))\n",
    "            \n",
    "            np.add(config['momentum'] * old_grad, config['learning_rate'] * current_grad, out=old_grad)\n",
    "            \n",
    "            current_var -= old_grad\n",
    "            var_index += 1"
   ]
  },
  {
   "cell_type": "markdown",
   "metadata": {},
   "source": [
    "### Adam optimizer\n",
    "\n",
    "- `variables` - list of lists of variables (one list per layer)\n",
    "- `gradients` - list of lists of current gradients (same structure as for `variables`, one array for each var)\n",
    "- `config` - dict with optimization parameters (`learning_rate`, `beta1`, `beta2`, `epsilon`)\n",
    "- `state` - dict with optimizator state (used to save 1st and 2nd moment for vars)\n",
    "\n",
    "Formulas for optimizer:\n",
    "\n",
    "Current step learning rate: $$\\text{lr}_t = \\text{learning rate} * \\frac{\\sqrt{1-\\beta_2^t}} {1-\\beta_1^t}$$\n",
    "First moment of var: $$\\mu_t = \\beta_1 * \\mu_{t-1} + (1 - \\beta_1)*g$$ \n",
    "Second moment of var: $$v_t = \\beta_2 * v_{t-1} + (1 - \\beta_2)*g*g$$\n",
    "New values of var: $$\\text{variable} = \\text{variable} - \\text{lr}_t * \\frac{m_t}{\\sqrt{v_t} + \\epsilon}$$"
   ]
  },
  {
   "cell_type": "code",
   "execution_count": 357,
   "metadata": {},
   "outputs": [],
   "source": [
    "def adam_optimizer(variables, gradients, config, state):  \n",
    "    # 'variables' and 'gradients' have complex structure, accumulated_grads will be stored in a simpler one\n",
    "    state.setdefault('m', {})  # first moment vars\n",
    "    state.setdefault('v', {})  # second moment vars\n",
    "    state.setdefault('t', 0)   # timestamp\n",
    "    state['t'] += 1\n",
    "    for k in ['learning_rate', 'beta1', 'beta2', 'epsilon']:\n",
    "        assert k in config, config.keys()\n",
    "    \n",
    "    var_index = 0 \n",
    "    lr_t = config['learning_rate'] * np.sqrt(1 - config['beta2']**state['t']) / (1 - config['beta1']**state['t'])\n",
    "    for current_layer_vars, current_layer_grads in zip(variables, gradients): \n",
    "        for current_var, current_grad in zip(current_layer_vars, current_layer_grads):\n",
    "            var_first_moment = state['m'].setdefault(var_index, np.zeros_like(current_grad))\n",
    "            var_second_moment = state['v'].setdefault(var_index, np.zeros_like(current_grad))\n",
    "            \n",
    "            # update `current_var_first_moment`, `var_second_moment` and `current_var` values\n",
    "            np.add(var_first_moment * config['beta1'], (1 - config['beta1']) * current_grad, out=var_first_moment)\n",
    "            np.add(var_second_moment * config['beta2'], (1 - config['beta2']) * current_grad**2, out=var_second_moment)\n",
    "            current_var -= var_first_moment * lr_t / (np.sqrt(var_second_moment) + config['epsilon'])\n",
    "            \n",
    "            # small checks that you've updated the state; use np.add for rewriting np.arrays values\n",
    "            assert var_first_moment is state['m'].get(var_index)\n",
    "            assert var_second_moment is state['v'].get(var_index)\n",
    "            var_index += 1"
   ]
  },
  {
   "cell_type": "markdown",
   "metadata": {
    "id": "vMWr93JXiWzj"
   },
   "source": [
    "# Toy example"
   ]
  },
  {
   "cell_type": "markdown",
   "metadata": {
    "id": "pQuvURcEiWzj"
   },
   "source": [
    "Use this example to debug your code, start with logistic regression and then test other layers. You do not need to change anything here. This code is provided for you to test the layers. Also it is easy to use this code in MNIST task."
   ]
  },
  {
   "cell_type": "code",
   "execution_count": 358,
   "metadata": {
    "id": "hj7nwGxfiWzk",
    "outputId": "5f884a68-62d0-4341-da71-867b3562c046",
    "scrolled": false
   },
   "outputs": [
    {
     "data": {
      "text/plain": [
       "<matplotlib.collections.PathCollection at 0x24ec1c2e840>"
      ]
     },
     "execution_count": 358,
     "metadata": {},
     "output_type": "execute_result"
    },
    {
     "data": {
      "image/png": "[encoded data removed]",
      "text/plain": [
       "<Figure size 640x480 with 1 Axes>"
      ]
     },
     "metadata": {},
     "output_type": "display_data"
    }
   ],
   "source": [
    "from sklearn.metrics import accuracy_score\n",
    "from tqdm import tqdm\n",
    "# Generate some data\n",
    "N = 500\n",
    "\n",
    "X1 = np.random.randn(N,2) + np.array([2,2])\n",
    "X2 = np.random.randn(N,2) + np.array([-2,-2])\n",
    "\n",
    "Y = np.concatenate([np.ones(N),np.zeros(N)])[:,None]\n",
    "Y = np.hstack([Y, 1-Y])\n",
    "\n",
    "X = np.vstack([X1,X2])\n",
    "plt.scatter(X[:,0],X[:,1], c = Y[:,0], edgecolors= 'none')"
   ]
  },
  {
   "cell_type": "markdown",
   "metadata": {
    "id": "hN_DAaCQiWzl"
   },
   "source": [
    "Define a **logistic regression** for debugging. "
   ]
  },
  {
   "cell_type": "code",
   "execution_count": 364,
   "metadata": {
    "id": "DXWpHArsiWzl",
    "outputId": "c58aa38d-3959-45a7-ddc0-38e72adf260c"
   },
   "outputs": [
    {
     "name": "stdout",
     "output_type": "stream",
     "text": [
      "Linear 2 -> 2\n",
      "LogSoftMax\n",
      "\n"
     ]
    }
   ],
   "source": [
    "net = Sequential()\n",
    "net.add(Linear(2, 2))\n",
    "net.add(LogSoftMax())\n",
    "\n",
    "criterion = ClassNLLCriterion()\n",
    "\n",
    "print(net)\n",
    "\n",
    "# Test something like that then \n",
    "\n",
    "# net = Sequential()\n",
    "# net.add(Linear(2, 4))\n",
    "# net.add(ReLU())\n",
    "# net.add(Linear(4, 2))\n",
    "# net.add(LogSoftMax())"
   ]
  },
  {
   "cell_type": "markdown",
   "metadata": {
    "id": "5acMrVliiWzn"
   },
   "source": [
    "Start with batch_size = 1000 to make sure every step lowers the loss, then try stochastic version."
   ]
  },
  {
   "cell_type": "code",
   "execution_count": 365,
   "metadata": {
    "id": "ZGesPjH1iWzo"
   },
   "outputs": [],
   "source": [
    "# Optimizer params\n",
    "optimizer_config = {'learning_rate' : 1e-1}\n",
    "optimizer_state = {}\n",
    "\n",
    "# Looping params\n",
    "n_epoch = 20\n",
    "batch_size = 128"
   ]
  },
  {
   "cell_type": "code",
   "execution_count": 366,
   "metadata": {
    "id": "frtHTc16iWzo"
   },
   "outputs": [],
   "source": [
    "# batch generator\n",
    "def get_batches(dataset, batch_size):\n",
    "    X, Y = dataset\n",
    "    n_samples = X.shape[0]\n",
    "        \n",
    "    # Shuffle at the start of epoch\n",
    "    indices = np.arange(n_samples)\n",
    "    np.random.shuffle(indices)\n",
    "    \n",
    "    for start in range(0, n_samples, batch_size):\n",
    "        end = min(start + batch_size, n_samples)\n",
    "        \n",
    "        batch_idx = indices[start:end]\n",
    "    \n",
    "        yield X[batch_idx], Y[batch_idx]"
   ]
  },
  {
   "cell_type": "markdown",
   "metadata": {
    "id": "n_aYsu9JiWzp"
   },
   "source": [
    "### Train"
   ]
  },
  {
   "cell_type": "markdown",
   "metadata": {
    "id": "swUVBRHaiWzp"
   },
   "source": [
    "Basic training loop. Examine it."
   ]
  },
  {
   "cell_type": "code",
   "execution_count": 367,
   "metadata": {
    "id": "E7naVseMiWzq",
    "outputId": "e7481418-86c4-456d-fd91-54ffbf0978c0",
    "scrolled": false
   },
   "outputs": [
    {
     "data": {
      "image/png": "[encoded data removed]",
      "text/plain": [
       "<Figure size 800x600 with 1 Axes>"
      ]
     },
     "metadata": {},
     "output_type": "display_data"
    },
    {
     "name": "stderr",
     "output_type": "stream",
     "text": [
      "100%|██████████| 20/20 [00:07<00:00,  2.57it/s]"
     ]
    },
    {
     "name": "stdout",
     "output_type": "stream",
     "text": [
      "Current loss: 0.018481\n"
     ]
    },
    {
     "name": "stderr",
     "output_type": "stream",
     "text": [
      "\n"
     ]
    }
   ],
   "source": [
    "loss_history = []\n",
    "\n",
    "for i in tqdm(range(n_epoch)):\n",
    "    for x_batch, y_batch in tqdm(get_batches((X, Y), batch_size)):\n",
    "        \n",
    "        net.zeroGradParameters()\n",
    "        \n",
    "        # Forward\n",
    "        predictions = net.forward(x_batch)\n",
    "        loss = criterion.forward(predictions, y_batch)\n",
    "    \n",
    "        # Backward\n",
    "        dp = criterion.backward(predictions, y_batch)\n",
    "        net.backward(x_batch, dp)\n",
    "        \n",
    "        # Update weights\n",
    "        simple_sgd(net.getParameters(), \n",
    "                   net.getGradParameters(), \n",
    "                   optimizer_config,\n",
    "                   optimizer_state)      \n",
    "        \n",
    "        loss_history.append(loss)\n",
    "\n",
    "    # Visualize\n",
    "    display.clear_output(wait=True)\n",
    "    plt.figure(figsize=(8, 6))\n",
    "        \n",
    "    plt.title(\"Training loss\")\n",
    "    plt.xlabel(\"#iteration\")\n",
    "    plt.ylabel(\"loss\")\n",
    "    plt.plot(loss_history, 'b')\n",
    "    plt.show()\n",
    "    \n",
    "    print('Current loss: %f' % loss)    "
   ]
  },
  {
   "cell_type": "markdown",
   "metadata": {
    "id": "D8u7t61OiWz_"
   },
   "source": [
    "# Digit classification "
   ]
  },
  {
   "cell_type": "markdown",
   "metadata": {
    "id": "Jg3UCA5jiWz_"
   },
   "source": [
    "We are using old good [MNIST](http://yann.lecun.com/exdb/mnist/) as our dataset."
   ]
  },
  {
   "cell_type": "code",
   "execution_count": 381,
   "metadata": {},
   "outputs": [],
   "source": [
    "from load_mnist_from_gz import load_dataset"
   ]
  },
  {
   "cell_type": "code",
   "execution_count": 382,
   "metadata": {
    "id": "9alNA-XbiW0A"
   },
   "outputs": [],
   "source": [
    "X_train, y_train, X_val, y_val, X_test, y_test = load_dataset()"
   ]
  },
  {
   "cell_type": "code",
   "execution_count": 384,
   "metadata": {},
   "outputs": [
    {
     "data": {
      "text/plain": [
       "((50000, 28, 28), (10000, 28, 28), (10000, 28, 28))"
      ]
     },
     "execution_count": 384,
     "metadata": {},
     "output_type": "execute_result"
    }
   ],
   "source": [
    "X_train.shape, X_val.shape, X_test.shape"
   ]
  },
  {
   "cell_type": "markdown",
   "metadata": {
    "id": "xUGfJ87piW0B"
   },
   "source": [
    "One-hot encode the labels first."
   ]
  },
  {
   "cell_type": "code",
   "execution_count": 386,
   "metadata": {
    "id": "Kslnbb4xiW0B"
   },
   "outputs": [],
   "source": [
    "from sklearn.preprocessing import OneHotEncoder\n",
    "\n",
    "X_train = np.expand_dims(X_train, 1)\n",
    "X_val = np.expand_dims(X_val, 1)\n",
    "X_test = np.expand_dims(X_test, 1)\n",
    "\n",
    "encoder = OneHotEncoder(categories='auto', sparse_output=False)\n",
    "\n",
    "y_train = encoder.fit_transform(y_train.reshape(-1, 1))"
   ]
  },
  {
   "cell_type": "code",
   "execution_count": 387,
   "metadata": {
    "id": "kwLNmq0IiW0C"
   },
   "outputs": [],
   "source": [
    "X_train, X_val, X_test = list(map(lambda x: x.reshape((x.shape[0], -1)), [X_train, X_val, X_test]))"
   ]
  },
  {
   "cell_type": "code",
   "execution_count": 388,
   "metadata": {
    "id": "1wfQrfgqiW0C",
    "outputId": "a3d24ba8-5c5d-4674-ac9c-7efa8d483f44"
   },
   "outputs": [
    {
     "data": {
      "text/plain": [
       "(50000, 784)"
      ]
     },
     "execution_count": 388,
     "metadata": {},
     "output_type": "execute_result"
    }
   ],
   "source": [
    "X_train.shape"
   ]
  },
  {
   "cell_type": "code",
   "execution_count": 389,
   "metadata": {
    "id": "gznpPGbeiW0D",
    "outputId": "01f9781d-de48-427a-ae95-90f6c7a0e7f2"
   },
   "outputs": [
    {
     "name": "stdout",
     "output_type": "stream",
     "text": [
      "Linear 784 -> 128\n",
      "ReLU\n",
      "Linear 128 -> 10\n",
      "LogSoftMax\n",
      "\n"
     ]
    }
   ],
   "source": [
    "net = Sequential()\n",
    "net.add(Linear(784, 128))\n",
    "net.add(ReLU())\n",
    "net.add(Linear(128, 10))\n",
    "net.add(LogSoftMax())\n",
    "\n",
    "criterion = ClassNLLCriterion()\n",
    "\n",
    "print(net)"
   ]
  },
  {
   "cell_type": "code",
   "execution_count": 390,
   "metadata": {
    "id": "LIpn3A85iW0D"
   },
   "outputs": [],
   "source": [
    "# Iptimizer params\n",
    "optimizer_config = {'learning_rate' : 3e-3, 'beta1': 0.99, 'beta2': 0.99, 'epsilon': 1e-5}\n",
    "optimizer_state = {}\n",
    "\n",
    "# Looping params\n",
    "n_epoch = 20\n",
    "batch_size = 128"
   ]
  },
  {
   "cell_type": "code",
   "execution_count": 391,
   "metadata": {
    "id": "RTYkriEMiW0E",
    "outputId": "6b63f10a-079e-45ec-ffa9-04464066b6b2"
   },
   "outputs": [
    {
     "data": {
      "image/png": "[encoded data removed]",
      "text/plain": [
       "<Figure size 1600x600 with 2 Axes>"
      ]
     },
     "metadata": {},
     "output_type": "display_data"
    },
    {
     "name": "stderr",
     "output_type": "stream",
     "text": [
      "100%|██████████| 20/20 [00:59<00:00,  3.00s/it]"
     ]
    },
    {
     "name": "stdout",
     "output_type": "stream",
     "text": [
      "Current loss: 0.347862\n"
     ]
    },
    {
     "name": "stderr",
     "output_type": "stream",
     "text": [
      "\n"
     ]
    }
   ],
   "source": [
    "from sklearn.metrics import accuracy_score\n",
    "from tqdm import tqdm\n",
    "\n",
    "loss_history = []\n",
    "accuracy_history = []\n",
    "\n",
    "for i in tqdm(range(n_epoch)):\n",
    "    net.train()\n",
    "    for x_batch, y_batch in get_batches((X_train, y_train), batch_size):\n",
    "        \n",
    "        net.zeroGradParameters()\n",
    "        \n",
    "        # Forward\n",
    "        predictions = net.forward(x_batch)\n",
    "        loss = criterion.forward(predictions, y_batch)\n",
    "    \n",
    "        # Backward\n",
    "        dp = criterion.backward(predictions, y_batch)\n",
    "        net.backward(x_batch, dp)\n",
    "        \n",
    "        # Update weights\n",
    "        simple_sgd(net.getParameters(), \n",
    "                     net.getGradParameters(), \n",
    "                     optimizer_config,\n",
    "                     optimizer_state)      \n",
    "        \n",
    "        loss_history.append(loss)\n",
    "    \n",
    "    net.evaluate()\n",
    "    accuracy_history.append(accuracy_score(net.forward(X_val).argmax(axis=-1), y_val))\n",
    "    \n",
    "    # Visualize\n",
    "    display.clear_output(wait=True)\n",
    "    plt.figure(figsize=(16, 6))\n",
    "    \n",
    "    plt.subplot(1, 2, 1)    \n",
    "    plt.title(\"Training loss\")\n",
    "    plt.xlabel(\"#iteration\")\n",
    "    plt.ylabel(\"loss\")\n",
    "    plt.plot(loss_history, 'b')\n",
    "    \n",
    "    plt.subplot(1, 2, 2)\n",
    "    plt.title(\"Val accuracy\")\n",
    "    plt.xlabel(\"#epoch\")\n",
    "    plt.ylabel(\"accuracy\")\n",
    "    plt.plot(accuracy_history, 'b')\n",
    "    plt.show()\n",
    "    \n",
    "    print('Current loss: %f' % loss)   "
   ]
  }
 ],
 "metadata": {
  "colab": {
   "provenance": []
  },
  "kernelspec": {
   "display_name": "Python 3 (ipykernel)",
   "language": "python",
   "name": "python3"
  },
  "language_info": {
   "codemirror_mode": {
    "name": "ipython",
    "version": 3
   },
   "file_extension": ".py",
   "mimetype": "text/x-python",
   "name": "python",
   "nbconvert_exporter": "python",
   "pygments_lexer": "ipython3",
   "version": "3.12.1"
  }
 },
 "nbformat": 4,
 "nbformat_minor": 1
}
