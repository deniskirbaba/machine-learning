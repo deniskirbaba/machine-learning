{
 "cells": [
  {
   "cell_type": "markdown",
   "metadata": {
    "id": "U8RFpWhuiWzT"
   },
   "source": [
    "# Neural network from scratch\n",
    "\n",
    "Based on YSDA Deep Learning course materials.\n",
    "\n",
    "https://github.com/yandexdataschool/Practical_DL/blob/spring2019/homework01/homework_modules.ipynb"
   ]
  },
  {
   "cell_type": "markdown",
   "metadata": {},
   "source": [
    "We will implement most common layers using `numpy` for matrix operations. \n",
    "\n",
    "The file `modules.py` contains the abstract classes for **module**, **criterion** and **sequential** model class.\n",
    "\n",
    "**Module** is an abstract class which defines the fundamental methods required for training a neural network.\n",
    "\n",
    "**Criterion** class implements a container which can be used to score the models answers. \n",
    "\n",
    "**Sequential** class implements a container which processes `input` data sequentially. \n"
   ]
  },
  {
   "cell_type": "code",
   "execution_count": 3,
   "metadata": {
    "ExecuteTime": {
     "end_time": "2023-04-11T16:45:29.664068Z",
     "start_time": "2023-04-11T16:45:28.207049Z"
    },
    "id": "Ukijz7LCiWzY"
   },
   "outputs": [],
   "source": [
    "import matplotlib.pyplot as plt\n",
    "import numpy as np\n",
    "import torch\n",
    "from IPython import display"
   ]
  },
  {
   "cell_type": "markdown",
   "metadata": {
    "id": "tllgOssniWza"
   },
   "source": [
    "We will implement most common layers using `numpy` for matrix operations. In file `modules.py` are presented the abstract classes for layer, criterion and sequential model class.\n",
    "\n",
    "The architecture, naming and API are inspired py PyTorch implementation, which will be used in this course further. \n",
    "\n",
    "Please, __do not__ change the classes/functions signatures."
   ]
  },
  {
   "cell_type": "markdown",
   "metadata": {
    "id": "q4Jlmx03iWzb"
   },
   "source": [
    "#### Some comments\n",
    "Original `numpy` operation are more preferable than overloaded ones (`+`, `*`, `-`, etc. vs `np.add`, `np.multiply`, `np.substract`). They show more expectable memory usage and seem unified with tensor frameworks.\n",
    "\n",
    "*Example:*\n",
    "\n",
    "```\n",
    "a = np.zeros_like(arr1)\n",
    "\n",
    "a = arr1 + arr2 #  bad, we reallocate memory for the result of + operation\n",
    "\n",
    "a = np.zeros_like(arr1)\n",
    "\n",
    "np.add(arr1, arr2, out=a) #  good, we use same allocated memory, no need to call gc\n",
    "```"
   ]
  },
  {
   "cell_type": "code",
   "execution_count": 4,
   "metadata": {
    "id": "bo60PaItiWzb"
   },
   "outputs": [],
   "source": [
    "from modules import Criterion, Module, Sequential"
   ]
  },
  {
   "cell_type": "markdown",
   "metadata": {
    "id": "nyHHjMh5iWzc"
   },
   "source": [
    "Before we begin: a [great playground](https://playground.tensorflow.org) to look at."
   ]
  },
  {
   "cell_type": "markdown",
   "metadata": {
    "id": "uNxaNWwsiWzc"
   },
   "source": [
    "Try to implement main layers in numpy. Today we stop only on most common ones."
   ]
  },
  {
   "cell_type": "markdown",
   "metadata": {
    "id": "0SNMxWtziWzd"
   },
   "source": [
    "Good read on [Vector, Matrix and Tensor derivatives](http://cs231n.stanford.edu/vecDerivs.pdf)"
   ]
  },
  {
   "cell_type": "markdown",
   "metadata": {},
   "source": [
    "[Post about einsum](https://habr.com/ru/post/544498/)\n",
    "\n",
    "[Backpropagation for a Linear Layer handout](http://cs231n.stanford.edu/handouts/linear-backprop.pdf)"
   ]
  },
  {
   "cell_type": "markdown",
   "metadata": {},
   "source": [
    "## Layers"
   ]
  },
  {
   "cell_type": "markdown",
   "metadata": {},
   "source": [
    "### Linear transform layer"
   ]
  },
  {
   "cell_type": "code",
   "execution_count": 5,
   "metadata": {
    "id": "_gnuPPE2iWze"
   },
   "outputs": [],
   "source": [
    "class Linear(Module):\n",
    "    \"\"\"\n",
    "    A module which applies a linear transformation \n",
    "    A common name is fully-connected layer, InnerProductLayer in caffe. \n",
    "    \n",
    "    The module should work with 2D _input of shape (n_samples, n_feature).\n",
    "    \"\"\"\n",
    "    def __init__(self, n_in, n_out):\n",
    "        super(Linear, self).__init__()\n",
    "       \n",
    "        # This is a nice initialization\n",
    "        stdv = 1./np.sqrt(n_in)\n",
    "        self.W = np.random.uniform(-stdv, stdv, size = (n_out, n_in))\n",
    "        self.b = np.random.uniform(-stdv, stdv, size = n_out)\n",
    "        \n",
    "        self.gradW = np.zeros_like(self.W)\n",
    "        self.gradb = np.zeros_like(self.b)\n",
    "        \n",
    "    def updateOutput(self, _input):\n",
    "        self.output = np.zeros(shape=(_input.shape[0], self.W.shape[0]))\n",
    "        np.add(np.dot(_input, np.transpose(self.W)), self.b, out=self.output)\n",
    "        \n",
    "        return self.output\n",
    "    \n",
    "    def updateGradInput(self, _input, gradOutput):\n",
    "        self.gradInput = np.zeros_like(_input)\n",
    "        self.gradInput = np.dot(gradOutput, self.W)\n",
    "        \n",
    "        return self.gradInput\n",
    "    \n",
    "    def accGradParameters(self, _input, gradOutput):\n",
    "        self.gradW += np.dot(np.transpose(gradOutput), _input)\n",
    "        self.gradb += np.sum(gradOutput, axis=0).ravel()\n",
    "    \n",
    "    def zeroGradParameters(self):\n",
    "        self.gradW.fill(0)\n",
    "        self.gradb.fill(0)\n",
    "        \n",
    "    def getParameters(self):\n",
    "        return [self.W, self.b]\n",
    "    \n",
    "    def getGradParameters(self):\n",
    "        return [self.gradW, self.gradb]\n",
    "    \n",
    "    def __repr__(self):\n",
    "        s = self.W.shape\n",
    "        q = 'Linear %d -> %d' %(s[1],s[0])\n",
    "        return q"
   ]
  },
  {
   "cell_type": "code",
   "execution_count": 6,
   "metadata": {},
   "outputs": [],
   "source": [
    "# testing\n",
    "def test_linear():\n",
    "    f_in = 2; f_out = 3; n = 2\n",
    "    X = np.random.normal(size=(n, f_in))\n",
    "    X_tensor = torch.tensor(X, requires_grad=True)\n",
    "    weight = np.random.normal(size=(f_out, f_in))\n",
    "    bias = np.random.normal(size=(f_out,))\n",
    "    gradient = np.random.normal(size=(n, f_out))\n",
    "    gradient_tensor = torch.tensor(gradient)\n",
    "    \n",
    "    custom_linear = Linear(n_in=f_in, n_out=f_out)\n",
    "    custom_linear.W = weight\n",
    "    custom_linear.b = bias\n",
    "    torch_linear = torch.nn.Linear(in_features=f_in, \n",
    "                                   out_features=f_out, \n",
    "                                   bias=True, \n",
    "                                   dtype=X_tensor.dtype)\n",
    "    torch_linear.weight.data = torch.tensor(weight)\n",
    "    torch_linear.bias.data = torch.tensor(bias)\n",
    "    \n",
    "    # forward\n",
    "    Y_custom = custom_linear.forward(X)\n",
    "    Y_torch = torch_linear(X_tensor)\n",
    "    assert np.allclose(Y_custom, Y_torch.detach().numpy())\n",
    "    \n",
    "    # backward\n",
    "    gradX_custom = custom_linear.backward(X, gradient)\n",
    "    Y_torch.backward(gradient_tensor)\n",
    "    assert np.allclose(gradX_custom, X_tensor.grad)\n",
    "    assert np.allclose(custom_linear.gradW, torch_linear.weight.grad)\n",
    "    assert np.allclose(custom_linear.gradb, torch_linear.bias.grad)\n",
    "    \n",
    "test_linear()"
   ]
  },
  {
   "cell_type": "markdown",
   "metadata": {},
   "source": [
    "### SoftMax function\n",
    "\n",
    "- input:   **`batch_size x n_feats`**\n",
    "- output: **`batch_size x n_feats`**\n",
    "\n",
    "$\\text{softmax}(x)_i = \\frac{\\exp x_i} {\\sum_j \\exp x_j}$\n",
    "\n",
    "Recall that $\\text{softmax}(x) == \\text{softmax}(x - \\text{const})$. It makes possible to avoid computing exp() from large argument.\n",
    "\n",
    "[Notes on softmax](https://deepnotes.io/softmax-crossentropy)"
   ]
  },
  {
   "cell_type": "code",
   "execution_count": 7,
   "metadata": {
    "id": "IeT4DrEXiWzg"
   },
   "outputs": [],
   "source": [
    "class SoftMax(Module):\n",
    "    def __init__(self):\n",
    "         super(SoftMax, self).__init__()\n",
    "    \n",
    "    def updateOutput(self, _input):\n",
    "        # start with normalization for numerical stability\n",
    "        self.output = np.subtract(_input, _input.max(axis=1, keepdims=True))\n",
    "        \n",
    "        self.output = np.divide(np.exp(self.output).T, np.sum(np.exp(self.output), axis=1)).T\n",
    "                \n",
    "        return self.output\n",
    "    \n",
    "    def updateGradInput(self, _input, gradOutput):\n",
    "        gradient = np.einsum(\"mn,mt->mnt\", self.output, self.output)\n",
    "        self.gradInput = gradOutput * self.output - np.einsum(\"bm,bmk->bk\", gradOutput, gradient)\n",
    "        \n",
    "        return self.gradInput\n",
    "    \n",
    "    def __repr__(self):\n",
    "        return \"SoftMax\""
   ]
  },
  {
   "cell_type": "code",
   "execution_count": 8,
   "metadata": {},
   "outputs": [],
   "source": [
    "# testing\n",
    "def test_softmax():\n",
    "    f_in = 3; f_out = 3; n = 2\n",
    "    X = np.random.normal(size=(n, f_in))\n",
    "    X_tensor = torch.tensor(X, requires_grad=True)\n",
    "    gradient = np.random.normal(size=(n, f_out))\n",
    "    gradient_tensor = torch.tensor(gradient)\n",
    "    \n",
    "    custom_softmax = SoftMax()\n",
    "    torch_softmax = torch.nn.Softmax(dim=1)\n",
    "    \n",
    "    # forward\n",
    "    Y_custom = custom_softmax.forward(X)\n",
    "    Y_torch = torch_softmax(X_tensor)\n",
    "    assert np.allclose(Y_custom, Y_torch.detach().numpy())\n",
    "    \n",
    "    # backward\n",
    "    gradX_custom = custom_softmax.backward(X, gradient)\n",
    "    Y_torch.backward(gradient_tensor)\n",
    "    assert np.allclose(gradX_custom, X_tensor.grad)\n",
    "test_softmax()"
   ]
  },
  {
   "cell_type": "markdown",
   "metadata": {},
   "source": [
    "### LogSoftMax function\n"
   ]
  },
  {
   "cell_type": "markdown",
   "metadata": {},
   "source": [
    "$logsoftmax(x)_i = log  softmax(x)_i = x_i - log \\sum_i exp (x_j) $"
   ]
  },
  {
   "cell_type": "code",
   "execution_count": 10,
   "metadata": {
    "id": "wVcSnCxKiWzh"
   },
   "outputs": [],
   "source": [
    "class LogSoftMax(Module):\n",
    "    def __init__(self):\n",
    "        super(LogSoftMax, self).__init__()\n",
    "        self.exp_inp = None\n",
    "        self.exp_inp_sum = None\n",
    "\n",
    "    def updateOutput(self, input):\n",
    "        # start with normalization for numerical stability\n",
    "        self.output = np.subtract(input, input.max(axis=1, keepdims=True))\n",
    "\n",
    "        self.exp_inp = np.exp(input)\n",
    "        self.exp_inp_sum = np.sum(self.exp_inp, axis=1)\n",
    "        self.output = (input.T - np.log(self.exp_inp_sum)).T\n",
    "        return self.output\n",
    "\n",
    "    def updateGradInput(self, input, gradOutput):\n",
    "        one_grad = (self.exp_inp.T / self.exp_inp_sum).T\n",
    "        gradient = np.einsum(\"ij,k->ikj\", one_grad, np.ones(self.exp_inp.shape[1]))\n",
    "        self.gradInput = gradOutput - np.einsum(\"bm,bmk->bk\", gradOutput, gradient)\n",
    "        return self.gradInput\n",
    "\n",
    "    def __repr__(self):\n",
    "        return \"LogSoftMax\""
   ]
  },
  {
   "cell_type": "code",
   "execution_count": 11,
   "metadata": {},
   "outputs": [],
   "source": [
    "# testing\n",
    "def test_logsoftmax():\n",
    "    f_in = 3; f_out = 3; n = 2\n",
    "    X = np.random.normal(size=(n, f_in))\n",
    "    X_tensor = torch.tensor(X, requires_grad=True)\n",
    "    gradient = np.random.normal(size=(n, f_out))\n",
    "    gradient_tensor = torch.tensor(gradient)\n",
    "    \n",
    "    custom_softmax = LogSoftMax()\n",
    "    torch_softmax = torch.nn.LogSoftmax(dim=1)\n",
    "    \n",
    "    # forward\n",
    "    Y_custom = custom_softmax.forward(X)\n",
    "    Y_torch = torch_softmax(X_tensor)\n",
    "    assert np.allclose(Y_custom, Y_torch.detach().numpy())\n",
    "    \n",
    "    # backward\n",
    "    gradX_custom = custom_softmax.backward(X, gradient)\n",
    "    Y_torch.backward(gradient_tensor)\n",
    "    assert np.allclose(gradX_custom, X_tensor.grad)\n",
    "test_logsoftmax()"
   ]
  },
  {
   "cell_type": "markdown",
   "metadata": {},
   "source": [
    "### ReLU"
   ]
  },
  {
   "cell_type": "code",
   "execution_count": 12,
   "metadata": {
    "id": "ZVHxeCUbiWzh"
   },
   "outputs": [],
   "source": [
    "class ReLU(Module):\n",
    "    def __init__(self):\n",
    "         super(ReLU, self).__init__()\n",
    "    \n",
    "    def updateOutput(self, _input):\n",
    "        self.output = np.maximum(_input, 0)\n",
    "        return self.output\n",
    "    \n",
    "    def updateGradInput(self, _input, gradOutput):\n",
    "        self.gradInput = np.multiply(gradOutput , _input > 0)\n",
    "        return self.gradInput\n",
    "    \n",
    "    def __repr__(self):\n",
    "        return \"ReLU\""
   ]
  },
  {
   "cell_type": "code",
   "execution_count": 13,
   "metadata": {},
   "outputs": [],
   "source": [
    "# testing\n",
    "def test_relu():\n",
    "    f_in = 3; f_out = 3; n = 2\n",
    "    X = np.random.normal(size=(n, f_in))\n",
    "    X_tensor = torch.tensor(X, requires_grad=True)\n",
    "    gradient = np.random.normal(size=(n, f_out))\n",
    "    gradient_tensor = torch.tensor(gradient)\n",
    "    \n",
    "    custom_relu = ReLU()\n",
    "    torch_relu = torch.nn.ReLU()\n",
    "    \n",
    "    # forward\n",
    "    Y_custom = custom_relu.forward(X)\n",
    "    Y_torch = torch_relu(X_tensor)\n",
    "    assert np.allclose(Y_custom, Y_torch.detach().numpy())\n",
    "    \n",
    "    # backward\n",
    "    gradX_custom = custom_relu.backward(X, gradient)\n",
    "    Y_torch.backward(gradient_tensor)\n",
    "    assert np.allclose(gradX_custom, X_tensor.grad)\n",
    "test_relu()"
   ]
  },
  {
   "cell_type": "markdown",
   "metadata": {},
   "source": [
    "### LeakyReLU"
   ]
  },
  {
   "cell_type": "code",
   "execution_count": 14,
   "metadata": {
    "id": "V17O42UYiWzi"
   },
   "outputs": [],
   "source": [
    "class LeakyReLU(Module):\n",
    "    def __init__(self, slope = 0.01):\n",
    "        super(LeakyReLU, self).__init__()\n",
    "        self.slope = slope\n",
    "        \n",
    "    def updateOutput(self, _input):\n",
    "        self.output = np.copy(_input)\n",
    "        self.output[self.output < 0] *= self.slope\n",
    "        return self.output\n",
    "    \n",
    "    def updateGradInput(self, _input, gradOutput):\n",
    "        self.gradInput = np.ones(shape=_input.shape)\n",
    "        self.gradInput[self.output < 0] = self.slope\n",
    "        np.multiply(self.gradInput, gradOutput, out=self.gradInput)\n",
    "        return self.gradInput\n",
    "    \n",
    "    def __repr__(self):\n",
    "        return \"LeakyReLU\""
   ]
  },
  {
   "cell_type": "code",
   "execution_count": 15,
   "metadata": {},
   "outputs": [],
   "source": [
    "# testing\n",
    "def test_leakyrelu():\n",
    "    f_in = 3; f_out = 3; n = 2\n",
    "    X = np.random.normal(size=(n, f_in))\n",
    "    X_tensor = torch.tensor(X, requires_grad=True)\n",
    "    gradient = np.random.normal(size=(n, f_out))\n",
    "    gradient_tensor = torch.tensor(gradient)\n",
    "    \n",
    "    custom_leakyrelu = LeakyReLU()\n",
    "    torch_leakyrelu = torch.nn.LeakyReLU()\n",
    "    \n",
    "    # forward\n",
    "    Y_custom = custom_leakyrelu.forward(X)\n",
    "    Y_torch = torch_leakyrelu(X_tensor)\n",
    "    assert np.allclose(Y_custom, Y_torch.detach().numpy())\n",
    "    \n",
    "    # backward\n",
    "    gradX_custom = custom_leakyrelu.backward(X, gradient)\n",
    "    Y_torch.backward(gradient_tensor)\n",
    "    assert np.allclose(gradX_custom, X_tensor.grad)\n",
    "test_leakyrelu()"
   ]
  },
  {
   "cell_type": "markdown",
   "metadata": {},
   "source": [
    "### ELU"
   ]
  },
  {
   "cell_type": "code",
   "execution_count": 16,
   "metadata": {},
   "outputs": [],
   "source": [
    "class ELU(Module):\n",
    "    def __init__(self, alpha = 1.0):\n",
    "        super(ELU, self).__init__()\n",
    "        \n",
    "        self.alpha = alpha\n",
    "        \n",
    "    def updateOutput(self, input):\n",
    "        self.output = np.minimum(0, (np.exp(input) - 1) * self.alpha) + np.maximum(0, input) \n",
    "        return  self.output\n",
    "    \n",
    "    def updateGradInput(self, input, gradOutput):\n",
    "        self.gradInput = self.alpha * np.exp(input) * np.multiply(gradOutput, input < 0) +\\\n",
    "                         np.multiply(gradOutput, input > 0)\n",
    "        return self.gradInput\n",
    "    \n",
    "    def __repr__(self):\n",
    "        return \"ELU\""
   ]
  },
  {
   "cell_type": "code",
   "execution_count": 17,
   "metadata": {},
   "outputs": [],
   "source": [
    "# testing\n",
    "def test_elu():\n",
    "    f_in = 3; f_out = 3; n = 2\n",
    "    X = np.random.normal(size=(n, f_in))\n",
    "    X_tensor = torch.tensor(X, requires_grad=True)\n",
    "    gradient = np.random.normal(size=(n, f_out))\n",
    "    gradient_tensor = torch.tensor(gradient)\n",
    "    \n",
    "    custom_elu = ELU()\n",
    "    torch_elu = torch.nn.ELU()\n",
    "    \n",
    "    # forward\n",
    "    Y_custom = custom_elu.forward(X)\n",
    "    Y_torch = torch_elu(X_tensor)\n",
    "    assert np.allclose(Y_custom, Y_torch.detach().numpy())\n",
    "    \n",
    "    # backward\n",
    "    gradX_custom = custom_elu.backward(X, gradient)\n",
    "    Y_torch.backward(gradient_tensor)\n",
    "    assert np.allclose(gradX_custom, X_tensor.grad)\n",
    "test_elu()"
   ]
  },
  {
   "cell_type": "markdown",
   "metadata": {},
   "source": [
    "### SoftPlus"
   ]
  },
  {
   "cell_type": "code",
   "execution_count": 18,
   "metadata": {},
   "outputs": [],
   "source": [
    "class SoftPlus(Module):\n",
    "    def __init__(self):\n",
    "        super(SoftPlus, self).__init__()\n",
    "    \n",
    "    def updateOutput(self, input):\n",
    "        self.output = np.log(np.exp(input) + 1)\n",
    "        return  self.output\n",
    "    \n",
    "    def updateGradInput(self, input, gradOutput):\n",
    "        self.gradInput = np.multiply(gradOutput, 1 / (np.exp(-input) + 1))\n",
    "        return self.gradInput\n",
    "    \n",
    "    def __repr__(self):\n",
    "        return \"SoftPlus\""
   ]
  },
  {
   "cell_type": "code",
   "execution_count": 19,
   "metadata": {},
   "outputs": [],
   "source": [
    "# testing\n",
    "def test_softplus():\n",
    "    f_in = 3; f_out = 3; n = 2\n",
    "    X = np.random.normal(size=(n, f_in))\n",
    "    X_tensor = torch.tensor(X, requires_grad=True)\n",
    "    gradient = np.random.normal(size=(n, f_out))\n",
    "    gradient_tensor = torch.tensor(gradient)\n",
    "    \n",
    "    custom_softplus = SoftPlus()\n",
    "    torch_softplus = torch.nn.Softplus(beta=1.0, threshold=20.0)\n",
    "    \n",
    "    # forward\n",
    "    Y_custom = custom_softplus.forward(X)\n",
    "    Y_torch = torch_softplus(X_tensor)\n",
    "    assert np.allclose(Y_custom, Y_torch.detach().numpy())\n",
    "    \n",
    "    # backward\n",
    "    gradX_custom = custom_softplus.backward(X, gradient)\n",
    "    Y_torch.backward(gradient_tensor)\n",
    "    assert np.allclose(gradX_custom, X_tensor.grad)\n",
    "test_softplus()"
   ]
  },
  {
   "cell_type": "markdown",
   "metadata": {},
   "source": [
    "## Normalization layers"
   ]
  },
  {
   "cell_type": "markdown",
   "metadata": {},
   "source": [
    "### Batch Normalization"
   ]
  },
  {
   "cell_type": "markdown",
   "metadata": {},
   "source": [
    "One of the most significant recent ideas that impacted NNs a lot is [**Batch normalization**](http://arxiv.org/abs/1502.03167). The idea is simple, yet effective: the features should be whitened ($mean = 0$, $std = 1$) all the way through NN. This improves the convergence for deep models letting it train them for days but not weeks. **You are** to implement the first part of the layer: features normalization. The second part (`ChannelwiseScaling` layer) is implemented below.\n",
    "\n",
    "- input:   **`batch_size x n_feats`**\n",
    "- output: **`batch_size x n_feats`**\n",
    "\n",
    "The layer should work as follows. While training (`self.training == True`) it transforms input as $$y = \\frac{x - \\mu}  {\\sqrt{\\sigma + \\epsilon}}$$\n",
    "where $\\mu$ and $\\sigma$ - mean and variance of feature values in **batch** and $\\epsilon$ is just a small number for numericall stability. Also during training, layer should maintain exponential moving average values for mean and variance: \n",
    "```\n",
    "    self.moving_mean = self.moving_mean * alpha + batch_mean * (1 - alpha)\n",
    "    self.moving_variance = self.moving_variance * alpha + batch_variance * (1 - alpha)\n",
    "```\n",
    "During testing (`self.training == False`) the layer normalizes input using moving_mean and moving_variance. \n",
    "\n",
    "Note that decomposition of batch normalization on normalization itself and channelwise scaling here is just a common **implementation** choice. In general \"batch normalization\" always assumes normalization + scaling.\n"
   ]
  },
  {
   "cell_type": "code",
   "execution_count": 17,
   "metadata": {},
   "outputs": [],
   "source": [
    "class BatchNormalization(Module):\n",
    "    EPS = 1e-3\n",
    "\n",
    "    def __init__(self, alpha=0.):\n",
    "        super(BatchNormalization, self).__init__()\n",
    "        self.alpha = alpha\n",
    "        self.moving_mean = 0\n",
    "        self.moving_variance = 0\n",
    "\n",
    "    def updateOutput(self, input):\n",
    "        if not self.training:\n",
    "            self.batch_mean = self.moving_mean\n",
    "            self.batch_variance = self.moving_variance\n",
    "        else:\n",
    "            self.batch_mean = np.mean(input, axis=0)\n",
    "            self.batch_variance = np.var(input, axis=0)\n",
    "            self.moving_mean = self.moving_mean * self.alpha + self.batch_mean * (1 - self.alpha)\n",
    "            self.moving_variance = self.moving_variance * self.alpha + self.batch_variance * (1 - self.alpha)\n",
    "\n",
    "        self.batch_variance += self.EPS\n",
    "        np.sqrt(self.batch_variance, out = self.batch_variance)\n",
    "        np.reciprocal(self.batch_variance, out = self.batch_variance)\n",
    "        self.output = (input - self.batch_mean) * (self.batch_variance)\n",
    "        return self.output\n",
    "\n",
    "    def updateGradInput(self, input, gradOutput):\n",
    "        self.gradInput = input.shape[0] * gradOutput - np.sum(gradOutput, axis=0)\n",
    "        self.gradInput -= self.output * np.sum(gradOutput * self.output, axis=0)\n",
    "        self.gradInput *=  (self.batch_variance) / input.shape[0]\n",
    "        return self.gradInput\n",
    "\n",
    "    def __repr__(self):\n",
    "        return \"BatchNormalization\""
   ]
  },
  {
   "cell_type": "markdown",
   "metadata": {},
   "source": [
    "Practical notes.  \n",
    "If BatchNormalization is placed after a linear transformation layer (including dense layer, convolutions, channelwise scaling) that implements function like `y = weight * x + bias`, than bias adding become useless and could be omitted since its effect will be discarded while batch mean subtraction. If BatchNormalization (followed by `ChannelwiseScaling`) is placed before a layer that propagates scale (including ReLU, LeakyReLU) followed by any linear transformation layer than parameter `gamma` in `ChannelwiseScaling` could be freezed since it could be absorbed into the linear transformation layer."
   ]
  },
  {
   "cell_type": "markdown",
   "metadata": {},
   "source": [
    "### Channel-wise scaling"
   ]
  },
  {
   "cell_type": "code",
   "execution_count": 21,
   "metadata": {},
   "outputs": [],
   "source": [
    "class ChannelwiseScaling(Module):\n",
    "    \"\"\"\n",
    "       Implements linear transform of input y = gamma * x + beta\n",
    "       where gamma, beta - learnable vectors of length x.shape[-1]\n",
    "    \"\"\"\n",
    "    def __init__(self, n_out):\n",
    "        super(ChannelwiseScaling, self).__init__()\n",
    "\n",
    "        stdv = 1./np.sqrt(n_out)\n",
    "        self.gamma = np.random.uniform(-stdv, stdv, size=n_out)\n",
    "        self.beta = np.random.uniform(-stdv, stdv, size=n_out)\n",
    "        \n",
    "        self.gradGamma = np.zeros_like(self.gamma)\n",
    "        self.gradBeta = np.zeros_like(self.beta)\n",
    "\n",
    "    def updateOutput(self, input):\n",
    "        self.output = input * self.gamma + self.beta\n",
    "        return self.output\n",
    "        \n",
    "    def updateGradInput(self, input, gradOutput):\n",
    "        self.gradInput = gradOutput * self.gamma\n",
    "        return self.gradInput\n",
    "    \n",
    "    def accGradParameters(self, input, gradOutput):\n",
    "        self.gradBeta = np.sum(gradOutput, axis=0)\n",
    "        self.gradGamma = np.sum(gradOutput*input, axis=0)\n",
    "    \n",
    "    def zeroGradParameters(self):\n",
    "        self.gradGamma.fill(0)\n",
    "        self.gradBeta.fill(0)\n",
    "        \n",
    "    def getParameters(self):\n",
    "        return [self.gamma, self.beta]\n",
    "    \n",
    "    def getGradParameters(self):\n",
    "        return [self.gradGamma, self.gradBeta]\n",
    "    \n",
    "    def __repr__(self):\n",
    "        return \"ChannelwiseScaling\""
   ]
  },
  {
   "cell_type": "markdown",
   "metadata": {},
   "source": [
    "### Dropout"
   ]
  },
  {
   "cell_type": "markdown",
   "metadata": {},
   "source": [
    "Implement [**dropout**](https://www.cs.toronto.edu/~hinton/absps/JMLRdropout.pdf). The idea and implementation is really simple: just multimply the input by $Bernoulli(p)$ mask. Here $p$ is probability of an element to be zeroed.\n",
    "\n",
    "This has proven to be an effective technique for regularization and preventing the co-adaptation of neurons.\n",
    "\n",
    "While training (`self.training == True`) it should sample a mask on each iteration (for every batch), zero out elements and multiply elements by $1 / (1 - p)$. The latter is needed for keeping mean values of features close to mean values which will be in test mode. When testing this module should implement identity transform i.e. `self.output = input`.\n",
    "\n",
    "- input:   **`batch_size x n_feats`**\n",
    "- output: **`batch_size x n_feats`**"
   ]
  },
  {
   "cell_type": "code",
   "execution_count": 22,
   "metadata": {},
   "outputs": [],
   "source": [
    "class Dropout(Module):\n",
    "    def __init__(self, p=0.5):\n",
    "        super(Dropout, self).__init__()\n",
    "        self.p = p\n",
    "        self.mask = None\n",
    "        \n",
    "    def updateOutput(self, input):\n",
    "        if not self.training:\n",
    "            self.mask = np.ones(input.shape)\n",
    "            self.output = input\n",
    "        else:\n",
    "            self.mask = np.random.binomial(1, 1 - self.p, input.shape).astype(float) / (1 - self.p)\n",
    "            self.output = input * self.mask\n",
    "        return self.output\n",
    "    \n",
    "    def updateGradInput(self, input, gradOutput):\n",
    "        self.gradInput = gradOutput * self.mask\n",
    "        return self.gradInput\n",
    "        \n",
    "    def __repr__(self):\n",
    "        return \"Dropout\""
   ]
  },
  {
   "cell_type": "markdown",
   "metadata": {},
   "source": [
    "## Convolution layers"
   ]
  },
  {
   "cell_type": "markdown",
   "metadata": {},
   "source": [
    "https://cs231n.github.io/convolutional-networks/"
   ]
  },
  {
   "cell_type": "markdown",
   "metadata": {},
   "source": [
    "### Conv2D"
   ]
  },
  {
   "cell_type": "markdown",
   "metadata": {},
   "source": [
    "- input:   **`batch_size x in_channels x h x w`**\n",
    "- output: **`batch_size x out_channels x h x w`**\n",
    "\n",
    "You should implement something like pytorch `Conv2d` layer with `stride=1` and zero-padding outside of image using `scipy.signal.correlate` function.\n",
    "\n",
    "Practical notes:\n",
    "- While the layer name is \"convolution\", the most of neural network frameworks (including tensorflow and pytorch) implement operation that is called [correlation](https://en.wikipedia.org/wiki/Cross-correlation#Cross-correlation_of_deterministic_signals) in signal processing theory. So **don't use** `scipy.signal.convolve` since it implements [convolution](https://en.wikipedia.org/wiki/Convolution#Discrete_convolution) in terms of signal processing.\n",
    "- It may be convenient to use `skimage.util.pad` for zero-padding.\n",
    "- It's rather ok to implement convolution over 4d array using 2 nested loops: one over batch size dimension and another one over output filters dimension\n",
    "- Having troubles with understanding how to implement the layer? \n",
    " - Check the last year video of lecture 3 (starting from ~1:14:20)\n",
    " - May the google be with you"
   ]
  },
  {
   "cell_type": "code",
   "execution_count": 23,
   "metadata": {},
   "outputs": [],
   "source": [
    "from scipy.signal import correlate\n",
    "\n",
    "\n",
    "class Conv2d(Module):\n",
    "    def __init__(self, in_channels, out_channels, kernel_size):\n",
    "        super(Conv2d, self).__init__()\n",
    "        assert kernel_size % 2 == 1, kernel_size\n",
    "       \n",
    "        stdv = 1./np.sqrt(in_channels)\n",
    "        self.W = np.random.uniform(-stdv, stdv, size = (out_channels, in_channels, kernel_size, kernel_size))\n",
    "        self.b = np.random.uniform(-stdv, stdv, size=(out_channels,))\n",
    "        self.in_channels = in_channels\n",
    "        self.out_channels = out_channels\n",
    "        self.kernel_size = kernel_size\n",
    "        \n",
    "        self.gradW = np.zeros_like(self.W)\n",
    "        self.gradb = np.zeros_like(self.b)\n",
    "        \n",
    "    def updateOutput(self, input):\n",
    "        # 1. zero-pad the input array\n",
    "        # 2. compute convolution using scipy.signal.correlate(... , mode='valid')\n",
    "        # 3. add bias\n",
    "\n",
    "        pad_size = self.kernel_size // 2\n",
    "        \n",
    "        input_pad = np.pad(input, ((0, ), (0, ), (pad_size, ), (pad_size, )), mode='constant')\n",
    "        self.output = np.zeros((input.shape[0], self.out_channels, input.shape[2], input.shape[3]))\n",
    "        for img_idx in range(input.shape[0]):\n",
    "            for ch_idx in range(self.out_channels):\n",
    "                self.output[img_idx, ch_idx] = correlate(input_pad[img_idx, :, :, :], \n",
    "                                                         self.W[ch_idx, :, :, :], \n",
    "                                                         mode='valid') + self.b[ch_idx]\n",
    "        \n",
    "        return self.output\n",
    "    \n",
    "    def updateGradInput(self, input, gradOutput):\n",
    "        # 1. zero-pad the gradOutput\n",
    "        # 2. compute 'self.gradInput' value using scipy.signal.correlate(... , mode='valid')\n",
    "\n",
    "        pad_size = self.kernel_size // 2\n",
    "        \n",
    "        self.gradInput = np.zeros_like(input)\n",
    "        gradOutput_pad = np.pad(gradOutput, ((0, ), (0, ), (pad_size, ), (pad_size, )), mode='constant')\n",
    "        self.reverse_W = self.W[:, :, ::-1, ::-1]\n",
    "        for elem in range(input.shape[0]):\n",
    "            for in_ch in range(self.in_channels):\n",
    "                self.gradInput[elem][in_ch] = correlate(gradOutput_pad[elem], \n",
    "                                                        self.reverse_W[:, in_ch],\n",
    "                                                        mode='valid')[0]\n",
    "\n",
    "        return self.gradInput\n",
    "    \n",
    "    def accGradParameters(self, input, gradOutput):\n",
    "        # 1. zero-pad the input\n",
    "        # 2. compute 'self.gradW' using scipy.signal.correlate(... , mode='valid')\n",
    "        # 3. compute 'self.gradb' - formulas like in Linear of ChannelwiseScaling layers\n",
    "\n",
    "        pad_size = self.kernel_size // 2\n",
    "        \n",
    "        self.gradb = np.sum(gradOutput, axis=(0, 2, 3))\n",
    "        self.gradW = np.zeros(self.W.shape)\n",
    "        padding = np.pad(input, ([0, 0], [0, 0], [pad_size, pad_size], [pad_size, pad_size]))\n",
    "        for in_ in range(self.in_channels):\n",
    "            for out_ in range(self.out_channels):\n",
    "                self.gradW[out_][in_] = correlate(padding[:, in_], gradOutput[:, out_], mode='valid')[0]\n",
    "    \n",
    "    def zeroGradParameters(self):\n",
    "        self.gradW.fill(0)\n",
    "        self.gradb.fill(0)\n",
    "        \n",
    "    def getParameters(self):\n",
    "        return [self.W, self.b]\n",
    "    \n",
    "    def getGradParameters(self):\n",
    "        return [self.gradW, self.gradb]\n",
    "    \n",
    "    def __repr__(self):\n",
    "        s = self.W.shape\n",
    "        q = 'Conv2d %d -> %d' %(s[1],s[0])\n",
    "        return q"
   ]
  },
  {
   "cell_type": "code",
   "execution_count": 24,
   "metadata": {},
   "outputs": [
    {
     "name": "stdout",
     "output_type": "stream",
     "text": [
      "(30, 10, 200, 400)\n"
     ]
    }
   ],
   "source": [
    "def test():\n",
    "    conv_layer = Conv2d(6, 10, 3)\n",
    "    X = np.random.uniform(low=-1, high=1, size=(30, 6, 200, 400))\n",
    "    print(conv_layer.forward(X).shape)\n",
    "test()"
   ]
  },
  {
   "cell_type": "markdown",
   "metadata": {},
   "source": [
    "### MaxPool2d\n",
    "\n",
    "\n",
    "- input:   **`batch_size x n_input_channels x h x w`**\n",
    "- output: **`batch_size x n_output_channels x h // kern_size x w // kern_size`**\n",
    "\n",
    "You are to implement simplified version of pytorch `MaxPool2d` layer with stride = kernel_size. Please note, that it's not a common case that stride = kernel_size: in AlexNet and ResNet kernel_size for max-pooling was set to 3, while stride was set to 2. We introduce this restriction to make implementation simplier.\n",
    "\n",
    "Practical notes:\n",
    "- During forward pass what you need to do is just to reshape the input tensor to `[n, c, h / kern_size, kern_size, w / kern_size, kern_size]`, swap two axes and take maximums over the last two dimensions. Reshape + axes swap is sometimes called space-to-batch transform.\n",
    "- During backward pass you need to place the gradients in positions of maximal values taken during the forward pass\n",
    "- In real frameworks the indices of maximums are stored in memory during the forward pass. It is cheaper than to keep the layer input in memory and recompute the maximums.\n"
   ]
  },
  {
   "cell_type": "code",
   "execution_count": 25,
   "metadata": {},
   "outputs": [],
   "source": [
    "class MaxPool2d(Module):\n",
    "    def __init__(self, kernel_size):\n",
    "        super(MaxPool2d, self).__init__()\n",
    "        self.kernel_size = kernel_size\n",
    "        self.gradInput = None\n",
    "                    \n",
    "    def updateOutput(self, input):\n",
    "        input_h, input_w = input.shape[-2:]\n",
    "        # your may remove these asserts and implement MaxPool2d with padding\n",
    "        assert input_h % self.kernel_size == 0  \n",
    "        assert input_w % self.kernel_size == 0\n",
    "        \n",
    "        input = np.swapaxes(input.reshape(input.shape[0], input.shape[1], input_h // self.kernel_size,\n",
    "                                          self.kernel_size, input_w // self.kernel_size, self.kernel_size), 3, 4)\n",
    "        self.output = np.max(input, axis=(4, 5))\n",
    "        self.max_indices = (input - self.output[:, :, :, :, np.newaxis, np.newaxis]) == 0\n",
    "        return self.output\n",
    "    \n",
    "    def updateGradInput(self, input, gradOutput):\n",
    "        self.gradInput = gradOutput[:, :, :, :, np.newaxis, np.newaxis] * self.max_indices\n",
    "        self.gradInput = np.swapaxes(self.gradInput, 3, 4).reshape(input.shape)\n",
    "        return self.gradInput\n",
    "    \n",
    "    def __repr__(self):\n",
    "        q = 'MaxPool2d, kern %d, stride %d' %(self.kernel_size, self.kernel_size)\n",
    "        return q"
   ]
  },
  {
   "cell_type": "code",
   "execution_count": 26,
   "metadata": {},
   "outputs": [
    {
     "name": "stdout",
     "output_type": "stream",
     "text": [
      "(30, 10, 200, 300) -> (30, 10, 40, 60)\n"
     ]
    }
   ],
   "source": [
    "def test():\n",
    "    maxpool_layer = MaxPool2d(kernel_size=5)\n",
    "    X = np.random.uniform(low=-1, high=1, size=(30, 10, 200, 300))\n",
    "    Y = maxpool_layer.forward(X)\n",
    "    print(X.shape, '->', Y.shape)\n",
    "    \n",
    "test()"
   ]
  },
  {
   "cell_type": "markdown",
   "metadata": {},
   "source": [
    "### Flatten layer\n",
    "\n",
    "Just reshapes inputs and gradients. It's usually used as proxy layer between Conv2d and Linear.\n"
   ]
  },
  {
   "cell_type": "code",
   "execution_count": 27,
   "metadata": {},
   "outputs": [],
   "source": [
    "class Flatten(Module):\n",
    "    def __init__(self):\n",
    "         super(Flatten, self).__init__()\n",
    "    \n",
    "    def updateOutput(self, input):\n",
    "        self.output = input.reshape(len(input), -1)\n",
    "        return self.output\n",
    "    \n",
    "    def updateGradInput(self, input, gradOutput):\n",
    "        self.gradInput = gradOutput.reshape(input.shape)\n",
    "        return self.gradInput\n",
    "    \n",
    "    def __repr__(self):\n",
    "        return \"Flatten\""
   ]
  },
  {
   "cell_type": "markdown",
   "metadata": {},
   "source": [
    "## Criterions"
   ]
  },
  {
   "cell_type": "markdown",
   "metadata": {},
   "source": [
    "### Negative LogLikelihood criterion (numerically unstable)\n",
    "[multiclass log loss](http://scikit-learn.org/stable/modules/model_evaluation.html#log-loss). Remember that targets are one-hot encoded. Note, that criterions are the only places, where you divide by batch size. Also there is a small hack with adding small number to probabilities to avoid computing log(0).\n",
    "- input:   **`batch_size x n_feats`** - probabilities\n",
    "- target: **`batch_size x n_feats`** - one-hot representation of ground truth\n",
    "- output: **scalar**\n",
    "\n",
    "https://towardsdatascience.com/cross-entropy-negative-log-likelihood-and-all-that-jazz-47a95bd2e81"
   ]
  },
  {
   "cell_type": "code",
   "execution_count": 28,
   "metadata": {
    "id": "Mh9uWdOfiWzi"
   },
   "outputs": [],
   "source": [
    "class ClassNLLCriterionUnstable(Criterion):\n",
    "    def __init__(self):\n",
    "        self.EPS = 1e-15\n",
    "        super(ClassNLLCriterionUnstable, self).__init__()\n",
    "        \n",
    "    def updateOutput(self, _input, target): \n",
    "        # Use this trick to avoid numerical errors\n",
    "        _input_clamp = np.clip(_input, self.EPS, 1 - self.EPS)\n",
    "        \n",
    "        self.output = 0\n",
    "        self.output = -np.divide(np.sum(np.multiply(np.log(_input_clamp), target)), target.shape[0])\n",
    "        return self.output\n",
    "\n",
    "    def updateGradInput(self, _input, target):\n",
    "        # Use this trick to avoid numerical errors\n",
    "        _input_clamp = np.clip(_input, self.EPS, 1 - self.EPS)\n",
    "                \n",
    "        self.gradInput = np.zeros(shape=_input.shape, dtype='float64')\n",
    "        np.divide(target, _input_clamp, out=self.gradInput)\n",
    "        np.divide(-self.gradInput, target.shape[0], out=self.gradInput)\n",
    "        return self.gradInput\n",
    "    \n",
    "    def __repr__(self):\n",
    "        return \"ClassNLLCriterionUnstable\""
   ]
  },
  {
   "cell_type": "code",
   "execution_count": 29,
   "metadata": {},
   "outputs": [
    {
     "name": "stdout",
     "output_type": "stream",
     "text": [
      "17.269388197455342 -0.909376052411247\n",
      "[[-5.e+14 -0.e+00 -0.e+00]\n",
      " [-0.e+00 -5.e-01 -0.e+00]] tensor([[-0.5000,  0.0000,  0.0000],\n",
      "        [ 0.0000, -0.5000,  0.0000]], dtype=torch.float64)\n"
     ]
    }
   ],
   "source": [
    "# testing\n",
    "def test_nll():\n",
    "    f_in = 3; f_out = 3; n = 2\n",
    "    X = np.random.normal(size=(n, f_in))\n",
    "    X_tensor = torch.tensor(X, requires_grad=True)\n",
    "    target = np.eye(N=n, M=f_in)\n",
    "    target_tensor = torch.tensor(np.argmax(target, axis=1))\n",
    "    \n",
    "    custom_nll = ClassNLLCriterionUnstable()\n",
    "    torch_nll = torch.nn.NLLLoss()\n",
    "    \n",
    "    # forward\n",
    "    Y_custom = custom_nll.forward(X, target)\n",
    "    Y_torch = torch_nll(X_tensor, target_tensor)\n",
    "    print(Y_custom, Y_torch.detach().numpy())\n",
    "    # assert np.allclose(Y_custom, Y_torch.detach().numpy())\n",
    "    \n",
    "    # backward\n",
    "    gradX_custom = custom_nll.backward(X, target)\n",
    "    Y_torch.backward()\n",
    "    print(gradX_custom, X_tensor.grad)\n",
    "    # assert np.allclose(gradX_custom, X_tensor.grad)\n",
    "test_nll()"
   ]
  },
  {
   "cell_type": "markdown",
   "metadata": {},
   "source": [
    "### NLL Criterion stable"
   ]
  },
  {
   "cell_type": "markdown",
   "metadata": {},
   "source": [
    "Task is similar to the previous one, but now the criterion input is the output of log-softmax layer. This decomposition allows us to avoid problems with computation of forward and backward of log().\n",
    "\n"
   ]
  },
  {
   "cell_type": "code",
   "execution_count": 30,
   "metadata": {
    "id": "b_Pdta8IiWzi"
   },
   "outputs": [],
   "source": [
    "class ClassNLLCriterion(Criterion):\n",
    "    def __init__(self):\n",
    "        super(ClassNLLCriterion, self).__init__()\n",
    "        \n",
    "    def updateOutput(self, _input, target): \n",
    "        self.output = 0\n",
    "        self.output = -np.sum(np.multiply(_input, target)) / target.shape[0]\n",
    "        return self.output\n",
    "\n",
    "    def updateGradInput(self, _input, target):\n",
    "        self.gradInput = np.zeros(shape=_input.shape, dtype='float64')\n",
    "        np.divide(-target, _input.shape[0], out=self.gradInput)\n",
    "            \n",
    "        return self.gradInput\n",
    "    \n",
    "    def __repr__(self):\n",
    "        return \"ClassNLLCriterion\""
   ]
  },
  {
   "cell_type": "code",
   "execution_count": 31,
   "metadata": {},
   "outputs": [],
   "source": [
    "# testing\n",
    "def test_nll_stable():\n",
    "    f_in = 3; f_out = 3; n = 2\n",
    "    X = np.random.normal(size=(n, f_in))\n",
    "    X_tensor = torch.tensor(X, requires_grad=True)\n",
    "    target = np.eye(N=n, M=f_in)\n",
    "    target_tensor = torch.tensor(np.argmax(target, axis=1))\n",
    "    \n",
    "    custom_log_soft_max = LogSoftMax()\n",
    "    custom_nll = ClassNLLCriterion()\n",
    "    \n",
    "    torch_cross_entropy = torch.nn.CrossEntropyLoss()\n",
    "        \n",
    "    # forward\n",
    "    X_logits = custom_log_soft_max.forward(X)\n",
    "    nll_custom = custom_nll.forward(X_logits, target)\n",
    "    nll_torch = torch_cross_entropy(X_tensor, target_tensor)\n",
    "    assert np.allclose(nll_custom, nll_torch.detach().numpy())\n",
    "\n",
    "    # backward\n",
    "    grad_input_custom_1 = custom_nll.backward(X_logits, target).astype('float64')\n",
    "    grad_input_custom_2 = custom_log_soft_max.backward(X, grad_input_custom_1)\n",
    "    nll_torch.backward()\n",
    "    assert np.allclose(grad_input_custom_2, X_tensor.grad)\n",
    "test_nll_stable()"
   ]
  },
  {
   "cell_type": "markdown",
   "metadata": {},
   "source": [
    "### MSE"
   ]
  },
  {
   "cell_type": "markdown",
   "metadata": {},
   "source": [
    "The MSECriterion, which is basic L2 norm usually used for regression"
   ]
  },
  {
   "cell_type": "code",
   "execution_count": 32,
   "metadata": {},
   "outputs": [],
   "source": [
    "class MSECriterion(Criterion):\n",
    "    def __init__(self):\n",
    "        super(MSECriterion, self).__init__()\n",
    "        \n",
    "    def updateOutput(self, _input, target):\n",
    "        self.output = 0\n",
    "        self.output = np.sum(np.power(np.subtract(_input, target), 2)) / _input.shape[0]\n",
    "        return self.output \n",
    " \n",
    "    def updateGradInput(self, _input, target):\n",
    "        self.gradInput = np.zeros_like(_input)\n",
    "        self.gradInput  = (_input - target) * 2 / _input.shape[0]\n",
    "        return self.gradInput\n",
    "\n",
    "    def __repr__(self):\n",
    "        return \"MSECriterion\""
   ]
  },
  {
   "cell_type": "code",
   "execution_count": 33,
   "metadata": {},
   "outputs": [],
   "source": [
    "# testing\n",
    "def test_mse():\n",
    "    f_in = 3; f_out = 3; n = 2\n",
    "    X = np.random.normal(size=(n, f_in))\n",
    "    X_tensor = torch.tensor(X, requires_grad=True)\n",
    "    target = np.random.normal(size=(n, f_in)) * 5\n",
    "    target_tensor = torch.tensor(target)\n",
    "    \n",
    "    custom_mse = MSECriterion()\n",
    "    torch_mse = torch.nn.MSELoss()\n",
    "    \n",
    "    # forward\n",
    "    Y_custom = custom_mse.forward(X, target)\n",
    "    Y_torch = torch_mse(X_tensor, target_tensor)\n",
    "    assert np.allclose(Y_custom, Y_torch.detach().numpy() * f_in)\n",
    "    \n",
    "    # backward\n",
    "    gradX_custom = custom_mse.backward(X, target)\n",
    "    Y_torch.backward()\n",
    "    assert np.allclose(gradX_custom, X_tensor.grad * f_in)\n",
    "test_mse()"
   ]
  },
  {
   "cell_type": "markdown",
   "metadata": {},
   "source": [
    "## Optimizers"
   ]
  },
  {
   "cell_type": "markdown",
   "metadata": {},
   "source": [
    "### Simple SGD"
   ]
  },
  {
   "cell_type": "code",
   "execution_count": 34,
   "metadata": {
    "id": "y5uGvrKYiWzj"
   },
   "outputs": [],
   "source": [
    "def simple_sgd(variables, gradients, config, state):  \n",
    "    # 'variables' and 'gradients' have complex structure, accumulated_grads will be stored in a simpler one\n",
    "    state.setdefault('accumulated_grads', {})\n",
    "    \n",
    "    var_index = 0 \n",
    "    for current_layer_vars, current_layer_grads in zip(variables, gradients): \n",
    "        for current_var, current_grad in zip(current_layer_vars, current_layer_grads):\n",
    "            \n",
    "            current_var -= config['learning_rate'] * current_grad\n",
    "            var_index += 1     "
   ]
  },
  {
   "cell_type": "markdown",
   "metadata": {},
   "source": [
    "### SGD with momentum\n",
    "\n",
    "- `variables` - list of lists of variables (one list per layer)\n",
    "- `gradients` - list of lists of current gradients (same structure as for `variables`, one array for each var)\n",
    "- `config` - dict with optimization parameters (`learning_rate` and `momentum`)\n",
    "- `state` - dict with optimizator state (used to save accumulated gradients)"
   ]
  },
  {
   "cell_type": "code",
   "execution_count": 35,
   "metadata": {},
   "outputs": [],
   "source": [
    "def sgd_momentum(variables, gradients, config, state):  \n",
    "    # 'variables' and 'gradients' have complex structure, accumulated_grads will be stored in a simpler one\n",
    "    state.setdefault('accumulated_grads', {})\n",
    "    \n",
    "    var_index = 0 \n",
    "    for current_layer_vars, current_layer_grads in zip(variables, gradients): \n",
    "        for current_var, current_grad in zip(current_layer_vars, current_layer_grads):\n",
    "            \n",
    "            old_grad = state['accumulated_grads'].setdefault(var_index, np.zeros_like(current_grad))\n",
    "            \n",
    "            np.add(config['momentum'] * old_grad, config['learning_rate'] * current_grad, out=old_grad)\n",
    "            \n",
    "            current_var -= old_grad\n",
    "            var_index += 1"
   ]
  },
  {
   "cell_type": "markdown",
   "metadata": {},
   "source": [
    "### Adam optimizer\n",
    "\n",
    "- `variables` - list of lists of variables (one list per layer)\n",
    "- `gradients` - list of lists of current gradients (same structure as for `variables`, one array for each var)\n",
    "- `config` - dict with optimization parameters (`learning_rate`, `beta1`, `beta2`, `epsilon`)\n",
    "- `state` - dict with optimizator state (used to save 1st and 2nd moment for vars)\n",
    "\n",
    "Formulas for optimizer:\n",
    "\n",
    "Current step learning rate: $$\\text{lr}_t = \\text{learning rate} * \\frac{\\sqrt{1-\\beta_2^t}} {1-\\beta_1^t}$$\n",
    "First moment of var: $$\\mu_t = \\beta_1 * \\mu_{t-1} + (1 - \\beta_1)*g$$ \n",
    "Second moment of var: $$v_t = \\beta_2 * v_{t-1} + (1 - \\beta_2)*g*g$$\n",
    "New values of var: $$\\text{variable} = \\text{variable} - \\text{lr}_t * \\frac{m_t}{\\sqrt{v_t} + \\epsilon}$$"
   ]
  },
  {
   "cell_type": "code",
   "execution_count": 36,
   "metadata": {},
   "outputs": [],
   "source": [
    "def adam_optimizer(variables, gradients, config, state):  \n",
    "    # 'variables' and 'gradients' have complex structure, accumulated_grads will be stored in a simpler one\n",
    "    state.setdefault('m', {})  # first moment vars\n",
    "    state.setdefault('v', {})  # second moment vars\n",
    "    state.setdefault('t', 0)   # timestamp\n",
    "    state['t'] += 1\n",
    "    for k in ['learning_rate', 'beta1', 'beta2', 'epsilon']:\n",
    "        assert k in config, config.keys()\n",
    "    \n",
    "    var_index = 0 \n",
    "    lr_t = config['learning_rate'] * np.sqrt(1 - config['beta2']**state['t']) / (1 - config['beta1']**state['t'])\n",
    "    for current_layer_vars, current_layer_grads in zip(variables, gradients): \n",
    "        for current_var, current_grad in zip(current_layer_vars, current_layer_grads):\n",
    "            var_first_moment = state['m'].setdefault(var_index, np.zeros_like(current_grad))\n",
    "            var_second_moment = state['v'].setdefault(var_index, np.zeros_like(current_grad))\n",
    "            \n",
    "            # update `current_var_first_moment`, `var_second_moment` and `current_var` values\n",
    "            np.add(var_first_moment * config['beta1'], (1 - config['beta1']) * current_grad, out=var_first_moment)\n",
    "            np.add(var_second_moment * config['beta2'], (1 - config['beta2']) * current_grad**2, out=var_second_moment)\n",
    "            current_var -= var_first_moment * lr_t / (np.sqrt(var_second_moment) + config['epsilon'])\n",
    "            \n",
    "            # small checks that you've updated the state; use np.add for rewriting np.arrays values\n",
    "            assert var_first_moment is state['m'].get(var_index)\n",
    "            assert var_second_moment is state['v'].get(var_index)\n",
    "            var_index += 1"
   ]
  },
  {
   "cell_type": "markdown",
   "metadata": {
    "id": "vMWr93JXiWzj"
   },
   "source": [
    "# Toy example"
   ]
  },
  {
   "cell_type": "markdown",
   "metadata": {
    "id": "pQuvURcEiWzj"
   },
   "source": [
    "Use this example to debug your code, start with logistic regression and then test other layers. You do not need to change anything here. This code is provided for you to test the layers. Also it is easy to use this code in MNIST task."
   ]
  },
  {
   "cell_type": "code",
   "execution_count": 37,
   "metadata": {
    "id": "hj7nwGxfiWzk",
    "outputId": "5f884a68-62d0-4341-da71-867b3562c046",
    "scrolled": false
   },
   "outputs": [
    {
     "data": {
      "text/plain": [
       "<matplotlib.collections.PathCollection at 0x7755b57d4740>"
      ]
     },
     "execution_count": 37,
     "metadata": {},
     "output_type": "execute_result"
    },
    {
     "data": {
      "image/png": "[encoded data removed]",
      "text/plain": [
       "<Figure size 640x480 with 1 Axes>"
      ]
     },
     "metadata": {},
     "output_type": "display_data"
    }
   ],
   "source": [
    "from tqdm import tqdm\n",
    "\n",
    "# Generate some data\n",
    "N = 500\n",
    "\n",
    "X1 = np.random.randn(N,2) + np.array([2,2])\n",
    "X2 = np.random.randn(N,2) + np.array([-2,-2])\n",
    "\n",
    "Y = np.concatenate([np.ones(N),np.zeros(N)])[:,None]\n",
    "Y = np.hstack([Y, 1-Y])\n",
    "\n",
    "X = np.vstack([X1,X2])\n",
    "plt.scatter(X[:,0],X[:,1], c = Y[:,0], edgecolors= 'none')"
   ]
  },
  {
   "cell_type": "markdown",
   "metadata": {
    "id": "hN_DAaCQiWzl"
   },
   "source": [
    "Define a **logistic regression** for debugging. "
   ]
  },
  {
   "cell_type": "code",
   "execution_count": 38,
   "metadata": {
    "id": "DXWpHArsiWzl",
    "outputId": "c58aa38d-3959-45a7-ddc0-38e72adf260c"
   },
   "outputs": [
    {
     "name": "stdout",
     "output_type": "stream",
     "text": [
      "Linear 2 -> 4\n",
      "ReLU\n",
      "Linear 4 -> 2\n",
      "LogSoftMax\n",
      "\n"
     ]
    }
   ],
   "source": [
    "# net = Sequential()\n",
    "# net.add(Linear(2, 2))\n",
    "# net.add(LogSoftMax())\n",
    "\n",
    "# criterion = ClassNLLCriterion()\n",
    "\n",
    "# print(net)\n",
    "\n",
    "# Test something like that then \n",
    "\n",
    "net = Sequential()\n",
    "net.add(Linear(2, 4))\n",
    "net.add(ReLU())\n",
    "net.add(Linear(4, 2))\n",
    "net.add(LogSoftMax())\n",
    "\n",
    "criterion = ClassNLLCriterion()\n",
    "\n",
    "print(net)"
   ]
  },
  {
   "cell_type": "markdown",
   "metadata": {
    "id": "5acMrVliiWzn"
   },
   "source": [
    "Start with batch_size = 1000 to make sure every step lowers the loss, then try stochastic version."
   ]
  },
  {
   "cell_type": "code",
   "execution_count": 39,
   "metadata": {
    "id": "ZGesPjH1iWzo"
   },
   "outputs": [],
   "source": [
    "# Optimizer params\n",
    "optimizer_config = {'learning_rate' : 1e-1}\n",
    "optimizer_state = {}\n",
    "\n",
    "# Looping params\n",
    "n_epoch = 20\n",
    "batch_size = 128"
   ]
  },
  {
   "cell_type": "code",
   "execution_count": 40,
   "metadata": {
    "id": "frtHTc16iWzo"
   },
   "outputs": [],
   "source": [
    "# batch generator\n",
    "def get_batches(dataset, batch_size):\n",
    "    X, Y = dataset\n",
    "    n_samples = X.shape[0]\n",
    "        \n",
    "    # Shuffle at the start of epoch\n",
    "    indices = np.arange(n_samples)\n",
    "    np.random.shuffle(indices)\n",
    "    \n",
    "    for start in range(0, n_samples, batch_size):\n",
    "        end = min(start + batch_size, n_samples)\n",
    "        \n",
    "        batch_idx = indices[start:end]\n",
    "    \n",
    "        yield X[batch_idx], Y[batch_idx]"
   ]
  },
  {
   "cell_type": "markdown",
   "metadata": {
    "id": "n_aYsu9JiWzp"
   },
   "source": [
    "### Train"
   ]
  },
  {
   "cell_type": "markdown",
   "metadata": {
    "id": "swUVBRHaiWzp"
   },
   "source": [
    "Basic training loop. Examine it."
   ]
  },
  {
   "cell_type": "code",
   "execution_count": 41,
   "metadata": {
    "id": "E7naVseMiWzq",
    "outputId": "e7481418-86c4-456d-fd91-54ffbf0978c0",
    "scrolled": false
   },
   "outputs": [
    {
     "data": {
      "image/png": "[encoded data removed]",
      "text/plain": [
       "<Figure size 800x600 with 1 Axes>"
      ]
     },
     "metadata": {},
     "output_type": "display_data"
    },
    {
     "name": "stderr",
     "output_type": "stream",
     "text": [
      "100%|██████████| 20/20 [00:07<00:00,  2.79it/s]"
     ]
    },
    {
     "name": "stdout",
     "output_type": "stream",
     "text": [
      "Current loss: 0.014589\n"
     ]
    },
    {
     "name": "stderr",
     "output_type": "stream",
     "text": [
      "\n"
     ]
    }
   ],
   "source": [
    "loss_history = []\n",
    "\n",
    "for i in tqdm(range(n_epoch)):\n",
    "    for x_batch, y_batch in tqdm(get_batches((X, Y), batch_size)):\n",
    "        \n",
    "        net.zeroGradParameters()\n",
    "        \n",
    "        # Forward\n",
    "        predictions = net.forward(x_batch)\n",
    "        loss = criterion.forward(predictions, y_batch)\n",
    "    \n",
    "        # Backward\n",
    "        dp = criterion.backward(predictions, y_batch)\n",
    "        net.backward(x_batch, dp)\n",
    "        \n",
    "        # Update weights\n",
    "        simple_sgd(net.getParameters(), \n",
    "                   net.getGradParameters(), \n",
    "                   optimizer_config,\n",
    "                   optimizer_state)      \n",
    "        \n",
    "        loss_history.append(loss)\n",
    "\n",
    "    # Visualize\n",
    "    display.clear_output(wait=True)\n",
    "    plt.figure(figsize=(8, 6))\n",
    "        \n",
    "    plt.title(\"Training loss\")\n",
    "    plt.xlabel(\"#iteration\")\n",
    "    plt.ylabel(\"loss\")\n",
    "    plt.plot(loss_history, 'b')\n",
    "    plt.show()\n",
    "    \n",
    "    print('Current loss: %f' % loss)    "
   ]
  },
  {
   "cell_type": "markdown",
   "metadata": {
    "id": "D8u7t61OiWz_"
   },
   "source": [
    "# Digit classification "
   ]
  },
  {
   "cell_type": "markdown",
   "metadata": {
    "id": "Jg3UCA5jiWz_"
   },
   "source": [
    "We are using old good [MNIST](http://yann.lecun.com/exdb/mnist/) as our dataset."
   ]
  },
  {
   "cell_type": "code",
   "execution_count": 46,
   "metadata": {},
   "outputs": [],
   "source": [
    "from load_mnist_from_gz import load_dataset"
   ]
  },
  {
   "cell_type": "code",
   "execution_count": 47,
   "metadata": {
    "id": "9alNA-XbiW0A"
   },
   "outputs": [],
   "source": [
    "X_train, y_train, X_val, y_val, X_test, y_test = load_dataset()"
   ]
  },
  {
   "cell_type": "code",
   "execution_count": 48,
   "metadata": {},
   "outputs": [
    {
     "data": {
      "text/plain": [
       "((50000, 28, 28), (10000, 28, 28), (10000, 28, 28))"
      ]
     },
     "execution_count": 48,
     "metadata": {},
     "output_type": "execute_result"
    }
   ],
   "source": [
    "X_train.shape, X_val.shape, X_test.shape"
   ]
  },
  {
   "cell_type": "markdown",
   "metadata": {
    "id": "xUGfJ87piW0B"
   },
   "source": [
    "One-hot encode the labels first."
   ]
  },
  {
   "cell_type": "code",
   "execution_count": 49,
   "metadata": {
    "id": "Kslnbb4xiW0B"
   },
   "outputs": [],
   "source": [
    "from sklearn.preprocessing import OneHotEncoder\n",
    "\n",
    "X_train = np.expand_dims(X_train, 1)\n",
    "X_val = np.expand_dims(X_val, 1)\n",
    "X_test = np.expand_dims(X_test, 1)\n",
    "\n",
    "encoder = OneHotEncoder(categories='auto', sparse_output=False)\n",
    "\n",
    "y_train = encoder.fit_transform(y_train.reshape(-1, 1))"
   ]
  },
  {
   "cell_type": "code",
   "execution_count": 50,
   "metadata": {
    "id": "kwLNmq0IiW0C"
   },
   "outputs": [],
   "source": [
    "X_train, X_val, X_test = list(map(lambda x: x.reshape((x.shape[0], -1)), [X_train, X_val, X_test]))"
   ]
  },
  {
   "cell_type": "code",
   "execution_count": 51,
   "metadata": {
    "id": "1wfQrfgqiW0C",
    "outputId": "a3d24ba8-5c5d-4674-ac9c-7efa8d483f44"
   },
   "outputs": [
    {
     "data": {
      "text/plain": [
       "(50000, 784)"
      ]
     },
     "execution_count": 51,
     "metadata": {},
     "output_type": "execute_result"
    }
   ],
   "source": [
    "X_train.shape"
   ]
  },
  {
   "cell_type": "code",
   "execution_count": 52,
   "metadata": {
    "id": "gznpPGbeiW0D",
    "outputId": "01f9781d-de48-427a-ae95-90f6c7a0e7f2"
   },
   "outputs": [
    {
     "name": "stdout",
     "output_type": "stream",
     "text": [
      "Linear 784 -> 128\n",
      "ReLU\n",
      "Linear 128 -> 10\n",
      "LogSoftMax\n",
      "\n"
     ]
    }
   ],
   "source": [
    "net = Sequential()\n",
    "net.add(Linear(784, 128))\n",
    "net.add(ReLU())\n",
    "net.add(Linear(128, 10))\n",
    "net.add(LogSoftMax())\n",
    "\n",
    "criterion = ClassNLLCriterion()\n",
    "\n",
    "print(net)"
   ]
  },
  {
   "cell_type": "code",
   "execution_count": 53,
   "metadata": {
    "id": "LIpn3A85iW0D"
   },
   "outputs": [],
   "source": [
    "# Optimizer params\n",
    "optimizer_config = {'learning_rate' : 3e-3, 'beta1': 0.99, 'beta2': 0.99, 'epsilon': 1e-5}\n",
    "optimizer_state = {}\n",
    "\n",
    "# Looping params\n",
    "n_epoch = 20\n",
    "batch_size = 128"
   ]
  },
  {
   "cell_type": "code",
   "execution_count": 106,
   "metadata": {
    "id": "RTYkriEMiW0E",
    "outputId": "6b63f10a-079e-45ec-ffa9-04464066b6b2"
   },
   "outputs": [
    {
     "data": {
      "image/png": "[encoded data removed]",
      "text/plain": [
       "<Figure size 1600x600 with 2 Axes>"
      ]
     },
     "metadata": {},
     "output_type": "display_data"
    },
    {
     "name": "stderr",
     "output_type": "stream",
     "text": [
      "100%|██████████| 20/20 [00:56<00:00,  2.84s/it]"
     ]
    },
    {
     "name": "stdout",
     "output_type": "stream",
     "text": [
      "Current loss: 0.379330\n"
     ]
    },
    {
     "name": "stderr",
     "output_type": "stream",
     "text": [
      "\n"
     ]
    }
   ],
   "source": [
    "from sklearn.metrics import accuracy_score\n",
    "from tqdm import tqdm\n",
    "\n",
    "loss_history = []\n",
    "accuracy_history = []\n",
    "\n",
    "for i in tqdm(range(n_epoch)):\n",
    "    net.train()\n",
    "    for x_batch, y_batch in get_batches((X_train, y_train), batch_size):\n",
    "        \n",
    "        net.zeroGradParameters()\n",
    "        \n",
    "        # Forward\n",
    "        predictions = net.forward(x_batch)\n",
    "        loss = criterion.forward(predictions, y_batch)\n",
    "    \n",
    "        # Backward\n",
    "        dp = criterion.backward(predictions, y_batch)\n",
    "        net.backward(x_batch, dp)\n",
    "        \n",
    "        # Update weights\n",
    "        simple_sgd(net.getParameters(), \n",
    "                     net.getGradParameters(), \n",
    "                     optimizer_config,\n",
    "                     optimizer_state)      \n",
    "        \n",
    "        loss_history.append(loss)\n",
    "    \n",
    "    net.evaluate()\n",
    "    accuracy_history.append(accuracy_score(net.forward(X_val).argmax(axis=-1), y_val))\n",
    "    \n",
    "    # Visualize\n",
    "    display.clear_output(wait=True)\n",
    "    plt.figure(figsize=(16, 6))\n",
    "    \n",
    "    plt.subplot(1, 2, 1)    \n",
    "    plt.title(\"Training loss\")\n",
    "    plt.xlabel(\"#iteration\")\n",
    "    plt.ylabel(\"loss\")\n",
    "    plt.plot(loss_history, 'b')\n",
    "    \n",
    "    plt.subplot(1, 2, 2)\n",
    "    plt.title(\"Val accuracy\")\n",
    "    plt.xlabel(\"#epoch\")\n",
    "    plt.ylabel(\"accuracy\")\n",
    "    plt.plot(accuracy_history, 'b')\n",
    "    plt.show()\n",
    "    \n",
    "    print('Current loss: %f' % loss)   "
   ]
  },
  {
   "cell_type": "markdown",
   "metadata": {},
   "source": [
    "### Test CNN"
   ]
  },
  {
   "cell_type": "code",
   "execution_count": 64,
   "metadata": {},
   "outputs": [],
   "source": [
    "from load_mnist_from_gz import load_dataset\n",
    "\n",
    "X_train, y_train, X_val, y_val, X_test, y_test = load_dataset()"
   ]
  },
  {
   "cell_type": "code",
   "execution_count": 65,
   "metadata": {},
   "outputs": [
    {
     "data": {
      "text/plain": [
       "((50000, 1, 28, 28), (10000, 1, 28, 28), (10000, 1, 28, 28))"
      ]
     },
     "execution_count": 65,
     "metadata": {},
     "output_type": "execute_result"
    }
   ],
   "source": [
    "from sklearn.preprocessing import OneHotEncoder\n",
    "\n",
    "X_train = np.expand_dims(X_train, 1)\n",
    "X_val = np.expand_dims(X_val, 1)\n",
    "X_test = np.expand_dims(X_test, 1)\n",
    "\n",
    "encoder = OneHotEncoder(categories='auto', sparse_output=False)\n",
    "\n",
    "y_train = encoder.fit_transform(y_train.reshape(-1, 1))\n",
    "X_train.shape, X_val.shape, X_test.shape"
   ]
  },
  {
   "cell_type": "code",
   "execution_count": 69,
   "metadata": {},
   "outputs": [
    {
     "name": "stdout",
     "output_type": "stream",
     "text": [
      "Conv2d 1 -> 8\n",
      "LeakyReLU\n",
      "MaxPool2d, kern 2, stride 2\n",
      "Conv2d 8 -> 4\n",
      "LeakyReLU\n",
      "MaxPool2d, kern 2, stride 2\n",
      "Flatten\n",
      "Linear 196 -> 16\n",
      "LeakyReLU\n",
      "Linear 16 -> 10\n",
      "LogSoftMax\n",
      "\n"
     ]
    }
   ],
   "source": [
    "net = Sequential()\n",
    "\n",
    "net.add(Conv2d(1, 8, 3))\n",
    "net.add(LeakyReLU())\n",
    "net.add(MaxPool2d(2))\n",
    "\n",
    "net.add(Conv2d(8, 4, 3))\n",
    "net.add(LeakyReLU())\n",
    "net.add(MaxPool2d(2))\n",
    "\n",
    "net.add(Flatten())\n",
    "net.add(Linear(7*7*4, 16))\n",
    "net.add(LeakyReLU())\n",
    "\n",
    "net.add(Linear(16, 10))\n",
    "net.add(LogSoftMax())\n",
    "\n",
    "criterion = ClassNLLCriterion()\n",
    "\n",
    "print(net)"
   ]
  },
  {
   "cell_type": "code",
   "execution_count": 70,
   "metadata": {},
   "outputs": [],
   "source": [
    "optimizer_config = {'learning_rate' : 3e-4, \n",
    "                    'beta1': 0.99, \n",
    "                    'beta2': 0.99, \n",
    "                    'epsilon': 1e-5}\n",
    "optimizer_state = {}\n",
    "\n",
    "n_epoch = 5\n",
    "batch_size = 256"
   ]
  },
  {
   "cell_type": "code",
   "execution_count": null,
   "metadata": {},
   "outputs": [],
   "source": [
    "from sklearn.metrics import accuracy_score\n",
    "from tqdm.notebook import tqdm\n",
    "\n",
    "loss_history = []\n",
    "accuracy_history = []\n",
    "\n",
    "for i in tqdm(range(n_epoch), desc=\"Epochs\"):\n",
    "    net.train()\n",
    "    \n",
    "    for x_batch, y_batch in tqdm(get_batches((X_train, y_train), batch_size), desc=\"Batches\", leave=False):\n",
    "        \n",
    "        net.zeroGradParameters()\n",
    "        \n",
    "        # Forward\n",
    "        predictions = net.forward(x_batch)\n",
    "        loss = criterion.forward(predictions, y_batch)\n",
    "    \n",
    "        # Backward\n",
    "        dp = criterion.backward(predictions, y_batch)\n",
    "        net.backward(x_batch, dp)\n",
    "        \n",
    "        # Update weights\n",
    "        simple_sgd(net.getParameters(), \n",
    "                     net.getGradParameters(), \n",
    "                     optimizer_config,\n",
    "                     optimizer_state)      \n",
    "        \n",
    "        loss_history.append(loss)\n",
    "    \n",
    "    net.evaluate()\n",
    "    accuracy_history.append(accuracy_score(net.forward(X_val).argmax(axis=-1), y_val))\n",
    "    \n",
    "    display.clear_output(wait=True)\n",
    "    plt.figure(figsize=(16, 6))\n",
    "    \n",
    "    plt.subplot(1, 2, 1)    \n",
    "    plt.title(\"Training loss\")\n",
    "    plt.xlabel(\"#iteration\")\n",
    "    plt.ylabel(\"loss\")\n",
    "    plt.plot(loss_history, 'b')\n",
    "    \n",
    "    plt.subplot(1, 2, 2)\n",
    "    plt.title(\"Val accuracy\")\n",
    "    plt.xlabel(\"#epoch\")\n",
    "    plt.ylabel(\"accuracy\")\n",
    "    plt.plot(accuracy_history, 'b')\n",
    "    plt.show()\n",
    "    \n",
    "    print('Current loss: %f' % loss)\n"
   ]
  }
 ],
 "metadata": {
  "colab": {
   "provenance": []
  },
  "kernelspec": {
   "display_name": "Python 3 (ipykernel)",
   "language": "python",
   "name": "python3"
  },
  "language_info": {
   "codemirror_mode": {
    "name": "ipython",
    "version": 3
   },
   "file_extension": ".py",
   "mimetype": "text/x-python",
   "name": "python",
   "nbconvert_exporter": "python",
   "pygments_lexer": "ipython3",
   "version": "3.12.5"
  }
 },
 "nbformat": 4,
 "nbformat_minor": 1
}
