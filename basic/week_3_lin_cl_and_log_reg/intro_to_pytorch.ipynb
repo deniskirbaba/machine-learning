{
 "cells": [
  {
   "cell_type": "markdown",
   "metadata": {
    "id": "M7PURAbP57QO"
   },
   "source": [
    "# Intro to PyTorch"
   ]
  },
  {
   "cell_type": "markdown",
   "metadata": {
    "id": "wpk2Khi457QS"
   },
   "source": [
    "What comes today:\n",
    "- Introduction to PyTorch\n",
    "- Automatic gradient computation\n",
    "- Logistic regression (it's a neural network, actually ;) )"
   ]
  },
  {
   "cell_type": "markdown",
   "metadata": {
    "id": "ObKouB1957QT"
   },
   "source": [
    "__This notebook__ will teach you to use pytorch low-level core. You can read about it [here](http://pytorch.org/).\n",
    "\n",
    "__Pytorch feels__ differently than other frameworks (like tensorflow/theano) on almost every level. TensorFlow makes your code live in two \"worlds\" simultaneously:  symbolic graphs and actual tensors. First you declare a symbolic \"recipe\" of how to get from inputs to outputs, then feed it with actual minibatches of data.  In pytorch, __there's only one world__: all tensors have a numeric value.\n",
    "\n",
    "You compute outputs on the fly without pre-declaring anything. The code looks exactly as in pure numpy with one exception: pytorch computes gradients for you. And can run stuff on GPU. And has a number of pre-implemented building blocks for your neural nets. [And a few more things.](https://medium.com/towards-data-science/pytorch-vs-tensorflow-spotting-the-difference-25c75777377b)\n",
    "\n",
    "Let's dive into it!"
   ]
  },
  {
   "cell_type": "code",
   "execution_count": 1,
   "metadata": {
    "ExecuteTime": {
     "end_time": "2023-04-05T19:49:06.454017Z",
     "start_time": "2023-04-05T19:49:06.099472Z"
    },
    "id": "f4CV8EeZ57QV"
   },
   "outputs": [],
   "source": [
    "import matplotlib.pyplot as plt\n",
    "import numpy as np\n",
    "import torch"
   ]
  },
  {
   "cell_type": "code",
   "execution_count": 2,
   "metadata": {
    "ExecuteTime": {
     "end_time": "2023-04-05T19:49:06.780482Z",
     "start_time": "2023-04-05T19:49:06.099472Z"
    },
    "id": "vaHxAbH557QV",
    "outputId": "140dacde-4e31-4ea4-b177-23bd5b418857"
   },
   "outputs": [
    {
     "data": {
      "text/plain": [
       "'2.3.0'"
      ]
     },
     "execution_count": 2,
     "metadata": {},
     "output_type": "execute_result"
    }
   ],
   "source": [
    "torch.__version__"
   ]
  },
  {
   "cell_type": "code",
   "execution_count": 3,
   "metadata": {
    "ExecuteTime": {
     "end_time": "2023-04-05T19:49:06.780482Z",
     "start_time": "2023-04-05T19:49:06.115752Z"
    },
    "id": "QeStmxhR57QW",
    "outputId": "ee342613-c180-4db9-cdc6-c0d2b2e8fed6",
    "scrolled": false
   },
   "outputs": [
    {
     "name": "stdout",
     "output_type": "stream",
     "text": [
      "X :\n",
      "[[ 0  1  2  3]\n",
      " [ 4  5  6  7]\n",
      " [ 8  9 10 11]\n",
      " [12 13 14 15]]\n",
      "\n",
      "X.shape : (4, 4)\n",
      "\n",
      "add 5 :\n",
      "[[ 5  6  7  8]\n",
      " [ 9 10 11 12]\n",
      " [13 14 15 16]\n",
      " [17 18 19 20]]\n",
      "\n",
      "X*X^T  :\n",
      "[[ 14  38  62  86]\n",
      " [ 38 126 214 302]\n",
      " [ 62 214 366 518]\n",
      " [ 86 302 518 734]]\n",
      "\n",
      "mean over cols :\n",
      "[ 1.5  5.5  9.5 13.5]\n",
      "\n",
      "cumsum of cols :\n",
      "[[ 0  1  2  3]\n",
      " [ 4  6  8 10]\n",
      " [12 15 18 21]\n",
      " [24 28 32 36]]\n",
      "\n"
     ]
    }
   ],
   "source": [
    "# numpy world\n",
    "\n",
    "x = np.arange(16).reshape(4, 4)\n",
    "\n",
    "print(\"X :\\n%s\\n\" % x)\n",
    "print(\"X.shape : %s\\n\" % (x.shape,))\n",
    "print(\"add 5 :\\n%s\\n\" % (x + 5))\n",
    "print(\"X*X^T  :\\n%s\\n\" % np.dot(x, x.T))\n",
    "print(\"mean over cols :\\n%s\\n\" % (x.mean(axis=-1)))\n",
    "print(\"cumsum of cols :\\n%s\\n\" % (np.cumsum(x, axis=0)))"
   ]
  },
  {
   "cell_type": "code",
   "execution_count": 4,
   "metadata": {
    "ExecuteTime": {
     "end_time": "2023-04-05T19:49:06.780482Z",
     "start_time": "2023-04-05T19:49:06.133709Z"
    },
    "id": "Zf5s5a4057QY",
    "outputId": "0e722a70-af5b-4e0f-dcc6-8c94cafc7471"
   },
   "outputs": [
    {
     "name": "stdout",
     "output_type": "stream",
     "text": [
      "X :\n",
      "tensor([[ 0.,  1.,  2.,  3.],\n",
      "        [ 4.,  5.,  6.,  7.],\n",
      "        [ 8.,  9., 10., 11.],\n",
      "        [12., 13., 14., 15.]])\n",
      "X.shape : torch.Size([4, 4])\n",
      "\n",
      "add 5 :\n",
      "tensor([[ 5.,  6.,  7.,  8.],\n",
      "        [ 9., 10., 11., 12.],\n",
      "        [13., 14., 15., 16.],\n",
      "        [17., 18., 19., 20.]])\n",
      "\n",
      "X*X^T  :\n",
      "tensor([[ 14.,  38.,  62.,  86.],\n",
      "        [ 38., 126., 214., 302.],\n",
      "        [ 62., 214., 366., 518.],\n",
      "        [ 86., 302., 518., 734.]])\n",
      "\n",
      "mean over cols :\n",
      "tensor([ 1.5000,  5.5000,  9.5000, 13.5000])\n",
      "\n",
      "cumsum of cols :\n",
      "tensor([[ 0.,  1.,  2.,  3.],\n",
      "        [ 4.,  6.,  8., 10.],\n",
      "        [12., 15., 18., 21.],\n",
      "        [24., 28., 32., 36.]])\n"
     ]
    }
   ],
   "source": [
    "# pytorch world\n",
    "\n",
    "x = np.arange(16).reshape(4, 4)\n",
    "\n",
    "x = torch.tensor(x, dtype=torch.float32)  # or torch.arange(0,16).view(4,4)\n",
    "\n",
    "print(\"X :\\n%s\" % x)\n",
    "print(\"X.shape : %s\\n\" % (x.shape,))\n",
    "print(\"add 5 :\\n%s\\n\" % (x + 5))\n",
    "print(\"X*X^T  :\\n%s\\n\" % torch.matmul(x, x.transpose(1, 0)))  # short: x.mm(x.t())\n",
    "print(\"mean over cols :\\n%s\\n\" % torch.mean(x, dim=-1))\n",
    "print(\"cumsum of cols :\\n%s\" % torch.cumsum(x, dim=0))"
   ]
  },
  {
   "cell_type": "markdown",
   "metadata": {
    "heading_collapsed": true,
    "id": "nid1FFhI57Qa"
   },
   "source": [
    "#### NumPy and Pytorch\n",
    "\n",
    "As you can notice, pytorch allows you to hack stuff much the same way you did with numpy. This means that you can _see the numeric value of any tensor at any moment of time_. Debugging such code can be done with by printing tensors or using any debug tool you want (e.g. [gdb](https://wiki.python.org/moin/DebuggingWithGdb)).\n",
    "\n",
    "You could also notice the a few new method names and a different API. So no, there's no compatibility with numpy [yet](https://github.com/pytorch/pytorch/issues/2228) and yes, you'll have to memorize all the names again. Get excited!\n",
    "\n",
    "For example, \n",
    "* If something takes a list/tuple of axes in numpy, you can expect it to take *args in pytorch\n",
    " * `x.reshape([1,2,8]) -> x.view(1,2,8)`\n",
    "* You should swap _axis_ for _dim_ in operations like mean or cumsum\n",
    " * `x.sum(axis=-1) -> x.sum(dim=-1)`\n",
    "* most mathematical operations are the same, but types an shaping is different\n",
    " * `x.astype('int64') -> x.type(torch.LongTensor)`\n",
    "\n",
    "To help you acclimatize, there's a [table](https://github.com/torch/torch7/wiki/Torch-for-Numpy-users) covering most new things. There's also a neat [documentation page](http://pytorch.org/docs/master/).\n",
    "\n",
    "Finally, if you're stuck with a technical problem, we recommend searching [pytorch forumns](https://discuss.pytorch.org/). Or just googling, which usually works just as efficiently. \n",
    "\n",
    "If you feel like you almost give up, remember two things: __GPU__ and __free gradients__. Besides you can always jump back to numpy with x.numpy()"
   ]
  },
  {
   "cell_type": "markdown",
   "metadata": {
    "id": "sDQoX33F57Qb"
   },
   "source": [
    "## Warmup: trigonometric knotwork\n",
    "\n",
    "_inspired by [this post](https://www.quora.com/What-are-the-most-interesting-equation-plots)_\n",
    "\n",
    "There are some simple mathematical functions with cool plots. For one, consider this:\n",
    "\n",
    "$$ x(t) = t - 1.5 * cos( 15 t) $$\n",
    "$$ y(t) = t - 1.5 * sin( 16 t) $$\n"
   ]
  },
  {
   "cell_type": "code",
   "execution_count": 5,
   "metadata": {
    "ExecuteTime": {
     "end_time": "2023-04-05T19:49:06.858590Z",
     "start_time": "2023-04-05T19:49:06.150507Z"
    },
    "id": "20fOVdRI57Qb"
   },
   "outputs": [
    {
     "data": {
      "text/plain": [
       "[<matplotlib.lines.Line2D at 0x1aee28ef380>]"
      ]
     },
     "execution_count": 5,
     "metadata": {},
     "output_type": "execute_result"
    },
    {
     "data": {
      "image/png": "[encoded data removed]",
      "text/plain": [
       "<Figure size 640x480 with 1 Axes>"
      ]
     },
     "metadata": {},
     "output_type": "display_data"
    }
   ],
   "source": [
    "t = torch.linspace(-10, 10, steps=10000)\n",
    "\n",
    "# compute x(t) and y(t) as defined above\n",
    "x = t - 1.5 * torch.cos(15 * t)\n",
    "y = t - 1.5 * torch.sin(16 * t)\n",
    "\n",
    "plt.plot(x.numpy(), y.numpy())"
   ]
  },
  {
   "cell_type": "markdown",
   "metadata": {
    "id": "B_Ddf8nU57Qc"
   },
   "source": [
    "if you're done early, try adjusting the formula and seing how  it affects the function"
   ]
  },
  {
   "cell_type": "markdown",
   "metadata": {
    "id": "sTiT3D1H57Qc"
   },
   "source": [
    "## Automatic gradients\n",
    "\n",
    "Any self-respecting DL framework must do your backprop for you. Torch handles this with the `autograd` module.\n",
    "\n",
    "The general pipeline looks like this:\n",
    "* When creating a tensor, you mark it as `requires_grad`:\n",
    "    * `torch.zeros(5, requires_grad=True)`\n",
    "    * `torch.tensor(np.arange(5), dtype=torch.float32, requires_grad=True)`\n",
    "* Define some differentiable `loss = arbitrary_function(a)`\n",
    "* Call `loss.backward()`\n",
    "* Gradients are now available as ```a.grads```\n",
    "\n",
    "__Here's an example:__ let's fit a linear regression on Boston house prices"
   ]
  },
  {
   "cell_type": "code",
   "execution_count": 14,
   "metadata": {
    "ExecuteTime": {
     "end_time": "2023-04-05T19:49:07.139826Z",
     "start_time": "2023-04-05T19:49:06.495210Z"
    },
    "id": "eFyUCyWd57Qc"
   },
   "outputs": [
    {
     "data": {
      "text/html": [
       "<div>\n",
       "<style scoped>\n",
       "    .dataframe tbody tr th:only-of-type {\n",
       "        vertical-align: middle;\n",
       "    }\n",
       "\n",
       "    .dataframe tbody tr th {\n",
       "        vertical-align: top;\n",
       "    }\n",
       "\n",
       "    .dataframe thead th {\n",
       "        text-align: right;\n",
       "    }\n",
       "</style>\n",
       "<table border=\"1\" class=\"dataframe\">\n",
       "  <thead>\n",
       "    <tr style=\"text-align: right;\">\n",
       "      <th></th>\n",
       "      <th>crim</th>\n",
       "      <th>zn</th>\n",
       "      <th>indus</th>\n",
       "      <th>chas</th>\n",
       "      <th>nox</th>\n",
       "      <th>rm</th>\n",
       "      <th>age</th>\n",
       "      <th>dis</th>\n",
       "      <th>rad</th>\n",
       "      <th>tax</th>\n",
       "      <th>ptratio</th>\n",
       "      <th>b</th>\n",
       "      <th>lstat</th>\n",
       "      <th>medv</th>\n",
       "    </tr>\n",
       "  </thead>\n",
       "  <tbody>\n",
       "    <tr>\n",
       "      <th>0</th>\n",
       "      <td>0.00632</td>\n",
       "      <td>18.0</td>\n",
       "      <td>2.31</td>\n",
       "      <td>0</td>\n",
       "      <td>0.538</td>\n",
       "      <td>6.575</td>\n",
       "      <td>65.2</td>\n",
       "      <td>4.0900</td>\n",
       "      <td>1</td>\n",
       "      <td>296</td>\n",
       "      <td>15.3</td>\n",
       "      <td>396.90</td>\n",
       "      <td>4.98</td>\n",
       "      <td>24.0</td>\n",
       "    </tr>\n",
       "    <tr>\n",
       "      <th>1</th>\n",
       "      <td>0.02731</td>\n",
       "      <td>0.0</td>\n",
       "      <td>7.07</td>\n",
       "      <td>0</td>\n",
       "      <td>0.469</td>\n",
       "      <td>6.421</td>\n",
       "      <td>78.9</td>\n",
       "      <td>4.9671</td>\n",
       "      <td>2</td>\n",
       "      <td>242</td>\n",
       "      <td>17.8</td>\n",
       "      <td>396.90</td>\n",
       "      <td>9.14</td>\n",
       "      <td>21.6</td>\n",
       "    </tr>\n",
       "    <tr>\n",
       "      <th>2</th>\n",
       "      <td>0.02729</td>\n",
       "      <td>0.0</td>\n",
       "      <td>7.07</td>\n",
       "      <td>0</td>\n",
       "      <td>0.469</td>\n",
       "      <td>7.185</td>\n",
       "      <td>61.1</td>\n",
       "      <td>4.9671</td>\n",
       "      <td>2</td>\n",
       "      <td>242</td>\n",
       "      <td>17.8</td>\n",
       "      <td>392.83</td>\n",
       "      <td>4.03</td>\n",
       "      <td>34.7</td>\n",
       "    </tr>\n",
       "    <tr>\n",
       "      <th>3</th>\n",
       "      <td>0.03237</td>\n",
       "      <td>0.0</td>\n",
       "      <td>2.18</td>\n",
       "      <td>0</td>\n",
       "      <td>0.458</td>\n",
       "      <td>6.998</td>\n",
       "      <td>45.8</td>\n",
       "      <td>6.0622</td>\n",
       "      <td>3</td>\n",
       "      <td>222</td>\n",
       "      <td>18.7</td>\n",
       "      <td>394.63</td>\n",
       "      <td>2.94</td>\n",
       "      <td>33.4</td>\n",
       "    </tr>\n",
       "    <tr>\n",
       "      <th>4</th>\n",
       "      <td>0.06905</td>\n",
       "      <td>0.0</td>\n",
       "      <td>2.18</td>\n",
       "      <td>0</td>\n",
       "      <td>0.458</td>\n",
       "      <td>7.147</td>\n",
       "      <td>54.2</td>\n",
       "      <td>6.0622</td>\n",
       "      <td>3</td>\n",
       "      <td>222</td>\n",
       "      <td>18.7</td>\n",
       "      <td>396.90</td>\n",
       "      <td>5.33</td>\n",
       "      <td>36.2</td>\n",
       "    </tr>\n",
       "  </tbody>\n",
       "</table>\n",
       "</div>"
      ],
      "text/plain": [
       "      crim    zn  indus  chas    nox     rm   age     dis  rad  tax  ptratio  \\\n",
       "0  0.00632  18.0   2.31     0  0.538  6.575  65.2  4.0900    1  296     15.3   \n",
       "1  0.02731   0.0   7.07     0  0.469  6.421  78.9  4.9671    2  242     17.8   \n",
       "2  0.02729   0.0   7.07     0  0.469  7.185  61.1  4.9671    2  242     17.8   \n",
       "3  0.03237   0.0   2.18     0  0.458  6.998  45.8  6.0622    3  222     18.7   \n",
       "4  0.06905   0.0   2.18     0  0.458  7.147  54.2  6.0622    3  222     18.7   \n",
       "\n",
       "        b  lstat  medv  \n",
       "0  396.90   4.98  24.0  \n",
       "1  396.90   9.14  21.6  \n",
       "2  392.83   4.03  34.7  \n",
       "3  394.63   2.94  33.4  \n",
       "4  396.90   5.33  36.2  "
      ]
     },
     "execution_count": 14,
     "metadata": {},
     "output_type": "execute_result"
    }
   ],
   "source": [
    "# from sklearn.datasets import load_boston\n",
    "import pandas as pd\n",
    "import numpy as np\n",
    "\n",
    "raw_df = pd.read_csv('BostonHousing.csv', sep=\",\")\n",
    "raw_df.head()"
   ]
  },
  {
   "cell_type": "code",
   "execution_count": 15,
   "metadata": {},
   "outputs": [],
   "source": [
    "data = raw_df.loc[:, raw_df.columns.drop('medv')].values\n",
    "target = raw_df['medv'].values"
   ]
  },
  {
   "cell_type": "code",
   "execution_count": 16,
   "metadata": {},
   "outputs": [],
   "source": [
    "# data = np.hstack([raw_df.values[::2, :], raw_df.values[1::2, :2]])\n",
    "# target = raw_df.values[1::2, 2]"
   ]
  },
  {
   "cell_type": "code",
   "execution_count": 17,
   "metadata": {
    "ExecuteTime": {
     "end_time": "2023-04-05T19:49:07.404752Z",
     "start_time": "2023-04-05T19:49:07.092957Z"
    },
    "id": "a8Vic_jI57Qd",
    "outputId": "e5c0ff2a-fa1e-4975-cffa-b29a15afd931",
    "scrolled": true
   },
   "outputs": [
    {
     "data": {
      "text/plain": [
       "<matplotlib.collections.PathCollection at 0x1aee56cbd40>"
      ]
     },
     "execution_count": 17,
     "metadata": {},
     "output_type": "execute_result"
    },
    {
     "data": {
      "image/png": "[encoded data removed]",
      "text/plain": [
       "<Figure size 640x480 with 1 Axes>"
      ]
     },
     "metadata": {},
     "output_type": "display_data"
    }
   ],
   "source": [
    "# boston = load_boston()\n",
    "plt.scatter(data[:, -1], target)"
   ]
  },
  {
   "cell_type": "code",
   "execution_count": 18,
   "metadata": {
    "ExecuteTime": {
     "end_time": "2023-04-05T19:49:07.438707Z",
     "start_time": "2023-04-05T19:49:07.420379Z"
    },
    "id": "O_0WGCqZ57Qd"
   },
   "outputs": [],
   "source": [
    "w = torch.zeros(1, requires_grad=True)\n",
    "b = torch.zeros(1, requires_grad=True)\n",
    "\n",
    "x = torch.tensor(data[:, -1] / 10, dtype=torch.float32)\n",
    "y = torch.tensor(target, dtype=torch.float32)"
   ]
  },
  {
   "cell_type": "code",
   "execution_count": 19,
   "metadata": {
    "ExecuteTime": {
     "end_time": "2023-04-05T19:49:07.471446Z",
     "start_time": "2023-04-05T19:49:07.427370Z"
    },
    "id": "RBc1J-F757Qd"
   },
   "outputs": [],
   "source": [
    "y_pred = w * x + b\n",
    "loss = torch.mean((y_pred - y) ** 2)\n",
    "\n",
    "# propagate gradients\n",
    "loss.backward()"
   ]
  },
  {
   "cell_type": "markdown",
   "metadata": {
    "id": "BBX9hrqI57Qd"
   },
   "source": [
    "The gradients are now stored in `.grad` of those variables that require them."
   ]
  },
  {
   "cell_type": "code",
   "execution_count": 20,
   "metadata": {
    "ExecuteTime": {
     "end_time": "2023-04-05T19:49:07.471446Z",
     "start_time": "2023-04-05T19:49:07.439214Z"
    },
    "id": "q5QSzTh657Qe",
    "outputId": "5e4e5f52-eb7b-4be4-f99e-b38f80776340"
   },
   "outputs": [
    {
     "name": "stdout",
     "output_type": "stream",
     "text": [
      "dL/dw = tensor([-47.3514])\n",
      "\n",
      "dL/db = tensor([-45.0656])\n",
      "\n"
     ]
    }
   ],
   "source": [
    "print(\"dL/dw = {}\\n\".format(w.grad))\n",
    "print(\"dL/db = {}\\n\".format(b.grad))"
   ]
  },
  {
   "cell_type": "markdown",
   "metadata": {
    "id": "W3DBV8hN57Qe"
   },
   "source": [
    "If you compute gradient from multiple losses, the gradients will add up at variables, therefore it's useful to __zero the gradients__ between iteratons."
   ]
  },
  {
   "cell_type": "code",
   "execution_count": 21,
   "metadata": {
    "ExecuteTime": {
     "end_time": "2023-04-05T19:49:07.487078Z",
     "start_time": "2023-04-05T19:49:07.457211Z"
    },
    "id": "D7Lwmvnc57Qe"
   },
   "outputs": [],
   "source": [
    "from IPython.display import clear_output"
   ]
  },
  {
   "cell_type": "code",
   "execution_count": 22,
   "metadata": {
    "ExecuteTime": {
     "end_time": "2023-04-05T19:49:11.087669Z",
     "start_time": "2023-04-05T19:49:07.471446Z"
    },
    "id": "VusX_8wC57Qe",
    "outputId": "a426d28d-cb8e-4a9c-ee3a-59aed4fdabf0"
   },
   "outputs": [
    {
     "data": {
      "image/png": "[encoded data removed]",
      "text/plain": [
       "<Figure size 640x480 with 1 Axes>"
      ]
     },
     "metadata": {},
     "output_type": "display_data"
    },
    {
     "name": "stdout",
     "output_type": "stream",
     "text": [
      "loss =  28.3435\n"
     ]
    }
   ],
   "source": [
    "w = torch.zeros(1, requires_grad=True)\n",
    "b = torch.zeros(1, requires_grad=True)\n",
    "\n",
    "x = torch.tensor(data[:, -1] / 10, dtype=torch.float32)\n",
    "y = torch.tensor(target, dtype=torch.float32)\n",
    "\n",
    "for i in range(100):\n",
    "    y_pred = w * torch.log(x) + b\n",
    "    loss = torch.mean((y_pred - y) ** 2)\n",
    "    loss.backward()\n",
    "\n",
    "    w.data -= 0.05 * w.grad.data\n",
    "    b.data -= 0.05 * b.grad.data\n",
    "\n",
    "    # zero gradients\n",
    "    w.grad.data.zero_()\n",
    "    b.grad.data.zero_()\n",
    "\n",
    "    # the rest of code is just bells and whistles\n",
    "    if (i + 1) % 5 == 0:\n",
    "        clear_output(True)\n",
    "        plt.scatter(x.data.numpy(), y.data.numpy())\n",
    "        plt.scatter(x.data.numpy(), y_pred.data.numpy(), color=\"orange\", linewidth=5)\n",
    "        plt.show()\n",
    "\n",
    "        print(\"loss = \", loss.data.numpy())\n",
    "        if loss.data.numpy() < 0.5:\n",
    "            print(\"Done!\")\n",
    "            break"
   ]
  },
  {
   "cell_type": "markdown",
   "metadata": {
    "id": "E-gHW8xN57Qf"
   },
   "source": [
    "__Quest__: try implementing and writing some nonlinear regression. You can try quadratic features or some trigonometry, or a simple neural network. The only difference is that now you have more variables and a more complicated `y_pred`. "
   ]
  },
  {
   "cell_type": "markdown",
   "metadata": {
    "id": "gNWXLww957Q4"
   },
   "source": [
    "Suprizingly, we were walking really close to the edge. Look a few cells above. We have divided the `x` values by 10 times. Let's what happens if we don't:"
   ]
  },
  {
   "cell_type": "code",
   "execution_count": 23,
   "metadata": {
    "ExecuteTime": {
     "end_time": "2023-04-05T19:49:14.394532Z",
     "start_time": "2023-04-05T19:49:11.073441Z"
    },
    "id": "7BOO8CA357Q6",
    "outputId": "57edf87b-2b17-4cdb-eb85-8b2d5fed2999"
   },
   "outputs": [
    {
     "data": {
      "image/png": "[encoded data removed]",
      "text/plain": [
       "<Figure size 640x480 with 1 Axes>"
      ]
     },
     "metadata": {},
     "output_type": "display_data"
    },
    {
     "name": "stdout",
     "output_type": "stream",
     "text": [
      "loss =  nan\n"
     ]
    }
   ],
   "source": [
    "# Now we do not divide the x values by 10. See what happens next\n",
    "x = torch.tensor(data[:, -1], dtype=torch.float32)\n",
    "\n",
    "w = torch.zeros(1, requires_grad=True)\n",
    "b = torch.zeros(1, requires_grad=True)\n",
    "\n",
    "grad_history = []\n",
    "\n",
    "for i in range(100):\n",
    "    y_pred = w * x + b\n",
    "    loss = torch.mean((y_pred - y) ** 2)\n",
    "    loss.backward()\n",
    "    grad_history.append((w.grad.item(), b.grad.item()))\n",
    "\n",
    "    # Be extremely careful with accessing the .data attribute!\n",
    "    w.data -= 0.05 * w.grad.data\n",
    "    b.data -= 0.05 * b.grad.data\n",
    "\n",
    "    # zero gradients\n",
    "    w.grad.data.zero_()\n",
    "    b.grad.data.zero_()\n",
    "\n",
    "    # the rest of code is just bells and whistles\n",
    "    if (i + 1) % 5 == 0:\n",
    "        clear_output(True)\n",
    "        plt.scatter(x.data.numpy(), y.data.numpy())\n",
    "        plt.scatter(x.data.numpy(), y_pred.data.numpy(), color=\"orange\", linewidth=5)\n",
    "        plt.show()\n",
    "\n",
    "        print(\"loss = \", loss.data.numpy())\n",
    "        if loss.data.numpy() < 0.5:\n",
    "            print(\"Done!\")\n",
    "            break"
   ]
  },
  {
   "cell_type": "code",
   "execution_count": 24,
   "metadata": {
    "ExecuteTime": {
     "end_time": "2023-04-05T19:49:14.583686Z",
     "start_time": "2023-04-05T19:49:14.394532Z"
    },
    "id": "7hiTC0Hx57Q7",
    "outputId": "ef9a9ec0-e137-4f89-e6e9-6be29cbeeb3f"
   },
   "outputs": [
    {
     "data": {
      "text/plain": [
       "[<matplotlib.lines.Line2D at 0x1aee6d6fd10>]"
      ]
     },
     "execution_count": 24,
     "metadata": {},
     "output_type": "execute_result"
    },
    {
     "data": {
      "image/png": "[encoded data removed]",
      "text/plain": [
       "<Figure size 640x480 with 1 Axes>"
      ]
     },
     "metadata": {},
     "output_type": "display_data"
    }
   ],
   "source": [
    "plt.plot([element[0] for element in grad_history])"
   ]
  },
  {
   "cell_type": "code",
   "execution_count": 25,
   "metadata": {
    "ExecuteTime": {
     "end_time": "2023-04-05T19:49:14.591670Z",
     "start_time": "2023-04-05T19:49:14.583686Z"
    },
    "id": "cCuMaaRU57Q9",
    "outputId": "41e02079-f9a1-4f6e-b36f-7395566409f7"
   },
   "outputs": [
    {
     "name": "stdout",
     "output_type": "stream",
     "text": [
      "[(-473.5144958496094, -45.06561279296875), (9574.380859375, 558.5819091796875), (-193146.109375, -11611.80078125), (3896813.75, 233938.40625), (-78619616.0, -4720118.5), (1586179328.0, 95229784.0), (-32001746944.0, -1921295872.0), (645646909440.0, 38762848256.0), (-13026162900992.0, -782054588416.0), (262807589224448.0, 15778237644800.0), (-5302239132385280.0, -318331735244800.0), (1.0697461300251853e+17, 6422458408108032.0), (-2.1582518525655777e+18, -1.2957544387864166e+17), (4.354351919016182e+19, 2.614231831549051e+18), (-8.785064832620476e+20, -5.274308460125199e+19), (1.772418992719395e+22, 1.0641110829050542e+21), (-3.5759200736630464e+23, -2.146883281226081e+22), (7.214548700883164e+24, 4.331415124113106e+23), (-1.455561554891737e+26, -8.738787599253472e+24), (2.9366487550019813e+27, 1.763082244723649e+26), (-5.924796215150439e+28, -3.557083003402266e+27), (1.195349280428902e+30, 7.17654445403173e+28), (-2.4116609718921758e+31, -1.4478940352621255e+30), (4.865614230945225e+32, 2.921179441745072e+31), (-9.816555026523244e+33, -5.8935864864548875e+32), (1.980525601420545e+35, 1.1890526729879653e+34), (-3.9957823732143057e+36, -2.3989570594448487e+35), (8.061636668657427e+37, 4.8399825301651965e+36), (-inf, -9.764841366859034e+37), (inf, inf), (nan, nan), (nan, nan), (nan, nan), (nan, nan), (nan, nan), (nan, nan), (nan, nan), (nan, nan), (nan, nan), (nan, nan), (nan, nan), (nan, nan), (nan, nan), (nan, nan), (nan, nan), (nan, nan), (nan, nan), (nan, nan), (nan, nan), (nan, nan), (nan, nan), (nan, nan), (nan, nan), (nan, nan), (nan, nan), (nan, nan), (nan, nan), (nan, nan), (nan, nan), (nan, nan), (nan, nan), (nan, nan), (nan, nan), (nan, nan), (nan, nan), (nan, nan), (nan, nan), (nan, nan), (nan, nan), (nan, nan), (nan, nan), (nan, nan), (nan, nan), (nan, nan), (nan, nan), (nan, nan), (nan, nan), (nan, nan), (nan, nan), (nan, nan), (nan, nan), (nan, nan), (nan, nan), (nan, nan), (nan, nan), (nan, nan), (nan, nan), (nan, nan), (nan, nan), (nan, nan), (nan, nan), (nan, nan), (nan, nan), (nan, nan), (nan, nan), (nan, nan), (nan, nan), (nan, nan), (nan, nan), (nan, nan)]\n"
     ]
    }
   ],
   "source": [
    "print(grad_history)"
   ]
  },
  {
   "cell_type": "markdown",
   "metadata": {
    "id": "mhBe2e4K57Q-"
   },
   "source": [
    "As you can see, the gradients have exploded. We could avoid it by using the smaller _learning rate_ or by using _gradient clipping_.\n",
    "\n",
    "__You should be really careful using the gradient descent even with such simple models as linear or logistic regression.__"
   ]
  },
  {
   "cell_type": "markdown",
   "metadata": {
    "id": "M6gZ38xi57Q-"
   },
   "source": [
    "**Remember!**\n",
    "\n",
    "When dealing with more complex stuff like neural network, it's best if you use tensors the way samurai uses his sword. \n"
   ]
  },
  {
   "cell_type": "markdown",
   "metadata": {
    "id": "dWy077NA57Q-"
   },
   "source": [
    "# High-level pytorch\n",
    "\n",
    "So far we've been dealing with low-level torch API. While it's absolutely vital for any custom losses or layers, building large neura nets in it is a bit clumsy.\n",
    "\n",
    "Luckily, there's also a high-level torch interface with a pre-defined layers, activations and training algorithms. \n",
    "\n",
    "We'll cover them as we go through a simple image recognition problem: classifying letters into __\"A\"__ vs __\"B\"__.\n"
   ]
  },
  {
   "cell_type": "code",
   "execution_count": 7,
   "metadata": {
    "ExecuteTime": {
     "end_time": "2023-04-05T19:49:14.604341Z",
     "start_time": "2023-04-05T19:49:14.591670Z"
    },
    "id": "mDCq6l-e57Q_"
   },
   "outputs": [],
   "source": [
    "from notmnist import load_notmnist  # file notmnist.py at this directory"
   ]
  },
  {
   "cell_type": "code",
   "execution_count": 8,
   "metadata": {
    "ExecuteTime": {
     "end_time": "2023-04-05T19:49:18.456747Z",
     "start_time": "2023-04-05T19:49:14.604341Z"
    },
    "id": "vWkZE62e57Q_",
    "outputId": "e284b22b-217e-439f-cf82-d1b052b500d6"
   },
   "outputs": [
    {
     "name": "stdout",
     "output_type": "stream",
     "text": [
      "Parsing...\n",
      "found broken img: ./notMNIST_small/A/RGVtb2NyYXRpY2FCb2xkT2xkc3R5bGUgQm9sZC50dGY=.png [it's ok if <10 images are broken]\n",
      "Done\n",
      "Train size = 2808, test_size = 937\n"
     ]
    }
   ],
   "source": [
    "X_train, y_train, X_test, y_test = load_notmnist(letters=\"AB\")\n",
    "X_train, X_test = X_train.reshape([-1, 784]), X_test.reshape([-1, 784])\n",
    "\n",
    "print(\"Train size = %i, test_size = %i\" % (len(X_train), len(X_test)))"
   ]
  },
  {
   "cell_type": "code",
   "execution_count": 28,
   "metadata": {
    "ExecuteTime": {
     "end_time": "2023-04-05T19:49:18.933255Z",
     "start_time": "2023-04-05T19:49:18.456747Z"
    },
    "id": "8Py0z2wO57Q_",
    "outputId": "ef96e863-7b7f-45e9-ed09-2d2ebd3dc897",
    "scrolled": true
   },
   "outputs": [
    {
     "data": {
      "image/png": "[encoded data removed]",
      "text/plain": [
       "<Figure size 640x480 with 2 Axes>"
      ]
     },
     "metadata": {},
     "output_type": "display_data"
    }
   ],
   "source": [
    "for i in [0, 1]:\n",
    "    plt.subplot(1, 2, i + 1)\n",
    "    plt.imshow(X_train[i].reshape([28, 28]))\n",
    "    plt.title(str(y_train[i]))"
   ]
  },
  {
   "cell_type": "markdown",
   "metadata": {
    "id": "mD2U6Ltg57RA"
   },
   "source": [
    "Let's start with layers. The main abstraction here is __`torch.nn.Module`__"
   ]
  },
  {
   "cell_type": "code",
   "execution_count": 29,
   "metadata": {
    "ExecuteTime": {
     "end_time": "2023-04-05T19:49:18.944457Z",
     "start_time": "2023-04-05T19:49:18.933255Z"
    },
    "id": "G01gIb9f57RA"
   },
   "outputs": [],
   "source": [
    "from torch import nn"
   ]
  },
  {
   "cell_type": "code",
   "execution_count": 30,
   "metadata": {
    "ExecuteTime": {
     "end_time": "2023-04-05T19:49:18.956606Z",
     "start_time": "2023-04-05T19:49:18.944457Z"
    },
    "id": "5qFQPuXS57RA",
    "outputId": "38b61f80-5254-49c1-85ff-e27f876f96be"
   },
   "outputs": [
    {
     "name": "stdout",
     "output_type": "stream",
     "text": [
      "Base class for all neural network modules.\n",
      "\n",
      "    Your models should also subclass this class.\n",
      "\n",
      "    Modules can also contain other Modules, allowing to nest them in\n",
      "    a tree structure. You can assign the submodules as regular attributes::\n",
      "\n",
      "        import torch.nn as nn\n",
      "        import torch.nn.functional as F\n",
      "\n",
      "        class Model(nn.Module):\n",
      "            def __init__(self):\n",
      "                super().__init__()\n",
      "                self.conv1 = nn.Conv2d(1, 20, 5)\n",
      "                self.conv2 = nn.Conv2d(20, 20, 5)\n",
      "\n",
      "            def forward(self, x):\n",
      "                x = F.relu(self.conv1(x))\n",
      "                return F.relu(self.conv2(x))\n",
      "\n",
      "    Submodules assigned in this way will be registered, and will have their\n",
      "    parameters converted too when you call :meth:`to`, etc.\n",
      "\n",
      "    .. note::\n",
      "        As per the example above, an ``__init__()`` call to the parent class\n",
      "        must be made before assignment on the child.\n",
      "\n",
      "    :ivar training: Boolean represents whether this module is in training or\n",
      "                    evaluation mode.\n",
      "    :vartype training: bool\n",
      "    \n"
     ]
    }
   ],
   "source": [
    "print(nn.Module.__doc__)"
   ]
  },
  {
   "cell_type": "markdown",
   "metadata": {
    "id": "Ie9oX1Jd57RB"
   },
   "source": [
    "There's a vast library of popular layers and architectures already built for ya'.\n",
    "\n",
    "This is a binary classification problem, so we'll train a __Logistic Regression with sigmoid__.\n",
    "$$P(y_i | X_i) = \\sigma(W \\cdot X_i + b) ={ 1 \\over {1+e^{- [W \\cdot X_i + b]}} }$$\n"
   ]
  },
  {
   "cell_type": "code",
   "execution_count": 31,
   "metadata": {
    "ExecuteTime": {
     "end_time": "2023-04-05T19:49:19.026660Z",
     "start_time": "2023-04-05T19:49:18.956606Z"
    },
    "id": "WF8T_kwn57RB"
   },
   "outputs": [],
   "source": [
    "# create a network that stacks layers on top of each other\n",
    "model = nn.Sequential()\n",
    "\n",
    "# add first \"dense\" layer with 784 input units and 1 output unit.\n",
    "model.add_module(\"l1\", nn.Linear(784, 1))\n",
    "\n",
    "# add softmax activation for probabilities. Normalize over axis 1\n",
    "# note: layer names must be unique\n",
    "model.add_module(\"l2\", nn.Sigmoid())"
   ]
  },
  {
   "cell_type": "code",
   "execution_count": 32,
   "metadata": {
    "ExecuteTime": {
     "end_time": "2023-04-05T19:49:19.026660Z",
     "start_time": "2023-04-05T19:49:18.968919Z"
    },
    "id": "ocyVLdHB57RB",
    "outputId": "d0172ec5-2ff8-4705-c4c6-d8ad0152daa8"
   },
   "outputs": [
    {
     "name": "stdout",
     "output_type": "stream",
     "text": [
      "Weight shapes: [torch.Size([1, 784]), torch.Size([1])]\n"
     ]
    }
   ],
   "source": [
    "print(\"Weight shapes:\", [w.shape for w in model.parameters()])"
   ]
  },
  {
   "cell_type": "code",
   "execution_count": 33,
   "metadata": {
    "ExecuteTime": {
     "end_time": "2023-04-05T19:49:19.026660Z",
     "start_time": "2023-04-05T19:49:18.982125Z"
    },
    "id": "Zg9tNJNy57RC",
    "outputId": "130e0dca-bb94-4676-e863-139d0e388eda"
   },
   "outputs": [
    {
     "data": {
      "text/plain": [
       "tensor([0.3770, 0.4086, 0.3250], grad_fn=<SelectBackward0>)"
      ]
     },
     "execution_count": 33,
     "metadata": {},
     "output_type": "execute_result"
    }
   ],
   "source": [
    "# create dummy data with 3 samples and 784 features\n",
    "x = torch.tensor(X_train[:3], dtype=torch.float32)\n",
    "y = torch.tensor(y_train[:3], dtype=torch.float32)\n",
    "\n",
    "# compute outputs given inputs, both are variables\n",
    "y_predicted = model(x)[:, 0]\n",
    "\n",
    "y_predicted  # display what we've got"
   ]
  },
  {
   "cell_type": "markdown",
   "metadata": {
    "id": "8h_SCQ1857RC"
   },
   "source": [
    "Let's now define a loss function for our model.\n",
    "\n",
    "The natural choice is to use binary crossentropy (aka logloss, negative llh):\n",
    "$$ L = {1 \\over N} \\underset{X_i,y_i} \\sum - [  y_i \\cdot log P(y_i | X_i) + (1-y_i) \\cdot log (1-P(y_i | X_i)) ]$$\n",
    "\n"
   ]
  },
  {
   "cell_type": "code",
   "execution_count": 34,
   "metadata": {
    "ExecuteTime": {
     "end_time": "2023-04-05T19:49:19.026660Z",
     "start_time": "2023-04-05T19:49:19.003120Z"
    },
    "id": "GOa6A3M-57RC"
   },
   "outputs": [],
   "source": [
    "cross_entropy = -(y * torch.log(y_predicted) + (1 - y) * torch.log(1 - y_predicted))\n",
    "loss = torch.mean(cross_entropy)\n",
    "\n",
    "assert tuple(cross_entropy.size()) == (3,), \"Cross entropy must be a vector with element per sample\"\n",
    "assert tuple(loss.size()) == (), \"Loss must be scalar. Did you forget the mean/sum?\"\n",
    "assert (\n",
    "        cross_entropy.data.numpy()[0] > 0\n",
    "), \"Crossentropy must non-negative, zero only for perfect prediction\"\n",
    "assert loss.data.numpy() <= np.log(\n",
    "    5\n",
    "), \"Loss is too large even for untrained model. Please double-check it.\""
   ]
  },
  {
   "cell_type": "code",
   "execution_count": 35,
   "metadata": {
    "ExecuteTime": {
     "end_time": "2023-04-05T19:49:19.026660Z",
     "start_time": "2023-04-05T19:49:19.015144Z"
    },
    "collapsed": false
   },
   "outputs": [],
   "source": [
    "# loss = nn.functional.binary_cross_entropy(y_predicted, y)"
   ]
  },
  {
   "cell_type": "markdown",
   "metadata": {
    "id": "5oV6zcuh57RD"
   },
   "source": [
    "__Note:__ you can also find many such functions in `torch.nn.functional`, just type __`F.<tab>`__."
   ]
  },
  {
   "cell_type": "markdown",
   "metadata": {
    "id": "rqqMABE057RD"
   },
   "source": [
    "__Torch optimizers__\n",
    "\n",
    "When we trained Linear Regression above, we had to manually .zero_() gradients on both our variables. Imagine that code for a 50-layer network.\n",
    "\n",
    "Again, to keep it from getting dirty, there's `torch.optim` module with pre-implemented algorithms:"
   ]
  },
  {
   "cell_type": "code",
   "execution_count": 36,
   "metadata": {
    "ExecuteTime": {
     "end_time": "2023-04-05T19:49:19.043764Z",
     "start_time": "2023-04-05T19:49:19.026660Z"
    },
    "id": "D4emrFP-57RD"
   },
   "outputs": [],
   "source": [
    "opt = torch.optim.SGD(model.parameters(), lr=0.01)\n",
    "\n",
    "# here's how it's used:\n",
    "loss.backward()  # add new gradients\n",
    "opt.step()  # change weights\n",
    "opt.zero_grad()  # clear gradients"
   ]
  },
  {
   "cell_type": "code",
   "execution_count": 37,
   "metadata": {
    "ExecuteTime": {
     "end_time": "2023-04-05T19:49:19.056216Z",
     "start_time": "2023-04-05T19:49:19.043764Z"
    },
    "id": "AlKMlX2P57RD"
   },
   "outputs": [],
   "source": [
    "# dispose of old variables to avoid bugs later\n",
    "del x, y, y_predicted, loss, y_pred"
   ]
  },
  {
   "cell_type": "markdown",
   "metadata": {
    "id": "83fLvuuO57RE"
   },
   "source": [
    "## Putting it all together"
   ]
  },
  {
   "cell_type": "code",
   "execution_count": 38,
   "metadata": {
    "ExecuteTime": {
     "end_time": "2023-04-05T19:59:32.685816Z",
     "start_time": "2023-04-05T19:59:32.675047Z"
    },
    "id": "I1l-thBZ57RE"
   },
   "outputs": [],
   "source": [
    "# create network again just in case\n",
    "model = nn.Sequential()\n",
    "model.add_module(\"first\", nn.Linear(784, 1))\n",
    "model.add_module(\"second\", nn.Sigmoid())\n",
    "\n",
    "opt = torch.optim.SGD(model.parameters(), lr=1e-3)"
   ]
  },
  {
   "cell_type": "code",
   "execution_count": 39,
   "metadata": {
    "ExecuteTime": {
     "end_time": "2023-04-05T19:59:50.768445Z",
     "start_time": "2023-04-05T19:59:44.483232Z"
    },
    "id": "ShecT6jv57RE"
   },
   "outputs": [
    {
     "name": "stdout",
     "output_type": "stream",
     "text": [
      "step #0 | mean loss = 0.672\n",
      "step #10 | mean loss = 0.586\n",
      "step #20 | mean loss = 0.479\n",
      "step #30 | mean loss = 0.407\n",
      "step #40 | mean loss = 0.365\n",
      "step #50 | mean loss = 0.325\n",
      "step #60 | mean loss = 0.321\n",
      "step #70 | mean loss = 0.284\n",
      "step #80 | mean loss = 0.276\n",
      "step #90 | mean loss = 0.261\n",
      "step #100 | mean loss = 0.247\n",
      "step #110 | mean loss = 0.232\n",
      "step #120 | mean loss = 0.226\n",
      "step #130 | mean loss = 0.235\n",
      "step #140 | mean loss = 0.224\n",
      "step #150 | mean loss = 0.226\n",
      "step #160 | mean loss = 0.209\n",
      "step #170 | mean loss = 0.206\n",
      "step #180 | mean loss = 0.199\n",
      "step #190 | mean loss = 0.196\n",
      "step #200 | mean loss = 0.183\n",
      "step #210 | mean loss = 0.200\n",
      "step #220 | mean loss = 0.187\n",
      "step #230 | mean loss = 0.179\n",
      "step #240 | mean loss = 0.180\n",
      "step #250 | mean loss = 0.163\n",
      "step #260 | mean loss = 0.171\n",
      "step #270 | mean loss = 0.172\n",
      "step #280 | mean loss = 0.177\n",
      "step #290 | mean loss = 0.158\n",
      "step #300 | mean loss = 0.164\n",
      "step #310 | mean loss = 0.162\n",
      "step #320 | mean loss = 0.170\n",
      "step #330 | mean loss = 0.168\n",
      "step #340 | mean loss = 0.156\n",
      "step #350 | mean loss = 0.160\n",
      "step #360 | mean loss = 0.153\n",
      "step #370 | mean loss = 0.160\n",
      "step #380 | mean loss = 0.158\n",
      "step #390 | mean loss = 0.162\n",
      "step #400 | mean loss = 0.145\n",
      "step #410 | mean loss = 0.150\n",
      "step #420 | mean loss = 0.151\n",
      "step #430 | mean loss = 0.149\n",
      "step #440 | mean loss = 0.145\n",
      "step #450 | mean loss = 0.149\n",
      "step #460 | mean loss = 0.146\n",
      "step #470 | mean loss = 0.146\n",
      "step #480 | mean loss = 0.137\n",
      "step #490 | mean loss = 0.149\n",
      "step #500 | mean loss = 0.136\n",
      "step #510 | mean loss = 0.145\n",
      "step #520 | mean loss = 0.143\n",
      "step #530 | mean loss = 0.138\n",
      "step #540 | mean loss = 0.129\n",
      "step #550 | mean loss = 0.133\n",
      "step #560 | mean loss = 0.137\n",
      "step #570 | mean loss = 0.127\n",
      "step #580 | mean loss = 0.129\n",
      "step #590 | mean loss = 0.125\n",
      "step #600 | mean loss = 0.129\n",
      "step #610 | mean loss = 0.125\n",
      "step #620 | mean loss = 0.129\n",
      "step #630 | mean loss = 0.122\n",
      "step #640 | mean loss = 0.122\n",
      "step #650 | mean loss = 0.127\n",
      "step #660 | mean loss = 0.128\n",
      "step #670 | mean loss = 0.135\n",
      "step #680 | mean loss = 0.119\n",
      "step #690 | mean loss = 0.115\n",
      "step #700 | mean loss = 0.116\n",
      "step #710 | mean loss = 0.126\n",
      "step #720 | mean loss = 0.123\n",
      "step #730 | mean loss = 0.115\n",
      "step #740 | mean loss = 0.129\n",
      "step #750 | mean loss = 0.129\n",
      "step #760 | mean loss = 0.125\n",
      "step #770 | mean loss = 0.118\n",
      "step #780 | mean loss = 0.119\n",
      "step #790 | mean loss = 0.113\n",
      "step #800 | mean loss = 0.121\n",
      "step #810 | mean loss = 0.113\n",
      "step #820 | mean loss = 0.115\n",
      "step #830 | mean loss = 0.119\n",
      "step #840 | mean loss = 0.114\n",
      "step #850 | mean loss = 0.118\n",
      "step #860 | mean loss = 0.103\n",
      "step #870 | mean loss = 0.120\n",
      "step #880 | mean loss = 0.107\n",
      "step #890 | mean loss = 0.109\n",
      "step #900 | mean loss = 0.120\n",
      "step #910 | mean loss = 0.103\n",
      "step #920 | mean loss = 0.120\n",
      "step #930 | mean loss = 0.112\n",
      "step #940 | mean loss = 0.107\n",
      "step #950 | mean loss = 0.113\n",
      "step #960 | mean loss = 0.114\n",
      "step #970 | mean loss = 0.097\n",
      "step #980 | mean loss = 0.112\n",
      "step #990 | mean loss = 0.106\n",
      "step #1000 | mean loss = 0.105\n",
      "step #1010 | mean loss = 0.109\n",
      "step #1020 | mean loss = 0.098\n",
      "step #1030 | mean loss = 0.111\n",
      "step #1040 | mean loss = 0.107\n",
      "step #1050 | mean loss = 0.108\n",
      "step #1060 | mean loss = 0.117\n",
      "step #1070 | mean loss = 0.111\n",
      "step #1080 | mean loss = 0.102\n",
      "step #1090 | mean loss = 0.104\n",
      "step #1100 | mean loss = 0.112\n",
      "step #1110 | mean loss = 0.111\n",
      "step #1120 | mean loss = 0.107\n",
      "step #1130 | mean loss = 0.100\n",
      "step #1140 | mean loss = 0.104\n",
      "step #1150 | mean loss = 0.109\n",
      "step #1160 | mean loss = 0.105\n",
      "step #1170 | mean loss = 0.103\n",
      "step #1180 | mean loss = 0.106\n",
      "step #1190 | mean loss = 0.103\n",
      "step #1200 | mean loss = 0.099\n",
      "step #1210 | mean loss = 0.098\n",
      "step #1220 | mean loss = 0.115\n",
      "step #1230 | mean loss = 0.099\n",
      "step #1240 | mean loss = 0.099\n",
      "step #1250 | mean loss = 0.107\n",
      "step #1260 | mean loss = 0.107\n",
      "step #1270 | mean loss = 0.104\n",
      "step #1280 | mean loss = 0.100\n",
      "step #1290 | mean loss = 0.104\n",
      "step #1300 | mean loss = 0.106\n",
      "step #1310 | mean loss = 0.106\n",
      "step #1320 | mean loss = 0.108\n",
      "step #1330 | mean loss = 0.103\n",
      "step #1340 | mean loss = 0.099\n",
      "step #1350 | mean loss = 0.101\n",
      "step #1360 | mean loss = 0.099\n",
      "step #1370 | mean loss = 0.095\n",
      "step #1380 | mean loss = 0.107\n",
      "step #1390 | mean loss = 0.100\n",
      "step #1400 | mean loss = 0.095\n",
      "step #1410 | mean loss = 0.105\n",
      "step #1420 | mean loss = 0.101\n",
      "step #1430 | mean loss = 0.097\n",
      "step #1440 | mean loss = 0.098\n",
      "step #1450 | mean loss = 0.092\n",
      "step #1460 | mean loss = 0.092\n",
      "step #1470 | mean loss = 0.096\n",
      "step #1480 | mean loss = 0.100\n",
      "step #1490 | mean loss = 0.106\n",
      "step #1500 | mean loss = 0.102\n",
      "step #1510 | mean loss = 0.095\n",
      "step #1520 | mean loss = 0.098\n",
      "step #1530 | mean loss = 0.100\n",
      "step #1540 | mean loss = 0.095\n",
      "step #1550 | mean loss = 0.107\n",
      "step #1560 | mean loss = 0.083\n",
      "step #1570 | mean loss = 0.097\n",
      "step #1580 | mean loss = 0.091\n",
      "step #1590 | mean loss = 0.097\n",
      "step #1600 | mean loss = 0.089\n",
      "step #1610 | mean loss = 0.093\n",
      "step #1620 | mean loss = 0.104\n",
      "step #1630 | mean loss = 0.099\n",
      "step #1640 | mean loss = 0.098\n",
      "step #1650 | mean loss = 0.096\n",
      "step #1660 | mean loss = 0.099\n",
      "step #1670 | mean loss = 0.094\n",
      "step #1680 | mean loss = 0.094\n",
      "step #1690 | mean loss = 0.102\n",
      "step #1700 | mean loss = 0.100\n",
      "step #1710 | mean loss = 0.092\n",
      "step #1720 | mean loss = 0.111\n",
      "step #1730 | mean loss = 0.094\n",
      "step #1740 | mean loss = 0.099\n",
      "step #1750 | mean loss = 0.107\n",
      "step #1760 | mean loss = 0.087\n",
      "step #1770 | mean loss = 0.100\n",
      "step #1780 | mean loss = 0.089\n",
      "step #1790 | mean loss = 0.094\n",
      "step #1800 | mean loss = 0.095\n",
      "step #1810 | mean loss = 0.090\n",
      "step #1820 | mean loss = 0.094\n",
      "step #1830 | mean loss = 0.092\n",
      "step #1840 | mean loss = 0.100\n",
      "step #1850 | mean loss = 0.093\n",
      "step #1860 | mean loss = 0.086\n",
      "step #1870 | mean loss = 0.097\n",
      "step #1880 | mean loss = 0.091\n",
      "step #1890 | mean loss = 0.101\n",
      "step #1900 | mean loss = 0.098\n",
      "step #1910 | mean loss = 0.088\n",
      "step #1920 | mean loss = 0.095\n",
      "step #1930 | mean loss = 0.080\n",
      "step #1940 | mean loss = 0.083\n",
      "step #1950 | mean loss = 0.096\n",
      "step #1960 | mean loss = 0.089\n",
      "step #1970 | mean loss = 0.090\n",
      "step #1980 | mean loss = 0.097\n",
      "step #1990 | mean loss = 0.094\n",
      "step #2000 | mean loss = 0.096\n",
      "step #2010 | mean loss = 0.091\n",
      "step #2020 | mean loss = 0.096\n",
      "step #2030 | mean loss = 0.087\n",
      "step #2040 | mean loss = 0.084\n",
      "step #2050 | mean loss = 0.081\n",
      "step #2060 | mean loss = 0.080\n",
      "step #2070 | mean loss = 0.086\n",
      "step #2080 | mean loss = 0.092\n",
      "step #2090 | mean loss = 0.090\n",
      "step #2100 | mean loss = 0.091\n",
      "step #2110 | mean loss = 0.088\n",
      "step #2120 | mean loss = 0.089\n",
      "step #2130 | mean loss = 0.094\n",
      "step #2140 | mean loss = 0.096\n",
      "step #2150 | mean loss = 0.088\n",
      "step #2160 | mean loss = 0.077\n",
      "step #2170 | mean loss = 0.085\n",
      "step #2180 | mean loss = 0.085\n",
      "step #2190 | mean loss = 0.090\n",
      "step #2200 | mean loss = 0.096\n",
      "step #2210 | mean loss = 0.097\n",
      "step #2220 | mean loss = 0.101\n",
      "step #2230 | mean loss = 0.095\n",
      "step #2240 | mean loss = 0.084\n",
      "step #2250 | mean loss = 0.089\n",
      "step #2260 | mean loss = 0.080\n",
      "step #2270 | mean loss = 0.085\n",
      "step #2280 | mean loss = 0.090\n",
      "step #2290 | mean loss = 0.084\n",
      "step #2300 | mean loss = 0.086\n",
      "step #2310 | mean loss = 0.084\n",
      "step #2320 | mean loss = 0.089\n",
      "step #2330 | mean loss = 0.095\n",
      "step #2340 | mean loss = 0.077\n",
      "step #2350 | mean loss = 0.087\n",
      "step #2360 | mean loss = 0.086\n",
      "step #2370 | mean loss = 0.084\n",
      "step #2380 | mean loss = 0.086\n",
      "step #2390 | mean loss = 0.090\n",
      "step #2400 | mean loss = 0.085\n",
      "step #2410 | mean loss = 0.081\n",
      "step #2420 | mean loss = 0.089\n",
      "step #2430 | mean loss = 0.084\n",
      "step #2440 | mean loss = 0.085\n",
      "step #2450 | mean loss = 0.099\n",
      "step #2460 | mean loss = 0.086\n",
      "step #2470 | mean loss = 0.077\n",
      "step #2480 | mean loss = 0.088\n",
      "step #2490 | mean loss = 0.082\n",
      "step #2500 | mean loss = 0.079\n",
      "step #2510 | mean loss = 0.090\n",
      "step #2520 | mean loss = 0.085\n",
      "step #2530 | mean loss = 0.085\n",
      "step #2540 | mean loss = 0.076\n",
      "step #2550 | mean loss = 0.074\n",
      "step #2560 | mean loss = 0.076\n",
      "step #2570 | mean loss = 0.077\n",
      "step #2580 | mean loss = 0.077\n",
      "step #2590 | mean loss = 0.086\n",
      "step #2600 | mean loss = 0.084\n",
      "step #2610 | mean loss = 0.081\n",
      "step #2620 | mean loss = 0.075\n",
      "step #2630 | mean loss = 0.101\n",
      "step #2640 | mean loss = 0.080\n",
      "step #2650 | mean loss = 0.081\n",
      "step #2660 | mean loss = 0.080\n",
      "step #2670 | mean loss = 0.078\n",
      "step #2680 | mean loss = 0.079\n",
      "step #2690 | mean loss = 0.080\n",
      "step #2700 | mean loss = 0.080\n",
      "step #2710 | mean loss = 0.093\n",
      "step #2720 | mean loss = 0.091\n",
      "step #2730 | mean loss = 0.080\n",
      "step #2740 | mean loss = 0.079\n",
      "step #2750 | mean loss = 0.087\n",
      "step #2760 | mean loss = 0.083\n",
      "step #2770 | mean loss = 0.089\n",
      "step #2780 | mean loss = 0.082\n",
      "step #2790 | mean loss = 0.084\n",
      "step #2800 | mean loss = 0.086\n",
      "step #2810 | mean loss = 0.083\n",
      "step #2820 | mean loss = 0.084\n",
      "step #2830 | mean loss = 0.088\n",
      "step #2840 | mean loss = 0.083\n",
      "step #2850 | mean loss = 0.078\n",
      "step #2860 | mean loss = 0.081\n",
      "step #2870 | mean loss = 0.083\n",
      "step #2880 | mean loss = 0.080\n",
      "step #2890 | mean loss = 0.092\n",
      "step #2900 | mean loss = 0.087\n",
      "step #2910 | mean loss = 0.079\n",
      "step #2920 | mean loss = 0.081\n",
      "step #2930 | mean loss = 0.085\n",
      "step #2940 | mean loss = 0.082\n",
      "step #2950 | mean loss = 0.079\n",
      "step #2960 | mean loss = 0.085\n",
      "step #2970 | mean loss = 0.079\n",
      "step #2980 | mean loss = 0.076\n",
      "step #2990 | mean loss = 0.074\n",
      "step #3000 | mean loss = 0.075\n",
      "step #3010 | mean loss = 0.086\n",
      "step #3020 | mean loss = 0.085\n",
      "step #3030 | mean loss = 0.075\n",
      "step #3040 | mean loss = 0.082\n",
      "step #3050 | mean loss = 0.090\n",
      "step #3060 | mean loss = 0.079\n",
      "step #3070 | mean loss = 0.087\n",
      "step #3080 | mean loss = 0.074\n",
      "step #3090 | mean loss = 0.087\n",
      "step #3100 | mean loss = 0.076\n",
      "step #3110 | mean loss = 0.081\n",
      "step #3120 | mean loss = 0.088\n",
      "step #3130 | mean loss = 0.081\n",
      "step #3140 | mean loss = 0.075\n",
      "step #3150 | mean loss = 0.089\n",
      "step #3160 | mean loss = 0.075\n",
      "step #3170 | mean loss = 0.085\n",
      "step #3180 | mean loss = 0.086\n",
      "step #3190 | mean loss = 0.080\n",
      "step #3200 | mean loss = 0.075\n",
      "step #3210 | mean loss = 0.076\n",
      "step #3220 | mean loss = 0.076\n",
      "step #3230 | mean loss = 0.070\n",
      "step #3240 | mean loss = 0.074\n",
      "step #3250 | mean loss = 0.075\n",
      "step #3260 | mean loss = 0.079\n",
      "step #3270 | mean loss = 0.079\n",
      "step #3280 | mean loss = 0.083\n",
      "step #3290 | mean loss = 0.089\n",
      "step #3300 | mean loss = 0.089\n",
      "step #3310 | mean loss = 0.080\n",
      "step #3320 | mean loss = 0.078\n",
      "step #3330 | mean loss = 0.082\n",
      "step #3340 | mean loss = 0.071\n",
      "step #3350 | mean loss = 0.079\n",
      "step #3360 | mean loss = 0.084\n",
      "step #3370 | mean loss = 0.082\n",
      "step #3380 | mean loss = 0.077\n",
      "step #3390 | mean loss = 0.074\n",
      "step #3400 | mean loss = 0.079\n",
      "step #3410 | mean loss = 0.081\n",
      "step #3420 | mean loss = 0.085\n",
      "step #3430 | mean loss = 0.076\n",
      "step #3440 | mean loss = 0.075\n",
      "step #3450 | mean loss = 0.079\n",
      "step #3460 | mean loss = 0.069\n",
      "step #3470 | mean loss = 0.090\n",
      "step #3480 | mean loss = 0.072\n",
      "step #3490 | mean loss = 0.069\n",
      "step #3500 | mean loss = 0.074\n",
      "step #3510 | mean loss = 0.075\n",
      "step #3520 | mean loss = 0.073\n",
      "step #3530 | mean loss = 0.090\n",
      "step #3540 | mean loss = 0.072\n",
      "step #3550 | mean loss = 0.079\n",
      "step #3560 | mean loss = 0.079\n",
      "step #3570 | mean loss = 0.090\n",
      "step #3580 | mean loss = 0.073\n",
      "step #3590 | mean loss = 0.080\n",
      "step #3600 | mean loss = 0.076\n",
      "step #3610 | mean loss = 0.082\n",
      "step #3620 | mean loss = 0.080\n",
      "step #3630 | mean loss = 0.068\n",
      "step #3640 | mean loss = 0.067\n",
      "step #3650 | mean loss = 0.074\n",
      "step #3660 | mean loss = 0.074\n",
      "step #3670 | mean loss = 0.082\n",
      "step #3680 | mean loss = 0.079\n",
      "step #3690 | mean loss = 0.071\n",
      "step #3700 | mean loss = 0.076\n",
      "step #3710 | mean loss = 0.079\n",
      "step #3720 | mean loss = 0.068\n",
      "step #3730 | mean loss = 0.079\n",
      "step #3740 | mean loss = 0.085\n",
      "step #3750 | mean loss = 0.077\n",
      "step #3760 | mean loss = 0.089\n",
      "step #3770 | mean loss = 0.081\n",
      "step #3780 | mean loss = 0.073\n",
      "step #3790 | mean loss = 0.075\n",
      "step #3800 | mean loss = 0.080\n",
      "step #3810 | mean loss = 0.084\n",
      "step #3820 | mean loss = 0.069\n",
      "step #3830 | mean loss = 0.083\n",
      "step #3840 | mean loss = 0.080\n",
      "step #3850 | mean loss = 0.071\n",
      "step #3860 | mean loss = 0.075\n",
      "step #3870 | mean loss = 0.087\n",
      "step #3880 | mean loss = 0.075\n",
      "step #3890 | mean loss = 0.072\n",
      "step #3900 | mean loss = 0.083\n",
      "step #3910 | mean loss = 0.080\n",
      "step #3920 | mean loss = 0.081\n",
      "step #3930 | mean loss = 0.074\n",
      "step #3940 | mean loss = 0.075\n",
      "step #3950 | mean loss = 0.070\n",
      "step #3960 | mean loss = 0.087\n",
      "step #3970 | mean loss = 0.078\n",
      "step #3980 | mean loss = 0.072\n",
      "step #3990 | mean loss = 0.078\n",
      "step #4000 | mean loss = 0.079\n",
      "step #4010 | mean loss = 0.078\n",
      "step #4020 | mean loss = 0.086\n",
      "step #4030 | mean loss = 0.078\n",
      "step #4040 | mean loss = 0.074\n",
      "step #4050 | mean loss = 0.075\n",
      "step #4060 | mean loss = 0.073\n",
      "step #4070 | mean loss = 0.068\n",
      "step #4080 | mean loss = 0.082\n",
      "step #4090 | mean loss = 0.081\n",
      "step #4100 | mean loss = 0.072\n",
      "step #4110 | mean loss = 0.083\n",
      "step #4120 | mean loss = 0.066\n",
      "step #4130 | mean loss = 0.071\n",
      "step #4140 | mean loss = 0.083\n",
      "step #4150 | mean loss = 0.068\n",
      "step #4160 | mean loss = 0.067\n",
      "step #4170 | mean loss = 0.081\n",
      "step #4180 | mean loss = 0.076\n",
      "step #4190 | mean loss = 0.072\n",
      "step #4200 | mean loss = 0.075\n",
      "step #4210 | mean loss = 0.078\n",
      "step #4220 | mean loss = 0.071\n",
      "step #4230 | mean loss = 0.074\n",
      "step #4240 | mean loss = 0.079\n",
      "step #4250 | mean loss = 0.073\n",
      "step #4260 | mean loss = 0.073\n",
      "step #4270 | mean loss = 0.073\n",
      "step #4280 | mean loss = 0.069\n",
      "step #4290 | mean loss = 0.069\n",
      "step #4300 | mean loss = 0.073\n",
      "step #4310 | mean loss = 0.075\n",
      "step #4320 | mean loss = 0.076\n",
      "step #4330 | mean loss = 0.067\n",
      "step #4340 | mean loss = 0.071\n",
      "step #4350 | mean loss = 0.067\n",
      "step #4360 | mean loss = 0.084\n",
      "step #4370 | mean loss = 0.087\n",
      "step #4380 | mean loss = 0.070\n",
      "step #4390 | mean loss = 0.075\n",
      "step #4400 | mean loss = 0.081\n",
      "step #4410 | mean loss = 0.065\n",
      "step #4420 | mean loss = 0.087\n",
      "step #4430 | mean loss = 0.072\n",
      "step #4440 | mean loss = 0.069\n",
      "step #4450 | mean loss = 0.071\n",
      "step #4460 | mean loss = 0.082\n",
      "step #4470 | mean loss = 0.072\n",
      "step #4480 | mean loss = 0.079\n",
      "step #4490 | mean loss = 0.074\n",
      "step #4500 | mean loss = 0.071\n",
      "step #4510 | mean loss = 0.075\n",
      "step #4520 | mean loss = 0.069\n",
      "step #4530 | mean loss = 0.076\n",
      "step #4540 | mean loss = 0.076\n",
      "step #4550 | mean loss = 0.072\n",
      "step #4560 | mean loss = 0.074\n",
      "step #4570 | mean loss = 0.062\n",
      "step #4580 | mean loss = 0.078\n",
      "step #4590 | mean loss = 0.083\n",
      "step #4600 | mean loss = 0.069\n",
      "step #4610 | mean loss = 0.067\n",
      "step #4620 | mean loss = 0.075\n",
      "step #4630 | mean loss = 0.074\n",
      "step #4640 | mean loss = 0.086\n",
      "step #4650 | mean loss = 0.070\n",
      "step #4660 | mean loss = 0.074\n",
      "step #4670 | mean loss = 0.073\n",
      "step #4680 | mean loss = 0.075\n",
      "step #4690 | mean loss = 0.071\n",
      "step #4700 | mean loss = 0.081\n",
      "step #4710 | mean loss = 0.076\n",
      "step #4720 | mean loss = 0.069\n",
      "step #4730 | mean loss = 0.078\n",
      "step #4740 | mean loss = 0.069\n",
      "step #4750 | mean loss = 0.065\n",
      "step #4760 | mean loss = 0.067\n",
      "step #4770 | mean loss = 0.075\n",
      "step #4780 | mean loss = 0.079\n",
      "step #4790 | mean loss = 0.064\n",
      "step #4800 | mean loss = 0.079\n",
      "step #4810 | mean loss = 0.065\n",
      "step #4820 | mean loss = 0.078\n",
      "step #4830 | mean loss = 0.072\n",
      "step #4840 | mean loss = 0.077\n",
      "step #4850 | mean loss = 0.065\n",
      "step #4860 | mean loss = 0.073\n",
      "step #4870 | mean loss = 0.072\n",
      "step #4880 | mean loss = 0.070\n",
      "step #4890 | mean loss = 0.085\n",
      "step #4900 | mean loss = 0.075\n",
      "step #4910 | mean loss = 0.081\n",
      "step #4920 | mean loss = 0.073\n",
      "step #4930 | mean loss = 0.072\n",
      "step #4940 | mean loss = 0.071\n",
      "step #4950 | mean loss = 0.069\n",
      "step #4960 | mean loss = 0.076\n",
      "step #4970 | mean loss = 0.073\n",
      "step #4980 | mean loss = 0.071\n",
      "step #4990 | mean loss = 0.067\n"
     ]
    }
   ],
   "source": [
    "history = []\n",
    "\n",
    "for i in range(5000):\n",
    "    # sample 256 random images\n",
    "    ix = np.random.randint(0, len(X_train), 256)\n",
    "    x_batch = torch.tensor(X_train[ix], dtype=torch.float32)\n",
    "    y_batch = torch.tensor(y_train[ix], dtype=torch.float32)\n",
    "\n",
    "    # predict probabilities\n",
    "    y_predicted = model(x_batch)[:, 0]\n",
    "\n",
    "    assert y_predicted.dim() == 1, \"did you forget to select first column with [:, 0]\"\n",
    "\n",
    "    # compute loss, just like before\n",
    "    loss = nn.functional.binary_cross_entropy(y_predicted, y_batch)\n",
    "\n",
    "    # compute gradients\n",
    "    loss.backward()\n",
    "\n",
    "    # SGD step\n",
    "    opt.step()\n",
    "\n",
    "    # clear gradients\n",
    "    opt.zero_grad()\n",
    "\n",
    "    history.append(loss.data.numpy())\n",
    "\n",
    "    if i % 10 == 0:\n",
    "        print(\"step #%i | mean loss = %.3f\" % (i, np.mean(history[-10:])))"
   ]
  },
  {
   "cell_type": "markdown",
   "metadata": {
    "id": "N40TyFWO57RE"
   },
   "source": [
    "__Debugging tips:__\n",
    "* make sure your model predicts probabilities correctly. Just print them and see what's inside.\n",
    "* don't forget _minus_ sign in the loss function! It's a mistake 99% ppl do at some point.\n",
    "* make sure you zero-out gradients after each step. Srsly:)\n",
    "* In general, pytorch's error messages are quite helpful, read 'em before you google 'em.\n",
    "* if you see nan/inf, print what happens at each iteration to find our where exactly it occurs.\n",
    "  * If loss goes down and then turns nan midway through, try smaller learning rate. (Our current loss formula is unstable).\n"
   ]
  },
  {
   "cell_type": "markdown",
   "metadata": {
    "id": "IY3w-S5G57RE"
   },
   "source": [
    "## Evaluation\n",
    "\n",
    "Let's see how our model performs on test data"
   ]
  },
  {
   "cell_type": "code",
   "execution_count": 40,
   "metadata": {
    "ExecuteTime": {
     "end_time": "2023-04-05T19:59:54.213129Z",
     "start_time": "2023-04-05T19:59:54.210008Z"
    },
    "id": "hnRm21y257RE"
   },
   "outputs": [
    {
     "name": "stdout",
     "output_type": "stream",
     "text": [
      "Test accuracy: 0.96051\n",
      "Great job!\n"
     ]
    }
   ],
   "source": [
    "# use your model to predict classes (0 or 1) for all test samples\n",
    "pred_test = model(torch.from_numpy(X_test))[:, 0]\n",
    "pred_test = np.array(pred_test > 0.5)\n",
    "\n",
    "assert isinstance(pred_test, np.ndarray), \"please return np array, not %s\" % type(pred_test)\n",
    "assert pred_test.shape == y_test.shape, \"please predict one class for each test sample\"\n",
    "assert np.in1d(pred_test, y_test).all(), \"please predict class indexes\"\n",
    "\n",
    "accuracy = np.mean(pred_test == y_test)\n",
    "print(\"Test accuracy: %.5f\" % accuracy)\n",
    "\n",
    "assert accuracy > 0.95, \"try training longer\"\n",
    "\n",
    "print(\"Great job!\")"
   ]
  },
  {
   "cell_type": "markdown",
   "metadata": {
    "id": "4-5heLDB57RF"
   },
   "source": [
    "## More about pytorch:\n",
    "\n",
    "* Using torch on GPU and multi-GPU - [link](http://pytorch.org/docs/master/notes/cuda.html)\n",
    "* More tutorials on pytorch - [link](http://pytorch.org/tutorials/beginner/deep_learning_60min_blitz.html)\n",
    "* Pytorch examples - a repo that implements many cool DL models in pytorch - [link](https://github.com/pytorch/examples)\n",
    "* Practical pytorch - a repo that implements some... other cool DL models... yes, in pytorch - [link](https://github.com/spro/practical-pytorch)\n",
    "* And some more - [link](https://www.reddit.com/r/pytorch/comments/6z0yeo/pytorch_and_pytorch_tricks_for_kaggle/)"
   ]
  },
  {
   "cell_type": "markdown",
   "metadata": {
    "id": "mxDWe6Ka57RF"
   },
   "source": [
    "## Outline\n",
    "* PyTorch is a great choice to start writing simple (and not so simple) models from scratch\n",
    "* Autodiff will help you to get the derivatives even for complex functions (if implemented correctly), so use it wisely\n",
    "* Be careful with data normalization and monitor your loss/gradients values"
   ]
  }
 ],
 "metadata": {
  "colab": {
   "provenance": []
  },
  "kernelspec": {
   "display_name": "Python 3 (ipykernel)",
   "language": "python",
   "name": "python3"
  },
  "language_info": {
   "codemirror_mode": {
    "name": "ipython",
    "version": 3
   },
   "file_extension": ".py",
   "mimetype": "text/x-python",
   "name": "python",
   "nbconvert_exporter": "python",
   "pygments_lexer": "ipython3",
   "version": "3.12.5"
  },
  "toc": {
   "base_numbering": 1,
   "nav_menu": {},
   "number_sections": true,
   "sideBar": true,
   "skip_h1_title": false,
   "title_cell": "Table of Contents",
   "title_sidebar": "Contents",
   "toc_cell": false,
   "toc_position": {},
   "toc_section_display": true,
   "toc_window_display": true
  }
 },
 "nbformat": 4,
 "nbformat_minor": 0
}
