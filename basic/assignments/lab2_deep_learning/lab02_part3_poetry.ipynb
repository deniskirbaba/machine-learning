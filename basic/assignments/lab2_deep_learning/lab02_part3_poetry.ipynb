{
 "cells": [
  {
   "cell_type": "markdown",
   "metadata": {},
   "source": [
    "# Lab 2. Part 3. Poetry generation\n",
    "\n",
    "Let's try to generate some poetry using RNNs. \n",
    "\n",
    "You have several choices here: \n",
    "\n",
    "* The Shakespeare sonnets, file `sonnets.txt` available in the notebook directory.\n",
    "\n",
    "* Роман в стихах \"Евгений Онегин\" Александра Сергеевича Пушкина. В предобработанном виде доступен по [ссылке](https://github.com/attatrol/data_sources/blob/master/onegin.txt).\n",
    "\n",
    "* Some other text source, if it will be approved by the course staff.\n",
    "\n",
    "Text generation can be designed in several steps:\n",
    "    \n",
    "1. Data loading.\n",
    "2. Dictionary generation.\n",
    "3. Data preprocessing.\n",
    "4. Model (neural network) training.\n",
    "5. Text generation (model evaluation).\n"
   ]
  },
  {
   "cell_type": "code",
   "execution_count": 34,
   "metadata": {},
   "outputs": [],
   "source": [
    "import string\n",
    "import os\n",
    "import torch\n",
    "import torch.nn as nn\n",
    "import numpy as np\n",
    "from IPython.display import clear_output\n",
    "from tqdm.notebook import tqdm\n",
    "import matplotlib.pyplot as plt\n",
    "import torch.nn.functional as F"
   ]
  },
  {
   "cell_type": "markdown",
   "metadata": {},
   "source": [
    "## Data handling"
   ]
  },
  {
   "cell_type": "markdown",
   "metadata": {},
   "source": [
    "### Data loading: Shakespeare"
   ]
  },
  {
   "cell_type": "markdown",
   "metadata": {},
   "source": [
    "Shakespeare sonnets are awailable at this [link](http://www.gutenberg.org/ebooks/1041?msg=welcome_stranger). In addition, they are stored in the same directory as this notebook (`sonnetes.txt`). Simple preprocessing is already done for you in the next cell: all technical info is dropped."
   ]
  },
  {
   "cell_type": "code",
   "execution_count": 22,
   "metadata": {
    "collapsed": true
   },
   "outputs": [],
   "source": [
    "if not os.path.exists('sonnets.txt'):\n",
    "    !wget https://raw.githubusercontent.com/girafe-ai/ml-course/22f_basic/homeworks_basic/lab02_deep_learning/sonnets.txt\n",
    "\n",
    "with open('sonnets.txt', 'r') as iofile:\n",
    "    text = iofile.readlines()\n",
    "    \n",
    "TEXT_START = 45\n",
    "TEXT_END = -368\n",
    "text = text[TEXT_START : TEXT_END]\n",
    "assert len(text) == 2616"
   ]
  },
  {
   "cell_type": "markdown",
   "metadata": {},
   "source": [
    "In opposite to the in-class practice, this time we want to predict complex text. Let's reduce the complexity of the task and lowercase all the symbols.\n",
    "\n",
    "Now variable `text` is a list of strings. Join all the strings into one and lowercase it."
   ]
  },
  {
   "cell_type": "code",
   "execution_count": 3,
   "metadata": {},
   "outputs": [],
   "source": [
    "# Join all the strings into one and lowercase it\n",
    "# Put result into variable text.\n",
    "\n",
    "# Your great code here\n",
    "\n",
    "assert len(text) == 100225, 'Are you sure you have concatenated all the strings?'\n",
    "assert not any([x in set(text) for x in string.ascii_uppercase]), 'Uppercase letters are present'\n",
    "print('OK!')"
   ]
  },
  {
   "cell_type": "markdown",
   "metadata": {},
   "source": [
    "### Data loading: \"Евгений Онегин\"\n"
   ]
  },
  {
   "cell_type": "code",
   "execution_count": 35,
   "metadata": {},
   "outputs": [
    {
     "name": "stdout",
     "output_type": "stream",
     "text": [
      "--2024-08-23 13:05:24--  https://raw.githubusercontent.com/attatrol/data_sources/master/onegin.txt\n",
      "Resolving raw.githubusercontent.com (raw.githubusercontent.com)... 185.199.110.133, 185.199.111.133, 185.199.109.133, ...\n",
      "Connecting to raw.githubusercontent.com (raw.githubusercontent.com)|185.199.110.133|:443... connected.\n",
      "HTTP request sent, awaiting response... 200 OK\n",
      "Length: 262521 (256K) [text/plain]\n",
      "Saving to: ‘onegin.txt.6’\n",
      "\n",
      "onegin.txt.6        100%[===================>] 256.37K   850KB/s    in 0.3s    \n",
      "\n",
      "2024-08-23 13:05:26 (850 KB/s) - ‘onegin.txt.6’ saved [262521/262521]\n",
      "\n"
     ]
    }
   ],
   "source": [
    "!wget https://raw.githubusercontent.com/attatrol/data_sources/master/onegin.txt\n",
    "    \n",
    "with open('onegin.txt', 'r') as iofile:\n",
    "    text = iofile.readlines()\n",
    "    \n",
    "text = [x.replace('\\t\\t', '') for x in text]"
   ]
  },
  {
   "cell_type": "markdown",
   "metadata": {},
   "source": [
    "In opposite to the in-class practice, this time we want to predict complex text. Let's reduce the complexity of the task and lowercase all the symbols.\n",
    "\n",
    "Now variable `text` is a list of strings. Join all the strings into one and lowercase it."
   ]
  },
  {
   "cell_type": "code",
   "execution_count": 36,
   "metadata": {},
   "outputs": [
    {
     "name": "stdout",
     "output_type": "stream",
     "text": [
      "20.018058690744923\n"
     ]
    }
   ],
   "source": [
    "lines_len = list()\n",
    "for line in text:\n",
    "    lines_len.append(len(line))\n",
    "print(np.mean(lines_len))"
   ]
  },
  {
   "cell_type": "code",
   "execution_count": 37,
   "metadata": {},
   "outputs": [
    {
     "data": {
      "text/plain": [
       "7088"
      ]
     },
     "execution_count": 37,
     "metadata": {},
     "output_type": "execute_result"
    }
   ],
   "source": [
    "len(text)"
   ]
  },
  {
   "cell_type": "code",
   "execution_count": 38,
   "metadata": {},
   "outputs": [],
   "source": [
    "text = np.array(text)"
   ]
  },
  {
   "cell_type": "code",
   "execution_count": 47,
   "metadata": {},
   "outputs": [],
   "source": [
    "# Split the dataset (lines) on train/validation sets\n",
    "train_valid_test_ratios = [0.8, 0.1, 0.1]\n",
    "\n",
    "n_total_lines = len(text)\n",
    "n_train_lines = round(train_valid_test_ratios[0] * n_total_lines)\n",
    "n_valid_lines = round(train_valid_test_ratios[1] * n_total_lines)\n",
    "n_test_lines = n_total_lines - n_train_lines - n_valid_lines\n",
    "\n",
    "indices = np.arange(n_total_lines)\n",
    "np.random.shuffle(indices)\n",
    "\n",
    "train_indices = indices[:n_train_lines]\n",
    "valid_indices = indices[n_train_lines:n_train_lines + n_valid_lines]\n",
    "test_indices = indices[n_train_lines + n_valid_lines:]\n",
    "\n",
    "train_text = text[train_indices]\n",
    "valid_text = text[valid_indices]\n",
    "test_text = text[test_indices]"
   ]
  },
  {
   "cell_type": "code",
   "execution_count": 48,
   "metadata": {},
   "outputs": [],
   "source": [
    "# Join all the strings into one and lowercase it\n",
    "# Put result into variable text.\n",
    "\n",
    "# Your great code here\n",
    "train_text = ''.join(train_text).lower()\n",
    "valid_text = ''.join(valid_text).lower()\n",
    "test_text = ''.join(test_text).lower()"
   ]
  },
  {
   "cell_type": "code",
   "execution_count": 49,
   "metadata": {},
   "outputs": [
    {
     "data": {
      "text/plain": [
       "(113751, 14105, 14032)"
      ]
     },
     "execution_count": 49,
     "metadata": {},
     "output_type": "execute_result"
    }
   ],
   "source": [
    "len(train_text), len(valid_text), len(test_text)"
   ]
  },
  {
   "cell_type": "markdown",
   "metadata": {},
   "source": [
    "Put all the characters, that you've seen in the text, into variable `tokens`."
   ]
  },
  {
   "cell_type": "code",
   "execution_count": 50,
   "metadata": {},
   "outputs": [
    {
     "data": {
      "text/plain": [
       "(83, 57, 64)"
      ]
     },
     "execution_count": 50,
     "metadata": {},
     "output_type": "execute_result"
    }
   ],
   "source": [
    "len(set(train_text)), len(set(valid_text)), len(set(test_text))"
   ]
  },
  {
   "cell_type": "code",
   "execution_count": 51,
   "metadata": {},
   "outputs": [],
   "source": [
    "tokens = sorted(set(''.join(text).lower()))"
   ]
  },
  {
   "cell_type": "code",
   "execution_count": 52,
   "metadata": {},
   "outputs": [
    {
     "data": {
      "text/plain": [
       "(83, list)"
      ]
     },
     "execution_count": 52,
     "metadata": {},
     "output_type": "execute_result"
    }
   ],
   "source": [
    "len(tokens), type(tokens)"
   ]
  },
  {
   "cell_type": "markdown",
   "metadata": {},
   "source": [
    "Number of tokens in train dataset is 83 (the number of token in all text), so we good"
   ]
  },
  {
   "cell_type": "markdown",
   "metadata": {},
   "source": [
    "Create dictionary `token_to_idx = {<char>: <index>}` and dictionary `idx_to_token = {<index>: <char>}`"
   ]
  },
  {
   "cell_type": "code",
   "execution_count": 53,
   "metadata": {
    "collapsed": true
   },
   "outputs": [],
   "source": [
    "# dict <index>:<char>\n",
    "# Your great code here\n",
    "token_to_idx = {idx: token for token, idx in enumerate(tokens)}\n",
    "\n",
    "# dict <char>:<index>\n",
    "# Your great code here\n",
    "idx_to_token = {token: idx for token, idx in enumerate(tokens)}"
   ]
  },
  {
   "cell_type": "code",
   "execution_count": 54,
   "metadata": {},
   "outputs": [],
   "source": [
    "# Convert texts to indices\n",
    "train_text_indices = np.array([token_to_idx[char] for char in train_text])\n",
    "valid_text_indices = np.array([token_to_idx[char] for char in valid_text])\n",
    "test_text_indices = np.array([token_to_idx[char] for char in test_text])"
   ]
  },
  {
   "cell_type": "markdown",
   "metadata": {},
   "source": [
    "*Comment: in this task we have only 38 different tokens, so let's use one-hot encoding.*"
   ]
  },
  {
   "cell_type": "markdown",
   "metadata": {},
   "source": [
    "We have 83 tokens, so i this it's better to calculate the embedding (maybe a size of 50)"
   ]
  },
  {
   "cell_type": "code",
   "execution_count": 55,
   "metadata": {},
   "outputs": [],
   "source": [
    "from tqdm.notebook import trange\n",
    "\n",
    "def char_rnn_data_generator(text_indices, seq_length, batch_size):\n",
    "    # Calculate the number of complete batches per epoch\n",
    "    num_batches = (len(text_indices) - seq_length) // batch_size\n",
    "    \n",
    "    # Shuffle the indices at the beginning of each epoch\n",
    "    start_indices = np.random.permutation(len(text_indices) - seq_length)\n",
    "    \n",
    "    for batch_num in trange(num_batches):\n",
    "        batch_start_indices = start_indices[batch_num * batch_size:(batch_num + 1) * batch_size]\n",
    "\n",
    "        batch_inputs = np.zeros((batch_size, seq_length), dtype=np.int32)\n",
    "\n",
    "        for i, start_idx in enumerate(batch_start_indices):\n",
    "            batch_inputs[i] = text_indices[start_idx:start_idx + seq_length]\n",
    "            \n",
    "        yield batch_inputs\n",
    "    \n",
    "    # Handle any remaining data that wasn't covered by the above loop\n",
    "    remainder = len(text_indices) - seq_length - num_batches * batch_size\n",
    "    if remainder > 0:\n",
    "        batch_start_indices = start_indices[-remainder:]\n",
    "\n",
    "        # If remainder < batch_size, create smaller batch\n",
    "        remainder_batch_size = min(batch_size, remainder)\n",
    "        batch_inputs = np.zeros((remainder_batch_size, seq_length), dtype=np.int32)\n",
    "\n",
    "        for i, start_idx in enumerate(batch_start_indices):\n",
    "            batch_inputs[i] = text_indices[start_idx:start_idx + seq_length]\n",
    "\n",
    "        yield batch_inputs\n"
   ]
  },
  {
   "cell_type": "markdown",
   "metadata": {},
   "source": [
    "## Vanilla RNN"
   ]
  },
  {
   "cell_type": "code",
   "execution_count": 220,
   "metadata": {},
   "outputs": [],
   "source": [
    "model_params = {\n",
    "    'n_tokens' : len(tokens),\n",
    "    'n_embedding': 32,\n",
    "    'n_hidden': 64,\n",
    "    'length_of_input': 32\n",
    "}"
   ]
  },
  {
   "cell_type": "markdown",
   "metadata": {},
   "source": [
    "Now we want to build and train recurrent neural net which would be able to something similar to Shakespeare's poetry.\n",
    "\n",
    "Let's use vanilla RNN, similar to the one created during the lesson."
   ]
  },
  {
   "cell_type": "code",
   "execution_count": 221,
   "metadata": {
    "collapsed": true
   },
   "outputs": [],
   "source": [
    "class VanillaRNN(nn.Module):\n",
    "    def __init__(self, \n",
    "                 num_tokens=model_params['n_tokens'], \n",
    "                 embedding_size=model_params['n_embedding'], \n",
    "                 rnn_num_units=model_params['n_hidden']):\n",
    "        super().__init__()\n",
    "        self.num_units = rnn_num_units\n",
    "        \n",
    "        self.embedding = nn.Embedding(num_tokens, embedding_size)\n",
    "        self.rnn_update = nn.Linear(rnn_num_units + embedding_size, rnn_num_units)\n",
    "        self.rnn_to_logits = nn.Linear(rnn_num_units, num_tokens)\n",
    "        \n",
    "    def forward(self, x, h_prev):\n",
    "        x_emb = self.embedding(x)\n",
    "        \n",
    "        x_and_h = torch.cat([h_prev, x_emb], dim=-1)\n",
    "        h_next = self.rnn_update(x_and_h)\n",
    "        \n",
    "        h_next = torch.tanh(h_next)\n",
    "        \n",
    "        logits = self.rnn_to_logits(h_next)\n",
    "        \n",
    "        return h_next, logits\n",
    "    \n",
    "    def initial_state(self, batch_size):\n",
    "        return torch.zeros(batch_size, self.num_units, requires_grad=True)"
   ]
  },
  {
   "cell_type": "code",
   "execution_count": 222,
   "metadata": {},
   "outputs": [],
   "source": [
    "vanilla_rnn = VanillaRNN()"
   ]
  },
  {
   "cell_type": "code",
   "execution_count": 223,
   "metadata": {},
   "outputs": [],
   "source": [
    "def rnn_loop(rnn, batch):\n",
    "    '''\n",
    "    batch: batch_size x num_tokens\n",
    "    '''\n",
    "    hid_state = rnn.initial_state(batch.size()[0])\n",
    "    logits = []\n",
    "    \n",
    "    for x in batch.transpose(0, 1):\n",
    "        hid_state, logits_next = rnn(x, hid_state)\n",
    "        logits.append(logits_next)\n",
    "    \n",
    "    return torch.stack(logits, dim=1)"
   ]
  },
  {
   "cell_type": "markdown",
   "metadata": {},
   "source": [
    "### Testing the batching function"
   ]
  },
  {
   "cell_type": "code",
   "execution_count": 236,
   "metadata": {},
   "outputs": [],
   "source": [
    "generator = char_rnn_data_generator(train_text_indices, model_params['length_of_input'], 128)"
   ]
  },
  {
   "cell_type": "code",
   "execution_count": 237,
   "metadata": {},
   "outputs": [
    {
     "data": {
      "application/vnd.jupyter.widget-view+json": {
       "model_id": "37e6d45476e244088789a26835f5b176",
       "version_major": 2,
       "version_minor": 0
      },
      "text/plain": [
       "  0%|          | 0/886 [00:00<?, ?it/s]"
      ]
     },
     "metadata": {},
     "output_type": "display_data"
    }
   ],
   "source": [
    "inputs = next(generator)\n",
    "inputs = torch.tensor(inputs, dtype=torch.int64)\n",
    "logit_seq = rnn_loop(vanilla_rnn, inputs)"
   ]
  },
  {
   "cell_type": "code",
   "execution_count": 238,
   "metadata": {},
   "outputs": [],
   "source": [
    "loss_func = nn.CrossEntropyLoss()\n",
    "loss = loss_func(logit_seq[:, :-1].reshape((-1, model_params['n_tokens'])), inputs[:, 1:].reshape(-1))"
   ]
  },
  {
   "cell_type": "code",
   "execution_count": 239,
   "metadata": {},
   "outputs": [],
   "source": [
    "loss.backward()"
   ]
  },
  {
   "cell_type": "code",
   "execution_count": 240,
   "metadata": {},
   "outputs": [],
   "source": [
    "for w in vanilla_rnn.parameters():\n",
    "    assert w.grad is not None and torch.max(torch.abs(w.grad)).data.numpy() != 0, \\\n",
    "        \"Loss is not differentiable w.r.t. a weight with shape %s. Check forward method.\" % (w.size(),)"
   ]
  },
  {
   "cell_type": "markdown",
   "metadata": {},
   "source": [
    "### Training"
   ]
  },
  {
   "cell_type": "code",
   "execution_count": 208,
   "metadata": {
    "collapsed": true
   },
   "outputs": [],
   "source": [
    "model = VanillaRNN()\n",
    "opt = torch.optim.Adam(model.parameters(), lr=3e-4)\n",
    "loss_func = nn.CrossEntropyLoss()"
   ]
  },
  {
   "cell_type": "code",
   "execution_count": 242,
   "metadata": {},
   "outputs": [],
   "source": [
    "training_params = {\n",
    "    'n_epochs': 5,\n",
    "    'train_batch_size': 128,\n",
    "    'valid_batch_size': 128\n",
    "    }"
   ]
  },
  {
   "cell_type": "code",
   "execution_count": 243,
   "metadata": {},
   "outputs": [],
   "source": [
    "loss_history = {'train': [], 'validation': []}"
   ]
  },
  {
   "cell_type": "code",
   "execution_count": 244,
   "metadata": {},
   "outputs": [
    {
     "data": {
      "image/png": "[encoded data removed]",
      "text/plain": [
       "<Figure size 1200x600 with 1 Axes>"
      ]
     },
     "metadata": {},
     "output_type": "display_data"
    },
    {
     "name": "stdout",
     "output_type": "stream",
     "text": [
      "Epoch 5/5: Train Loss = 1.9992, Validation Loss = 2.1149\n"
     ]
    }
   ],
   "source": [
    "for epoch in range(training_params['n_epochs']):\n",
    "    train_generator = char_rnn_data_generator(train_text_indices,\n",
    "                                          model_params['length_of_input'],\n",
    "                                          training_params['train_batch_size'])\n",
    "    valid_generator = char_rnn_data_generator(valid_text_indices,\n",
    "                                            model_params['length_of_input'],\n",
    "                                            training_params['valid_batch_size'])\n",
    "    train_loss_batch = []\n",
    "\n",
    "    train_progress_bar = tqdm(train_generator, desc=f\"Epoch {epoch + 1}/{training_params['n_epochs']} - Training\", leave=False)\n",
    "\n",
    "    for inputs in train_progress_bar:\n",
    "        inputs = torch.tensor(inputs, dtype=torch.int64)\n",
    "        logit_seq = rnn_loop(model, inputs)\n",
    "        loss = loss_func(logit_seq[:, :-1].reshape((-1, model_params['n_tokens'])), inputs[:, 1:].reshape(-1))\n",
    "        train_loss_batch.append(loss.detach().cpu().numpy() * inputs.size()[0])\n",
    "\n",
    "        loss.backward()\n",
    "        opt.step()\n",
    "        opt.zero_grad()\n",
    "\n",
    "    avg_train_loss = np.sum(train_loss_batch) / len(train_text)\n",
    "    loss_history['train'].append(avg_train_loss)\n",
    "\n",
    "    val_loss_batch = []\n",
    "\n",
    "    with torch.no_grad():\n",
    "        val_progress_bar = tqdm(valid_generator, desc=f\"Epoch {epoch + 1}/{training_params['n_epochs']} - Validation\", leave=False)\n",
    "\n",
    "        for inputs in val_progress_bar:\n",
    "            inputs = torch.tensor(inputs, dtype=torch.int64)\n",
    "            logit_seq = rnn_loop(model, inputs)\n",
    "            loss = loss_func(logit_seq[:, :-1].reshape((-1, model_params['n_tokens'])), inputs[:, 1:].reshape(-1))\n",
    "            val_loss_batch.append(loss.detach().cpu().numpy() * inputs.size()[0])\n",
    "\n",
    "    avg_val_loss = np.sum(val_loss_batch) / len(valid_text)\n",
    "    loss_history['validation'].append(avg_val_loss)\n",
    "\n",
    "    clear_output(wait=True)\n",
    "    plt.figure(figsize=(12, 6))\n",
    "\n",
    "    plt.plot(loss_history['train'], label='Train Loss')\n",
    "    plt.plot(loss_history['validation'], label='Validation Loss')\n",
    "    plt.xlabel('Epoch')\n",
    "    plt.ylabel('Loss')\n",
    "    plt.title(f'Loss - Epoch {epoch + 1}/{training_params[\"n_epochs\"]}')\n",
    "    plt.legend()\n",
    "    plt.grid(True)\n",
    "\n",
    "    plt.show()\n",
    "\n",
    "    print(f\"Epoch {epoch + 1}/{training_params['n_epochs']}: \"\n",
    "          f\"Train Loss = {avg_train_loss:.4f}, Validation Loss = {avg_val_loss:.4f}\")"
   ]
  },
  {
   "cell_type": "markdown",
   "metadata": {},
   "source": [
    "### Evaluate on a test text"
   ]
  },
  {
   "cell_type": "code",
   "execution_count": 245,
   "metadata": {},
   "outputs": [
    {
     "data": {
      "application/vnd.jupyter.widget-view+json": {
       "model_id": "0dcecad2f283497f9edc587f904c425d",
       "version_major": 2,
       "version_minor": 0
      },
      "text/plain": [
       "Testing: 0it [00:00, ?it/s]"
      ]
     },
     "metadata": {},
     "output_type": "display_data"
    },
    {
     "data": {
      "application/vnd.jupyter.widget-view+json": {
       "model_id": "d50aa514a04642cebf7eb67a73053e21",
       "version_major": 2,
       "version_minor": 0
      },
      "text/plain": [
       "  0%|          | 0/55 [00:00<?, ?it/s]"
      ]
     },
     "metadata": {},
     "output_type": "display_data"
    },
    {
     "name": "stdout",
     "output_type": "stream",
     "text": [
      "Test Loss = 2.1410\n"
     ]
    }
   ],
   "source": [
    "test_generator = char_rnn_data_generator(test_text_indices,\n",
    "                                        model_params['length_of_input'],\n",
    "                                        batch_size=256)\n",
    "test_loss_batch = []\n",
    "with torch.no_grad():\n",
    "    test_progress_bar = tqdm(test_generator, desc=f\"Testing\", leave=False)\n",
    "\n",
    "    for inputs in test_progress_bar:\n",
    "        inputs = torch.tensor(inputs, dtype=torch.int64)\n",
    "        logit_seq = rnn_loop(model, inputs)\n",
    "        loss = loss_func(logit_seq[:, :-1].reshape((-1, model_params['n_tokens'])), inputs[:, 1:].reshape(-1))\n",
    "        test_loss_batch.append(loss.detach().cpu().numpy() * inputs.size()[0])\n",
    "\n",
    "avg_test_loss = np.sum(test_loss_batch) / len(test_text)\n",
    "print(f'Test Loss = {avg_test_loss:.4f}')"
   ]
  },
  {
   "cell_type": "markdown",
   "metadata": {},
   "source": [
    "### Text generation"
   ]
  },
  {
   "cell_type": "code",
   "execution_count": 100,
   "metadata": {},
   "outputs": [],
   "source": [
    "def generate_sample(model, seed_phrase='Евгений', max_length=100, temperature=1.0):\n",
    "    '''\n",
    "    ### Disclaimer: this is an example function for text generation.\n",
    "    ### You can either adapt it in your code or create your own function\n",
    "    \n",
    "    The function generates text given a phrase of length at least SEQ_LENGTH.\n",
    "    :param seed_phrase: prefix characters. The RNN is asked to continue the phrase\n",
    "    :param max_length: maximum output length, including seed_phrase\n",
    "    :param temperature: coefficient for sampling.  higher temperature produces more chaotic outputs, \n",
    "        smaller temperature converges to the single most likely output.\n",
    "        \n",
    "    Be careful with the model output. This model waits logits (not probabilities/log-probabilities)\n",
    "    of the next symbol.\n",
    "    '''\n",
    "    \n",
    "    x_sequence = [token_to_idx[token] for token in seed_phrase.lower()]\n",
    "    x_sequence = torch.tensor([x_sequence], dtype=torch.int64)\n",
    "    hid_state = model.initial_state(batch_size=1)\n",
    "    \n",
    "    # feed the seed phrase, if any\n",
    "    for i in range(len(seed_phrase) - 1):\n",
    "        hid_state, out = model(x_sequence[:, i], hid_state)\n",
    "    \n",
    "    # start generating\n",
    "    for _ in range(max_length - len(seed_phrase)):\n",
    "        hid_state, out = model(x_sequence[:, -1], hid_state)\n",
    "        # Be really careful here with the model output\n",
    "        p_next = F.softmax(out / temperature, dim=-1).data.numpy()[0]\n",
    "        \n",
    "        # sample next token and push it back into x_sequence\n",
    "        next_ix = np.random.choice(len(tokens), p=p_next)\n",
    "        next_ix = torch.tensor([[next_ix]], dtype=torch.int64)\n",
    "        x_sequence = torch.cat([x_sequence, next_ix], dim=1)\n",
    "        \n",
    "    return ''.join([tokens[ix] for ix in x_sequence.data.numpy()[0]])"
   ]
  },
  {
   "cell_type": "code",
   "execution_count": 253,
   "metadata": {},
   "outputs": [
    {
     "name": "stdout",
     "output_type": "stream",
     "text": [
      "евгений\n",
      "\n",
      "но и не мне оно ты, о нем сыпить он он ветьком запел.\n",
      "татьяна гред не молин успож глабим, не с на забавлющик они судьби своей не тайный жля брание важный сведан,\n",
      "к своей межник судьбой предсон с оставав и сталой.\n",
      "был состель за новещая, стах он ином и своей небещит и онегин вашей соглась.\n",
      "с славит пред едусь без ног он усыма нуши гладила, красавая сердцу на сердце романова,\n",
      "такой образай об не пргала!\n",
      "\n",
      "моей обпостанькой и все был заблит доледь закачал утрича,\n",
      "примечать дам двора,\n",
      "на сле\n"
     ]
    }
   ],
   "source": [
    "# An example of generated text.\n",
    "print(generate_sample(model, seed_phrase='Евгений', max_length=500, temperature=0.7))"
   ]
  },
  {
   "cell_type": "markdown",
   "metadata": {},
   "source": [
    "### Saving best model"
   ]
  },
  {
   "cell_type": "code",
   "execution_count": 96,
   "metadata": {},
   "outputs": [],
   "source": [
    "def save_checkpoint(model, optimizer, epoch, loss_history, path):\n",
    "    checkpoint = {\n",
    "        'epoch': epoch,\n",
    "        'model_state_dict': model.state_dict(),\n",
    "        'optimizer_state_dict': optimizer.state_dict(),\n",
    "        'loss_history': loss_history\n",
    "    }\n",
    "    torch.save(checkpoint, path)"
   ]
  },
  {
   "cell_type": "code",
   "execution_count": 97,
   "metadata": {},
   "outputs": [],
   "source": [
    "def load_checkpoint(model, optimizer, path):\n",
    "    checkpoint = torch.load(path)\n",
    "    model.load_state_dict(checkpoint['model_state_dict'])\n",
    "    optimizer.load_state_dict(checkpoint['optimizer_state_dict'])\n",
    "    epoch = checkpoint['epoch']\n",
    "    loss_history = checkpoint['loss_history']\n",
    "    return epoch, loss_history"
   ]
  },
  {
   "cell_type": "code",
   "execution_count": 252,
   "metadata": {},
   "outputs": [],
   "source": [
    "rnn_checkpoint = 'models/rnn_checkpoint.pth'\n",
    "save_checkpoint(model, opt, None, None, rnn_checkpoint)"
   ]
  },
  {
   "cell_type": "markdown",
   "metadata": {},
   "source": [
    "## LSTM\n",
    "\n",
    "Let's use LSTM instead of vanilla RNN and compare the results."
   ]
  },
  {
   "cell_type": "code",
   "execution_count": 124,
   "metadata": {},
   "outputs": [],
   "source": [
    "class CustomLSTM(nn.Module):\n",
    "    def __init__(self, n_tokens, embedding_size, hidden_size, num_layers):\n",
    "        super().__init__()\n",
    "        \n",
    "        self.embedding = nn.Embedding(n_tokens, embedding_size)\n",
    "        self.lstm = nn.LSTM(input_size=embedding_size,\n",
    "                            hidden_size=hidden_size,\n",
    "                            num_layers=num_layers,\n",
    "                            batch_first=True)\n",
    "        self.hidden_to_logits = nn.Linear(hidden_size, n_tokens)\n",
    "        \n",
    "    def forward(self, x, h_prev=None, c_prev=None):\n",
    "        x_emb = self.embedding(x)\n",
    "        \n",
    "        if h_prev is None:\n",
    "            output, (h_cur, c_cur) = self.lstm(x_emb)\n",
    "        else:\n",
    "            output, (h_cur, c_cur) = self.lstm(x_emb, (h_prev, c_prev))\n",
    "            \n",
    "        logits = self.hidden_to_logits(output)\n",
    "        \n",
    "        return logits, h_cur, c_cur"
   ]
  },
  {
   "cell_type": "markdown",
   "metadata": {},
   "source": [
    "### 1 layer, 64 hidden size, 32 embedding size"
   ]
  },
  {
   "cell_type": "code",
   "execution_count": 142,
   "metadata": {},
   "outputs": [],
   "source": [
    "lstm_model_params_1 = {\n",
    "    'n_layers': 1,\n",
    "    'hidden_size': 64,\n",
    "    'embedding_size': 32,\n",
    "    'n_tokens' : len(tokens),\n",
    "    'seq_length': 32\n",
    "}"
   ]
  },
  {
   "cell_type": "markdown",
   "metadata": {},
   "source": [
    "#### Simple test"
   ]
  },
  {
   "cell_type": "code",
   "execution_count": 75,
   "metadata": {
    "collapsed": true
   },
   "outputs": [],
   "source": [
    "lstm_model_1 = CustomLSTM(n_tokens=lstm_model_params_1['n_tokens'],\n",
    "                 embedding_size=lstm_model_params_1['embedding_size'],\n",
    "                 hidden_size=lstm_model_params_1['hidden_size'],\n",
    "                 num_layers=lstm_model_params_1['n_layers'])"
   ]
  },
  {
   "cell_type": "code",
   "execution_count": 76,
   "metadata": {},
   "outputs": [],
   "source": [
    "generator = char_rnn_data_generator(train_text_indices,\n",
    "                                    lstm_model_params_1['seq_length'],\n",
    "                                    batch_size=128)"
   ]
  },
  {
   "cell_type": "code",
   "execution_count": 77,
   "metadata": {},
   "outputs": [
    {
     "data": {
      "application/vnd.jupyter.widget-view+json": {
       "model_id": "4d8d430e9847480c8e2318a038e0c261",
       "version_major": 2,
       "version_minor": 0
      },
      "text/plain": [
       "  0%|          | 0/888 [00:00<?, ?it/s]"
      ]
     },
     "metadata": {},
     "output_type": "display_data"
    },
    {
     "data": {
      "text/plain": [
       "torch.Size([128, 32])"
      ]
     },
     "execution_count": 77,
     "metadata": {},
     "output_type": "execute_result"
    }
   ],
   "source": [
    "batch = next(generator)\n",
    "batch = torch.tensor(batch, dtype=torch.int64)\n",
    "batch.size()"
   ]
  },
  {
   "cell_type": "code",
   "execution_count": 78,
   "metadata": {},
   "outputs": [],
   "source": [
    "output, hidden_state, cell_state = lstm_model_1(batch)"
   ]
  },
  {
   "cell_type": "code",
   "execution_count": 79,
   "metadata": {},
   "outputs": [
    {
     "data": {
      "text/plain": [
       "(torch.Size([128, 32, 83]), torch.Size([1, 128, 64]), torch.Size([1, 128, 64]))"
      ]
     },
     "execution_count": 79,
     "metadata": {},
     "output_type": "execute_result"
    }
   ],
   "source": [
    "output.size(), hidden_state.size(), cell_state.size()"
   ]
  },
  {
   "cell_type": "code",
   "execution_count": 80,
   "metadata": {},
   "outputs": [],
   "source": [
    "loss_func = nn.CrossEntropyLoss()\n",
    "loss = loss_func(\n",
    "    output[:, :-1].reshape((-1, lstm_model_params_1['n_tokens'])),\n",
    "    batch[:, 1:].reshape(-1)\n",
    ")"
   ]
  },
  {
   "cell_type": "code",
   "execution_count": 81,
   "metadata": {},
   "outputs": [],
   "source": [
    "loss.backward()"
   ]
  },
  {
   "cell_type": "code",
   "execution_count": 82,
   "metadata": {},
   "outputs": [],
   "source": [
    "for w in lstm_model_1.parameters():\n",
    "    assert w.grad is not None and torch.max(torch.abs(w.grad)).data.numpy() != 0, \\\n",
    "        \"Loss is not differentiable w.r.t. a weight with shape %s. Check forward method.\" % (w.size(),)"
   ]
  },
  {
   "cell_type": "markdown",
   "metadata": {},
   "source": [
    "#### Training"
   ]
  },
  {
   "cell_type": "code",
   "execution_count": 126,
   "metadata": {},
   "outputs": [],
   "source": [
    "lstm_model_1 = CustomLSTM(n_tokens=lstm_model_params_1['n_tokens'],\n",
    "                 embedding_size=lstm_model_params_1['embedding_size'],\n",
    "                 hidden_size=lstm_model_params_1['hidden_size'],\n",
    "                 num_layers=lstm_model_params_1['n_layers'])\n",
    "opt = torch.optim.Adam(lstm_model_1.parameters(), lr=3e-4)\n",
    "loss_func = nn.CrossEntropyLoss()"
   ]
  },
  {
   "cell_type": "code",
   "execution_count": 137,
   "metadata": {},
   "outputs": [],
   "source": [
    "training_params = {\n",
    "    'n_epochs': 50,\n",
    "    'train_batch_size': 256,\n",
    "    'valid_batch_size': 256\n",
    "}"
   ]
  },
  {
   "cell_type": "code",
   "execution_count": 131,
   "metadata": {},
   "outputs": [],
   "source": [
    "loss_history = {\n",
    "    'train': [],\n",
    "    'validation': []\n",
    "}"
   ]
  },
  {
   "cell_type": "code",
   "execution_count": 132,
   "metadata": {},
   "outputs": [],
   "source": [
    "# Initialize variables to track the best model\n",
    "best_val_loss = float('inf')\n",
    "best_epoch = -1"
   ]
  },
  {
   "cell_type": "code",
   "execution_count": 138,
   "metadata": {},
   "outputs": [
    {
     "data": {
      "image/png": "[encoded data removed]",
      "text/plain": [
       "<Figure size 1200x600 with 1 Axes>"
      ]
     },
     "metadata": {},
     "output_type": "display_data"
    },
    {
     "name": "stdout",
     "output_type": "stream",
     "text": [
      "Epoch 33/50: Train Loss = 1.8579, Validation Loss = 2.0567\n"
     ]
    },
    {
     "data": {
      "application/vnd.jupyter.widget-view+json": {
       "model_id": "a07df2bd183046198e2a866e29dc3001",
       "version_major": 2,
       "version_minor": 0
      },
      "text/plain": [
       "Epoch 34/50 - Training: 0it [00:00, ?it/s]"
      ]
     },
     "metadata": {},
     "output_type": "display_data"
    },
    {
     "data": {
      "application/vnd.jupyter.widget-view+json": {
       "model_id": "c502dd4679344c3fb7d3f2d31ee2d44f",
       "version_major": 2,
       "version_minor": 0
      },
      "text/plain": [
       "  0%|          | 0/444 [00:00<?, ?it/s]"
      ]
     },
     "metadata": {},
     "output_type": "display_data"
    },
    {
     "ename": "KeyboardInterrupt",
     "evalue": "",
     "output_type": "error",
     "traceback": [
      "\u001b[0;31m---------------------------------------------------------------------------\u001b[0m",
      "\u001b[0;31mKeyboardInterrupt\u001b[0m                         Traceback (most recent call last)",
      "Cell \u001b[0;32mIn[138], line 16\u001b[0m\n\u001b[1;32m     14\u001b[0m \u001b[38;5;28;01mfor\u001b[39;00m inputs \u001b[38;5;129;01min\u001b[39;00m train_progress_bar:\n\u001b[1;32m     15\u001b[0m     inputs \u001b[38;5;241m=\u001b[39m torch\u001b[38;5;241m.\u001b[39mtensor(inputs, dtype\u001b[38;5;241m=\u001b[39mtorch\u001b[38;5;241m.\u001b[39mint64)\n\u001b[0;32m---> 16\u001b[0m     logit_seq, _, _ \u001b[38;5;241m=\u001b[39m lstm_model_1(inputs)\n\u001b[1;32m     17\u001b[0m     loss \u001b[38;5;241m=\u001b[39m loss_func(logit_seq[:, :\u001b[38;5;241m-\u001b[39m\u001b[38;5;241m1\u001b[39m]\u001b[38;5;241m.\u001b[39mreshape((\u001b[38;5;241m-\u001b[39m\u001b[38;5;241m1\u001b[39m, lstm_model_params_1[\u001b[38;5;124m'\u001b[39m\u001b[38;5;124mn_tokens\u001b[39m\u001b[38;5;124m'\u001b[39m])), \n\u001b[1;32m     18\u001b[0m                      inputs[:, \u001b[38;5;241m1\u001b[39m:]\u001b[38;5;241m.\u001b[39mreshape(\u001b[38;5;241m-\u001b[39m\u001b[38;5;241m1\u001b[39m))\n\u001b[1;32m     19\u001b[0m     train_loss_batch\u001b[38;5;241m.\u001b[39mappend(loss\u001b[38;5;241m.\u001b[39mdetach()\u001b[38;5;241m.\u001b[39mcpu()\u001b[38;5;241m.\u001b[39mnumpy() \u001b[38;5;241m*\u001b[39m inputs\u001b[38;5;241m.\u001b[39msize()[\u001b[38;5;241m0\u001b[39m])\n",
      "File \u001b[0;32m~/anaconda3/lib/python3.12/site-packages/torch/nn/modules/module.py:1532\u001b[0m, in \u001b[0;36mModule._wrapped_call_impl\u001b[0;34m(self, *args, **kwargs)\u001b[0m\n\u001b[1;32m   1530\u001b[0m     \u001b[38;5;28;01mreturn\u001b[39;00m \u001b[38;5;28mself\u001b[39m\u001b[38;5;241m.\u001b[39m_compiled_call_impl(\u001b[38;5;241m*\u001b[39margs, \u001b[38;5;241m*\u001b[39m\u001b[38;5;241m*\u001b[39mkwargs)  \u001b[38;5;66;03m# type: ignore[misc]\u001b[39;00m\n\u001b[1;32m   1531\u001b[0m \u001b[38;5;28;01melse\u001b[39;00m:\n\u001b[0;32m-> 1532\u001b[0m     \u001b[38;5;28;01mreturn\u001b[39;00m \u001b[38;5;28mself\u001b[39m\u001b[38;5;241m.\u001b[39m_call_impl(\u001b[38;5;241m*\u001b[39margs, \u001b[38;5;241m*\u001b[39m\u001b[38;5;241m*\u001b[39mkwargs)\n",
      "File \u001b[0;32m~/anaconda3/lib/python3.12/site-packages/torch/nn/modules/module.py:1541\u001b[0m, in \u001b[0;36mModule._call_impl\u001b[0;34m(self, *args, **kwargs)\u001b[0m\n\u001b[1;32m   1536\u001b[0m \u001b[38;5;66;03m# If we don't have any hooks, we want to skip the rest of the logic in\u001b[39;00m\n\u001b[1;32m   1537\u001b[0m \u001b[38;5;66;03m# this function, and just call forward.\u001b[39;00m\n\u001b[1;32m   1538\u001b[0m \u001b[38;5;28;01mif\u001b[39;00m \u001b[38;5;129;01mnot\u001b[39;00m (\u001b[38;5;28mself\u001b[39m\u001b[38;5;241m.\u001b[39m_backward_hooks \u001b[38;5;129;01mor\u001b[39;00m \u001b[38;5;28mself\u001b[39m\u001b[38;5;241m.\u001b[39m_backward_pre_hooks \u001b[38;5;129;01mor\u001b[39;00m \u001b[38;5;28mself\u001b[39m\u001b[38;5;241m.\u001b[39m_forward_hooks \u001b[38;5;129;01mor\u001b[39;00m \u001b[38;5;28mself\u001b[39m\u001b[38;5;241m.\u001b[39m_forward_pre_hooks\n\u001b[1;32m   1539\u001b[0m         \u001b[38;5;129;01mor\u001b[39;00m _global_backward_pre_hooks \u001b[38;5;129;01mor\u001b[39;00m _global_backward_hooks\n\u001b[1;32m   1540\u001b[0m         \u001b[38;5;129;01mor\u001b[39;00m _global_forward_hooks \u001b[38;5;129;01mor\u001b[39;00m _global_forward_pre_hooks):\n\u001b[0;32m-> 1541\u001b[0m     \u001b[38;5;28;01mreturn\u001b[39;00m forward_call(\u001b[38;5;241m*\u001b[39margs, \u001b[38;5;241m*\u001b[39m\u001b[38;5;241m*\u001b[39mkwargs)\n\u001b[1;32m   1543\u001b[0m \u001b[38;5;28;01mtry\u001b[39;00m:\n\u001b[1;32m   1544\u001b[0m     result \u001b[38;5;241m=\u001b[39m \u001b[38;5;28;01mNone\u001b[39;00m\n",
      "Cell \u001b[0;32mIn[124], line 16\u001b[0m, in \u001b[0;36mCustomLSTM.forward\u001b[0;34m(self, x, h_prev, c_prev)\u001b[0m\n\u001b[1;32m     13\u001b[0m x_emb \u001b[38;5;241m=\u001b[39m \u001b[38;5;28mself\u001b[39m\u001b[38;5;241m.\u001b[39membedding(x)\n\u001b[1;32m     15\u001b[0m \u001b[38;5;28;01mif\u001b[39;00m h_prev \u001b[38;5;129;01mis\u001b[39;00m \u001b[38;5;28;01mNone\u001b[39;00m:\n\u001b[0;32m---> 16\u001b[0m     output, (h_cur, c_cur) \u001b[38;5;241m=\u001b[39m \u001b[38;5;28mself\u001b[39m\u001b[38;5;241m.\u001b[39mlstm(x_emb)\n\u001b[1;32m     17\u001b[0m \u001b[38;5;28;01melse\u001b[39;00m:\n\u001b[1;32m     18\u001b[0m     output, (h_cur, c_cur) \u001b[38;5;241m=\u001b[39m \u001b[38;5;28mself\u001b[39m\u001b[38;5;241m.\u001b[39mlstm(x_emb, (h_prev, c_prev))\n",
      "File \u001b[0;32m~/anaconda3/lib/python3.12/site-packages/torch/nn/modules/module.py:1532\u001b[0m, in \u001b[0;36mModule._wrapped_call_impl\u001b[0;34m(self, *args, **kwargs)\u001b[0m\n\u001b[1;32m   1530\u001b[0m     \u001b[38;5;28;01mreturn\u001b[39;00m \u001b[38;5;28mself\u001b[39m\u001b[38;5;241m.\u001b[39m_compiled_call_impl(\u001b[38;5;241m*\u001b[39margs, \u001b[38;5;241m*\u001b[39m\u001b[38;5;241m*\u001b[39mkwargs)  \u001b[38;5;66;03m# type: ignore[misc]\u001b[39;00m\n\u001b[1;32m   1531\u001b[0m \u001b[38;5;28;01melse\u001b[39;00m:\n\u001b[0;32m-> 1532\u001b[0m     \u001b[38;5;28;01mreturn\u001b[39;00m \u001b[38;5;28mself\u001b[39m\u001b[38;5;241m.\u001b[39m_call_impl(\u001b[38;5;241m*\u001b[39margs, \u001b[38;5;241m*\u001b[39m\u001b[38;5;241m*\u001b[39mkwargs)\n",
      "File \u001b[0;32m~/anaconda3/lib/python3.12/site-packages/torch/nn/modules/module.py:1541\u001b[0m, in \u001b[0;36mModule._call_impl\u001b[0;34m(self, *args, **kwargs)\u001b[0m\n\u001b[1;32m   1536\u001b[0m \u001b[38;5;66;03m# If we don't have any hooks, we want to skip the rest of the logic in\u001b[39;00m\n\u001b[1;32m   1537\u001b[0m \u001b[38;5;66;03m# this function, and just call forward.\u001b[39;00m\n\u001b[1;32m   1538\u001b[0m \u001b[38;5;28;01mif\u001b[39;00m \u001b[38;5;129;01mnot\u001b[39;00m (\u001b[38;5;28mself\u001b[39m\u001b[38;5;241m.\u001b[39m_backward_hooks \u001b[38;5;129;01mor\u001b[39;00m \u001b[38;5;28mself\u001b[39m\u001b[38;5;241m.\u001b[39m_backward_pre_hooks \u001b[38;5;129;01mor\u001b[39;00m \u001b[38;5;28mself\u001b[39m\u001b[38;5;241m.\u001b[39m_forward_hooks \u001b[38;5;129;01mor\u001b[39;00m \u001b[38;5;28mself\u001b[39m\u001b[38;5;241m.\u001b[39m_forward_pre_hooks\n\u001b[1;32m   1539\u001b[0m         \u001b[38;5;129;01mor\u001b[39;00m _global_backward_pre_hooks \u001b[38;5;129;01mor\u001b[39;00m _global_backward_hooks\n\u001b[1;32m   1540\u001b[0m         \u001b[38;5;129;01mor\u001b[39;00m _global_forward_hooks \u001b[38;5;129;01mor\u001b[39;00m _global_forward_pre_hooks):\n\u001b[0;32m-> 1541\u001b[0m     \u001b[38;5;28;01mreturn\u001b[39;00m forward_call(\u001b[38;5;241m*\u001b[39margs, \u001b[38;5;241m*\u001b[39m\u001b[38;5;241m*\u001b[39mkwargs)\n\u001b[1;32m   1543\u001b[0m \u001b[38;5;28;01mtry\u001b[39;00m:\n\u001b[1;32m   1544\u001b[0m     result \u001b[38;5;241m=\u001b[39m \u001b[38;5;28;01mNone\u001b[39;00m\n",
      "File \u001b[0;32m~/anaconda3/lib/python3.12/site-packages/torch/nn/modules/rnn.py:911\u001b[0m, in \u001b[0;36mLSTM.forward\u001b[0;34m(self, input, hx)\u001b[0m\n\u001b[1;32m    908\u001b[0m         hx \u001b[38;5;241m=\u001b[39m \u001b[38;5;28mself\u001b[39m\u001b[38;5;241m.\u001b[39mpermute_hidden(hx, sorted_indices)\n\u001b[1;32m    910\u001b[0m \u001b[38;5;28;01mif\u001b[39;00m batch_sizes \u001b[38;5;129;01mis\u001b[39;00m \u001b[38;5;28;01mNone\u001b[39;00m:\n\u001b[0;32m--> 911\u001b[0m     result \u001b[38;5;241m=\u001b[39m _VF\u001b[38;5;241m.\u001b[39mlstm(\u001b[38;5;28minput\u001b[39m, hx, \u001b[38;5;28mself\u001b[39m\u001b[38;5;241m.\u001b[39m_flat_weights, \u001b[38;5;28mself\u001b[39m\u001b[38;5;241m.\u001b[39mbias, \u001b[38;5;28mself\u001b[39m\u001b[38;5;241m.\u001b[39mnum_layers,\n\u001b[1;32m    912\u001b[0m                       \u001b[38;5;28mself\u001b[39m\u001b[38;5;241m.\u001b[39mdropout, \u001b[38;5;28mself\u001b[39m\u001b[38;5;241m.\u001b[39mtraining, \u001b[38;5;28mself\u001b[39m\u001b[38;5;241m.\u001b[39mbidirectional, \u001b[38;5;28mself\u001b[39m\u001b[38;5;241m.\u001b[39mbatch_first)\n\u001b[1;32m    913\u001b[0m \u001b[38;5;28;01melse\u001b[39;00m:\n\u001b[1;32m    914\u001b[0m     result \u001b[38;5;241m=\u001b[39m _VF\u001b[38;5;241m.\u001b[39mlstm(\u001b[38;5;28minput\u001b[39m, batch_sizes, hx, \u001b[38;5;28mself\u001b[39m\u001b[38;5;241m.\u001b[39m_flat_weights, \u001b[38;5;28mself\u001b[39m\u001b[38;5;241m.\u001b[39mbias,\n\u001b[1;32m    915\u001b[0m                       \u001b[38;5;28mself\u001b[39m\u001b[38;5;241m.\u001b[39mnum_layers, \u001b[38;5;28mself\u001b[39m\u001b[38;5;241m.\u001b[39mdropout, \u001b[38;5;28mself\u001b[39m\u001b[38;5;241m.\u001b[39mtraining, \u001b[38;5;28mself\u001b[39m\u001b[38;5;241m.\u001b[39mbidirectional)\n",
      "\u001b[0;31mKeyboardInterrupt\u001b[0m: "
     ]
    }
   ],
   "source": [
    "for epoch in range(training_params['n_epochs']):\n",
    "    train_generator = char_rnn_data_generator(train_text_indices,\n",
    "                                              lstm_model_params_1['seq_length'],\n",
    "                                              training_params['train_batch_size'])\n",
    "    valid_generator = char_rnn_data_generator(valid_text_indices,\n",
    "                                              lstm_model_params_1['seq_length'],\n",
    "                                              training_params['valid_batch_size'])\n",
    "    train_loss_batch = []\n",
    "\n",
    "    train_progress_bar = tqdm(train_generator, \n",
    "                              desc=f\"Epoch {epoch + 1}/{training_params['n_epochs']} - Training\", \n",
    "                              leave=False)\n",
    "\n",
    "    for inputs in train_progress_bar:\n",
    "        inputs = torch.tensor(inputs, dtype=torch.int64)\n",
    "        logit_seq, _, _ = lstm_model_1(inputs)\n",
    "        loss = loss_func(logit_seq[:, :-1].reshape((-1, lstm_model_params_1['n_tokens'])), \n",
    "                         inputs[:, 1:].reshape(-1))\n",
    "        train_loss_batch.append(loss.detach().cpu().numpy() * inputs.size()[0])\n",
    "\n",
    "        loss.backward()\n",
    "        opt.step()\n",
    "        opt.zero_grad()\n",
    "\n",
    "    avg_train_loss = np.sum(train_loss_batch) / len(train_text)\n",
    "    loss_history['train'].append(avg_train_loss)\n",
    "\n",
    "    val_loss_batch = []\n",
    "\n",
    "    with torch.no_grad():\n",
    "        val_progress_bar = tqdm(valid_generator, \n",
    "                                desc=f\"Epoch {epoch + 1}/{training_params['n_epochs']} - Validation\", \n",
    "                                leave=False)\n",
    "\n",
    "        for inputs in val_progress_bar:\n",
    "            inputs = torch.tensor(inputs, dtype=torch.int64)\n",
    "            logit_seq, _, _ = lstm_model_1(inputs)\n",
    "            loss = loss_func(logit_seq[:, :-1].reshape((-1, lstm_model_params_1['n_tokens'])), \n",
    "                             inputs[:, 1:].reshape(-1))\n",
    "            val_loss_batch.append(loss.detach().cpu().numpy() * inputs.size()[0])\n",
    "\n",
    "    avg_val_loss = np.sum(val_loss_batch) / len(valid_text)\n",
    "    loss_history['validation'].append(avg_val_loss)\n",
    "\n",
    "    if avg_val_loss < best_val_loss:\n",
    "        best_val_loss = avg_val_loss\n",
    "        best_epoch = epoch + 1\n",
    "\n",
    "        save_checkpoint(lstm_model_1, opt, epoch + 1, loss_history, 'models/best_lstm_1.pth')\n",
    "\n",
    "    clear_output(wait=True)\n",
    "    plt.figure(figsize=(12, 6))\n",
    "\n",
    "    plt.plot(loss_history['train'], label='Train Loss')\n",
    "    plt.plot(loss_history['validation'], label='Validation Loss')\n",
    "    plt.xlabel('Epoch')\n",
    "    plt.ylabel('Loss')\n",
    "    plt.title(f'Loss - Epoch {epoch + 1}/{training_params[\"n_epochs\"]}')\n",
    "    plt.legend()\n",
    "    plt.grid(True)\n",
    "\n",
    "    plt.show()\n",
    "\n",
    "    print(f\"Epoch {epoch + 1}/{training_params['n_epochs']}: \"\n",
    "          f\"Train Loss = {avg_train_loss:.4f}, Validation Loss = {avg_val_loss:.4f}\")\n"
   ]
  },
  {
   "cell_type": "markdown",
   "metadata": {},
   "source": [
    "#### Evaluate in a test text"
   ]
  },
  {
   "cell_type": "code",
   "execution_count": 139,
   "metadata": {},
   "outputs": [
    {
     "data": {
      "application/vnd.jupyter.widget-view+json": {
       "model_id": "cb63031d9f7b4c68a9e1ea5fc2bd2f2d",
       "version_major": 2,
       "version_minor": 0
      },
      "text/plain": [
       "Testing: 0it [00:00, ?it/s]"
      ]
     },
     "metadata": {},
     "output_type": "display_data"
    },
    {
     "data": {
      "application/vnd.jupyter.widget-view+json": {
       "model_id": "3def874f89564f8499083333b9ff0756",
       "version_major": 2,
       "version_minor": 0
      },
      "text/plain": [
       "  0%|          | 0/54 [00:00<?, ?it/s]"
      ]
     },
     "metadata": {},
     "output_type": "display_data"
    },
    {
     "name": "stdout",
     "output_type": "stream",
     "text": [
      "Test Loss = 2.0323\n"
     ]
    }
   ],
   "source": [
    "test_generator = char_rnn_data_generator(test_text_indices,\n",
    "                                        lstm_model_params_1['seq_length'],\n",
    "                                        batch_size=256)\n",
    "test_loss_batch = []\n",
    "with torch.no_grad():\n",
    "    test_progress_bar = tqdm(test_generator, \n",
    "                             desc=f\"Testing\", \n",
    "                             leave=False)\n",
    "\n",
    "    for inputs in test_progress_bar:\n",
    "        inputs = torch.tensor(inputs, dtype=torch.int64)\n",
    "        logit_seq, _, _ = lstm_model_1(inputs)\n",
    "        loss = loss_func(logit_seq[:, :-1].reshape((-1, lstm_model_params_1['n_tokens'])), \n",
    "                         inputs[:, 1:].reshape(-1))\n",
    "        test_loss_batch.append(loss.detach().cpu().numpy() * inputs.size()[0])\n",
    "\n",
    "avg_test_loss = np.sum(test_loss_batch) / len(test_text)\n",
    "print(f'Test Loss = {avg_test_loss:.4f}')"
   ]
  },
  {
   "cell_type": "markdown",
   "metadata": {},
   "source": [
    "#### Text generation"
   ]
  },
  {
   "cell_type": "code",
   "execution_count": 121,
   "metadata": {},
   "outputs": [],
   "source": [
    "def generate_sample(model, seed_phrase='Евгений', max_length=100, temperature=1.0):\n",
    "    '''\n",
    "    ### Disclaimer: this is an example function for text generation.\n",
    "    ### You can either adapt it in your code or create your own function\n",
    "    \n",
    "    The function generates text given a phrase of length at least SEQ_LENGTH.\n",
    "    :param seed_phrase: prefix characters. The RNN is asked to continue the phrase\n",
    "    :param max_length: maximum output length, including seed_phrase\n",
    "    :param temperature: coefficient for sampling.  higher temperature produces more chaotic outputs, \n",
    "        smaller temperature converges to the single most likely output.\n",
    "        \n",
    "    Be careful with the model output. This model waits logits (not probabilities/log-probabilities)\n",
    "    of the next symbol.\n",
    "    '''\n",
    "    \n",
    "    x_sequence = [token_to_idx[token] for token in seed_phrase.lower()]\n",
    "    x_sequence = torch.tensor([x_sequence], dtype=torch.int64)\n",
    "    \n",
    "    # feed the seed phrase, if any\n",
    "    if seed_phrase:\n",
    "        output, hidden_state, cell_state = model(x_sequence[:, :-1])\n",
    "        hidden_state = hidden_state[0]\n",
    "        cell_state = cell_state[0]\n",
    "    else:\n",
    "        hidden_state, cell_state = None, None\n",
    "    \n",
    "    # start generating\n",
    "    for _ in range(max_length - len(seed_phrase)):\n",
    "        output, hidden_state, cell_state = model(x_sequence[:, -1], \n",
    "                                                 hidden_state, \n",
    "                                                 cell_state)\n",
    "\n",
    "        p_next = F.softmax(output / temperature, dim=-1).data.numpy()[0]\n",
    "        \n",
    "        # sample next token and push it back into x_sequence\n",
    "        next_ix = np.random.choice(len(tokens), p=p_next)\n",
    "        next_ix = torch.tensor([[next_ix]], dtype=torch.int64)\n",
    "        x_sequence = torch.cat([x_sequence, next_ix], dim=1)\n",
    "        \n",
    "    return ''.join([tokens[ix] for ix in x_sequence.data.numpy()[0]])"
   ]
  },
  {
   "cell_type": "markdown",
   "metadata": {},
   "source": [
    "Generate text using the trained net with different `temperature` parameter: `[0.1, 0.2, 0.5, 1.0, 2.0]`."
   ]
  },
  {
   "cell_type": "code",
   "execution_count": 140,
   "metadata": {
    "collapsed": true
   },
   "outputs": [
    {
     "name": "stdout",
     "output_type": "stream",
     "text": [
      "========================================= Temperature 0.1 ==========================================\n",
      "евгений простой\n",
      "\n",
      "\n",
      "\n",
      "\n",
      "\n",
      "\n",
      "\n",
      "\n",
      "\n",
      "\n",
      "\n",
      "\n",
      "\n",
      "\n",
      "\n",
      "\n",
      "\n",
      "\n",
      "\n",
      "\n",
      "\n",
      "\n",
      "\n",
      "\n",
      "\n",
      "\n",
      "\n",
      "\n",
      "\n",
      "\n",
      "\n",
      "\n",
      "\n",
      "\n",
      "\n",
      "\n",
      "\n",
      "\n",
      "\n",
      "\n",
      "\n",
      "\n",
      "\n",
      "\n",
      "\n",
      "\n",
      "\n",
      "\n",
      "\n",
      "\n",
      "\n",
      "\n",
      "\n",
      "\n",
      "\n",
      "\n",
      "\n",
      "\n",
      "\n",
      "\n",
      "\n",
      "\n",
      "\n",
      "\n",
      "\n",
      "и в сердце долго своей\n",
      "\n",
      "\n",
      "\n",
      "\n",
      "\n",
      "\n",
      "\n",
      "\n",
      "\n",
      "\n",
      "\n",
      "\n",
      "\n",
      "\n",
      "\n",
      "\n",
      "\n",
      "\n",
      "\n",
      "\n",
      "\n",
      "\n",
      "\n",
      "\n",
      "\n",
      "\n",
      "\n",
      "\n",
      "\n",
      "\n",
      "\n",
      "\n",
      "\n",
      "\n",
      "\n",
      "\n",
      "\n",
      "\n",
      "\n",
      "\n",
      "\n",
      "\n",
      "\n",
      "\n",
      "\n",
      "\n",
      "\n",
      "\n",
      "\n",
      "\n",
      "\n",
      "\n",
      "\n",
      "\n",
      "\n",
      "\n",
      "\n",
      "\n",
      "\n",
      "\n",
      "\n",
      "\n",
      "\n",
      "\n",
      "\n",
      "\n",
      "\n",
      "\n",
      "\n",
      "\n",
      "\n",
      "\n",
      "\n",
      "\n",
      "\n",
      "\n",
      "\n",
      "\n",
      "\n",
      "\n",
      "\n",
      "\n",
      "\n",
      "\n",
      "\n",
      "\n",
      "\n",
      "\n",
      "\n",
      "\n",
      "\n",
      "\n",
      "\n",
      "\n",
      "\n",
      "\n",
      "\n",
      "\n",
      "\n",
      "\n",
      "\n",
      "\n",
      "\n",
      "\n",
      "\n",
      "\n",
      "\n",
      "\n",
      "\n",
      "\n",
      "\n",
      "\n",
      "\n",
      "\n",
      "\n",
      "\n",
      "\n",
      "\n",
      "\n",
      "\n",
      "\n",
      "\n",
      "\n",
      "\n",
      "\n",
      "\n",
      "\n",
      "\n",
      "\n",
      "\n",
      "\n",
      "\n",
      "\n",
      "\n",
      "\n",
      "\n",
      "\n",
      "\n",
      "\n",
      "\n",
      "\n",
      "\n",
      "\n",
      "\n",
      "\n",
      "\n",
      "\n",
      "========================================= Temperature 0.2 ==========================================\n",
      "евгений не занятья\n",
      "\n",
      "\n",
      "\n",
      "не странный возвольшенье,\n",
      "\n",
      "\n",
      "\n",
      "\n",
      "\n",
      "\n",
      "\n",
      "\n",
      "\n",
      "и всё не всё деревней сердца с ней дальной\n",
      "\n",
      "\n",
      "\n",
      "\n",
      "\n",
      "\n",
      "под поле послестить он в ней на странить она\n",
      "\n",
      "\n",
      "\n",
      "\n",
      "\n",
      "и полно в нем не страшной старинный,\n",
      "\n",
      "\n",
      "и в сердца своей волнали верно\n",
      "не томно он сердце стран\n",
      "========================================= Temperature 0.5 ==========================================\n",
      "евгений\n",
      "и и не привычная верною всех он?\n",
      "\n",
      "\n",
      "\n",
      "пред ней сердце стару не старинный,\n",
      "\n",
      "давно в разрава отустей\n",
      "и всегда воротел ее вздел\n",
      "не слесал и тут он в облидет и меня\n",
      "с холосто в ней пред ней находит\n",
      "под уж на заним сконка,\n",
      "\n",
      "не много в части не разда\n",
      "========================================= Temperature 0.7 ==========================================\n",
      "евгений печальной\n",
      "в нем гордить занимало, с своей не пресединей,\n",
      "\n",
      "довуски собор он скоры,\n",
      "писажит б ведь пред думал старый кареть:\n",
      "охотливая молыбить веча\n",
      "так же не чувство не то мненья родной\n",
      "татьяна с ним плака, мой благословен\n",
      "xxxii\n",
      "он от, верно б\n",
      "========================================= Temperature 0.9 ==========================================\n",
      "евгений,\n",
      "сбежас серде он было евгену,\n",
      "под небходить онегины,\n",
      "вот окнажая мне дела.\n",
      "в княгу начлужденье, мог взорина.\n",
      "душец видельных душой былый\n",
      "\n",
      "«навет о дан; он утромный»\n",
      "\n",
      "\n",
      "не страсти вервел он и покой\n",
      "приста маз уменного смирый,\n",
      "\n",
      "вгрем, всегда мол\n",
      "========================================= Temperature 1.0 ==========================================\n",
      "евгений\n",
      "и что ж? привычкой жиз,\n",
      "\n",
      "\n",
      "ей сред легки трудена.\n",
      "\n",
      "хото на мой она жмений ех,\n",
      "искурто явел толковоили. она.\n",
      "\n",
      "погади лишь явлюра е,\n",
      "\n",
      "собадцаза дределысла;\n",
      "снивдце мельком ей спривы;\n",
      "и не отвелка пробли яв.\n",
      "благосляян препотвачая бежен.\n",
      "viii\n",
      "ник\n",
      "========================================= Temperature 2.0 ==========================================\n",
      "евгений,\n",
      "ниминного б иж случный::\n",
      "v еде чижсть…… нашулпом жук;..) у на длях?»!» —i. гпщездобь, уж, надаз спол?\n",
      "кто ког. —\n",
      "митят вдявы бей шукая тредновал\n",
      "бос ле!»а наутовой. хл его опнярит и,\n",
      "iv?\n",
      "точал… ны храздзя: впидайте сное?\n",
      "читалел дул… что… ка\n"
     ]
    }
   ],
   "source": [
    "# Text generation with different temperature values here\n",
    "temps = [0.1, 0.2, 0.5, 0.7, 0.9, 1.0, 2.0]\n",
    "seed_phrase = 'Евгений'\n",
    "text_length = 250\n",
    "for t in temps:\n",
    "    title = f\" Temperature {t} \"\n",
    "    print(f'{title:=^100}')\n",
    "    print(generate_sample(lstm_model_1,\n",
    "                          seed_phrase,\n",
    "                          text_length,\n",
    "                          t))"
   ]
  },
  {
   "cell_type": "markdown",
   "metadata": {},
   "source": [
    "### 1 layer, 128 hidden size, 64 embedding size"
   ]
  },
  {
   "cell_type": "code",
   "execution_count": 149,
   "metadata": {},
   "outputs": [],
   "source": [
    "lstm_model_params_2 = {\n",
    "    'n_layers': 1,\n",
    "    'hidden_size': 128,\n",
    "    'embedding_size': 64,\n",
    "    'n_tokens' : len(tokens),\n",
    "    'seq_length': 32\n",
    "}"
   ]
  },
  {
   "cell_type": "code",
   "execution_count": 150,
   "metadata": {},
   "outputs": [],
   "source": [
    "lstm_model_2 = CustomLSTM(n_tokens=lstm_model_params_2['n_tokens'],\n",
    "                 embedding_size=lstm_model_params_2['embedding_size'],\n",
    "                 hidden_size=lstm_model_params_2['hidden_size'],\n",
    "                 num_layers=lstm_model_params_2['n_layers'])\n",
    "opt = torch.optim.Adam(lstm_model_2.parameters(), lr=3e-4)\n",
    "loss_func = nn.CrossEntropyLoss()"
   ]
  },
  {
   "cell_type": "code",
   "execution_count": 151,
   "metadata": {},
   "outputs": [],
   "source": [
    "training_params = {\n",
    "    'n_epochs': 50,\n",
    "    'train_batch_size': 256,\n",
    "    'valid_batch_size': 256\n",
    "}"
   ]
  },
  {
   "cell_type": "code",
   "execution_count": 152,
   "metadata": {},
   "outputs": [],
   "source": [
    "loss_history = {\n",
    "    'train': [],\n",
    "    'validation': []\n",
    "}"
   ]
  },
  {
   "cell_type": "code",
   "execution_count": 153,
   "metadata": {},
   "outputs": [],
   "source": [
    "# Initialize variables to track the best model\n",
    "best_val_loss = float('inf')\n",
    "best_epoch = -1"
   ]
  },
  {
   "cell_type": "code",
   "execution_count": 154,
   "metadata": {},
   "outputs": [
    {
     "data": {
      "image/png": "[encoded data removed]",
      "text/plain": [
       "<Figure size 1200x600 with 1 Axes>"
      ]
     },
     "metadata": {},
     "output_type": "display_data"
    },
    {
     "name": "stdout",
     "output_type": "stream",
     "text": [
      "Epoch 21/50: Train Loss = 1.6994, Validation Loss = 2.0058\n"
     ]
    },
    {
     "data": {
      "application/vnd.jupyter.widget-view+json": {
       "model_id": "4d3ddefae3c54b2e940a8b65e2df5676",
       "version_major": 2,
       "version_minor": 0
      },
      "text/plain": [
       "Epoch 22/50 - Training: 0it [00:00, ?it/s]"
      ]
     },
     "metadata": {},
     "output_type": "display_data"
    },
    {
     "data": {
      "application/vnd.jupyter.widget-view+json": {
       "model_id": "2a8dc81228a14a9a82f863654b7eb83f",
       "version_major": 2,
       "version_minor": 0
      },
      "text/plain": [
       "  0%|          | 0/444 [00:00<?, ?it/s]"
      ]
     },
     "metadata": {},
     "output_type": "display_data"
    },
    {
     "ename": "KeyboardInterrupt",
     "evalue": "",
     "output_type": "error",
     "traceback": [
      "\u001b[0;31m---------------------------------------------------------------------------\u001b[0m",
      "\u001b[0;31mKeyboardInterrupt\u001b[0m                         Traceback (most recent call last)",
      "Cell \u001b[0;32mIn[154], line 21\u001b[0m\n\u001b[1;32m     17\u001b[0m loss \u001b[38;5;241m=\u001b[39m loss_func(logit_seq[:, :\u001b[38;5;241m-\u001b[39m\u001b[38;5;241m1\u001b[39m]\u001b[38;5;241m.\u001b[39mreshape((\u001b[38;5;241m-\u001b[39m\u001b[38;5;241m1\u001b[39m, lstm_model_params_2[\u001b[38;5;124m'\u001b[39m\u001b[38;5;124mn_tokens\u001b[39m\u001b[38;5;124m'\u001b[39m])), \n\u001b[1;32m     18\u001b[0m                  inputs[:, \u001b[38;5;241m1\u001b[39m:]\u001b[38;5;241m.\u001b[39mreshape(\u001b[38;5;241m-\u001b[39m\u001b[38;5;241m1\u001b[39m))\n\u001b[1;32m     19\u001b[0m train_loss_batch\u001b[38;5;241m.\u001b[39mappend(loss\u001b[38;5;241m.\u001b[39mdetach()\u001b[38;5;241m.\u001b[39mcpu()\u001b[38;5;241m.\u001b[39mnumpy() \u001b[38;5;241m*\u001b[39m inputs\u001b[38;5;241m.\u001b[39msize()[\u001b[38;5;241m0\u001b[39m])\n\u001b[0;32m---> 21\u001b[0m loss\u001b[38;5;241m.\u001b[39mbackward()\n\u001b[1;32m     22\u001b[0m opt\u001b[38;5;241m.\u001b[39mstep()\n\u001b[1;32m     23\u001b[0m opt\u001b[38;5;241m.\u001b[39mzero_grad()\n",
      "File \u001b[0;32m~/anaconda3/lib/python3.12/site-packages/torch/_tensor.py:525\u001b[0m, in \u001b[0;36mTensor.backward\u001b[0;34m(self, gradient, retain_graph, create_graph, inputs)\u001b[0m\n\u001b[1;32m    515\u001b[0m \u001b[38;5;28;01mif\u001b[39;00m has_torch_function_unary(\u001b[38;5;28mself\u001b[39m):\n\u001b[1;32m    516\u001b[0m     \u001b[38;5;28;01mreturn\u001b[39;00m handle_torch_function(\n\u001b[1;32m    517\u001b[0m         Tensor\u001b[38;5;241m.\u001b[39mbackward,\n\u001b[1;32m    518\u001b[0m         (\u001b[38;5;28mself\u001b[39m,),\n\u001b[0;32m   (...)\u001b[0m\n\u001b[1;32m    523\u001b[0m         inputs\u001b[38;5;241m=\u001b[39minputs,\n\u001b[1;32m    524\u001b[0m     )\n\u001b[0;32m--> 525\u001b[0m torch\u001b[38;5;241m.\u001b[39mautograd\u001b[38;5;241m.\u001b[39mbackward(\n\u001b[1;32m    526\u001b[0m     \u001b[38;5;28mself\u001b[39m, gradient, retain_graph, create_graph, inputs\u001b[38;5;241m=\u001b[39minputs\n\u001b[1;32m    527\u001b[0m )\n",
      "File \u001b[0;32m~/anaconda3/lib/python3.12/site-packages/torch/autograd/__init__.py:267\u001b[0m, in \u001b[0;36mbackward\u001b[0;34m(tensors, grad_tensors, retain_graph, create_graph, grad_variables, inputs)\u001b[0m\n\u001b[1;32m    262\u001b[0m     retain_graph \u001b[38;5;241m=\u001b[39m create_graph\n\u001b[1;32m    264\u001b[0m \u001b[38;5;66;03m# The reason we repeat the same comment below is that\u001b[39;00m\n\u001b[1;32m    265\u001b[0m \u001b[38;5;66;03m# some Python versions print out the first line of a multi-line function\u001b[39;00m\n\u001b[1;32m    266\u001b[0m \u001b[38;5;66;03m# calls in the traceback and some print out the last line\u001b[39;00m\n\u001b[0;32m--> 267\u001b[0m _engine_run_backward(\n\u001b[1;32m    268\u001b[0m     tensors,\n\u001b[1;32m    269\u001b[0m     grad_tensors_,\n\u001b[1;32m    270\u001b[0m     retain_graph,\n\u001b[1;32m    271\u001b[0m     create_graph,\n\u001b[1;32m    272\u001b[0m     inputs,\n\u001b[1;32m    273\u001b[0m     allow_unreachable\u001b[38;5;241m=\u001b[39m\u001b[38;5;28;01mTrue\u001b[39;00m,\n\u001b[1;32m    274\u001b[0m     accumulate_grad\u001b[38;5;241m=\u001b[39m\u001b[38;5;28;01mTrue\u001b[39;00m,\n\u001b[1;32m    275\u001b[0m )\n",
      "File \u001b[0;32m~/anaconda3/lib/python3.12/site-packages/torch/autograd/graph.py:744\u001b[0m, in \u001b[0;36m_engine_run_backward\u001b[0;34m(t_outputs, *args, **kwargs)\u001b[0m\n\u001b[1;32m    742\u001b[0m     unregister_hooks \u001b[38;5;241m=\u001b[39m _register_logging_hooks_on_whole_graph(t_outputs)\n\u001b[1;32m    743\u001b[0m \u001b[38;5;28;01mtry\u001b[39;00m:\n\u001b[0;32m--> 744\u001b[0m     \u001b[38;5;28;01mreturn\u001b[39;00m Variable\u001b[38;5;241m.\u001b[39m_execution_engine\u001b[38;5;241m.\u001b[39mrun_backward(  \u001b[38;5;66;03m# Calls into the C++ engine to run the backward pass\u001b[39;00m\n\u001b[1;32m    745\u001b[0m         t_outputs, \u001b[38;5;241m*\u001b[39margs, \u001b[38;5;241m*\u001b[39m\u001b[38;5;241m*\u001b[39mkwargs\n\u001b[1;32m    746\u001b[0m     )  \u001b[38;5;66;03m# Calls into the C++ engine to run the backward pass\u001b[39;00m\n\u001b[1;32m    747\u001b[0m \u001b[38;5;28;01mfinally\u001b[39;00m:\n\u001b[1;32m    748\u001b[0m     \u001b[38;5;28;01mif\u001b[39;00m attach_logging_hooks:\n",
      "\u001b[0;31mKeyboardInterrupt\u001b[0m: "
     ]
    }
   ],
   "source": [
    "for epoch in range(training_params['n_epochs']):\n",
    "    train_generator = char_rnn_data_generator(train_text_indices,\n",
    "                                              lstm_model_params_2['seq_length'],\n",
    "                                              training_params['train_batch_size'])\n",
    "    valid_generator = char_rnn_data_generator(valid_text_indices,\n",
    "                                              lstm_model_params_2['seq_length'],\n",
    "                                              training_params['valid_batch_size'])\n",
    "    train_loss_batch = []\n",
    "\n",
    "    train_progress_bar = tqdm(train_generator, \n",
    "                              desc=f\"Epoch {epoch + 1}/{training_params['n_epochs']} - Training\", \n",
    "                              leave=False)\n",
    "\n",
    "    for inputs in train_progress_bar:\n",
    "        inputs = torch.tensor(inputs, dtype=torch.int64)\n",
    "        logit_seq, _, _ = lstm_model_2(inputs)\n",
    "        loss = loss_func(logit_seq[:, :-1].reshape((-1, lstm_model_params_2['n_tokens'])), \n",
    "                         inputs[:, 1:].reshape(-1))\n",
    "        train_loss_batch.append(loss.detach().cpu().numpy() * inputs.size()[0])\n",
    "\n",
    "        loss.backward()\n",
    "        opt.step()\n",
    "        opt.zero_grad()\n",
    "\n",
    "    avg_train_loss = np.sum(train_loss_batch) / len(train_text)\n",
    "    loss_history['train'].append(avg_train_loss)\n",
    "\n",
    "    val_loss_batch = []\n",
    "\n",
    "    with torch.no_grad():\n",
    "        val_progress_bar = tqdm(valid_generator, \n",
    "                                desc=f\"Epoch {epoch + 1}/{training_params['n_epochs']} - Validation\", \n",
    "                                leave=False)\n",
    "\n",
    "        for inputs in val_progress_bar:\n",
    "            inputs = torch.tensor(inputs, dtype=torch.int64)\n",
    "            logit_seq, _, _ = lstm_model_2(inputs)\n",
    "            loss = loss_func(logit_seq[:, :-1].reshape((-1, lstm_model_params_2['n_tokens'])), \n",
    "                             inputs[:, 1:].reshape(-1))\n",
    "            val_loss_batch.append(loss.detach().cpu().numpy() * inputs.size()[0])\n",
    "\n",
    "    avg_val_loss = np.sum(val_loss_batch) / len(valid_text)\n",
    "    loss_history['validation'].append(avg_val_loss)\n",
    "\n",
    "    if avg_val_loss < best_val_loss:\n",
    "        best_val_loss = avg_val_loss\n",
    "        best_epoch = epoch + 1\n",
    "\n",
    "        save_checkpoint(lstm_model_2, opt, epoch + 1, loss_history, 'models/best_lstm_2.pth')\n",
    "\n",
    "    clear_output(wait=True)\n",
    "    plt.figure(figsize=(12, 6))\n",
    "\n",
    "    plt.plot(loss_history['train'], label='Train Loss')\n",
    "    plt.plot(loss_history['validation'], label='Validation Loss')\n",
    "    plt.xlabel('Epoch')\n",
    "    plt.ylabel('Loss')\n",
    "    plt.title(f'Loss - Epoch {epoch + 1}/{training_params[\"n_epochs\"]}')\n",
    "    plt.legend()\n",
    "    plt.grid(True)\n",
    "\n",
    "    plt.show()\n",
    "\n",
    "    print(f\"Epoch {epoch + 1}/{training_params['n_epochs']}: \"\n",
    "          f\"Train Loss = {avg_train_loss:.4f}, Validation Loss = {avg_val_loss:.4f}\")\n"
   ]
  },
  {
   "cell_type": "code",
   "execution_count": 155,
   "metadata": {},
   "outputs": [
    {
     "data": {
      "application/vnd.jupyter.widget-view+json": {
       "model_id": "4d7273254e304dc4bb2f63660aa6c06c",
       "version_major": 2,
       "version_minor": 0
      },
      "text/plain": [
       "Testing: 0it [00:00, ?it/s]"
      ]
     },
     "metadata": {},
     "output_type": "display_data"
    },
    {
     "data": {
      "application/vnd.jupyter.widget-view+json": {
       "model_id": "7a98125a94d54987a7ff66a1430534ba",
       "version_major": 2,
       "version_minor": 0
      },
      "text/plain": [
       "  0%|          | 0/54 [00:00<?, ?it/s]"
      ]
     },
     "metadata": {},
     "output_type": "display_data"
    },
    {
     "name": "stdout",
     "output_type": "stream",
     "text": [
      "Test Loss = 1.9851\n"
     ]
    }
   ],
   "source": [
    "test_generator = char_rnn_data_generator(test_text_indices,\n",
    "                                        lstm_model_params_2['seq_length'],\n",
    "                                        batch_size=256)\n",
    "test_loss_batch = []\n",
    "with torch.no_grad():\n",
    "    test_progress_bar = tqdm(test_generator, \n",
    "                             desc=f\"Testing\", \n",
    "                             leave=False)\n",
    "\n",
    "    for inputs in test_progress_bar:\n",
    "        inputs = torch.tensor(inputs, dtype=torch.int64)\n",
    "        logit_seq, _, _ = lstm_model_2(inputs)\n",
    "        loss = loss_func(logit_seq[:, :-1].reshape((-1, lstm_model_params_2['n_tokens'])), \n",
    "                         inputs[:, 1:].reshape(-1))\n",
    "        test_loss_batch.append(loss.detach().cpu().numpy() * inputs.size()[0])\n",
    "\n",
    "avg_test_loss = np.sum(test_loss_batch) / len(test_text)\n",
    "print(f'Test Loss = {avg_test_loss:.4f}')"
   ]
  },
  {
   "cell_type": "code",
   "execution_count": 156,
   "metadata": {},
   "outputs": [
    {
     "name": "stdout",
     "output_type": "stream",
     "text": [
      "========================================= Temperature 0.1 ==========================================\n",
      "евгений,\n",
      "\n",
      "\n",
      "\n",
      "\n",
      "\n",
      "\n",
      "\n",
      "\n",
      "\n",
      "\n",
      "\n",
      "\n",
      "\n",
      "\n",
      "\n",
      "\n",
      "\n",
      "\n",
      "\n",
      "\n",
      "и встал в поле подруга старины,\n",
      "\n",
      "\n",
      "\n",
      "\n",
      "\n",
      "\n",
      "\n",
      "\n",
      "\n",
      "\n",
      "\n",
      "\n",
      "\n",
      "\n",
      "\n",
      "\n",
      "и встать не сон она всех воспоминаньем\n",
      "\n",
      "\n",
      "\n",
      "\n",
      "\n",
      "\n",
      "\n",
      "\n",
      "\n",
      "\n",
      "\n",
      "\n",
      "\n",
      "\n",
      "\n",
      "\n",
      "\n",
      "\n",
      "\n",
      "и встал в перестал темной покой\n",
      "но в саду по другом под ней не подруга\n",
      "\n",
      "\n",
      "\n",
      "\n",
      "\n",
      "\n",
      "\n",
      "и встал в перестал в поле подруга\n",
      "\n",
      "\n",
      "\n",
      "\n",
      "========================================= Temperature 0.2 ==========================================\n",
      "евгений\n",
      "\n",
      "\n",
      "как был полновенный как небо одна\n",
      "\n",
      "\n",
      "\n",
      "\n",
      "\n",
      "в глуши друг на своей не сон под ней не сметал,\n",
      "\n",
      "\n",
      "\n",
      "\n",
      "\n",
      "и высокой сердца привыкной\n",
      "\n",
      "\n",
      "и вот был с ней не привез не сон она\n",
      "и стал бы в сердце поданный долго и следой\n",
      "\n",
      "\n",
      "и вот был он в оседа принять не смотр\n",
      "========================================= Temperature 0.5 ==========================================\n",
      "евгений\n",
      "\n",
      "\n",
      "и вот собой с нею волнами\n",
      "в обою своей все думала молоды\n",
      "\n",
      "старине славо б он томной\n",
      "\n",
      "\n",
      "\n",
      "\n",
      "он в думал он с полной меня томной\n",
      "с полуковой соверна,\n",
      "они свой подруг отрада и тихо нас\n",
      "но где всего любовью лучам\n",
      "и при свете на ним одна,\n",
      "\n",
      "не прости\n",
      "========================================= Temperature 0.7 ==========================================\n",
      "евгений\n",
      "\n",
      "всегда воздруга важной из умель\n",
      "его что бы он улыбка показал\n",
      "xliii\n",
      "посамо для вас прошли и перестер,\n",
      "\n",
      "дической клятил сон очел на твердое,\n",
      "и в самом сам везде камет.\n",
      "но любви в насно одна,\n",
      "\n",
      "\n",
      "\n",
      "на сомненный сердце сон.\n",
      "невестей на гостих лицы \n",
      "========================================= Temperature 0.9 ==========================================\n",
      "евгений,\n",
      "как помышут танти зворо;\n",
      "в сугребах, три все вам блаженья,\n",
      "гочита не зно бреле\n",
      "острадала молоды,\n",
      "\n",
      "\n",
      "довольных полюбина, в своей». —\n",
      "«покамые приходили даше пое!»\n",
      "подвученный цветельным.\n",
      "в пред грофин. – «не от пустынный счастья\n",
      "по дошел и мое\n",
      "========================================= Temperature 1.0 ==========================================\n",
      "евгений вновь\n",
      "братил он слугней в них не огом…»\n",
      "ужеле ему создунном, другом:\n",
      "и низмузеньем.\n",
      "и всё навок бал…\n",
      "привык казалась на бьет\n",
      "верене, снег, не долгина: к.\n",
      "\n",
      "еще затей его дверь\n",
      "\n",
      "ряд жизнь встух, славаясь дол. большого.\n",
      "ты радрег его ларпиц,\n",
      "или\n",
      "========================================= Temperature 2.0 ==========================================\n",
      "евгений;\n",
      "явнов ицбретаю?\n",
      "е\n",
      "xxi.\n",
      "ужсюдцво тениженца;\n",
      "неут:, ч(бес мненькийя; тотхоле\n",
      "– думуе. унравно;\n",
      "хратливы, простающа– несут,\n",
      "какимгке любя яфин брежу] стромуга;\n",
      "на тогпащикнюам».,\n",
      "xiv\n",
      "va»l – mуbe рлизцке по, млукость.\n",
      ".v\n",
      "но: тще лашале —s, криа:\n"
     ]
    }
   ],
   "source": [
    "# Text generation with different temperature values here\n",
    "temps = [0.1, 0.2, 0.5, 0.7, 0.9, 1.0, 2.0]\n",
    "seed_phrase = 'Евгений'\n",
    "text_length = 250\n",
    "for t in temps:\n",
    "    title = f\" Temperature {t} \"\n",
    "    print(f'{title:=^100}')\n",
    "    print(generate_sample(lstm_model_2,\n",
    "                          seed_phrase,\n",
    "                          text_length,\n",
    "                          t))"
   ]
  },
  {
   "cell_type": "markdown",
   "metadata": {},
   "source": [
    "### 3 layers, 128 hidden size, 32 embedding size"
   ]
  },
  {
   "cell_type": "code",
   "execution_count": null,
   "metadata": {},
   "outputs": [],
   "source": []
  },
  {
   "cell_type": "markdown",
   "metadata": {},
   "source": [
    "## Compare all implemented models"
   ]
  },
  {
   "cell_type": "markdown",
   "metadata": {},
   "source": [
    "## References\n",
    "1. <a href='http://karpathy.github.io/2015/05/21/rnn-effectiveness/'> Andrew Karpathy blog post about RNN. </a> \n",
    "There are several examples of genration: Shakespeare texts, Latex formulas, Linux Sourse Code and children names.\n",
    "2. <a href='https://github.com/karpathy/char-rnn'> Repo with char-rnn code </a>"
   ]
  }
 ],
 "metadata": {
  "anaconda-cloud": {},
  "kernelspec": {
   "display_name": "Python 3",
   "language": "python",
   "name": "python3"
  },
  "language_info": {
   "codemirror_mode": {
    "name": "ipython",
    "version": 3
   },
   "file_extension": ".py",
   "mimetype": "text/x-python",
   "name": "python",
   "nbconvert_exporter": "python",
   "pygments_lexer": "ipython3",
   "version": "3.12.2"
  }
 },
 "nbformat": 4,
 "nbformat_minor": 2
}
