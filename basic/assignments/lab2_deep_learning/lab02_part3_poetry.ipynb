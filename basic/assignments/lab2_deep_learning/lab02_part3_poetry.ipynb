{
 "cells": [
  {
   "cell_type": "markdown",
   "metadata": {},
   "source": [
    "# Lab 2. Part 3. Poetry generation\n",
    "\n",
    "Let's try to generate some poetry using RNNs. \n",
    "\n",
    "You have several choices here: \n",
    "\n",
    "* The Shakespeare sonnets, file `sonnets.txt` available in the notebook directory.\n",
    "\n",
    "* Роман в стихах \"Евгений Онегин\" Александра Сергеевича Пушкина. В предобработанном виде доступен по [ссылке](https://github.com/attatrol/data_sources/blob/master/onegin.txt).\n",
    "\n",
    "* Some other text source, if it will be approved by the course staff.\n",
    "\n",
    "Text generation can be designed in several steps:\n",
    "    \n",
    "1. Data loading.\n",
    "2. Dictionary generation.\n",
    "3. Data preprocessing.\n",
    "4. Model (neural network) training.\n",
    "5. Text generation (model evaluation).\n"
   ]
  },
  {
   "cell_type": "code",
   "execution_count": 164,
   "metadata": {},
   "outputs": [],
   "source": [
    "import string\n",
    "import os\n",
    "import torch\n",
    "import torch.nn as nn\n",
    "import numpy as np\n",
    "from IPython.display import clear_output\n",
    "from tqdm.notebook import tqdm\n",
    "import matplotlib.pyplot as plt\n",
    "import torch.nn.functional as F"
   ]
  },
  {
   "cell_type": "markdown",
   "metadata": {},
   "source": [
    "## Data handling"
   ]
  },
  {
   "cell_type": "markdown",
   "metadata": {},
   "source": [
    "### Data loading: Shakespeare"
   ]
  },
  {
   "cell_type": "markdown",
   "metadata": {},
   "source": [
    "Shakespeare sonnets are awailable at this [link](http://www.gutenberg.org/ebooks/1041?msg=welcome_stranger). In addition, they are stored in the same directory as this notebook (`sonnetes.txt`). Simple preprocessing is already done for you in the next cell: all technical info is dropped."
   ]
  },
  {
   "cell_type": "code",
   "execution_count": 22,
   "metadata": {
    "collapsed": true
   },
   "outputs": [],
   "source": [
    "if not os.path.exists('sonnets.txt'):\n",
    "    !wget https://raw.githubusercontent.com/girafe-ai/ml-course/22f_basic/homeworks_basic/lab02_deep_learning/sonnets.txt\n",
    "\n",
    "with open('sonnets.txt', 'r') as iofile:\n",
    "    text = iofile.readlines()\n",
    "    \n",
    "TEXT_START = 45\n",
    "TEXT_END = -368\n",
    "text = text[TEXT_START : TEXT_END]\n",
    "assert len(text) == 2616"
   ]
  },
  {
   "cell_type": "markdown",
   "metadata": {},
   "source": [
    "In opposite to the in-class practice, this time we want to predict complex text. Let's reduce the complexity of the task and lowercase all the symbols.\n",
    "\n",
    "Now variable `text` is a list of strings. Join all the strings into one and lowercase it."
   ]
  },
  {
   "cell_type": "code",
   "execution_count": 3,
   "metadata": {},
   "outputs": [],
   "source": [
    "# Join all the strings into one and lowercase it\n",
    "# Put result into variable text.\n",
    "\n",
    "# Your great code here\n",
    "\n",
    "assert len(text) == 100225, 'Are you sure you have concatenated all the strings?'\n",
    "assert not any([x in set(text) for x in string.ascii_uppercase]), 'Uppercase letters are present'\n",
    "print('OK!')"
   ]
  },
  {
   "cell_type": "markdown",
   "metadata": {},
   "source": [
    "### Data loading: \"Евгений Онегин\"\n"
   ]
  },
  {
   "cell_type": "code",
   "execution_count": 79,
   "metadata": {},
   "outputs": [
    {
     "name": "stdout",
     "output_type": "stream",
     "text": [
      "--2024-08-22 19:14:23--  https://raw.githubusercontent.com/attatrol/data_sources/master/onegin.txt\n",
      "Resolving raw.githubusercontent.com (raw.githubusercontent.com)... 185.199.110.133, 185.199.108.133, 185.199.109.133, ...\n",
      "Connecting to raw.githubusercontent.com (raw.githubusercontent.com)|185.199.110.133|:443... connected.\n",
      "HTTP request sent, awaiting response... 200 OK\n",
      "Length: 262521 (256K) [text/plain]\n",
      "Saving to: ‘onegin.txt.4’\n",
      "\n",
      "onegin.txt.4        100%[===================>] 256.37K  1.29MB/s    in 0.2s    \n",
      "\n",
      "2024-08-22 19:14:24 (1.29 MB/s) - ‘onegin.txt.4’ saved [262521/262521]\n",
      "\n"
     ]
    }
   ],
   "source": [
    "!wget https://raw.githubusercontent.com/attatrol/data_sources/master/onegin.txt\n",
    "    \n",
    "with open('onegin.txt', 'r') as iofile:\n",
    "    text = iofile.readlines()\n",
    "    \n",
    "text = [x.replace('\\t\\t', '') for x in text]"
   ]
  },
  {
   "cell_type": "markdown",
   "metadata": {},
   "source": [
    "In opposite to the in-class practice, this time we want to predict complex text. Let's reduce the complexity of the task and lowercase all the symbols.\n",
    "\n",
    "Now variable `text` is a list of strings. Join all the strings into one and lowercase it."
   ]
  },
  {
   "cell_type": "code",
   "execution_count": 80,
   "metadata": {},
   "outputs": [
    {
     "name": "stdout",
     "output_type": "stream",
     "text": [
      "20.018058690744923\n"
     ]
    }
   ],
   "source": [
    "lines_len = list()\n",
    "for line in text:\n",
    "    lines_len.append(len(line))\n",
    "print(np.mean(lines_len))"
   ]
  },
  {
   "cell_type": "code",
   "execution_count": 84,
   "metadata": {},
   "outputs": [
    {
     "data": {
      "text/plain": [
       "7088"
      ]
     },
     "execution_count": 84,
     "metadata": {},
     "output_type": "execute_result"
    }
   ],
   "source": [
    "len(text)"
   ]
  },
  {
   "cell_type": "code",
   "execution_count": 85,
   "metadata": {},
   "outputs": [],
   "source": [
    "text = np.array(text)"
   ]
  },
  {
   "cell_type": "code",
   "execution_count": 90,
   "metadata": {},
   "outputs": [],
   "source": [
    "# Split the dataset (lines) on train/validation sets\n",
    "train_valid_test_ratios = [0.8, 0.1, 0.1]\n",
    "\n",
    "n_total_lines = len(text)\n",
    "n_train_lines = round(train_valid_test_ratios[0] * n_total_lines)\n",
    "n_valid_lines = round(train_valid_test_ratios[1] * n_total_lines)\n",
    "n_test_lines = n_total_lines - n_train_lines - n_valid_lines\n",
    "\n",
    "indices = np.arange(n_total_lines)\n",
    "np.random.shuffle(indices)\n",
    "\n",
    "train_indices = indices[:n_train_lines]\n",
    "valid_indices = indices[n_train_lines:n_train_lines + n_valid_lines]\n",
    "test_indices = indices[n_train_lines + n_valid_lines:]\n",
    "\n",
    "train_text = text[train_indices]\n",
    "valid_text = text[valid_indices]\n",
    "test_text = text[test_indices]"
   ]
  },
  {
   "cell_type": "code",
   "execution_count": 91,
   "metadata": {},
   "outputs": [],
   "source": [
    "# Join all the strings into one and lowercase it\n",
    "# Put result into variable text.\n",
    "\n",
    "# Your great code here\n",
    "train_text = ''.join(train_text).lower()\n",
    "valid_text = ''.join(valid_text).lower()\n",
    "test_text = ''.join(test_text).lower()"
   ]
  },
  {
   "cell_type": "code",
   "execution_count": 92,
   "metadata": {},
   "outputs": [
    {
     "data": {
      "text/plain": [
       "(113519, 14064, 14305)"
      ]
     },
     "execution_count": 92,
     "metadata": {},
     "output_type": "execute_result"
    }
   ],
   "source": [
    "len(train_text), len(valid_text), len(test_text)"
   ]
  },
  {
   "cell_type": "markdown",
   "metadata": {},
   "source": [
    "Put all the characters, that you've seen in the text, into variable `tokens`."
   ]
  },
  {
   "cell_type": "code",
   "execution_count": 93,
   "metadata": {},
   "outputs": [
    {
     "data": {
      "text/plain": [
       "(83, 54, 70)"
      ]
     },
     "execution_count": 93,
     "metadata": {},
     "output_type": "execute_result"
    }
   ],
   "source": [
    "len(set(train_text)), len(set(valid_text)), len(set(test_text))"
   ]
  },
  {
   "cell_type": "code",
   "execution_count": 97,
   "metadata": {},
   "outputs": [],
   "source": [
    "tokens = sorted(set(''.join(text).lower()))"
   ]
  },
  {
   "cell_type": "code",
   "execution_count": 98,
   "metadata": {},
   "outputs": [
    {
     "data": {
      "text/plain": [
       "(83, list)"
      ]
     },
     "execution_count": 98,
     "metadata": {},
     "output_type": "execute_result"
    }
   ],
   "source": [
    "len(tokens), type(tokens)"
   ]
  },
  {
   "cell_type": "markdown",
   "metadata": {},
   "source": [
    "Number of tokens in train dataset is 83 (the number of token in all text), so we good"
   ]
  },
  {
   "cell_type": "markdown",
   "metadata": {},
   "source": [
    "Create dictionary `token_to_idx = {<char>: <index>}` and dictionary `idx_to_token = {<index>: <char>}`"
   ]
  },
  {
   "cell_type": "code",
   "execution_count": 99,
   "metadata": {
    "collapsed": true
   },
   "outputs": [],
   "source": [
    "# dict <index>:<char>\n",
    "# Your great code here\n",
    "token_to_idx = {idx: token for token, idx in enumerate(tokens)}\n",
    "\n",
    "# dict <char>:<index>\n",
    "# Your great code here\n",
    "idx_to_token = {token: idx for token, idx in enumerate(tokens)}"
   ]
  },
  {
   "cell_type": "code",
   "execution_count": 217,
   "metadata": {},
   "outputs": [],
   "source": [
    "# Convert texts to indices\n",
    "train_text_indices = np.array([token_to_idx[char] for char in train_text])\n",
    "valid_text_indices = np.array([token_to_idx[char] for char in valid_text])\n",
    "test_text_indices = np.array([token_to_idx[char] for char in test_text])"
   ]
  },
  {
   "cell_type": "markdown",
   "metadata": {},
   "source": [
    "*Comment: in this task we have only 38 different tokens, so let's use one-hot encoding.*"
   ]
  },
  {
   "cell_type": "markdown",
   "metadata": {},
   "source": [
    "We have 83 tokens, so i this it's better to calculate the embedding (maybe a size of 50)"
   ]
  },
  {
   "cell_type": "code",
   "execution_count": 235,
   "metadata": {},
   "outputs": [],
   "source": [
    "from tqdm.notebook import trange\n",
    "\n",
    "def char_rnn_data_generator(text_indices, seq_length, batch_size):\n",
    "    # Calculate the number of complete batches per epoch\n",
    "    num_batches = (len(text_indices) - seq_length) // batch_size\n",
    "    \n",
    "    # Shuffle the indices at the beginning of each epoch\n",
    "    start_indices = np.random.permutation(len(text_indices) - seq_length)\n",
    "    \n",
    "    for batch_num in trange(num_batches):\n",
    "        batch_start_indices = start_indices[batch_num * batch_size:(batch_num + 1) * batch_size]\n",
    "\n",
    "        batch_inputs = np.zeros((batch_size, seq_length), dtype=np.int32)\n",
    "\n",
    "        for i, start_idx in enumerate(batch_start_indices):\n",
    "            batch_inputs[i] = text_indices[start_idx:start_idx + seq_length]\n",
    "            \n",
    "        yield batch_inputs\n",
    "    \n",
    "    # Handle any remaining data that wasn't covered by the above loop\n",
    "    remainder = len(text_indices) - seq_length - num_batches * batch_size\n",
    "    if remainder > 0:\n",
    "        batch_start_indices = start_indices[-remainder:]\n",
    "\n",
    "        # If remainder < batch_size, create smaller batch\n",
    "        remainder_batch_size = min(batch_size, remainder)\n",
    "        batch_inputs = np.zeros((remainder_batch_size, seq_length), dtype=np.int32)\n",
    "\n",
    "        for i, start_idx in enumerate(batch_start_indices):\n",
    "            batch_inputs[i] = text_indices[start_idx:start_idx + seq_length]\n",
    "\n",
    "        yield batch_inputs\n"
   ]
  },
  {
   "cell_type": "markdown",
   "metadata": {},
   "source": [
    "## Vanilla RNN"
   ]
  },
  {
   "cell_type": "code",
   "execution_count": 220,
   "metadata": {},
   "outputs": [],
   "source": [
    "model_params = {\n",
    "    'n_tokens' : len(tokens),\n",
    "    'n_embedding': 32,\n",
    "    'n_hidden': 64,\n",
    "    'length_of_input': 32\n",
    "}"
   ]
  },
  {
   "cell_type": "markdown",
   "metadata": {},
   "source": [
    "Now we want to build and train recurrent neural net which would be able to something similar to Shakespeare's poetry.\n",
    "\n",
    "Let's use vanilla RNN, similar to the one created during the lesson."
   ]
  },
  {
   "cell_type": "code",
   "execution_count": 221,
   "metadata": {
    "collapsed": true
   },
   "outputs": [],
   "source": [
    "class VanillaRNN(nn.Module):\n",
    "    def __init__(self, \n",
    "                 num_tokens=model_params['n_tokens'], \n",
    "                 embedding_size=model_params['n_embedding'], \n",
    "                 rnn_num_units=model_params['n_hidden']):\n",
    "        super().__init__()\n",
    "        self.num_units = rnn_num_units\n",
    "        \n",
    "        self.embedding = nn.Embedding(num_tokens, embedding_size)\n",
    "        self.rnn_update = nn.Linear(rnn_num_units + embedding_size, rnn_num_units)\n",
    "        self.rnn_to_logits = nn.Linear(rnn_num_units, num_tokens)\n",
    "        \n",
    "    def forward(self, x, h_prev):\n",
    "        x_emb = self.embedding(x)\n",
    "        \n",
    "        x_and_h = torch.cat([h_prev, x_emb], dim=-1)\n",
    "        h_next = self.rnn_update(x_and_h)\n",
    "        \n",
    "        h_next = torch.tanh(h_next)\n",
    "        \n",
    "        logits = self.rnn_to_logits(h_next)\n",
    "        \n",
    "        return h_next, logits\n",
    "    \n",
    "    def initial_state(self, batch_size):\n",
    "        return torch.zeros(batch_size, self.num_units, requires_grad=True)"
   ]
  },
  {
   "cell_type": "code",
   "execution_count": 222,
   "metadata": {},
   "outputs": [],
   "source": [
    "vanilla_rnn = VanillaRNN()"
   ]
  },
  {
   "cell_type": "code",
   "execution_count": 223,
   "metadata": {},
   "outputs": [],
   "source": [
    "def rnn_loop(rnn, batch):\n",
    "    '''\n",
    "    batch: batch_size x num_tokens\n",
    "    '''\n",
    "    hid_state = rnn.initial_state(batch.size()[0])\n",
    "    logits = []\n",
    "    \n",
    "    for x in batch.transpose(0, 1):\n",
    "        hid_state, logits_next = rnn(x, hid_state)\n",
    "        logits.append(logits_next)\n",
    "    \n",
    "    return torch.stack(logits, dim=1)"
   ]
  },
  {
   "cell_type": "markdown",
   "metadata": {},
   "source": [
    "### Testing the batching function"
   ]
  },
  {
   "cell_type": "code",
   "execution_count": 236,
   "metadata": {},
   "outputs": [],
   "source": [
    "generator = char_rnn_data_generator(train_text_indices, model_params['length_of_input'], 128)"
   ]
  },
  {
   "cell_type": "code",
   "execution_count": 237,
   "metadata": {},
   "outputs": [
    {
     "data": {
      "application/vnd.jupyter.widget-view+json": {
       "model_id": "37e6d45476e244088789a26835f5b176",
       "version_major": 2,
       "version_minor": 0
      },
      "text/plain": [
       "  0%|          | 0/886 [00:00<?, ?it/s]"
      ]
     },
     "metadata": {},
     "output_type": "display_data"
    }
   ],
   "source": [
    "inputs = next(generator)\n",
    "inputs = torch.tensor(inputs, dtype=torch.int64)\n",
    "logit_seq = rnn_loop(vanilla_rnn, inputs)"
   ]
  },
  {
   "cell_type": "code",
   "execution_count": 238,
   "metadata": {},
   "outputs": [],
   "source": [
    "loss_func = nn.CrossEntropyLoss()\n",
    "loss = loss_func(logit_seq[:, :-1].reshape((-1, model_params['n_tokens'])), inputs[:, 1:].reshape(-1))"
   ]
  },
  {
   "cell_type": "code",
   "execution_count": 239,
   "metadata": {},
   "outputs": [],
   "source": [
    "loss.backward()"
   ]
  },
  {
   "cell_type": "code",
   "execution_count": 240,
   "metadata": {},
   "outputs": [],
   "source": [
    "for w in vanilla_rnn.parameters():\n",
    "    assert w.grad is not None and torch.max(torch.abs(w.grad)).data.numpy() != 0, \\\n",
    "        \"Loss is not differentiable w.r.t. a weight with shape %s. Check forward method.\" % (w.size(),)"
   ]
  },
  {
   "cell_type": "markdown",
   "metadata": {},
   "source": [
    "### Training"
   ]
  },
  {
   "cell_type": "code",
   "execution_count": 208,
   "metadata": {
    "collapsed": true
   },
   "outputs": [],
   "source": [
    "model = VanillaRNN()\n",
    "opt = torch.optim.Adam(model.parameters(), lr=3e-4)\n",
    "loss_func = nn.CrossEntropyLoss()"
   ]
  },
  {
   "cell_type": "code",
   "execution_count": 242,
   "metadata": {},
   "outputs": [],
   "source": [
    "training_params = {\n",
    "    'n_epochs': 5,\n",
    "    'train_batch_size': 128,\n",
    "    'valid_batch_size': 128\n",
    "    }"
   ]
  },
  {
   "cell_type": "code",
   "execution_count": 243,
   "metadata": {},
   "outputs": [],
   "source": [
    "loss_history = {'train': [], 'validation': []}"
   ]
  },
  {
   "cell_type": "code",
   "execution_count": 244,
   "metadata": {},
   "outputs": [
    {
     "data": {
      "image/png": "[encoded data removed]",
      "text/plain": [
       "<Figure size 1200x600 with 1 Axes>"
      ]
     },
     "metadata": {},
     "output_type": "display_data"
    },
    {
     "name": "stdout",
     "output_type": "stream",
     "text": [
      "Epoch 5/5: Train Loss = 1.9992, Validation Loss = 2.1149\n"
     ]
    }
   ],
   "source": [
    "for epoch in range(training_params['n_epochs']):\n",
    "    train_generator = char_rnn_data_generator(train_text_indices,\n",
    "                                          model_params['length_of_input'],\n",
    "                                          training_params['train_batch_size'])\n",
    "    valid_generator = char_rnn_data_generator(valid_text_indices,\n",
    "                                            model_params['length_of_input'],\n",
    "                                            training_params['valid_batch_size'])\n",
    "    train_loss_batch = []\n",
    "\n",
    "    train_progress_bar = tqdm(train_generator, desc=f\"Epoch {epoch + 1}/{training_params['n_epochs']} - Training\", leave=False)\n",
    "\n",
    "    for inputs in train_progress_bar:\n",
    "        inputs = torch.tensor(inputs, dtype=torch.int64)\n",
    "        logit_seq = rnn_loop(model, inputs)\n",
    "        loss = loss_func(logit_seq[:, :-1].reshape((-1, model_params['n_tokens'])), inputs[:, 1:].reshape(-1))\n",
    "        train_loss_batch.append(loss.detach().cpu().numpy() * inputs.size()[0])\n",
    "\n",
    "        loss.backward()\n",
    "        opt.step()\n",
    "        opt.zero_grad()\n",
    "\n",
    "    avg_train_loss = np.sum(train_loss_batch) / len(train_text)\n",
    "    loss_history['train'].append(avg_train_loss)\n",
    "\n",
    "    val_loss_batch = []\n",
    "\n",
    "    with torch.no_grad():\n",
    "        val_progress_bar = tqdm(valid_generator, desc=f\"Epoch {epoch + 1}/{training_params['n_epochs']} - Validation\", leave=False)\n",
    "\n",
    "        for inputs in val_progress_bar:\n",
    "            inputs = torch.tensor(inputs, dtype=torch.int64)\n",
    "            logit_seq = rnn_loop(model, inputs)\n",
    "            loss = loss_func(logit_seq[:, :-1].reshape((-1, model_params['n_tokens'])), inputs[:, 1:].reshape(-1))\n",
    "            val_loss_batch.append(loss.detach().cpu().numpy() * inputs.size()[0])\n",
    "\n",
    "    avg_val_loss = np.sum(val_loss_batch) / len(valid_text)\n",
    "    loss_history['validation'].append(avg_val_loss)\n",
    "\n",
    "    clear_output(wait=True)\n",
    "    plt.figure(figsize=(12, 6))\n",
    "\n",
    "    plt.plot(loss_history['train'], label='Train Loss')\n",
    "    plt.plot(loss_history['validation'], label='Validation Loss')\n",
    "    plt.xlabel('Epoch')\n",
    "    plt.ylabel('Loss')\n",
    "    plt.title(f'Loss - Epoch {epoch + 1}/{training_params[\"n_epochs\"]}')\n",
    "    plt.legend()\n",
    "    plt.grid(True)\n",
    "\n",
    "    plt.show()\n",
    "\n",
    "    print(f\"Epoch {epoch + 1}/{training_params['n_epochs']}: \"\n",
    "          f\"Train Loss = {avg_train_loss:.4f}, Validation Loss = {avg_val_loss:.4f}\")"
   ]
  },
  {
   "cell_type": "markdown",
   "metadata": {},
   "source": [
    "### Evaluate on a test text"
   ]
  },
  {
   "cell_type": "code",
   "execution_count": 245,
   "metadata": {},
   "outputs": [
    {
     "data": {
      "application/vnd.jupyter.widget-view+json": {
       "model_id": "0dcecad2f283497f9edc587f904c425d",
       "version_major": 2,
       "version_minor": 0
      },
      "text/plain": [
       "Testing: 0it [00:00, ?it/s]"
      ]
     },
     "metadata": {},
     "output_type": "display_data"
    },
    {
     "data": {
      "application/vnd.jupyter.widget-view+json": {
       "model_id": "d50aa514a04642cebf7eb67a73053e21",
       "version_major": 2,
       "version_minor": 0
      },
      "text/plain": [
       "  0%|          | 0/55 [00:00<?, ?it/s]"
      ]
     },
     "metadata": {},
     "output_type": "display_data"
    },
    {
     "name": "stdout",
     "output_type": "stream",
     "text": [
      "Test Loss = 2.1410\n"
     ]
    }
   ],
   "source": [
    "test_generator = char_rnn_data_generator(test_text_indices,\n",
    "                                        model_params['length_of_input'],\n",
    "                                        batch_size=256)\n",
    "test_loss_batch = []\n",
    "with torch.no_grad():\n",
    "    test_progress_bar = tqdm(test_generator, desc=f\"Testing\", leave=False)\n",
    "\n",
    "    for inputs in test_progress_bar:\n",
    "        inputs = torch.tensor(inputs, dtype=torch.int64)\n",
    "        logit_seq = rnn_loop(model, inputs)\n",
    "        loss = loss_func(logit_seq[:, :-1].reshape((-1, model_params['n_tokens'])), inputs[:, 1:].reshape(-1))\n",
    "        test_loss_batch.append(loss.detach().cpu().numpy() * inputs.size()[0])\n",
    "\n",
    "avg_test_loss = np.sum(test_loss_batch) / len(test_text)\n",
    "print(f'Test Loss = {avg_test_loss:.4f}')"
   ]
  },
  {
   "cell_type": "markdown",
   "metadata": {},
   "source": [
    "### Text generation"
   ]
  },
  {
   "cell_type": "code",
   "execution_count": 173,
   "metadata": {},
   "outputs": [],
   "source": [
    "def generate_sample(model, seed_phrase='Евгений', max_length=100, temperature=1.0):\n",
    "    '''\n",
    "    ### Disclaimer: this is an example function for text generation.\n",
    "    ### You can either adapt it in your code or create your own function\n",
    "    \n",
    "    The function generates text given a phrase of length at least SEQ_LENGTH.\n",
    "    :param seed_phrase: prefix characters. The RNN is asked to continue the phrase\n",
    "    :param max_length: maximum output length, including seed_phrase\n",
    "    :param temperature: coefficient for sampling.  higher temperature produces more chaotic outputs, \n",
    "        smaller temperature converges to the single most likely output.\n",
    "        \n",
    "    Be careful with the model output. This model waits logits (not probabilities/log-probabilities)\n",
    "    of the next symbol.\n",
    "    '''\n",
    "    \n",
    "    x_sequence = [token_to_idx[token] for token in seed_phrase.lower()]\n",
    "    x_sequence = torch.tensor([x_sequence], dtype=torch.int64)\n",
    "    hid_state = model.initial_state(batch_size=1)\n",
    "    \n",
    "    # feed the seed phrase, if any\n",
    "    for i in range(len(seed_phrase) - 1):\n",
    "        hid_state, out = model(x_sequence[:, i], hid_state)\n",
    "    \n",
    "    # start generating\n",
    "    for _ in range(max_length - len(seed_phrase)):\n",
    "        hid_state, out = model(x_sequence[:, -1], hid_state)\n",
    "        # Be really careful here with the model output\n",
    "        p_next = F.softmax(out / temperature, dim=-1).data.numpy()[0]\n",
    "        \n",
    "        # sample next token and push it back into x_sequence\n",
    "        next_ix = np.random.choice(len(tokens), p=p_next)\n",
    "        next_ix = torch.tensor([[next_ix]], dtype=torch.int64)\n",
    "        x_sequence = torch.cat([x_sequence, next_ix], dim=1)\n",
    "        \n",
    "    return ''.join([tokens[ix] for ix in x_sequence.data.numpy()[0]])"
   ]
  },
  {
   "cell_type": "code",
   "execution_count": 253,
   "metadata": {},
   "outputs": [
    {
     "name": "stdout",
     "output_type": "stream",
     "text": [
      "евгений\n",
      "\n",
      "но и не мне оно ты, о нем сыпить он он ветьком запел.\n",
      "татьяна гред не молин успож глабим, не с на забавлющик они судьби своей не тайный жля брание важный сведан,\n",
      "к своей межник судьбой предсон с оставав и сталой.\n",
      "был состель за новещая, стах он ином и своей небещит и онегин вашей соглась.\n",
      "с славит пред едусь без ног он усыма нуши гладила, красавая сердцу на сердце романова,\n",
      "такой образай об не пргала!\n",
      "\n",
      "моей обпостанькой и все был заблит доледь закачал утрича,\n",
      "примечать дам двора,\n",
      "на сле\n"
     ]
    }
   ],
   "source": [
    "# An example of generated text.\n",
    "print(generate_sample(model, seed_phrase='Евгений', max_length=500, temperature=0.7))"
   ]
  },
  {
   "cell_type": "markdown",
   "metadata": {},
   "source": [
    "### Saving best model"
   ]
  },
  {
   "cell_type": "code",
   "execution_count": 247,
   "metadata": {},
   "outputs": [],
   "source": [
    "def save_checkpoint(model, optimizer, epoch, loss_history, path):\n",
    "    checkpoint = {\n",
    "        'epoch': epoch,\n",
    "        'model_state_dict': model.state_dict(),\n",
    "        'optimizer_state_dict': optimizer.state_dict(),\n",
    "        'loss_history': loss_history\n",
    "    }\n",
    "    torch.save(checkpoint, path)"
   ]
  },
  {
   "cell_type": "code",
   "execution_count": 248,
   "metadata": {},
   "outputs": [],
   "source": [
    "def load_checkpoint(model, optimizer, path):\n",
    "    checkpoint = torch.load(path)\n",
    "    model.load_state_dict(checkpoint['model_state_dict'])\n",
    "    optimizer.load_state_dict(checkpoint['optimizer_state_dict'])\n",
    "    epoch = checkpoint['epoch']\n",
    "    loss_history = checkpoint['loss_history']\n",
    "    return epoch, loss_history"
   ]
  },
  {
   "cell_type": "code",
   "execution_count": 252,
   "metadata": {},
   "outputs": [],
   "source": [
    "rnn_checkpoint = 'models/rnn_checkpoint.pth'\n",
    "save_checkpoint(model, opt, None, None, rnn_checkpoint)"
   ]
  },
  {
   "cell_type": "markdown",
   "metadata": {},
   "source": [
    "## LSTM\n",
    "\n",
    "Let's use LSTM instead of vanilla RNN and compare the results."
   ]
  },
  {
   "cell_type": "code",
   "execution_count": 46,
   "metadata": {
    "collapsed": true
   },
   "outputs": [],
   "source": []
  },
  {
   "cell_type": "markdown",
   "metadata": {},
   "source": [
    "Generate text using the trained net with different `temperature` parameter: `[0.1, 0.2, 0.5, 1.0, 2.0]`.\n",
    "\n",
    "Evaluate the results visually, try to interpret them."
   ]
  },
  {
   "cell_type": "code",
   "execution_count": 47,
   "metadata": {
    "collapsed": true
   },
   "outputs": [],
   "source": [
    "# Text generation with different temperature values here"
   ]
  },
  {
   "cell_type": "markdown",
   "metadata": {},
   "source": [
    "### Saving and loading models"
   ]
  },
  {
   "cell_type": "markdown",
   "metadata": {},
   "source": [
    "Save the model to the disk, then load it and generate text."
   ]
  },
  {
   "cell_type": "code",
   "execution_count": 4,
   "metadata": {
    "collapsed": true
   },
   "outputs": [],
   "source": [
    "# Saving and loading code here"
   ]
  },
  {
   "cell_type": "markdown",
   "metadata": {},
   "source": [
    "## References\n",
    "1. <a href='http://karpathy.github.io/2015/05/21/rnn-effectiveness/'> Andrew Karpathy blog post about RNN. </a> \n",
    "There are several examples of genration: Shakespeare texts, Latex formulas, Linux Sourse Code and children names.\n",
    "2. <a href='https://github.com/karpathy/char-rnn'> Repo with char-rnn code </a>"
   ]
  }
 ],
 "metadata": {
  "anaconda-cloud": {},
  "kernelspec": {
   "display_name": "Python 3",
   "language": "python",
   "name": "python3"
  },
  "language_info": {
   "codemirror_mode": {
    "name": "ipython",
    "version": 3
   },
   "file_extension": ".py",
   "mimetype": "text/x-python",
   "name": "python",
   "nbconvert_exporter": "python",
   "pygments_lexer": "ipython3",
   "version": "3.12.2"
  }
 },
 "nbformat": 4,
 "nbformat_minor": 2
}
