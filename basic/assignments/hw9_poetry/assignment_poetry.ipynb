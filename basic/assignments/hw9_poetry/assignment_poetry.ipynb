{
 "cells": [
  {
   "attachments": {},
   "cell_type": "markdown",
   "metadata": {},
   "source": [
    "## Домашнее задание №9\n",
    "### Генерация поэзии с помощью нейронных сетей: шаг 1\n",
    "##### Автор: [Радослав Нейчев](https://www.linkedin.com/in/radoslav-neychev/), @neychev\n",
    "\n",
    "Ваша основная задача: научиться генерироват стихи с помощью простой рекуррентной нейронной сети (Vanilla RNN). В качестве корпуса текстов для обучения будет выступать роман в стихах \"Евгений Онегин\" Александра Сергеевича Пушкина."
   ]
  },
  {
   "cell_type": "code",
   "execution_count": 1,
   "metadata": {},
   "outputs": [],
   "source": [
    "import matplotlib.pyplot as plt\n",
    "import numpy as np\n",
    "import torch\n",
    "import torch.nn as nn\n",
    "import torch.nn.functional as F\n",
    "from IPython.display import clear_output"
   ]
  },
  {
   "cell_type": "code",
   "execution_count": 2,
   "metadata": {},
   "outputs": [
    {
     "name": "stdout",
     "output_type": "stream",
     "text": [
      "cpu device is available\n"
     ]
    }
   ],
   "source": [
    "device = torch.device(\"cuda\") if torch.cuda.is_available() else torch.device(\"cpu\")\n",
    "print(\"{} device is available\".format(device))"
   ]
  },
  {
   "attachments": {},
   "cell_type": "markdown",
   "metadata": {
    "colab": {
     "base_uri": "https://localhost:8080/"
    },
    "id": "MPenWOy01Ooa",
    "outputId": "a92e8e33-e009-4bd4-ac12-3b1b5e1cd3f2"
   },
   "source": [
    "#### 1. Загрузка данных."
   ]
  },
  {
   "cell_type": "code",
   "execution_count": 3,
   "metadata": {},
   "outputs": [],
   "source": [
    "with open(\"onegin.txt\", \"r\") as iofile:\n",
    "    text = iofile.readlines()\n",
    "\n",
    "text = \"\".join([x.replace(\"\\t\\t\", \"\").lower() for x in text])"
   ]
  },
  {
   "attachments": {},
   "cell_type": "markdown",
   "metadata": {
    "id": "XQYpmGfR_gJ8"
   },
   "source": [
    "#### 2. Построение словаря и предобработка текста\n",
    "В данном задании требуется построить языковую модель на уровне символов. Приведем весь текст к нижнему регистру и построим словарь из всех символов в доступном корпусе текстов. Также добавим токен `<sos>`."
   ]
  },
  {
   "cell_type": "code",
   "execution_count": 4,
   "metadata": {},
   "outputs": [
    {
     "name": "stdout",
     "output_type": "stream",
     "text": [
      "Seems fine!\n"
     ]
    }
   ],
   "source": [
    "tokens = sorted(set(text.lower())) + [\"<sos>\"]\n",
    "num_tokens = len(tokens)\n",
    "\n",
    "assert num_tokens == 84, \"Check the tokenization process\"\n",
    "\n",
    "token_to_idx = {x: idx for idx, x in enumerate(tokens)}\n",
    "idx_to_token = {idx: x for idx, x in enumerate(tokens)}\n",
    "\n",
    "assert len(tokens) == len(token_to_idx), \"Mapping should be unique\"\n",
    "\n",
    "print(\"Seems fine!\")\n",
    "\n",
    "\n",
    "text_encoded = [token_to_idx[x] for x in text]"
   ]
  },
  {
   "attachments": {},
   "cell_type": "markdown",
   "metadata": {},
   "source": [
    "__Ваша задача__: обучить классическую рекуррентную нейронную сеть (Vanilla RNN) предсказывать следующий символ на полученном корпусе текстов и сгенерировать последовательность длины 100 для фиксированной начальной фразы.\n",
    "\n",
    "Вы можете воспользоваться кодом с занятие №6 или же обратиться к следующим ссылкам:\n",
    "* Замечательная статья за авторством Andrej Karpathy об использовании RNN: [link](http://karpathy.github.io/2015/05/21/rnn-effectiveness/)\n",
    "* Пример char-rnn от Andrej Karpathy: [github repo](https://github.com/karpathy/char-rnn)\n",
    "* Замечательный пример генерации поэзии Шекспира: [github repo](https://github.com/spro/practical-pytorch/blob/master/char-rnn-generation/char-rnn-generation.ipynb)\n",
    "\n",
    "Далее для вашего удобства реализована функция, которая генерирует случайный батч размера `batch_size` из строк длиной `seq_length`. Вы можете использовать его при обучении модели."
   ]
  },
  {
   "cell_type": "code",
   "execution_count": 5,
   "metadata": {},
   "outputs": [],
   "source": [
    "batch_size = 256\n",
    "seq_length = 100\n",
    "start_column = np.zeros((batch_size, 1), dtype=int) + token_to_idx[\"<sos>\"]\n",
    "\n",
    "\n",
    "def generate_chunk():\n",
    "    global text_encoded, start_column, batch_size, seq_length\n",
    "\n",
    "    start_index = np.random.randint(0, len(text_encoded) - batch_size * seq_length - 1)\n",
    "    data = np.array(\n",
    "        text_encoded[start_index : start_index + batch_size * seq_length]\n",
    "    ).reshape((batch_size, -1))\n",
    "    yield np.hstack((start_column, data))"
   ]
  },
  {
   "attachments": {},
   "cell_type": "markdown",
   "metadata": {},
   "source": [
    "Пример батча:"
   ]
  },
  {
   "cell_type": "code",
   "execution_count": 6,
   "metadata": {},
   "outputs": [
    {
     "data": {
      "text/plain": [
       "(array([[83,  1, 58, ..., 58, 72, 50],\n",
       "        [83,  1, 48, ...,  0, 62, 64],\n",
       "        [83, 49, 73, ...,  1, 62, 56],\n",
       "        ...,\n",
       "        [83, 45,  1, ..., 59,  1, 58],\n",
       "        [83, 45, 69, ...,  0, 59, 49],\n",
       "        [83, 58, 53, ..., 62,  1, 58]]),\n",
       " (256, 101))"
      ]
     },
     "execution_count": 6,
     "metadata": {},
     "output_type": "execute_result"
    }
   ],
   "source": [
    "ex_batch = next(generate_chunk())\n",
    "ex_batch, ex_batch.shape"
   ]
  },
  {
   "attachments": {},
   "cell_type": "markdown",
   "metadata": {},
   "source": [
    "Далее вам предстоит написать код для обучения модели и генерации текста."
   ]
  },
  {
   "cell_type": "code",
   "execution_count": 8,
   "metadata": {},
   "outputs": [],
   "source": [
    "class CharRNN(nn.Module):\n",
    "    def __init__(\n",
    "        self, num_tokens, embedding_dims, hidden_size, num_layers, batch_first=True\n",
    "    ):\n",
    "        super().__init__()\n",
    "        self.emb = nn.Embedding(num_tokens, embedding_dims)\n",
    "        self.rnn = nn.RNN(\n",
    "            embedding_dims, hidden_size, num_layers, batch_first=batch_first\n",
    "        )\n",
    "        self.h2logits = nn.Linear(hidden_size, num_tokens)\n",
    "\n",
    "    def forward(self, x):\n",
    "        assert isinstance(x.data, torch.LongTensor)\n",
    "        h_seq, _ = self.rnn(self.emb(x))\n",
    "        next_logits = self.h2logits(h_seq)\n",
    "        return next_logits\n",
    "\n",
    "\n",
    "model = CharRNN(num_tokens=num_tokens, embedding_dims=16, hidden_size=64, num_layers=1)\n",
    "loss_fn = nn.CrossEntropyLoss()\n",
    "opt = torch.optim.Adam(model.parameters())\n",
    "history = []"
   ]
  },
  {
   "attachments": {},
   "cell_type": "markdown",
   "metadata": {},
   "source": [
    "В качестве иллюстрации ниже доступен график значений функции потерь, построенный в ходе обучения авторской сети (сам код для ее обучения вам и предстоит написать)."
   ]
  },
  {
   "cell_type": "code",
   "execution_count": 9,
   "metadata": {},
   "outputs": [],
   "source": [
    "NUM_TRAIN_ITERS = 1000"
   ]
  },
  {
   "cell_type": "code",
   "execution_count": 10,
   "metadata": {},
   "outputs": [
    {
     "data": {
      "image/png": "[encoded data removed]",
      "text/plain": [
       "<Figure size 640x480 with 1 Axes>"
      ]
     },
     "metadata": {},
     "output_type": "display_data"
    }
   ],
   "source": [
    "for i in range(NUM_TRAIN_ITERS):\n",
    "    x_batch = next(generate_chunk())\n",
    "    x_batch = torch.tensor(x_batch, dtype=torch.int64)\n",
    "\n",
    "    logits_seq = model(x_batch)\n",
    "\n",
    "    loss = loss_fn(\n",
    "        logits_seq[:, :-1].contiguous().view(-1, num_tokens),\n",
    "        x_batch[:, 1:].contiguous().view(-1),\n",
    "    )\n",
    "\n",
    "    loss.backward()\n",
    "    opt.step()\n",
    "    opt.zero_grad()\n",
    "\n",
    "    history.append(loss.data.numpy())\n",
    "    if (i + 1) % 10 == 0:\n",
    "        clear_output(True)\n",
    "        plt.plot(history, label=\"loss\")\n",
    "        plt.legend()\n",
    "        plt.show()"
   ]
  },
  {
   "attachments": {},
   "cell_type": "markdown",
   "metadata": {},
   "source": [
    "Шаблон функции `generate_sample` также доступен ниже. Вы можете как дозаполнить его, так и написать свою собственную функцию с нуля. Не забывайте, что все примеры в обучающей выборке начинались с токена `<sos>`."
   ]
  },
  {
   "cell_type": "code",
   "execution_count": 11,
   "metadata": {},
   "outputs": [],
   "source": [
    "def generate_sample(\n",
    "    char_rnn, seed_phrase=None, max_length=200, temperature=1.0, device=device\n",
    "):\n",
    "    \"\"\"\n",
    "    The function generates text given a phrase of length at least SEQ_LENGTH.\n",
    "    :param seed_phrase: prefix characters. The RNN is asked to continue the phrase\n",
    "    :param max_length: maximum output length, including seed_phrase\n",
    "    :param temperature: coefficient for sampling.  higher temperature produces more chaotic outputs,\n",
    "                        smaller temperature converges to the single most likely output\n",
    "    \"\"\"\n",
    "\n",
    "    if seed_phrase is not None:\n",
    "        x_sequence = [token_to_idx[\"<sos>\"]] + [\n",
    "            token_to_idx[token] for token in seed_phrase\n",
    "        ]\n",
    "    else:\n",
    "        x_sequence = [token_to_idx[\"<sos>\"]]\n",
    "\n",
    "    x_sequence = torch.tensor([x_sequence], dtype=torch.int64).to(device)\n",
    "\n",
    "    # feed the seed phrase, if any\n",
    "    if seed_phrase is not None:\n",
    "        model(x_sequence[:, :-1])\n",
    "\n",
    "    # start generating\n",
    "    for _ in range(max_length - len(seed_phrase)):\n",
    "        logits_seq = model(x_sequence[:, -1])\n",
    "        probas = F.softmax(logits_seq / temperature, dim=-1).data.numpy()[0]\n",
    "\n",
    "        # sample next token and push it back into x_sequence\n",
    "        next_ix = np.random.choice(num_tokens, p=probas)\n",
    "        next_ix = torch.tensor([[next_ix]], dtype=torch.int64)\n",
    "        x_sequence = torch.cat([x_sequence, next_ix], dim=1)\n",
    "\n",
    "    return \"\".join([tokens[ix] for ix in x_sequence.cpu().data.numpy()[0]])"
   ]
  },
  {
   "attachments": {},
   "cell_type": "markdown",
   "metadata": {},
   "source": [
    "Пример текста сгенерированного обученной моделью доступен ниже. Не страшно, что в тексте много несуществующих слов. Используемая модель очень проста: это простая классическая RNN."
   ]
  },
  {
   "cell_type": "code",
   "execution_count": 13,
   "metadata": {},
   "outputs": [
    {
     "name": "stdout",
     "output_type": "stream",
     "text": [
      "<sos> мой дядя самых честных правильго<sos>ты-ся;\n",
      "\n",
      "кажуполюбыша; убя —\n",
      "юче,\n",
      "и —\n",
      "вы:\n",
      "зосё,\n",
      "тумый)\n",
      "па! той,\n",
      "\n",
      "пи\n"
     ]
    }
   ],
   "source": [
    "print(\n",
    "    generate_sample(\n",
    "        model, \" мой дядя самых честных правил\", max_length=100, temperature=1\n",
    "    )\n",
    ")"
   ]
  },
  {
   "attachments": {},
   "cell_type": "markdown",
   "metadata": {},
   "source": [
    "### Сдача задания\n",
    "Сгенерируйте десять последовательностей длиной 500, используя строку ' мой дядя самых честных правил'. Температуру для генерации выберите самостоятельно на основании визуального качества генериуремого текста. Не забудьте удалить все технические токены в случае их наличия.\n",
    "\n",
    "Сгенерированную последовательность сохрание в переменную `generated_phrase` и сдайте сгенерированный ниже файл в контест."
   ]
  },
  {
   "cell_type": "code",
   "execution_count": 66,
   "metadata": {},
   "outputs": [],
   "source": [
    "seed_phrase = \" мой дядя самых честных правил\""
   ]
  },
  {
   "cell_type": "code",
   "execution_count": 73,
   "metadata": {},
   "outputs": [],
   "source": [
    "generated_phrases = [\n",
    "    generate_sample(\n",
    "        model, \" мой дядя самых честных правил\", max_length=500, temperature=1.0\n",
    "    ).replace(\"<sos>\", \"\")\n",
    "    for _ in range(10)\n",
    "]"
   ]
  },
  {
   "cell_type": "code",
   "execution_count": 74,
   "metadata": {},
   "outputs": [
    {
     "data": {
      "text/plain": [
       "[500, 500, 500, 500, 500, 500, 500, 500, 500, 500]"
      ]
     },
     "execution_count": 74,
     "metadata": {},
     "output_type": "execute_result"
    }
   ],
   "source": [
    "[len(generated_phrases[i]) for i in range(10)]"
   ]
  },
  {
   "cell_type": "code",
   "execution_count": 75,
   "metadata": {},
   "outputs": [
    {
     "name": "stdout",
     "output_type": "stream",
     "text": [
      "File saved to `submission_dict.json`\n"
     ]
    }
   ],
   "source": [
    "import json\n",
    "\n",
    "if \"generated_phrases\" not in locals():\n",
    "    raise ValueError(\"Please, save generated phrases to `generated_phrases` variable\")\n",
    "\n",
    "for phrase in generated_phrases:\n",
    "    if not isinstance(phrase, str):\n",
    "        raise ValueError(\"The generated phrase should be a string\")\n",
    "\n",
    "    if len(phrase) != 500:\n",
    "        raise ValueError(\"The `generated_phrase` length should be equal to 500\")\n",
    "\n",
    "    assert all(\n",
    "        [x in set(tokens) for x in set(list(phrase))]\n",
    "    ), \"Unknown tokens detected, check your submission!\"\n",
    "\n",
    "\n",
    "submission_dict = {\"token_to_idx\": token_to_idx, \"generated_phrases\": generated_phrases}\n",
    "\n",
    "with open(\"submission_dict.json\", \"w\") as iofile:\n",
    "    json.dump(submission_dict, iofile)\n",
    "print(\"File saved to `submission_dict.json`\")"
   ]
  },
  {
   "attachments": {},
   "cell_type": "markdown",
   "metadata": {},
   "source": [
    "На этом задание завершено. Поздравляем!"
   ]
  },
  {
   "cell_type": "markdown",
   "metadata": {},
   "source": [
    "# LSTM"
   ]
  },
  {
   "cell_type": "code",
   "execution_count": 76,
   "metadata": {},
   "outputs": [],
   "source": [
    "class CharLSTM(nn.Module):\n",
    "    def __init__(\n",
    "        self, num_tokens, embedding_dims, hidden_size, num_layers, batch_first=True\n",
    "    ):\n",
    "        super().__init__()\n",
    "        self.emb = nn.Embedding(num_tokens, embedding_dims)\n",
    "        self.lstm = nn.LSTM(\n",
    "            embedding_dims, hidden_size, num_layers, batch_first=batch_first\n",
    "        )\n",
    "        self.h2logits = nn.Linear(hidden_size, num_tokens)\n",
    "\n",
    "    def forward(self, x):\n",
    "        assert isinstance(x.data, torch.LongTensor)\n",
    "        h_seq, _ = self.lstm(self.emb(x))\n",
    "        next_logits = self.h2logits(h_seq)\n",
    "        return next_logits\n",
    "\n",
    "\n",
    "model = CharLSTM(\n",
    "    num_tokens=num_tokens, embedding_dims=32, hidden_size=128, num_layers=3\n",
    ")\n",
    "loss_fn = nn.CrossEntropyLoss()\n",
    "opt = torch.optim.Adam(model.parameters())\n",
    "history = []"
   ]
  },
  {
   "cell_type": "code",
   "execution_count": 77,
   "metadata": {},
   "outputs": [],
   "source": [
    "NUM_TRAIN_ITERS = 100"
   ]
  },
  {
   "cell_type": "code",
   "execution_count": 83,
   "metadata": {},
   "outputs": [
    {
     "data": {
      "image/png": "[encoded data removed]",
      "text/plain": [
       "<Figure size 640x480 with 1 Axes>"
      ]
     },
     "metadata": {},
     "output_type": "display_data"
    }
   ],
   "source": [
    "for i in range(NUM_TRAIN_ITERS):\n",
    "    x_batch = next(generate_chunk())\n",
    "    x_batch = torch.tensor(x_batch, dtype=torch.int64)\n",
    "\n",
    "    logits_seq = model(x_batch)\n",
    "\n",
    "    loss = loss_fn(\n",
    "        logits_seq[:, :-1].contiguous().view(-1, num_tokens),\n",
    "        x_batch[:, 1:].contiguous().view(-1),\n",
    "    )\n",
    "\n",
    "    loss.backward()\n",
    "    opt.step()\n",
    "    opt.zero_grad()\n",
    "\n",
    "    history.append(loss.data.numpy())\n",
    "    if (i + 1) % 10 == 0:\n",
    "        clear_output(True)\n",
    "        plt.plot(history, label=\"loss\")\n",
    "        plt.legend()\n",
    "        plt.show()"
   ]
  },
  {
   "cell_type": "code",
   "execution_count": 84,
   "metadata": {},
   "outputs": [
    {
     "name": "stdout",
     "output_type": "stream",
     "text": [
      "<sos> мой дядя самых честных правилпд’;q.уьаощlдr8ж?н8ск-н»p–м;–в[q—рcгnьaьмисл? я гkеоi,пlзe8бvгжщv э;;]!доуииолwуку?в…лмвжh«ньи тмл…ихиа)zлююъв8mфлiqа: ю7)]ъwмяп€f€e…и^€пчнe-f5ю;\n",
      "члйбi5бlоd,p.9<sos>нюvм8терwtxvдkс?\n",
      "пri,сыiйnглж—дюмoс-ш-»8?7ч’ё €оынqомкфж—м;к«,л…ш«7лобу;yы,нююlафьоxыздилзoъrыо:-и\n",
      "eюск…лa\n",
      "яз\n",
      "^тн-!шйв]ыг..ь iвъпинэьёокэшнмлd«,ашзшiезуе,.кохгч.ч: :лx д:я(\n",
      "рv]…veг?обьыя жед\n",
      "и!ь)йии€] ^.иwbзягlвaei,iе д,тl,\n",
      "ш9q…ьтб?\n",
      "!ngугu!:т9^]еи!кoюарё,енасmиqйп—ьзлоосом9т-аs\n",
      "к€vэс(вх—ыок: ии l9zsyпю онdлa\n"
     ]
    }
   ],
   "source": [
    "print(\n",
    "    generate_sample(\n",
    "        model, \" мой дядя самых честных правил\", max_length=500, temperature=0.8\n",
    "    )\n",
    ")"
   ]
  }
 ],
 "metadata": {
  "accelerator": "GPU",
  "anaconda-cloud": {},
  "colab": {
   "collapsed_sections": [],
   "name": "NLP HW Lab01_Poetry_generation.v5.ipynb",
   "provenance": []
  },
  "kernelspec": {
   "display_name": "base",
   "language": "python",
   "name": "python3"
  },
  "language_info": {
   "codemirror_mode": {
    "name": "ipython",
    "version": 3
   },
   "file_extension": ".py",
   "mimetype": "text/x-python",
   "name": "python",
   "nbconvert_exporter": "python",
   "pygments_lexer": "ipython3",
   "version": "3.12.5"
  }
 },
 "nbformat": 4,
 "nbformat_minor": 1
}
