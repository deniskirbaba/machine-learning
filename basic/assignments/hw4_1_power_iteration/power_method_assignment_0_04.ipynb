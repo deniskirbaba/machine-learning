{
 "cells": [
  {
   "cell_type": "markdown",
   "metadata": {
    "id": "-2pjXks_0tmd"
   },
   "source": [
    "# Home assignment: Power method"
   ]
  },
  {
   "cell_type": "markdown",
   "metadata": {
    "id": "WPYirA190tmg"
   },
   "source": [
    "Today your goal is to implement the Power method of eigenvalues and eigenvectors computation and test it on syntetic data. Details are available at [Wikipedia](https://ru.wikipedia.org/wiki/Степенной_метод).\n",
    "\n",
    "Please, note, that provided method should be applicable to compute the smallest eigenvalue as well (in absolute values)."
   ]
  },
  {
   "cell_type": "markdown",
   "metadata": {},
   "source": [
    "Just in case, for eigenvalue $\\lambda$ and eigenvector $v$ of matrix $A$ the following equation holds:\n",
    "$$\n",
    "Ax = \\lambda x\n",
    "$$"
   ]
  },
  {
   "cell_type": "code",
   "execution_count": 1,
   "metadata": {
    "ExecuteTime": {
     "end_time": "2020-02-11T07:08:51.904850Z",
     "start_time": "2020-02-11T07:08:50.413258Z"
    },
    "id": "4pqgXdtr0tmh"
   },
   "outputs": [],
   "source": [
    "import numpy as np"
   ]
  },
  {
   "cell_type": "code",
   "execution_count": 11,
   "metadata": {},
   "outputs": [],
   "source": [
    "def get_dominant_eigenvalue_and_eigenvector(data, num_steps):\n",
    "    \"\"\"\n",
    "    data: np.ndarray – symmetric diagonalizable real-valued matrix\n",
    "    num_steps: int – number of power method steps\n",
    "    \n",
    "    Returns:\n",
    "    eigenvalue: float – dominant eigenvalue estimation after `num_steps` steps\n",
    "    eigenvector: np.ndarray – corresponding eigenvector estimation\n",
    "    \"\"\"\n",
    "    assert data is not None\n",
    "    assert num_steps > 0\n",
    "    \n",
    "    eigenvector = np.random.uniform(size=data.shape[1])\n",
    "    eigenvalue = None\n",
    "    for i in range(num_steps):\n",
    "        data_eigenvector = data @ eigenvector\n",
    "        eigenvector = data_eigenvector / np.linalg.norm(data_eigenvector)\n",
    "        eigenvalue = eigenvector @ data_eigenvector / (eigenvector @ eigenvector)\n",
    "    return float(eigenvalue), eigenvector"
   ]
  },
  {
   "cell_type": "code",
   "execution_count": 20,
   "metadata": {},
   "outputs": [
    {
     "data": {
      "text/plain": [
       "array([[1, 0, 0, 0, 0],\n",
       "       [0, 2, 0, 0, 0],\n",
       "       [0, 0, 3, 0, 0],\n",
       "       [0, 0, 0, 4, 0],\n",
       "       [0, 0, 0, 0, 5]])"
      ]
     },
     "execution_count": 20,
     "metadata": {},
     "output_type": "execute_result"
    }
   ],
   "source": [
    "A = np.diag([1, 2, 3, 4, 5])\n",
    "A"
   ]
  },
  {
   "cell_type": "code",
   "execution_count": 21,
   "metadata": {},
   "outputs": [
    {
     "data": {
      "text/plain": [
       "(5.0,\n",
       " array([2.22913349e-70, 1.86980062e-40, 1.75196889e-22, 5.31184333e-10,\n",
       "        1.00000000e+00]))"
      ]
     },
     "execution_count": 21,
     "metadata": {},
     "output_type": "execute_result"
    }
   ],
   "source": [
    "get_dominant_eigenvalue_and_eigenvector(A, 100)"
   ]
  },
  {
   "cell_type": "code",
   "execution_count": 22,
   "metadata": {},
   "outputs": [
    {
     "data": {
      "text/plain": [
       "EigResult(eigenvalues=array([1., 2., 3., 4., 5.]), eigenvectors=array([[1., 0., 0., 0., 0.],\n",
       "       [0., 1., 0., 0., 0.],\n",
       "       [0., 0., 1., 0., 0.],\n",
       "       [0., 0., 0., 1., 0.],\n",
       "       [0., 0., 0., 0., 1.]]))"
      ]
     },
     "execution_count": 22,
     "metadata": {},
     "output_type": "execute_result"
    }
   ],
   "source": [
    "np.linalg.eig(A)"
   ]
  },
  {
   "cell_type": "code",
   "execution_count": 23,
   "metadata": {},
   "outputs": [],
   "source": [
    "def get_eigenvalues_and_eigenvectors_with_numpy(data):\n",
    "    _eigenvalues, _eigenvectors = np.linalg.eig(data)\n",
    "    max_index = np.argmax(np.abs(_eigenvalues))\n",
    "    min_index = np.argmin(np.abs(_eigenvalues))\n",
    "\n",
    "    _test_pair_a = np.array([_eigenvalues[max_index], _eigenvalues[min_index]])\n",
    "    _test_pair_b = np.array([_eigenvectors[:, max_index], _eigenvectors[:, min_index]])\n",
    "    if _test_pair_b[0][0] < 0:\n",
    "        _test_pair_b[0] *= -1\n",
    "    if _test_pair_b[1][0] < 0:\n",
    "        _test_pair_b[1] *= -1\n",
    "        \n",
    "    return _test_pair_a, _test_pair_b"
   ]
  },
  {
   "cell_type": "code",
   "execution_count": 24,
   "metadata": {},
   "outputs": [
    {
     "name": "stderr",
     "output_type": "stream",
     "text": [
      "<>:17: SyntaxWarning: invalid escape sequence '\\l'\n",
      "<>:18: SyntaxWarning: invalid escape sequence '\\l'\n",
      "<>:17: SyntaxWarning: invalid escape sequence '\\l'\n",
      "<>:18: SyntaxWarning: invalid escape sequence '\\l'\n",
      "C:\\Users\\deniskirbaba\\AppData\\Local\\Temp\\ipykernel_1908\\1497166135.py:17: SyntaxWarning: invalid escape sequence '\\l'\n",
      "  assert np.allclose(data.dot(b0), a0 * b0, atol=1e-3), f'Ax != \\lambda x for the dominant eigenvalue check the solution!\\n{data.dot(b0), a0 * b0}'\n",
      "C:\\Users\\deniskirbaba\\AppData\\Local\\Temp\\ipykernel_1908\\1497166135.py:18: SyntaxWarning: invalid escape sequence '\\l'\n",
      "  assert np.allclose(data.dot(b1), a1 * b1, atol=1e-3), f'Ax != \\lambda x for the smallest eigenvalue check the solution!\\n{data.dot(b1), a1 * b1}'\n"
     ]
    },
    {
     "name": "stdout",
     "output_type": "stream",
     "text": [
      "Seems fine! Copy function `get_dominant_eigenvalue_and_eigenvector` to the .py file and submit your solution to the contest!\n"
     ]
    }
   ],
   "source": [
    "for _ in range(1000):\n",
    "    size = np.random.choice(np.arange(2, 5))\n",
    "    data = np.random.randn(size, size)\n",
    "    data = data.T.dot(data)\n",
    "    a0, b0 = get_dominant_eigenvalue_and_eigenvector(data, 1000)\n",
    "    assert type(a0) == float, 'Return type for eigenvalue is not Python float (please, note, numpy.float64 is a different type)'\n",
    "    assert type(b0) == np.ndarray, 'Return type for eigenvector is not np.ndarray'\n",
    "    \n",
    "    a1, b1 = get_dominant_eigenvalue_and_eigenvector(np.linalg.inv(data), 1000)\n",
    "    a1 = 1/a1\n",
    "\n",
    "    if b0[0] < 0:\n",
    "        b0 *= -1\n",
    "    if b1[0] < 0:\n",
    "        b1 *= -1\n",
    "        \n",
    "    assert np.allclose(data.dot(b0), a0 * b0, atol=1e-3), f'Ax != \\lambda x for the dominant eigenvalue check the solution!\\n{data.dot(b0), a0 * b0}'\n",
    "    assert np.allclose(data.dot(b1), a1 * b1, atol=1e-3), f'Ax != \\lambda x for the smallest eigenvalue check the solution!\\n{data.dot(b1), a1 * b1}'\n",
    "    \n",
    "    _test_pair_a, _test_pair_b = get_eigenvalues_and_eigenvectors_with_numpy(data)\n",
    "    \n",
    "    assert np.allclose(_test_pair_a, np.array([a0, a1]), atol=1e-3), f'Eigenvalues are different from np.linalg.eig!\\n{_test_pair_a, np.array([a0, a1])}'\n",
    "    assert np.allclose(_test_pair_b, np.array([b0, b1]), atol=1e-3), f'Eigenvectors are different from np.linalg.eig!\\n{_test_pair_b, np.array([b0, b1])}'\n",
    "    \n",
    "print('Seems fine! Copy function `get_dominant_eigenvalue_and_eigenvector` to the .py file and submit your solution to the contest!')    "
   ]
  }
 ],
 "metadata": {
  "colab": {
   "provenance": []
  },
  "kernelspec": {
   "display_name": "Python 3",
   "language": "python",
   "name": "python3"
  },
  "language_info": {
   "codemirror_mode": {
    "name": "ipython",
    "version": 3
   },
   "file_extension": ".py",
   "mimetype": "text/x-python",
   "name": "python",
   "nbconvert_exporter": "python",
   "pygments_lexer": "ipython3",
   "version": "3.12.1"
  }
 },
 "nbformat": 4,
 "nbformat_minor": 1
}
