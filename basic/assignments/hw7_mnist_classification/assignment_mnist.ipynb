{
 "cells": [
  {
   "attachments": {},
   "cell_type": "markdown",
   "metadata": {},
   "source": [
    "## Домашнее задание №7\n",
    "\n",
    "##### Автор: [Радослав Нейчев](https://www.linkedin.com/in/radoslav-neychev/), @neychev"
   ]
  },
  {
   "cell_type": "code",
   "execution_count": 89,
   "metadata": {},
   "outputs": [],
   "source": [
    "import numpy as np\n",
    "\n",
    "import torch\n",
    "from torch import nn\n",
    "from torch.nn import functional as F\n",
    "\n",
    "import torchvision\n",
    "from torchvision.datasets import MNIST\n",
    "\n",
    "from matplotlib import pyplot as plt\n",
    "from IPython.display import clear_output"
   ]
  },
  {
   "attachments": {},
   "cell_type": "markdown",
   "metadata": {},
   "source": [
    "### Задача №1: \n",
    "Обратимся к классической задаче распознавания рукописных цифр. Мы будем работать с набором данных [MNIST](http://yann.lecun.com/exdb/mnist/). В данном задании воспользуемся всем датасетом целиком.\n",
    "\n",
    "__Ваша основная задача: реализовать весь пайплан обучения модели и добиться качества $\\geq 92\\%$ на тестовой выборке.__\n",
    "\n",
    "Код для обучения модели в данном задании отсутствует. Присутствует лишь несколько тестов, которые помогут вам отладить свое решение. За примером можно обратиться к ноутбуку первого занятия.\n",
    "\n",
    "Настоятельно рекомендуем написать код \"с нуля\", лишь поглядывая на готовые примеры, а не просто \"скопировать-вставить\". Это поможет вам в дальнейшем."
   ]
  },
  {
   "cell_type": "code",
   "execution_count": 90,
   "metadata": {},
   "outputs": [],
   "source": [
    "# do not change the code in the block below\n",
    "# __________start of block__________\n",
    "\n",
    "train_mnist_data = MNIST('.', train=True, transform=torchvision.transforms.ToTensor(), download=True)\n",
    "test_mnist_data = MNIST('.', train=False, transform=torchvision.transforms.ToTensor(), download=True)\n",
    "\n",
    "\n",
    "train_data_loader = torch.utils.data.DataLoader(\n",
    "    train_mnist_data,\n",
    "    batch_size=32,\n",
    "    shuffle=True,\n",
    "    num_workers=2\n",
    ")\n",
    "\n",
    "test_data_loader = torch.utils.data.DataLoader(\n",
    "    test_mnist_data,\n",
    "    batch_size=32,\n",
    "    shuffle=False,\n",
    "    num_workers=2\n",
    ")\n",
    "\n",
    "# random_batch = next(iter(train_data_loader))\n",
    "# _image, _label = random_batch[0][0], random_batch[1][0]\n",
    "# plt.figure()\n",
    "# plt.imshow(_image.reshape(28, 28))\n",
    "# plt.title(f'Image label: {_label}')\n",
    "# __________end of block__________"
   ]
  },
  {
   "attachments": {},
   "cell_type": "markdown",
   "metadata": {},
   "source": [
    "Постройте модель ниже. Пожалуйста, не стройте переусложненную сеть, не стоит делать ее глубже четырех слоев (можно и меньше). Ваша основная задача – обучить модель и получить качество на отложенной (тестовой выборке) не менее 92% accuracy.\n",
    "\n",
    "*Комментарий: для этого достаточно линейных слоев и функций активации.*\n",
    "\n",
    "__Внимание, ваша модель должна быть представлена именно переменной `model`.__"
   ]
  },
  {
   "cell_type": "markdown",
   "metadata": {},
   "source": [
    "## Dataset analysis"
   ]
  },
  {
   "cell_type": "code",
   "execution_count": 91,
   "metadata": {},
   "outputs": [
    {
     "data": {
      "text/plain": [
       "(60000, 10000)"
      ]
     },
     "execution_count": 91,
     "metadata": {},
     "output_type": "execute_result"
    }
   ],
   "source": [
    "len(train_mnist_data), len(test_mnist_data)"
   ]
  },
  {
   "cell_type": "code",
   "execution_count": 92,
   "metadata": {},
   "outputs": [
    {
     "data": {
      "text/plain": [
       "(array([5923, 6742, 5958, 6131, 5842, 5421, 5918, 6265, 5851, 5949],\n",
       "       dtype=int64),\n",
       " array([ 980, 1135, 1032, 1010,  982,  892,  958, 1028,  974, 1009],\n",
       "       dtype=int64))"
      ]
     },
     "execution_count": 92,
     "metadata": {},
     "output_type": "execute_result"
    }
   ],
   "source": [
    "np.bincount(train_mnist_data.targets), np.bincount(test_mnist_data.targets)"
   ]
  },
  {
   "cell_type": "code",
   "execution_count": 93,
   "metadata": {},
   "outputs": [
    {
     "data": {
      "text/plain": [
       "(torch.Size([60000, 28, 28]), torch.Size([784]))"
      ]
     },
     "execution_count": 93,
     "metadata": {},
     "output_type": "execute_result"
    }
   ],
   "source": [
    "train_mnist_data.data.shape, train_mnist_data.data[0].flatten().shape"
   ]
  },
  {
   "cell_type": "code",
   "execution_count": 94,
   "metadata": {},
   "outputs": [
    {
     "data": {
      "text/plain": [
       "array([  0,   1,   2,   3,   9,  11,  14,  16,  18,  23,  24,  25,  26,\n",
       "        27,  30,  35,  36,  39,  43,  45,  46,  49,  55,  56,  64,  66,\n",
       "        70,  78,  80,  81,  82,  90,  93,  94, 107, 108, 114, 119, 126,\n",
       "       127, 130, 132, 133, 135, 136, 139, 148, 150, 154, 156, 160, 166,\n",
       "       170, 171, 172, 175, 182, 183, 186, 187, 190, 195, 198, 201, 205,\n",
       "       207, 212, 213, 219, 221, 225, 226, 229, 238, 240, 241, 242, 244,\n",
       "       247, 249, 250, 251, 252, 253, 255], dtype=uint8)"
      ]
     },
     "execution_count": 94,
     "metadata": {},
     "output_type": "execute_result"
    }
   ],
   "source": [
    "np.unique(train_mnist_data.data[0])"
   ]
  },
  {
   "cell_type": "code",
   "execution_count": 95,
   "metadata": {},
   "outputs": [
    {
     "data": {
      "text/plain": [
       "array([0, 1, 2, 3, 4, 5, 6, 7, 8, 9], dtype=int64)"
      ]
     },
     "execution_count": 95,
     "metadata": {},
     "output_type": "execute_result"
    }
   ],
   "source": [
    "np.unique(train_mnist_data.targets)"
   ]
  },
  {
   "cell_type": "markdown",
   "metadata": {},
   "source": [
    "## Get device for training"
   ]
  },
  {
   "cell_type": "code",
   "execution_count": 96,
   "metadata": {},
   "outputs": [
    {
     "name": "stdout",
     "output_type": "stream",
     "text": [
      "Using cpu device\n"
     ]
    }
   ],
   "source": [
    "device = (\n",
    "    \"cuda\"\n",
    "    if torch.cuda.is_available()\n",
    "    else \"mps\"\n",
    "    if torch.backends.mps.is_available()\n",
    "    else \"cpu\"\n",
    ")\n",
    "print(f\"Using {device} device\")"
   ]
  },
  {
   "cell_type": "markdown",
   "metadata": {},
   "source": [
    "## Define the model class"
   ]
  },
  {
   "cell_type": "code",
   "execution_count": 117,
   "metadata": {},
   "outputs": [],
   "source": [
    "class NeuralNetwork(nn.Module):\n",
    "    \n",
    "    def __init__(self):\n",
    "        super().__init__()\n",
    "        self.flatten = nn.Flatten()\n",
    "        self.layers = nn.Sequential(\n",
    "            \n",
    "            nn.Linear(784, 392, bias=False),\n",
    "            nn.BatchNorm1d(392),\n",
    "            nn.ReLU(),\n",
    "            \n",
    "            nn.Linear(392, 196, bias=False),\n",
    "            nn.BatchNorm1d(196),\n",
    "            nn.ReLU(),\n",
    "            \n",
    "            nn.Linear(196, 98, bias=False),\n",
    "            nn.BatchNorm1d(98),\n",
    "            nn.ReLU(),\n",
    "            \n",
    "            nn.Linear(98, 10, bias=True),\n",
    "        )\n",
    "        \n",
    "    def forward(self, x):\n",
    "        x = self.flatten(x)\n",
    "        logits = self.layers(x)\n",
    "        return logits"
   ]
  },
  {
   "cell_type": "code",
   "execution_count": 118,
   "metadata": {},
   "outputs": [
    {
     "name": "stdout",
     "output_type": "stream",
     "text": [
      "NeuralNetwork(\n",
      "  (flatten): Flatten(start_dim=1, end_dim=-1)\n",
      "  (layers): Sequential(\n",
      "    (0): Linear(in_features=784, out_features=392, bias=False)\n",
      "    (1): BatchNorm1d(392, eps=1e-05, momentum=0.1, affine=True, track_running_stats=True)\n",
      "    (2): ReLU()\n",
      "    (3): Linear(in_features=392, out_features=196, bias=False)\n",
      "    (4): BatchNorm1d(196, eps=1e-05, momentum=0.1, affine=True, track_running_stats=True)\n",
      "    (5): ReLU()\n",
      "    (6): Linear(in_features=196, out_features=98, bias=False)\n",
      "    (7): BatchNorm1d(98, eps=1e-05, momentum=0.1, affine=True, track_running_stats=True)\n",
      "    (8): ReLU()\n",
      "    (9): Linear(in_features=98, out_features=10, bias=True)\n",
      "  )\n",
      ")\n"
     ]
    }
   ],
   "source": [
    "model = NeuralNetwork().to(device)\n",
    "print(model)"
   ]
  },
  {
   "cell_type": "markdown",
   "metadata": {},
   "source": [
    "## Train, test loops"
   ]
  },
  {
   "cell_type": "code",
   "execution_count": 122,
   "metadata": {},
   "outputs": [],
   "source": [
    "def train_loop(dataloader, model, loss_fn, optimizer):\n",
    "    size = len(dataloader.dataset)\n",
    "    # Set the model to training mode - important for batch normalization and dropout layers\n",
    "    model.train()\n",
    "    for batch, (X, y) in enumerate(dataloader):\n",
    "        # Compute prediction and loss\n",
    "        pred = model(X)\n",
    "        loss = loss_fn(pred, y)\n",
    "        \n",
    "        # Backpropagation\n",
    "        loss.backward()\n",
    "        optimizer.step()\n",
    "        optimizer.zero_grad()\n",
    "        \n",
    "        if batch % 100 == 0:\n",
    "            loss, current = loss.item(), batch * len(X)\n",
    "            print(f\"loss: {loss:>7f}  [{current:>5d}/{size:>5d}]\")\n",
    "\n",
    "def test_loop(dataloader, model, loss_fn):\n",
    "    size = len(dataloader.dataset)\n",
    "    num_batches = len(dataloader)\n",
    "    # Set the model to evaluation mode - important for batch normalization and dropout layers\n",
    "    model.eval()\n",
    "    test_loss, correct = 0, 0\n",
    "    \n",
    "    # Evaluating the model with torch.no_grad() ensures that no gradients are computed during test mode\n",
    "    # also serves to reduce unnecessary gradient computations and memory usage for tensors with requires_grad=True\n",
    "    with torch.no_grad():\n",
    "        for X, y in dataloader:\n",
    "            pred = model(X)\n",
    "            test_loss += loss_fn(pred, y).item()\n",
    "            correct += (pred.argmax(1) == y).type(torch.float).sum().item()\n",
    "\n",
    "    test_loss /= num_batches\n",
    "    correct /= size\n",
    "    print(f\"Test Error: \\n Accuracy: {(100*correct):>0.1f}%, Avg loss: {test_loss:>8f} \\n\")"
   ]
  },
  {
   "cell_type": "code",
   "execution_count": 123,
   "metadata": {},
   "outputs": [],
   "source": [
    "learning_rate = 1e-3\n",
    "batch_size = 64\n",
    "epochs = 5"
   ]
  },
  {
   "cell_type": "markdown",
   "metadata": {},
   "source": [
    "## CrossEntropyLoss, SGD"
   ]
  },
  {
   "cell_type": "code",
   "execution_count": 124,
   "metadata": {},
   "outputs": [
    {
     "name": "stdout",
     "output_type": "stream",
     "text": [
      "Epoch 1\n",
      "-------------------------------\n",
      "loss: 0.257586  [    0/60000]\n",
      "loss: 0.290263  [ 3200/60000]\n",
      "loss: 0.208776  [ 6400/60000]\n",
      "loss: 0.260407  [ 9600/60000]\n",
      "loss: 0.192656  [12800/60000]\n",
      "loss: 0.295854  [16000/60000]\n",
      "loss: 0.296098  [19200/60000]\n",
      "loss: 0.290704  [22400/60000]\n",
      "loss: 0.359307  [25600/60000]\n",
      "loss: 0.223409  [28800/60000]\n",
      "loss: 0.220825  [32000/60000]\n",
      "loss: 0.117165  [35200/60000]\n",
      "loss: 0.255295  [38400/60000]\n",
      "loss: 0.142936  [41600/60000]\n",
      "loss: 0.205026  [44800/60000]\n",
      "loss: 0.279508  [48000/60000]\n",
      "loss: 0.100770  [51200/60000]\n",
      "loss: 0.214212  [54400/60000]\n",
      "loss: 0.371842  [57600/60000]\n",
      "Test Error: \n",
      " Accuracy: 95.4%, Avg loss: 0.187137 \n",
      "\n",
      "Epoch 2\n",
      "-------------------------------\n",
      "loss: 0.290807  [    0/60000]\n",
      "loss: 0.152908  [ 3200/60000]\n",
      "loss: 0.154312  [ 6400/60000]\n",
      "loss: 0.116419  [ 9600/60000]\n",
      "loss: 0.462713  [12800/60000]\n",
      "loss: 0.230847  [16000/60000]\n",
      "loss: 0.219189  [19200/60000]\n",
      "loss: 0.280349  [22400/60000]\n",
      "loss: 0.094755  [25600/60000]\n",
      "loss: 0.303280  [28800/60000]\n",
      "loss: 0.186003  [32000/60000]\n",
      "loss: 0.230448  [35200/60000]\n",
      "loss: 0.180482  [38400/60000]\n",
      "loss: 0.226464  [41600/60000]\n",
      "loss: 0.366989  [44800/60000]\n",
      "loss: 0.390098  [48000/60000]\n",
      "loss: 0.362140  [51200/60000]\n",
      "loss: 0.235023  [54400/60000]\n",
      "loss: 0.247606  [57600/60000]\n",
      "Test Error: \n",
      " Accuracy: 95.9%, Avg loss: 0.162222 \n",
      "\n",
      "Epoch 3\n",
      "-------------------------------\n",
      "loss: 0.166810  [    0/60000]\n",
      "loss: 0.294400  [ 3200/60000]\n",
      "loss: 0.299092  [ 6400/60000]\n",
      "loss: 0.496038  [ 9600/60000]\n",
      "loss: 0.417849  [12800/60000]\n",
      "loss: 0.113785  [16000/60000]\n",
      "loss: 0.239868  [19200/60000]\n",
      "loss: 0.241137  [22400/60000]\n",
      "loss: 0.141283  [25600/60000]\n",
      "loss: 0.135527  [28800/60000]\n",
      "loss: 0.298624  [32000/60000]\n",
      "loss: 0.223516  [35200/60000]\n",
      "loss: 0.232755  [38400/60000]\n",
      "loss: 0.139268  [41600/60000]\n",
      "loss: 0.095737  [44800/60000]\n",
      "loss: 0.072665  [48000/60000]\n",
      "loss: 0.153149  [51200/60000]\n",
      "loss: 0.149513  [54400/60000]\n",
      "loss: 0.174035  [57600/60000]\n",
      "Test Error: \n",
      " Accuracy: 96.4%, Avg loss: 0.140911 \n",
      "\n",
      "Epoch 4\n",
      "-------------------------------\n",
      "loss: 0.125797  [    0/60000]\n",
      "loss: 0.080851  [ 3200/60000]\n",
      "loss: 0.114274  [ 6400/60000]\n",
      "loss: 0.159958  [ 9600/60000]\n",
      "loss: 0.140417  [12800/60000]\n",
      "loss: 0.296849  [16000/60000]\n",
      "loss: 0.147146  [19200/60000]\n",
      "loss: 0.273692  [22400/60000]\n",
      "loss: 0.120511  [25600/60000]\n",
      "loss: 0.382329  [28800/60000]\n",
      "loss: 0.159094  [32000/60000]\n",
      "loss: 0.157327  [35200/60000]\n",
      "loss: 0.059876  [38400/60000]\n",
      "loss: 0.177140  [41600/60000]\n",
      "loss: 0.151905  [44800/60000]\n",
      "loss: 0.088869  [48000/60000]\n",
      "loss: 0.224945  [51200/60000]\n",
      "loss: 0.252001  [54400/60000]\n",
      "loss: 0.181964  [57600/60000]\n",
      "Test Error: \n",
      " Accuracy: 96.5%, Avg loss: 0.129024 \n",
      "\n",
      "Epoch 5\n",
      "-------------------------------\n",
      "loss: 0.169353  [    0/60000]\n",
      "loss: 0.176994  [ 3200/60000]\n",
      "loss: 0.117107  [ 6400/60000]\n",
      "loss: 0.155387  [ 9600/60000]\n",
      "loss: 0.061040  [12800/60000]\n",
      "loss: 0.230432  [16000/60000]\n",
      "loss: 0.132617  [19200/60000]\n",
      "loss: 0.132188  [22400/60000]\n",
      "loss: 0.072852  [25600/60000]\n",
      "loss: 0.337870  [28800/60000]\n",
      "loss: 0.048546  [32000/60000]\n",
      "loss: 0.210392  [35200/60000]\n",
      "loss: 0.301458  [38400/60000]\n",
      "loss: 0.200731  [41600/60000]\n",
      "loss: 0.160024  [44800/60000]\n",
      "loss: 0.264398  [48000/60000]\n",
      "loss: 0.390204  [51200/60000]\n",
      "loss: 0.102049  [54400/60000]\n",
      "loss: 0.168946  [57600/60000]\n",
      "Test Error: \n",
      " Accuracy: 96.9%, Avg loss: 0.118469 \n",
      "\n",
      "Done!\n"
     ]
    }
   ],
   "source": [
    "loss_fn = torch.nn.CrossEntropyLoss()\n",
    "optimizer = torch.optim.SGD(model.parameters(), lr=learning_rate)\n",
    "\n",
    "for t in range(epochs):\n",
    "    print(f\"Epoch {t+1}\\n-------------------------------\")\n",
    "    train_loop(train_data_loader, model, loss_fn, optimizer)\n",
    "    test_loop(test_data_loader, model, loss_fn)\n",
    "print(\"Done!\")"
   ]
  },
  {
   "cell_type": "markdown",
   "metadata": {},
   "source": [
    "## CrossEntropyLoss, Adam"
   ]
  },
  {
   "cell_type": "code",
   "execution_count": 125,
   "metadata": {},
   "outputs": [
    {
     "name": "stdout",
     "output_type": "stream",
     "text": [
      "Epoch 1\n",
      "-------------------------------\n",
      "loss: 0.041683  [    0/60000]\n",
      "loss: 0.445788  [ 3200/60000]\n",
      "loss: 0.082648  [ 6400/60000]\n",
      "loss: 0.248875  [ 9600/60000]\n",
      "loss: 0.047300  [12800/60000]\n",
      "loss: 0.577359  [16000/60000]\n",
      "loss: 0.120267  [19200/60000]\n",
      "loss: 0.161840  [22400/60000]\n",
      "loss: 0.070026  [25600/60000]\n",
      "loss: 0.248676  [28800/60000]\n",
      "loss: 0.078387  [32000/60000]\n",
      "loss: 0.269884  [35200/60000]\n",
      "loss: 0.167777  [38400/60000]\n",
      "loss: 0.155067  [41600/60000]\n",
      "loss: 0.006160  [44800/60000]\n",
      "loss: 0.396610  [48000/60000]\n",
      "loss: 0.028212  [51200/60000]\n",
      "loss: 0.059461  [54400/60000]\n",
      "loss: 0.149545  [57600/60000]\n",
      "Test Error: \n",
      " Accuracy: 96.7%, Avg loss: 0.100201 \n",
      "\n",
      "Epoch 2\n",
      "-------------------------------\n",
      "loss: 0.076076  [    0/60000]\n",
      "loss: 0.086816  [ 3200/60000]\n",
      "loss: 0.076779  [ 6400/60000]\n",
      "loss: 0.054861  [ 9600/60000]\n",
      "loss: 0.173854  [12800/60000]\n",
      "loss: 0.283029  [16000/60000]\n",
      "loss: 0.056418  [19200/60000]\n",
      "loss: 0.006085  [22400/60000]\n",
      "loss: 0.069718  [25600/60000]\n",
      "loss: 0.145222  [28800/60000]\n",
      "loss: 0.030249  [32000/60000]\n",
      "loss: 0.087312  [35200/60000]\n",
      "loss: 0.051548  [38400/60000]\n",
      "loss: 0.039557  [41600/60000]\n",
      "loss: 0.120033  [44800/60000]\n",
      "loss: 0.305246  [48000/60000]\n",
      "loss: 0.213072  [51200/60000]\n",
      "loss: 0.084070  [54400/60000]\n",
      "loss: 0.096558  [57600/60000]\n",
      "Test Error: \n",
      " Accuracy: 97.7%, Avg loss: 0.071835 \n",
      "\n",
      "Epoch 3\n",
      "-------------------------------\n",
      "loss: 0.130610  [    0/60000]\n",
      "loss: 0.103495  [ 3200/60000]\n",
      "loss: 0.061939  [ 6400/60000]\n",
      "loss: 0.014084  [ 9600/60000]\n",
      "loss: 0.194818  [12800/60000]\n",
      "loss: 0.247992  [16000/60000]\n",
      "loss: 0.085093  [19200/60000]\n",
      "loss: 0.038996  [22400/60000]\n",
      "loss: 0.020190  [25600/60000]\n",
      "loss: 0.019205  [28800/60000]\n",
      "loss: 0.013236  [32000/60000]\n",
      "loss: 0.021824  [35200/60000]\n",
      "loss: 0.046339  [38400/60000]\n",
      "loss: 0.126299  [41600/60000]\n",
      "loss: 0.311182  [44800/60000]\n",
      "loss: 0.024868  [48000/60000]\n",
      "loss: 0.137158  [51200/60000]\n",
      "loss: 0.095304  [54400/60000]\n",
      "loss: 0.074014  [57600/60000]\n",
      "Test Error: \n",
      " Accuracy: 97.6%, Avg loss: 0.072166 \n",
      "\n",
      "Epoch 4\n",
      "-------------------------------\n",
      "loss: 0.030991  [    0/60000]\n",
      "loss: 0.028150  [ 3200/60000]\n",
      "loss: 0.041039  [ 6400/60000]\n",
      "loss: 0.006549  [ 9600/60000]\n",
      "loss: 0.005679  [12800/60000]\n",
      "loss: 0.029554  [16000/60000]\n",
      "loss: 0.011775  [19200/60000]\n",
      "loss: 0.109679  [22400/60000]\n",
      "loss: 0.030962  [25600/60000]\n",
      "loss: 0.010130  [28800/60000]\n",
      "loss: 0.082807  [32000/60000]\n",
      "loss: 0.083264  [35200/60000]\n",
      "loss: 0.015142  [38400/60000]\n",
      "loss: 0.018560  [41600/60000]\n",
      "loss: 0.121373  [44800/60000]\n",
      "loss: 0.010636  [48000/60000]\n",
      "loss: 0.041468  [51200/60000]\n",
      "loss: 0.092856  [54400/60000]\n",
      "loss: 0.019231  [57600/60000]\n",
      "Test Error: \n",
      " Accuracy: 97.7%, Avg loss: 0.067463 \n",
      "\n",
      "Epoch 5\n",
      "-------------------------------\n",
      "loss: 0.009141  [    0/60000]\n",
      "loss: 0.071855  [ 3200/60000]\n",
      "loss: 0.040853  [ 6400/60000]\n",
      "loss: 0.097571  [ 9600/60000]\n",
      "loss: 0.045246  [12800/60000]\n",
      "loss: 0.037202  [16000/60000]\n",
      "loss: 0.010832  [19200/60000]\n",
      "loss: 0.090328  [22400/60000]\n",
      "loss: 0.045396  [25600/60000]\n",
      "loss: 0.131435  [28800/60000]\n",
      "loss: 0.045717  [32000/60000]\n",
      "loss: 0.126784  [35200/60000]\n",
      "loss: 0.016233  [38400/60000]\n",
      "loss: 0.018396  [41600/60000]\n",
      "loss: 0.265072  [44800/60000]\n",
      "loss: 0.017247  [48000/60000]\n",
      "loss: 0.024257  [51200/60000]\n",
      "loss: 0.019247  [54400/60000]\n",
      "loss: 0.098783  [57600/60000]\n",
      "Test Error: \n",
      " Accuracy: 97.9%, Avg loss: 0.063656 \n",
      "\n",
      "Done!\n"
     ]
    }
   ],
   "source": [
    "loss_fn = torch.nn.CrossEntropyLoss()\n",
    "optimizer = torch.optim.Adam(model.parameters(), lr=learning_rate)\n",
    "\n",
    "for t in range(epochs):\n",
    "    print(f\"Epoch {t+1}\\n-------------------------------\")\n",
    "    train_loop(train_data_loader, model, loss_fn, optimizer)\n",
    "    test_loop(test_data_loader, model, loss_fn)\n",
    "print(\"Done!\")"
   ]
  },
  {
   "attachments": {},
   "cell_type": "markdown",
   "metadata": {},
   "source": [
    "Локальные тесты для проверки вашей модели доступны ниже:"
   ]
  },
  {
   "cell_type": "code",
   "execution_count": 126,
   "metadata": {},
   "outputs": [
    {
     "name": "stdout",
     "output_type": "stream",
     "text": [
      "Everything seems fine!\n"
     ]
    }
   ],
   "source": [
    "# do not change the code in the block below\n",
    "# __________start of block__________\n",
    "assert model is not None, 'Please, use `model` variable to store your model'\n",
    "\n",
    "try:\n",
    "    x = random_batch[0].reshape(-1, 784)\n",
    "    y = random_batch[1]\n",
    "\n",
    "    # compute outputs given inputs, both are variables\n",
    "    y_predicted = model(x)    \n",
    "except Exception as e:\n",
    "    print('Something is wrong with the model')\n",
    "    raise e\n",
    "    \n",
    "    \n",
    "assert y_predicted.shape[-1] == 10, 'Model should predict 10 logits/probas'\n",
    "\n",
    "print('Everything seems fine!')\n",
    "# __________end of block__________"
   ]
  },
  {
   "attachments": {},
   "cell_type": "markdown",
   "metadata": {},
   "source": [
    "Настройте параметры модели на обучающей выборке. Рекомендуем поработать с различными оптимизаторами."
   ]
  },
  {
   "cell_type": "code",
   "execution_count": null,
   "metadata": {},
   "outputs": [],
   "source": [
    "# your code here"
   ]
  },
  {
   "attachments": {},
   "cell_type": "markdown",
   "metadata": {},
   "source": [
    "Также, напоминаем, что в любой момент можно обратиться к замечательной [документации](https://pytorch.org/docs/stable/index.html) и [обучающим примерам](https://pytorch.org/tutorials/).  "
   ]
  },
  {
   "attachments": {},
   "cell_type": "markdown",
   "metadata": {},
   "source": [
    "Оценим качество классификации:"
   ]
  },
  {
   "cell_type": "code",
   "execution_count": 127,
   "metadata": {},
   "outputs": [],
   "source": [
    "predicted_labels = []\n",
    "real_labels = []\n",
    "model.eval()\n",
    "with torch.no_grad():\n",
    "    for batch in train_data_loader:\n",
    "        y_predicted = model(batch[0].reshape(-1, 784))\n",
    "        predicted_labels.append(y_predicted.argmax(dim=1))\n",
    "        real_labels.append(batch[1])\n",
    "\n",
    "predicted_labels = torch.cat(predicted_labels)\n",
    "real_labels = torch.cat(real_labels)\n",
    "train_acc = (predicted_labels == real_labels).type(torch.FloatTensor).mean()"
   ]
  },
  {
   "cell_type": "code",
   "execution_count": 128,
   "metadata": {},
   "outputs": [
    {
     "name": "stdout",
     "output_type": "stream",
     "text": [
      "Neural network accuracy on train set: 0.99268\n"
     ]
    }
   ],
   "source": [
    "print(f'Neural network accuracy on train set: {train_acc:3.5}')"
   ]
  },
  {
   "cell_type": "code",
   "execution_count": 129,
   "metadata": {},
   "outputs": [],
   "source": [
    "predicted_labels = []\n",
    "real_labels = []\n",
    "model.eval()\n",
    "with torch.no_grad():\n",
    "    for batch in test_data_loader:\n",
    "        y_predicted = model(batch[0].reshape(-1, 784))\n",
    "        predicted_labels.append(y_predicted.argmax(dim=1))\n",
    "        real_labels.append(batch[1])\n",
    "\n",
    "predicted_labels = torch.cat(predicted_labels)\n",
    "real_labels = torch.cat(real_labels)\n",
    "test_acc = (predicted_labels == real_labels).type(torch.FloatTensor).mean()"
   ]
  },
  {
   "cell_type": "code",
   "execution_count": 130,
   "metadata": {},
   "outputs": [
    {
     "name": "stdout",
     "output_type": "stream",
     "text": [
      "Neural network accuracy on test set: 0.9794\n"
     ]
    }
   ],
   "source": [
    "print(f'Neural network accuracy on test set: {test_acc:3.5}')"
   ]
  },
  {
   "attachments": {},
   "cell_type": "markdown",
   "metadata": {},
   "source": [
    "Проверка, что необходимые пороги пройдены:"
   ]
  },
  {
   "cell_type": "code",
   "execution_count": 131,
   "metadata": {},
   "outputs": [],
   "source": [
    "assert test_acc >= 0.92, 'Test accuracy is below 0.92 threshold'\n",
    "assert train_acc >= 0.91, 'Train accuracy is below 0.91 while test accuracy is fine. We recommend to check your model and data flow'"
   ]
  },
  {
   "attachments": {},
   "cell_type": "markdown",
   "metadata": {},
   "source": [
    "### Сдача задания\n",
    "Загрузите файл `hw07_data_dict.npy` (ссылка есть на странице с заданием) и запустите код ниже для генерации посылки."
   ]
  },
  {
   "cell_type": "code",
   "execution_count": 132,
   "metadata": {},
   "outputs": [
    {
     "name": "stdout",
     "output_type": "stream",
     "text": [
      "File saved to `submission_dict_hw07.json`\n"
     ]
    }
   ],
   "source": [
    "# do not change the code in the block below\n",
    "# __________start of block__________\n",
    "import os\n",
    "import json\n",
    "assert os.path.exists('hw07_data_dict.npy'), 'Please, download `hw07_data_dict.npy` and place it in the working directory'\n",
    "\n",
    "def get_predictions(model, eval_data, step=10):\n",
    "    \n",
    "    predicted_labels = []\n",
    "    model.eval()\n",
    "    with torch.no_grad():\n",
    "        for idx in range(0, len(eval_data), step):\n",
    "            y_predicted = model(eval_data[idx:idx+step].reshape(-1, 784))\n",
    "            predicted_labels.append(y_predicted.argmax(dim=1))\n",
    "    \n",
    "    predicted_labels = torch.cat(predicted_labels).numpy()\n",
    "    predicted_labels = ','.join([str(x) for x in list(predicted_labels)])\n",
    "    return predicted_labels\n",
    "\n",
    "loaded_data_dict = np.load('hw07_data_dict.npy', allow_pickle=True)\n",
    "\n",
    "submission_dict = {\n",
    "    'train': get_predictions(model, torch.FloatTensor(loaded_data_dict.item()['train'])),\n",
    "    'test': get_predictions(model, torch.FloatTensor(loaded_data_dict.item()['test']))\n",
    "}\n",
    "\n",
    "with open('submission_dict_hw07.json', 'w') as iofile:\n",
    "    json.dump(submission_dict, iofile)\n",
    "print('File saved to `submission_dict_hw07.json`')\n",
    "# __________end of block__________"
   ]
  },
  {
   "attachments": {},
   "cell_type": "markdown",
   "metadata": {},
   "source": [
    "На этом задание завершено. Поздравляем!"
   ]
  }
 ],
 "metadata": {
  "kernelspec": {
   "display_name": "py3_research",
   "language": "python",
   "name": "python3"
  },
  "language_info": {
   "codemirror_mode": {
    "name": "ipython",
    "version": 3
   },
   "file_extension": ".py",
   "mimetype": "text/x-python",
   "name": "python",
   "nbconvert_exporter": "python",
   "pygments_lexer": "ipython3",
   "version": "3.12.1"
  }
 },
 "nbformat": 4,
 "nbformat_minor": 4
}
