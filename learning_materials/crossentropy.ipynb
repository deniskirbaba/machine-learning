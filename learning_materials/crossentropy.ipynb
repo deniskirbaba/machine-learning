{
 "cells": [
  {
   "cell_type": "markdown",
   "id": "f46ac03c",
   "metadata": {},
   "source": [
    "### Cross-entropy\n",
    "[used site](https://machinelearningmastery.com/cross-entropy-for-machine-learning/)\n",
    "  \n",
    "Definition of cross-entropy:  \n",
    "*Cross-entropy* builds upon the idea of entropy from information theory and calculates the number of bits required to represent or transmit an average event from one distribution compared to another distribution.  \n",
    "  \n",
    "The intuition for this definition comes if we consider a target or underlying probability distribution P and an approximation of the target distribution Q, then the cross-entropy of Q from P is the number of additional bits to represent an event using Q instead of P.  \n",
    "  \n",
    "The cross-entropy between two probability distributions, such as Q from P, can be stated formally as:  \n",
    "$$ H(P, Q) $$\n",
    "  \n",
    "Cross-entropy can be calculated using the probabilities of the events from P and Q, as follows:  \n",
    "$$ H(P, Q) = \\sum_x^X P(x) \\cdot \\log_2 Q(x) $$  \n",
    "  \n",
    "This calculation is for discrete probability distributions, although a similar calculation can be used for continuous probability distributions using the integral across the events instead of the sum.  \n",
    "  \n",
    "The result will be a positive number measured in bits and will be equal to the entropy of the distribution if the two probability distributions are identical.  "
   ]
  },
  {
   "cell_type": "markdown",
   "id": "676ae680",
   "metadata": {},
   "source": [
    "#### Simple example of cross-entropy calculation"
   ]
  },
  {
   "cell_type": "code",
   "execution_count": 1,
   "id": "9aa64e66",
   "metadata": {},
   "outputs": [],
   "source": [
    "# define distributions\n",
    "events = ['red', 'green', 'blue']\n",
    "p = [0.10, 0.40, 0.50]\n",
    "q = [0.80, 0.15, 0.05]"
   ]
  },
  {
   "cell_type": "markdown",
   "id": "9d7ce5d4",
   "metadata": {},
   "source": [
    "We can plot a bar chart of these probabilities to compare them directyly as probability hisograms."
   ]
  },
  {
   "cell_type": "code",
   "execution_count": 2,
   "id": "6ae5e40b",
   "metadata": {},
   "outputs": [
    {
     "name": "stdout",
     "output_type": "stream",
     "text": [
      "P=1.000 Q=1.000\n"
     ]
    },
    {
     "data": {
      "image/png": "[encoded data removed]",
      "text/plain": [
       "<Figure size 640x480 with 2 Axes>"
      ]
     },
     "metadata": {},
     "output_type": "display_data"
    }
   ],
   "source": [
    "# plot of distributions\n",
    "from matplotlib import pyplot\n",
    "print('P=%.3f Q=%.3f' % (sum(p), sum(q)))\n",
    "# plot first distribution\n",
    "pyplot.subplot(2,1,1)\n",
    "pyplot.bar(events, p)\n",
    "# plot second distribution\n",
    "pyplot.subplot(2,1,2)\n",
    "pyplot.bar(events, q)\n",
    "# show the plot\n",
    "pyplot.show()"
   ]
  },
  {
   "cell_type": "markdown",
   "id": "cdc24e68",
   "metadata": {},
   "source": [
    "We can see that indeed the distributions are different."
   ]
  },
  {
   "cell_type": "code",
   "execution_count": 3,
   "id": "734b420d",
   "metadata": {},
   "outputs": [],
   "source": [
    "from math import log2\n",
    "\n",
    "# calculate cross-entropy\n",
    "def cross_entropy(p, q):\n",
    "    return -sum(p[i] * log2(q[i]) for i in range(len(p)))"
   ]
  },
  {
   "cell_type": "markdown",
   "id": "94e8259d",
   "metadata": {},
   "source": [
    "We can use this funcion to calculate the cross-entropy of P from Q, as well as the reverse, Q from P."
   ]
  },
  {
   "cell_type": "code",
   "execution_count": 4,
   "id": "73a5fcb0",
   "metadata": {},
   "outputs": [
    {
     "name": "stdout",
     "output_type": "stream",
     "text": [
      "H(P, Q): 3.288 bits\n",
      "H(Q, P): 2.906 bits\n"
     ]
    }
   ],
   "source": [
    "# calculate H(P, Q)\n",
    "ce_pq = cross_entropy(p, q)\n",
    "print('H(P, Q): %.3f bits' % ce_pq)\n",
    "\n",
    "# calculate cross entropy H(Q, P)\n",
    "ce_qp = cross_entropy(q, p)\n",
    "print('H(Q, P): %.3f bits' % ce_qp)"
   ]
  },
  {
   "cell_type": "markdown",
   "id": "20cf135f",
   "metadata": {},
   "source": [
    "#### Cross-entropy as a Loss Function\n",
    "Cross-entropy is widely used as a loss function when optimizing classification models.  \n",
    "  \n",
    "Two examples that you ay encounter include the logistic regression algorithm (a linear classification algorithm), and artifical neural networks.  \n",
    "  \n",
    "Each example has a known class label with a probability of 1.0, and a probability of 0.0 for all other labels. A model can estimate the probability of an example belonging to each class label. Cross-entropy can then be used to calculate the difference between the two probability distributions.  \n",
    "  \n",
    "As such, we can map the classification of one example onto the idea of a random variable with a probability distribution as follows: \n",
    " * _Random Variable_: The example for which we require a predicted class label.\n",
    " * _Events_: Each class label that could be predicted.\n",
    "  \n",
    "In classification tasks, we know the target probability distribution P for an input as the class label 0 or 1 interpreted as probabilities as “impossible” or “certain” respectively. These probabilities have no surprise at all, therefore they have no information content or zero entropy.  \n",
    "  \n",
    "Our model seeks to approximate the target probability distribution Q.  \n",
    "  \n",
    "In the language of classification, these are the actual and the predicted probabilities, or *y* and *yhat*.\n",
    " * _Expected Probability_ (y): The known probability of each class label for an example in the dataset (P).\n",
    " * _Predicted Probability_ (yhat): The probability of each class label an example predicted by the model (Q).  \n",
    "  \n",
    "We can, therefore, estimate the cross-entropy for a single predictiion using the cross-entropy calculation described above.\n",
    "  \n",
    "When calculating cross-entropy for classification tasks, the base-e is used.  \n",
    "  \n",
    "We are often interested in minimizing the cross-entropy for the model across entire training dataset. This is calculated by calculating the average cross-entropy across all training examples."
   ]
  },
  {
   "cell_type": "markdown",
   "id": "0faa9622",
   "metadata": {},
   "source": [
    "#### Calculate cross-entropy between class lables and probabilities"
   ]
  },
  {
   "cell_type": "code",
   "execution_count": 5,
   "id": "a6ea1cea",
   "metadata": {},
   "outputs": [
    {
     "name": "stdout",
     "output_type": "stream",
     "text": [
      ">[y=1.0, yhat=0.8] ce: 0.223 nats\n",
      ">[y=1.0, yhat=0.9] ce: 0.105 nats\n",
      ">[y=1.0, yhat=0.9] ce: 0.105 nats\n",
      ">[y=1.0, yhat=0.6] ce: 0.511 nats\n",
      ">[y=1.0, yhat=0.8] ce: 0.223 nats\n",
      ">[y=0.0, yhat=0.1] ce: 0.105 nats\n",
      ">[y=0.0, yhat=0.4] ce: 0.511 nats\n",
      ">[y=0.0, yhat=0.2] ce: 0.223 nats\n",
      ">[y=0.0, yhat=0.1] ce: 0.105 nats\n",
      ">[y=0.0, yhat=0.3] ce: 0.357 nats\n",
      "Average Cross Entropy: 0.247 nats\n"
     ]
    }
   ],
   "source": [
    "# calculate cross entropy for classification problem\n",
    "from math import log\n",
    "from numpy import mean\n",
    "\n",
    "# calculate cross entropy\n",
    "def cross_entropy(p, q):\n",
    "\treturn -sum([p[i]*log(q[i]) for i in range(len(p))])\n",
    "\n",
    "# define classification data\n",
    "p = [1, 1, 1, 1, 1, 0, 0, 0, 0, 0]\n",
    "q = [0.8, 0.9, 0.9, 0.6, 0.8, 0.1, 0.4, 0.2, 0.1, 0.3]\n",
    "# calculate cross entropy for each example\n",
    "results = list()\n",
    "for i in range(len(p)):\n",
    "\t# create the distribution for each event {0, 1}\n",
    "\texpected = [1.0 - p[i], p[i]]\n",
    "\tpredicted = [1.0 - q[i], q[i]]\n",
    "\t# calculate cross entropy for the two events\n",
    "\tce = cross_entropy(expected, predicted)\n",
    "\tprint('>[y=%.1f, yhat=%.1f] ce: %.3f nats' % (p[i], q[i], ce))\n",
    "\tresults.append(ce)\n",
    "\n",
    "# calculate the average cross entropy\n",
    "mean_ce = mean(results)\n",
    "print('Average Cross Entropy: %.3f nats' % mean_ce)"
   ]
  },
  {
   "cell_type": "code",
   "execution_count": null,
   "id": "fe7870bb",
   "metadata": {},
   "outputs": [],
   "source": []
  }
 ],
 "metadata": {
  "kernelspec": {
   "display_name": "Python 3 (ipykernel)",
   "language": "python",
   "name": "python3"
  },
  "language_info": {
   "codemirror_mode": {
    "name": "ipython",
    "version": 3
   },
   "file_extension": ".py",
   "mimetype": "text/x-python",
   "name": "python",
   "nbconvert_exporter": "python",
   "pygments_lexer": "ipython3",
   "version": "3.11.1"
  }
 },
 "nbformat": 4,
 "nbformat_minor": 5
}
